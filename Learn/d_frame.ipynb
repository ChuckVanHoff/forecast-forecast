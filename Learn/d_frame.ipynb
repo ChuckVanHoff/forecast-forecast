{
 "cells": [
  {
   "cell_type": "code",
   "execution_count": 1,
   "metadata": {},
   "outputs": [
    {
     "name": "stderr",
     "output_type": "stream",
     "text": [
      "/Users/mastacow/.local/share/virtualenvs/forecast-forecast-GZGA6O4g/lib/python3.7/site-packages/ipykernel_launcher.py:4: FutureWarning: Passing a negative integer is deprecated in version 1.0 and will not be supported in future version. Instead, use None to not limit the column width.\n",
      "  after removing the cwd from sys.path.\n"
     ]
    }
   ],
   "source": [
    "import pandas as pd\n",
    "from pymongo import MongoClient\n",
    "\n",
    "pd.set_option('display.max_colwidth', -1)\n",
    "pd.options.display.float_format = '${:,.2f}'.format\n",
    "\n",
    "def _connect_mongo(uri, db):\n",
    "    \"\"\" A util for making a connection to mongo \"\"\"\n",
    "\n",
    "    if uri:\n",
    "#         mongo_uri = 'mongodb://%s:%s@%s:%s/%s' % (username, password, host, port, db)\n",
    "        conn = MongoClient(uri)\n",
    "    else:\n",
    "        conn = MongoClient(host, port)\n",
    "    return conn[db]\n",
    "\n",
    "def read_mongo(uri, db, collection, query={}, no_id=True, limit=None):\n",
    "    \"\"\" Read from Mongo and Store into DataFrame \"\"\"\n",
    "\n",
    "    # Connect to MongoDB\n",
    "    con = _connect_mongo(uri, db)\n",
    "\n",
    "    # Make a query to the specific DB and Collection\n",
    "    ### SET THE LIMIT TO 5 FOR DEV AND TESTING ###\n",
    "    if limit:\n",
    "        cursor = con[collection].find(query)\n",
    "        cursor = cursor[limit]\n",
    "    else:\n",
    "        cursor = con[collection].find(query)\n",
    "\n",
    "    # Expand the cursor and construct the DataFrame\n",
    "    df = pd.DataFrame(list(cursor))\n",
    "    # Delete the _id\n",
    "#     if no_id:\n",
    "#         del df['_id']\n",
    "    if limit:\n",
    "        print(f'number of indexes created has been limited to {limit} ..........................')\n",
    "\n",
    "    return df\n"
   ]
  },
  {
   "cell_type": "code",
   "execution_count": 2,
   "metadata": {},
   "outputs": [],
   "source": [
    "import config\n",
    "import overalls\n",
    "import weather\n",
    "import benedict"
   ]
  },
  {
   "cell_type": "code",
   "execution_count": 3,
   "metadata": {},
   "outputs": [
    {
     "ename": "AttributeError",
     "evalue": "'dict' object has no attribute 'iteritems'",
     "output_type": "error",
     "traceback": [
      "\u001b[0;31m---------------------------------------------------------------------------\u001b[0m",
      "\u001b[0;31mAttributeError\u001b[0m                            Traceback (most recent call last)",
      "\u001b[0;32m<ipython-input-3-2224e21158e9>\u001b[0m in \u001b[0;36m<module>\u001b[0;34m\u001b[0m\n\u001b[0;32m----> 1\u001b[0;31m \u001b[0mw\u001b[0m \u001b[0;34m=\u001b[0m \u001b[0mweather\u001b[0m\u001b[0;34m.\u001b[0m\u001b[0mWeather\u001b[0m\u001b[0;34m(\u001b[0m\u001b[0;34m'27606'\u001b[0m\u001b[0;34m,\u001b[0m \u001b[0;34m'observation'\u001b[0m\u001b[0;34m)\u001b[0m\u001b[0;34m\u001b[0m\u001b[0;34m\u001b[0m\u001b[0m\n\u001b[0m",
      "\u001b[0;32m~/data/forecast-forecast/Learn/weather.py\u001b[0m in \u001b[0;36m__init__\u001b[0;34m(self, location, _type, data)\u001b[0m\n\u001b[1;32m     85\u001b[0m         }\n\u001b[1;32m     86\u001b[0m         \u001b[0;31m### Added new update function ###\u001b[0m\u001b[0;34m\u001b[0m\u001b[0;34m\u001b[0m\u001b[0;34m\u001b[0m\u001b[0m\n\u001b[0;32m---> 87\u001b[0;31m         \u001b[0mweather\u001b[0m \u001b[0;34m=\u001b[0m \u001b[0moveralls\u001b[0m\u001b[0;34m.\u001b[0m\u001b[0mupdate_nested\u001b[0m\u001b[0;34m(\u001b[0m\u001b[0mweather\u001b[0m\u001b[0;34m,\u001b[0m \u001b[0mdata\u001b[0m\u001b[0;34m)\u001b[0m\u001b[0;34m\u001b[0m\u001b[0;34m\u001b[0m\u001b[0m\n\u001b[0m\u001b[1;32m     88\u001b[0m \u001b[0;34m\u001b[0m\u001b[0m\n\u001b[1;32m     89\u001b[0m         \u001b[0mself\u001b[0m\u001b[0;34m.\u001b[0m\u001b[0mtype\u001b[0m \u001b[0;34m=\u001b[0m \u001b[0m_type\u001b[0m\u001b[0;34m\u001b[0m\u001b[0;34m\u001b[0m\u001b[0m\n",
      "\u001b[0;32m~/data/forecast-forecast/Learn/overalls.py\u001b[0m in \u001b[0;36mupdate_nested\u001b[0;34m(d, u)\u001b[0m\n\u001b[1;32m     64\u001b[0m     '''\n\u001b[1;32m     65\u001b[0m \u001b[0;34m\u001b[0m\u001b[0m\n\u001b[0;32m---> 66\u001b[0;31m     \u001b[0;32mfor\u001b[0m \u001b[0mk\u001b[0m\u001b[0;34m,\u001b[0m \u001b[0mv\u001b[0m \u001b[0;32min\u001b[0m \u001b[0mu\u001b[0m\u001b[0;34m.\u001b[0m\u001b[0miteritems\u001b[0m\u001b[0;34m(\u001b[0m\u001b[0;34m)\u001b[0m\u001b[0;34m:\u001b[0m\u001b[0;34m\u001b[0m\u001b[0;34m\u001b[0m\u001b[0m\n\u001b[0m\u001b[1;32m     67\u001b[0m         \u001b[0;32mif\u001b[0m \u001b[0misinstance\u001b[0m\u001b[0;34m(\u001b[0m\u001b[0md\u001b[0m\u001b[0;34m,\u001b[0m \u001b[0mcollections\u001b[0m\u001b[0;34m.\u001b[0m\u001b[0mMapping\u001b[0m\u001b[0;34m)\u001b[0m\u001b[0;34m:\u001b[0m\u001b[0;34m\u001b[0m\u001b[0;34m\u001b[0m\u001b[0m\n\u001b[1;32m     68\u001b[0m             \u001b[0;32mif\u001b[0m \u001b[0misinstance\u001b[0m\u001b[0;34m(\u001b[0m\u001b[0mv\u001b[0m\u001b[0;34m,\u001b[0m \u001b[0mcollections\u001b[0m\u001b[0;34m.\u001b[0m\u001b[0mMapping\u001b[0m\u001b[0;34m)\u001b[0m\u001b[0;34m:\u001b[0m\u001b[0;34m\u001b[0m\u001b[0;34m\u001b[0m\u001b[0m\n",
      "\u001b[0;31mAttributeError\u001b[0m: 'dict' object has no attribute 'iteritems'"
     ]
    }
   ],
   "source": [
    "w = weather.Weather('27606', 'observation')"
   ]
  },
  {
   "cell_type": "code",
   "execution_count": 4,
   "metadata": {},
   "outputs": [
    {
     "name": "stdout",
     "output_type": "stream",
     "text": [
      "{'_id': 'DEFAULT', 'clouds': 'DEFAULT', 'rain': {'1h': 0, '3h': 0}, 'snow': {'1h': 0, '3h': 0}, 'wind': {'speed': 0, 'deg': 0}, 'humidity': 'DEFAULT', 'pressure': {'press': 'DEFAULT', 'sea_level': 'DEFAULT'}, 'temperature': {'temp': 'DEFAULT', 'temp_max': 'DEFAULT', 'temp_min': 'DEFAULT'}, 'status': 'DEFAULT', 'detailed_status': 'DEFAULT', 'weather_code': 'DEFAULT', 'visibility_distance': 0, 'dewpoint': 'DEFAULT', 'humidex': 'DEFAULT', 'heat_index': 'DEFAULT', 'time_to_instant': 'DEFAULT'}\n"
     ]
    }
   ],
   "source": [
    "print(w.weather)"
   ]
  },
  {
   "cell_type": "code",
   "execution_count": 5,
   "metadata": {},
   "outputs": [
    {
     "name": "stdout",
     "output_type": "stream",
     "text": [
      "number of indexes created has been limited to 5 ..........................\n"
     ]
    }
   ],
   "source": [
    "collection = 'legit_inst'\n",
    "db = 'owmap'\n",
    "df = read_mongo(config.uri, db, collection, no_id=False, limit=5)"
   ]
  },
  {
   "cell_type": "code",
   "execution_count": 6,
   "metadata": {},
   "outputs": [],
   "source": [
    "def read_mongo_a(uri, db, collection, limit=None):\n",
    "    ''' Retrieve data from the Mongo database and transform it to a pandas\n",
    "    DataFrame; return the DataFrame.\n",
    "\n",
    "    :param collection: the collection name\n",
    "    :type collection: string\n",
    "    :param limit: optional limiter to the number of documents retrieved. '''\n",
    "    \n",
    "    database = _connect_mongo(config.uri, db)\n",
    "    col = {}\n",
    "    \n",
    "    # Shorten the cursor length if limit is given, otherwise get everything;\n",
    "    # transform the retrieved data to a pandas.DataFrame and return it.\n",
    "    if limit:\n",
    "        cursor = database[collection].find({})\n",
    "        cursor = cursor\n",
    "        for doc in cursor[:limit]:\n",
    "            col[doc['_id']] = doc\n",
    "        # Transform the data collection to a dataframe.\n",
    "        df = pd.DataFrame.from_dict(col, orient='index')\n",
    "        print(f'The length of your df has been limited to {limit}.')\n",
    "        return df\n",
    "    else:\n",
    "        cursor = database[collection].find({})\n",
    "        for doc in cursor:\n",
    "            col[doc['_id']] = doc\n",
    "        # Transform the data collection to a dataframe.\n",
    "        df = pd.DataFrame.from_dict(col, orient='index')\n",
    "        return df\n",
    "    \n",
    "    # Let the user know that even though there were no errors the DataFrame\n",
    "    # was not created.\n",
    "    print('From read_mongo(): There were no errors, but your dataframe was not \\\n",
    "    created.')\n",
    "\n",
    "def errors(casts, obs):\n",
    "    ''' Make a dict of errors for the forecasts. Any dicts in the arguments\n",
    "    will be flattened before comparison.\n",
    "    \n",
    "    :param casts: a list of dictionaries\n",
    "    :param obs: a dictionary\n",
    "    \n",
    "    * For best results all dicts should have all the same keys and subkeys.\n",
    "    '''\n",
    "    \n",
    "    # Flatten all dicts and compare. Add the comparisons to a list and return.\n",
    "    casts = [overalls.flatten_dict(cast) for cast in casts]\n",
    "    obs = overalls.flatten_dict(obs)\n",
    "    return [overalls.compare_dicts(cast, obs) for cast in casts]\n",
    "\n",
    "def gen_errs_df(df):\n",
    "    ''' Create an errors dataframe from the argument.\n",
    "    \n",
    "    :param df: Must be a pandas DataFrame.\n",
    "    '''\n",
    "    ### is there a way to step through three lists together? ###\n",
    "    errs_list = []\n",
    "    errs_dict = {}\n",
    "    # Create the error dicts list to be added to the errs_dict.\n",
    "    for (obs, casts) in zip(df['weather'], df['forecasts']): ### this creates a the list of errors from each instant\n",
    "        errs_list.append(errors(casts, obs))\n",
    "#     df['errs'] = errs\n",
    "#     print(df.head())\n",
    "    for (_id, errs) in zip(df['_id'], errs_list):  ### this creates a dict from the errors list with the index as key\n",
    "        errs_dict[_id] = errs\n",
    "#     errs_dict\n",
    "    dd = pd.DataFrame.from_dict(errs_dict, orient='index') ### this puts that dict into DataFrame form\n",
    "#     print(dd.head())\n",
    "    for c in dd.columns:  ### this replaces the errors DataFrame dictionaries with a list of their values \n",
    "        dd[c] = [list(d.values()) for d in dd[c]]\n",
    "    return dd\n"
   ]
  }
 ],
 "metadata": {
  "kernelspec": {
   "display_name": "Python 3",
   "language": "python",
   "name": "python3"
  },
  "language_info": {
   "codemirror_mode": {
    "name": "ipython",
    "version": 3
   },
   "file_extension": ".py",
   "mimetype": "text/x-python",
   "name": "python",
   "nbconvert_exporter": "python",
   "pygments_lexer": "ipython3",
   "version": "3.7.6"
  }
 },
 "nbformat": 4,
 "nbformat_minor": 4
}
