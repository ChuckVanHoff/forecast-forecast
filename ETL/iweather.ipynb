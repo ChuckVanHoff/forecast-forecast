{
 "cells": [
  {
   "cell_type": "code",
   "execution_count": 9,
   "metadata": {},
   "outputs": [],
   "source": [
    "''' Defines the Weather class. '''\n",
    "\n",
    "import time\n",
    "import json\n",
    "\n",
    "from pyowm import OWM\n",
    "from pyowm.weatherapi25.forecast import Forecast\n",
    "from pyowm.exceptions.api_response_error import NotFoundError\n",
    "from pyowm.exceptions.api_call_error import APICallTimeoutError\n",
    "from pyowm.exceptions.api_call_error import APIInvalidSSLCertificateError\n",
    "\n",
    "from config import OWM_API_key_loohoo as loohoo_key\n",
    "from config import OWM_API_key_masta as masta_key\n",
    "\n",
    "\n",
    "class Weather:\n",
    "    ''' A dictionary of weather variables and their observed/forecasted values\n",
    "    for a given instant in time at a specified location.\n",
    "    '''\n",
    "    \n",
    "    def __init__(self, location, _type, data=None):\n",
    "        '''\n",
    "        :param location: can be either valid US zipcode or coordinate dictionary\n",
    "        :type location: If this param is a zipcode, it should be str, otherwise\n",
    "        dict\n",
    "        :param _type: Indicates whether its data is observational or forecasted\n",
    "        :type _type: string  It must be either 'observation' or 'forecast'\n",
    "        '''\n",
    "\n",
    "        self.type = _type\n",
    "        self.loc = location\n",
    "        # I think you don't need this for anything\n",
    "#         self.creation_time = int(time.time() // 1)\n",
    "        self.weather = data\n",
    "\n",
    "        # make the _id for each weather according to its reference time\n",
    "        if _type == 'forecast' and 'reference_time' in data:\n",
    "            self._id = f'{str(location)}{str(data[\"reference_time\"])}'\n",
    "        elif _type == 'observation' and 'reference_time' in data:\n",
    "            self._id = f'{str(location)}{str(10800 * (data[\"reference_time\"]//10800 + 1))}'\n",
    "        \n",
    "        self.as_dict = {'_id': self._id,\n",
    "                       '_type': self.type,\n",
    "                        'weather': self.weather\n",
    "                       }\n",
    "        \n",
    "    def to_inst(self):\n",
    "        ''' This will find the id'd Instant and add the Weather to it according \n",
    "        to its type. '''\n",
    "        \n",
    "        from instant import Instant\n",
    "        \n",
    "#         weather = self.as_dict\n",
    "        if self.type == 'observation':\n",
    "            _id = self._id\n",
    "            instants.setdefault(_id, Instant(_id, observations=self.weather))\n",
    "#             instants[_id]['observation'] = weather\n",
    "            return\n",
    "        if self.type == 'forecast':\n",
    "            _id = self._id\n",
    "            instants[_id]['forecasts'].append(weather)\n",
    "            return\n",
    "\n",
    "\n",
    "# def get_data_from_weather_api(owm, zipcode=None, coords=None):\n",
    "def get_data_from_weather_api(owm, location):\n",
    "    ''' Makes api calls for observations and forecasts and handles the API call errors.\n",
    "\n",
    "    :param owm: the OWM API object\n",
    "    :type owm: pyowm.OWM\n",
    "    :param zipcode: the zipcode reference for the API call\n",
    "    :type zipcode: string\n",
    "    :param coords: the latitude and longitude coordinates reference for the API call\n",
    "    :type coords: dict or 2-tuple that has 'lat' and 'lon' in it.\n",
    "\n",
    "    returns: the API data\n",
    "    '''\n",
    "    \n",
    "    result = None\n",
    "    tries = 1\n",
    "    while result is None and tries < 4:\n",
    "        try:\n",
    "            if type(location) == dict:\n",
    "                result = owm.three_hours_forecast_at_coords(**location)\n",
    "                return result\n",
    "            elif type(location) == str:\n",
    "                print('get data from weather api says location is a string')\n",
    "                result = owm.weather_at_zip_code(location, 'us')\n",
    "                return result\n",
    "        except APIInvalidSSLCertificateError:\n",
    "            loc = zipcode or 'lat: {}, lon: {}'.format(coords['lat'], coords['lon'])\n",
    "            print(f'SSL error with {loc} on attempt {tries} ...trying again')\n",
    "            if type(location) == dict:\n",
    "                owm_loohoo = OWM(loohoo_key)\n",
    "                owm = owm_loohoo\n",
    "            elif type(location) == str:\n",
    "                owm_masta = OWM(masta_key)\n",
    "                owm = owm_masta\n",
    "        except APICallTimeoutError:\n",
    "            loc = location[:] or 'lat: {}, lon: {}'.format(location['lat'], location['lon'])\n",
    "            print(f'Timeout error with {loc} on attempt {tries}... waiting 1 second then trying again')\n",
    "            time.sleep(1)\n",
    "        tries += 1\n",
    "    if tries == 4:\n",
    "        print('tried 3 times without response; breaking out and causing an error that will crash your current colleciton process...fix that!')\n",
    "        return ### sometime write something to keep track of the zip and instant that isn't collected ###\n",
    "\n",
    "def get_current_weather(location):\n",
    "    ''' Get the current weather for the given zipcode or coordinates.\n",
    "\n",
    "    :param code: the zip code to find weather data about\n",
    "    :type code: string\n",
    "    :param coords: the coordinates for the data you want\n",
    "    :type coords: 2-tuple\n",
    "\n",
    "    :return: the raw weather object\n",
    "    :type: json\n",
    "    '''\n",
    "    owm = OWM(loohoo_key)\n",
    "\n",
    "    m = 0\n",
    "    # Try several times to get complete the API request\n",
    "    while m < 4:\n",
    "        try:\n",
    "            # get the raw data from the OWM and make a Weather from its weather\n",
    "            result = get_data_from_weather_api(owm, location)\n",
    "            result = json.loads(result.to_JSON()) # the current weather for the given zipcode\n",
    "            weather = Weather(location, 'observation', result['Weather'])\n",
    "            return weather\n",
    "        except APICallTimeoutError:\n",
    "            owm = owm_loohoo\n",
    "            m += 1\n",
    "    print(f'Did not get current weather for {location} and reset owm')\n",
    "    return ### after making the weather class, return one of them ###\n",
    "    \n",
    "def five_day(location):\n",
    "    ''' Get each weather forecast for the corrosponding coordinates\n",
    "    \n",
    "    :param coords: the latitude and longitude for which that that weather is being forecasted\n",
    "    :type coords: tuple containing the latitude and logitude for the forecast\n",
    "\n",
    "    :return casts: the five day, every three hours, forecast for the zip code\n",
    "    :type casts: dict\n",
    "    '''\n",
    "\n",
    "    owm = OWM(masta_key)\n",
    "\n",
    "    Forecast = get_data_from_weather_api(owm, location).get_forecast()\n",
    "    forecast = json.loads(Forecast.to_JSON())\n",
    "    casts = [] # This is for the weather objects created in the for loop below.\n",
    "    for data in forecast['weathers']:\n",
    "        # Make an _id for the next Weather to be created, create the weather, \n",
    "        # and append it to the casts list.\n",
    "        instant = data['reference_time']\n",
    "        data['_id'] = f'{str(location)}{str(instant)}'\n",
    "        casts.append(Weather(location, 'forecast', data))\n",
    "    return casts\n"
   ]
  },
  {
   "cell_type": "code",
   "execution_count": 10,
   "metadata": {},
   "outputs": [
    {
     "name": "stdout",
     "output_type": "stream",
     "text": [
      "get data from weather api says location is a string\n"
     ]
    }
   ],
   "source": [
    "OWM_API_key_masta = 'ec7a9ff0f4a568d9e8e6ef8b810c599e'\n",
    "OWM_API_key_loohoo ='ccf670fd173f90d5ae9c84ef6372573d'\n",
    "\n",
    "weather = get_current_weather('27606')"
   ]
  },
  {
   "cell_type": "code",
   "execution_count": 11,
   "metadata": {},
   "outputs": [
    {
     "data": {
      "text/plain": [
       "[<__main__.Weather at 0x10b75a7f0>,\n",
       " <__main__.Weather at 0x10b75adf0>,\n",
       " <__main__.Weather at 0x10b75a2b0>,\n",
       " <__main__.Weather at 0x10b75ab50>,\n",
       " <__main__.Weather at 0x10b75aa30>,\n",
       " <__main__.Weather at 0x10b75adc0>,\n",
       " <__main__.Weather at 0x10b75acd0>,\n",
       " <__main__.Weather at 0x10b75a580>,\n",
       " <__main__.Weather at 0x10b75ab80>,\n",
       " <__main__.Weather at 0x10b75a190>,\n",
       " <__main__.Weather at 0x10a206a00>,\n",
       " <__main__.Weather at 0x10a206b80>,\n",
       " <__main__.Weather at 0x10a206f40>,\n",
       " <__main__.Weather at 0x10a206700>,\n",
       " <__main__.Weather at 0x10a206a30>,\n",
       " <__main__.Weather at 0x10a206eb0>,\n",
       " <__main__.Weather at 0x10b72a040>,\n",
       " <__main__.Weather at 0x10b72a0a0>,\n",
       " <__main__.Weather at 0x10b72a100>,\n",
       " <__main__.Weather at 0x10b72a160>,\n",
       " <__main__.Weather at 0x10b72a1c0>,\n",
       " <__main__.Weather at 0x10b72a220>,\n",
       " <__main__.Weather at 0x10b72a280>,\n",
       " <__main__.Weather at 0x10b72a2e0>,\n",
       " <__main__.Weather at 0x10b72a340>,\n",
       " <__main__.Weather at 0x10b72a3a0>,\n",
       " <__main__.Weather at 0x10b72a400>,\n",
       " <__main__.Weather at 0x10b72a460>,\n",
       " <__main__.Weather at 0x10b72a4c0>,\n",
       " <__main__.Weather at 0x10b72a520>,\n",
       " <__main__.Weather at 0x108b88a60>,\n",
       " <__main__.Weather at 0x10b72a580>,\n",
       " <__main__.Weather at 0x10b72a5e0>,\n",
       " <__main__.Weather at 0x10b72a640>,\n",
       " <__main__.Weather at 0x10b72a6a0>,\n",
       " <__main__.Weather at 0x10b72a700>,\n",
       " <__main__.Weather at 0x10b72a760>,\n",
       " <__main__.Weather at 0x10b72a7c0>,\n",
       " <__main__.Weather at 0x10b72a820>,\n",
       " <__main__.Weather at 0x10b72a880>]"
      ]
     },
     "execution_count": 11,
     "metadata": {},
     "output_type": "execute_result"
    }
   ],
   "source": [
    "five_day({'lon': -78.71, 'lat': 35.76})"
   ]
  },
  {
   "cell_type": "code",
   "execution_count": 12,
   "metadata": {},
   "outputs": [
    {
     "data": {
      "text/plain": [
       "'276061588863600'"
      ]
     },
     "execution_count": 12,
     "metadata": {},
     "output_type": "execute_result"
    }
   ],
   "source": [
    "{'reference_time': 1588843902,\n",
    "  'sunset_time': 1588896845,\n",
    "  'sunrise_time': 1588846952,\n",
    "  'clouds': 0,\n",
    "  'rain': {},\n",
    "  'snow': {},\n",
    "  'wind': {'speed': 2.26, 'deg': 318},\n",
    "  'humidity': 89,\n",
    "  'pressure': {'press': 1013, 'sea_level': None},\n",
    "  'temperature': {'temp': 274.88,\n",
    "   'temp_kf': None,\n",
    "   'temp_max': 275.93,\n",
    "   'temp_min': 274.26},\n",
    "  'status': 'Clear',\n",
    "  'detailed_status': 'clear sky',\n",
    "  'weather_code': 800,\n",
    "  'weather_icon_name': '01n',\n",
    "  'visibility_distance': None,\n",
    "  'dewpoint': None,\n",
    "  'humidex': None,\n",
    "  'heat_index': None}\n",
    "{'reference_time': 1589274000,\n",
    "  'sunset_time': 0,\n",
    "  'sunrise_time': 0,\n",
    "  'clouds': 70,\n",
    "  'rain': {},\n",
    "  'snow': {},\n",
    "  'wind': {'speed': 3.34, 'deg': 347},\n",
    "  'humidity': 60,\n",
    "  'pressure': {'press': 1023, 'sea_level': 1023},\n",
    "  'temperature': {'temp': 280.14,\n",
    "   'temp_kf': 0,\n",
    "   'temp_max': 280.14,\n",
    "   'temp_min': 280.14},\n",
    "  'status': 'Clouds',\n",
    "  'detailed_status': 'broken clouds',\n",
    "  'weather_code': 803,\n",
    "  'weather_icon_name': '04n',\n",
    "  'visibility_distance': None,\n",
    "  'dewpoint': None,\n",
    "  'humidex': None,\n",
    "  'heat_index': None}\n",
    "weather._id"
   ]
  },
  {
   "cell_type": "code",
   "execution_count": 13,
   "metadata": {},
   "outputs": [
    {
     "data": {
      "text/plain": [
       "{'_id': '276061588863600',\n",
       " '_type': 'observation',\n",
       " 'weather': {'reference_time': 1588859625,\n",
       "  'sunset_time': 1588896398,\n",
       "  'sunrise_time': 1588846564,\n",
       "  'clouds': 0,\n",
       "  'rain': {},\n",
       "  'snow': {},\n",
       "  'wind': {'speed': 0.89, 'deg': 324, 'gust': 2.68},\n",
       "  'humidity': 49,\n",
       "  'pressure': {'press': 1016, 'sea_level': None},\n",
       "  'temperature': {'temp': 286.06,\n",
       "   'temp_kf': None,\n",
       "   'temp_max': 287.59,\n",
       "   'temp_min': 284.26},\n",
       "  'status': 'Clear',\n",
       "  'detailed_status': 'clear sky',\n",
       "  'weather_code': 800,\n",
       "  'weather_icon_name': '01d',\n",
       "  'visibility_distance': None,\n",
       "  'dewpoint': None,\n",
       "  'humidex': None,\n",
       "  'heat_index': None}}"
      ]
     },
     "execution_count": 13,
     "metadata": {},
     "output_type": "execute_result"
    }
   ],
   "source": [
    "weather.as_dict"
   ]
  },
  {
   "cell_type": "code",
   "execution_count": 14,
   "metadata": {},
   "outputs": [
    {
     "name": "stdout",
     "output_type": "stream",
     "text": [
      "78706\n"
     ]
    }
   ],
   "source": [
    "from Extract.make_instants import client, find_data\n",
    "# set database and collection for testing\n",
    "database = 'test'\n",
    "collection = 'instant_temp'\n",
    "# create a dict to hold the instants pulled from the database\n",
    "instants = {}\n",
    "data = find_data(client, database, collection)\n",
    "# add each doc to instants and set its key and _id to the same values\n",
    "for item in data:\n",
    "    instants[f'{item[\"_id\"]}'] = item['_id']\n",
    "print(len(instants))"
   ]
  },
  {
   "cell_type": "code",
   "execution_count": 15,
   "metadata": {},
   "outputs": [],
   "source": [
    "weather.to_inst()"
   ]
  },
  {
   "cell_type": "code",
   "execution_count": 8,
   "metadata": {},
   "outputs": [
    {
     "data": {
      "text/plain": [
       "78707"
      ]
     },
     "execution_count": 8,
     "metadata": {},
     "output_type": "execute_result"
    }
   ],
   "source": [
    "len(instants)"
   ]
  },
  {
   "cell_type": "code",
   "execution_count": 9,
   "metadata": {},
   "outputs": [
    {
     "name": "stdout",
     "output_type": "stream",
     "text": [
      "get data from weather api says location is a string\n"
     ]
    }
   ],
   "source": [
    "weather = get_current_weather('27006')"
   ]
  },
  {
   "cell_type": "code",
   "execution_count": 10,
   "metadata": {},
   "outputs": [],
   "source": [
    "weather.to_inst()"
   ]
  },
  {
   "cell_type": "code",
   "execution_count": 11,
   "metadata": {},
   "outputs": [
    {
     "data": {
      "text/plain": [
       "{'_id': '270061588843902',\n",
       " 'forecasts': list,\n",
       " 'observations': {'reference_time': 1588843902,\n",
       "  'sunset_time': 1588896845,\n",
       "  'sunrise_time': 1588846952,\n",
       "  'clouds': 0,\n",
       "  'rain': {},\n",
       "  'snow': {},\n",
       "  'wind': {'speed': 2.26, 'deg': 318},\n",
       "  'humidity': 89,\n",
       "  'pressure': {'press': 1013, 'sea_level': None},\n",
       "  'temperature': {'temp': 274.88,\n",
       "   'temp_kf': None,\n",
       "   'temp_max': 275.93,\n",
       "   'temp_min': 274.26},\n",
       "  'status': 'Clear',\n",
       "  'detailed_status': 'clear sky',\n",
       "  'weather_code': 800,\n",
       "  'weather_icon_name': '01n',\n",
       "  'visibility_distance': None,\n",
       "  'dewpoint': None,\n",
       "  'humidex': None,\n",
       "  'heat_index': None}}"
      ]
     },
     "execution_count": 11,
     "metadata": {},
     "output_type": "execute_result"
    }
   ],
   "source": [
    "instants[weather._id].as_dict"
   ]
  },
  {
   "cell_type": "code",
   "execution_count": null,
   "metadata": {},
   "outputs": [],
   "source": []
  }
 ],
 "metadata": {
  "kernelspec": {
   "display_name": "Python 3",
   "language": "python",
   "name": "python3"
  },
  "language_info": {
   "codemirror_mode": {
    "name": "ipython",
    "version": 3
   },
   "file_extension": ".py",
   "mimetype": "text/x-python",
   "name": "python",
   "nbconvert_exporter": "python",
   "pygments_lexer": "ipython3",
   "version": "3.8.1"
  }
 },
 "nbformat": 4,
 "nbformat_minor": 4
}
