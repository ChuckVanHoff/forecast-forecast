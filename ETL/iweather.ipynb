{
 "cells": [
  {
   "cell_type": "code",
   "execution_count": 5,
   "metadata": {},
   "outputs": [
    {
     "data": {
      "text/plain": [
       "['Instant',\n",
       " '__builtins__',\n",
       " '__cached__',\n",
       " '__doc__',\n",
       " '__file__',\n",
       " '__loader__',\n",
       " '__name__',\n",
       " '__package__',\n",
       " '__spec__',\n",
       " 'cast_count_all',\n",
       " 'find_legit',\n",
       " 'load_legit',\n",
       " 'sweep',\n",
       " 'test_load_legit']"
      ]
     },
     "execution_count": 5,
     "metadata": {},
     "output_type": "execute_result"
    }
   ],
   "source": [
    "import instant\n",
    "import weather\n",
    "# from weather import Weather\n",
    "dir(instant)"
   ]
  },
  {
   "cell_type": "code",
   "execution_count": 6,
   "metadata": {},
   "outputs": [
    {
     "data": {
      "text/plain": [
       "['__builtins__',\n",
       " '__cached__',\n",
       " '__doc__',\n",
       " '__file__',\n",
       " '__loader__',\n",
       " '__name__',\n",
       " '__package__',\n",
       " '__path__',\n",
       " '__spec__']"
      ]
     },
     "execution_count": 6,
     "metadata": {},
     "output_type": "execute_result"
    }
   ],
   "source": [
    "# import Extract\n",
    "dir(Extract)"
   ]
  },
  {
   "cell_type": "code",
   "execution_count": 8,
   "metadata": {},
   "outputs": [
    {
     "name": "stdout",
     "output_type": "stream",
     "text": [
      "['Extract', 'In', 'Out', '_', '_1', '_5', '_6', '_7', '__', '___', '__builtin__', '__builtins__', '__doc__', '__loader__', '__name__', '__package__', '__spec__', '_dh', '_i', '_i1', '_i2', '_i3', '_i4', '_i5', '_i6', '_i7', '_i8', '_ih', '_ii', '_iii', '_oh', 'exit', 'get_ipython', 'quit']\n"
     ]
    }
   ],
   "source": [
    "# from Extract import *\n",
    "# print(dir())\n",
    "from Extract."
   ]
  },
  {
   "cell_type": "code",
   "execution_count": 5,
   "metadata": {},
   "outputs": [],
   "source": [
    "''' Defines the Weather class and related functions. '''\n",
    "\n",
    "import time\n",
    "import json\n",
    "\n",
    "from pyowm import OWM\n",
    "from pyowm.weatherapi25.forecast import Forecast\n",
    "from pyowm.exceptions.api_response_error import NotFoundError\n",
    "from pyowm.exceptions.api_call_error import APICallTimeoutError\n",
    "from pyowm.exceptions.api_call_error import APIInvalidSSLCertificateError\n",
    "\n",
    "from config import OWM_API_key_loohoo as loohoo_key\n",
    "from config import OWM_API_key_masta as masta_key\n",
    "\n",
    "\n",
    "class Weather:\n",
    "    ''' A dictionary of weather variables and their observed/forecasted values\n",
    "    for a given instant in time at a specified location.\n",
    "    '''\n",
    "    \n",
    "    def __init__(self, location, _type, data=None):\n",
    "        '''\n",
    "        :param location: can be either valid US zipcode or coordinate dictionary\n",
    "        :type location: If this param is a zipcode, it should be str, otherwise\n",
    "        dict\n",
    "        :param _type: Indicates whether its data is observational or forecasted\n",
    "        :type _type: string  It must be either 'observation' or 'forecast'\n",
    "        '''\n",
    "\n",
    "        self.type = _type\n",
    "        self.loc = location\n",
    "        self.weather = data\n",
    "        # make the _id for each weather according to its reference time\n",
    "        if _type == 'forecast' and 'reference_time' in data:\n",
    "            self._id = f'{str(location)}{str(data[\"reference_time\"])}'\n",
    "        elif _type == 'observation' and 'reference_time' in data:\n",
    "            self._id = f'''\n",
    "            {str(location)}{str(10800 * (data[\"reference_time\"]//10800 + 1))}'''\n",
    "        self.as_dict = {'_id': self._id,\n",
    "                       '_type': self.type,\n",
    "                        'weather': self.weather\n",
    "                       }\n",
    "\n",
    "    def to_inst(self):\n",
    "        ''' This will find the id'd Instant and add the Weather to it according \n",
    "        to its type. '''\n",
    "        \n",
    "        from instant import Instant\n",
    "        from get_and_make import load_instants_from_db\n",
    "        \n",
    "        if self.type == 'observation':\n",
    "            _id = self._id\n",
    "            instants.setdefault(_id, Instant(_id, observations=self.weather))\n",
    "            return\n",
    "        if self.type == 'forecast':\n",
    "            _id = self._id\n",
    "            instants[_id]['forecasts'].append(weather)\n",
    "            return\n",
    "\n",
    "\n",
    "def get_data_from_weather_api(owm, location):\n",
    "    ''' Makes api calls for observations and forecasts and handles the API call\n",
    "    errors.\n",
    "\n",
    "    :param owm: the OWM API object\n",
    "    :type owm: pyowm.OWM\n",
    "    :param location: the coordinates or zipcode reference for the API call.\n",
    "    :type location: if location is a zipcode, then type is a string;\n",
    "    if location is a coordinates, then tuple or dict.\n",
    "\n",
    "    returns: the API data\n",
    "    '''\n",
    "    \n",
    "    result = None\n",
    "    tries = 1\n",
    "    while result is None and tries < 4:\n",
    "        try:\n",
    "            if type(location) == dict:\n",
    "                result = owm.three_hours_forecast_at_coords(**location)\n",
    "                return result\n",
    "            elif type(location) == str:\n",
    "                result = owm.weather_at_zip_code(location, 'us')\n",
    "                return result\n",
    "        except APIInvalidSSLCertificateError:\n",
    "            loc = zipcode or 'lat: {}, lon: {}'.format(coords['lat'], coords['lon'])\n",
    "            print(f'SSL error with {loc} on attempt {tries} ...trying again')\n",
    "            if type(location) == dict:\n",
    "                owm_loohoo = OWM(loohoo_key)\n",
    "                owm = owm_loohoo\n",
    "            elif type(location) == str:\n",
    "                owm_masta = OWM(masta_key)\n",
    "                owm = owm_masta\n",
    "        except APICallTimeoutError:\n",
    "            loc = location[:] or 'lat: {}, lon: {}'.format(location['lat'],\n",
    "                                                           location['lon'])\n",
    "            print(f'''Timeout error with {loc} on attempt {tries}... waiting 1\n",
    "                  second then trying again''')\n",
    "            time.sleep(1)\n",
    "        tries += 1\n",
    "    if tries == 4:\n",
    "        print('''tried 3 times without response; breaking out and causing an\n",
    "        error that will crash your current colleciton process...fix that!''')\n",
    "        return ### sometime write something to keep track of the zip and\n",
    "                ### instant that isn't collected ###\n",
    "\n",
    "def get_current_weather(location):\n",
    "    ''' Get the current weather for the given zipcode or coordinates.\n",
    "\n",
    "    :param location: the coordinates or zipcode reference for the API call.\n",
    "    :type location: if location is a zipcode, then type is a string;\n",
    "    if location is a coordinates, then tuple or dict.\n",
    "\n",
    "    :return: the raw weather object\n",
    "    :type: json\n",
    "    '''\n",
    "    owm = OWM(loohoo_key)\n",
    "\n",
    "    m = 0\n",
    "    # Try several times to get complete the API request\n",
    "    while m < 4:\n",
    "        try:\n",
    "            # get the raw data from the OWM and make a Weather from it\n",
    "            result = get_data_from_weather_api(owm, location)\n",
    "            result = json.loads(result.to_JSON())  # the current weather for the given zipcode\n",
    "            weather = Weather(location, 'observation', result['Weather'])\n",
    "            return weather\n",
    "        except APICallTimeoutError:\n",
    "            owm = owm_loohoo\n",
    "            m += 1\n",
    "    print(f'Did not get current weather for {location} and reset owm')\n",
    "    return\n",
    "    \n",
    "def five_day(location):\n",
    "    ''' Get each weather forecast for the corrosponding coordinates\n",
    "    \n",
    "    :param coords: the latitude and longitude for which that that weather is\n",
    "    being forecasted\n",
    "    :type coords: tuple containing the latitude and logitude for the forecast\n",
    "\n",
    "    :return casts: the five day, every three hours, forecast for the zip code\n",
    "    :type casts: dict\n",
    "    '''\n",
    "\n",
    "    owm = OWM(masta_key)\n",
    "\n",
    "    Forecast = get_data_from_weather_api(owm, location).get_forecast()\n",
    "    forecast = json.loads(Forecast.to_JSON())\n",
    "    casts = [] # This is for the weather objects created in the for loop below.\n",
    "    for data in forecast['weathers']:\n",
    "        # Make an _id for the next Weather to be created, create the weather, \n",
    "        # append it to the casts list.\n",
    "        instant = data['reference_time']\n",
    "        data['_id'] = f'{str(location)}{str(instant)}'\n",
    "        casts.append(Weather(location, 'forecast', data))\n",
    "    return casts\n"
   ]
  },
  {
   "cell_type": "code",
   "execution_count": 6,
   "metadata": {},
   "outputs": [
    {
     "data": {
      "text/plain": [
       "['APICallTimeoutError',\n",
       " 'APIInvalidSSLCertificateError',\n",
       " 'Forecast',\n",
       " 'In',\n",
       " 'NotFoundError',\n",
       " 'OWM',\n",
       " 'Out',\n",
       " 'Weather',\n",
       " '_',\n",
       " '_1',\n",
       " '_4',\n",
       " '__',\n",
       " '___',\n",
       " '__builtin__',\n",
       " '__builtins__',\n",
       " '__doc__',\n",
       " '__loader__',\n",
       " '__name__',\n",
       " '__package__',\n",
       " '__spec__',\n",
       " '_dh',\n",
       " '_i',\n",
       " '_i1',\n",
       " '_i2',\n",
       " '_i3',\n",
       " '_i4',\n",
       " '_i5',\n",
       " '_i6',\n",
       " '_ih',\n",
       " '_ii',\n",
       " '_iii',\n",
       " '_oh',\n",
       " 'exit',\n",
       " 'five_day',\n",
       " 'get_current_weather',\n",
       " 'get_data_from_weather_api',\n",
       " 'get_ipython',\n",
       " 'json',\n",
       " 'loohoo_key',\n",
       " 'masta_key',\n",
       " 'quit',\n",
       " 'time',\n",
       " 'weather']"
      ]
     },
     "execution_count": 6,
     "metadata": {},
     "output_type": "execute_result"
    }
   ],
   "source": [
    "dir()\n",
    "# OWM_API_key_masta = 'ec7a9ff0f4a568d9e8e6ef8b810c599e'\n",
    "# OWM_API_key_loohoo ='ccf670fd173f90d5ae9c84ef6372573d'\n",
    "\n",
    "# weather = get_current_weather('27006')"
   ]
  },
  {
   "cell_type": "code",
   "execution_count": 63,
   "metadata": {},
   "outputs": [
    {
     "name": "stdout",
     "output_type": "stream",
     "text": [
      "78706\n"
     ]
    }
   ],
   "source": [
    "from Extract.make_instants import find_data\n",
    "# set database and collection for testing\n",
    "# database = 'test'\n",
    "collection = 'instant_temp'\n",
    "# create a dict to hold the instants pulled from the database\n",
    "instants = {}\n",
    "data = find_data(client, database, collection)\n",
    "# add each doc to instants and set its key and _id to the same values\n",
    "for item in data:\n",
    "    instants[f'{item[\"_id\"]}'] = item['_id']\n",
    "print(len(instants))"
   ]
  },
  {
   "cell_type": "code",
   "execution_count": 64,
   "metadata": {},
   "outputs": [],
   "source": [
    "weather.to_inst()"
   ]
  },
  {
   "cell_type": "code",
   "execution_count": 21,
   "metadata": {},
   "outputs": [
    {
     "data": {
      "text/plain": [
       "78707"
      ]
     },
     "execution_count": 21,
     "metadata": {},
     "output_type": "execute_result"
    }
   ],
   "source": [
    "len(instants)"
   ]
  },
  {
   "cell_type": "code",
   "execution_count": 58,
   "metadata": {},
   "outputs": [],
   "source": [
    "weather = get_current_weather('27006')"
   ]
  },
  {
   "cell_type": "code",
   "execution_count": 59,
   "metadata": {},
   "outputs": [],
   "source": [
    "weather.to_inst()"
   ]
  },
  {
   "cell_type": "code",
   "execution_count": 60,
   "metadata": {},
   "outputs": [
    {
     "data": {
      "text/plain": [
       "78708"
      ]
     },
     "execution_count": 60,
     "metadata": {},
     "output_type": "execute_result"
    }
   ],
   "source": [
    "len(instants)\n",
    "# instants[weather._id].as_dict"
   ]
  },
  {
   "cell_type": "code",
   "execution_count": 69,
   "metadata": {},
   "outputs": [
    {
     "ename": "NameError",
     "evalue": "name 'Extract' is not defined",
     "output_type": "error",
     "traceback": [
      "\u001b[0;31m---------------------------------------------------------------------------\u001b[0m",
      "\u001b[0;31mNameError\u001b[0m                                 Traceback (most recent call last)",
      "\u001b[0;32m<ipython-input-69-2da18cd60171>\u001b[0m in \u001b[0;36m<module>\u001b[0;34m\u001b[0m\n\u001b[0;32m----> 1\u001b[0;31m \u001b[0mdir\u001b[0m\u001b[0;34m(\u001b[0m\u001b[0mExtract\u001b[0m\u001b[0;34m.\u001b[0m\u001b[0mmake_instants\u001b[0m\u001b[0;34m)\u001b[0m\u001b[0;34m\u001b[0m\u001b[0;34m\u001b[0m\u001b[0m\n\u001b[0m",
      "\u001b[0;31mNameError\u001b[0m: name 'Extract' is not defined"
     ]
    }
   ],
   "source": [
    "dir()"
   ]
  },
  {
   "cell_type": "code",
   "execution_count": null,
   "metadata": {},
   "outputs": [],
   "source": []
  }
 ],
 "metadata": {
  "kernelspec": {
   "display_name": "Python 3",
   "language": "python",
   "name": "python3"
  },
  "language_info": {
   "codemirror_mode": {
    "name": "ipython",
    "version": 3
   },
   "file_extension": ".py",
   "mimetype": "text/x-python",
   "name": "python",
   "nbconvert_exporter": "python",
   "pygments_lexer": "ipython3",
   "version": "3.8.1"
  }
 },
 "nbformat": 4,
 "nbformat_minor": 4
}
