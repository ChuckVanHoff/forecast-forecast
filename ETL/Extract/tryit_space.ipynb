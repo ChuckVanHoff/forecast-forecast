{
 "cells": [
  {
   "cell_type": "code",
   "execution_count": 2,
   "metadata": {},
   "outputs": [
    {
     "name": "stdout",
     "output_type": "stream",
     "text": [
      "<class 'pyowm.weatherapi25.owm25.OWM25'>\n",
      "<class 'pyowm.weatherapi25.owm25.OWM25'>\n"
     ]
    }
   ],
   "source": [
    "from pyowm import OWM\n",
    "from pyowm.weatherapi25.forecast import Forecast\n",
    "from pyowm.exceptions.api_response_error import NotFoundError\n",
    "from pyowm.exceptions.api_call_error import APICallTimeoutError\n",
    "from config import OWM_API_key as key, connection_port, user, loc_host, remo_host, password, socket_path\n",
    "\n",
    "API_key = key\n",
    "owm = OWM(API_key) # the OWM object\n",
    "print(type(owm))\n",
    "\n",
    "API_key = 'key'\n",
    "owm = OWM(API_key) # the OWM object\n",
    "print(type(owm))"
   ]
  },
  {
   "cell_type": "code",
   "execution_count": null,
   "metadata": {},
   "outputs": [],
   "source": []
  }
 ],
 "metadata": {
  "kernelspec": {
   "display_name": "Python 3",
   "language": "python",
   "name": "python3"
  },
  "language_info": {
   "codemirror_mode": {
    "name": "ipython",
    "version": 3
   },
   "file_extension": ".py",
   "mimetype": "text/x-python",
   "name": "python",
   "nbconvert_exporter": "python",
   "pygments_lexer": "ipython3",
   "version": "3.7.3"
  }
 },
 "nbformat": 4,
 "nbformat_minor": 4
}
