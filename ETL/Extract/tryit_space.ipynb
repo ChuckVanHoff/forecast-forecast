{
 "cells": [
  {
   "cell_type": "code",
   "execution_count": 2,
   "metadata": {},
   "outputs": [
    {
     "name": "stdout",
     "output_type": "stream",
     "text": [
      "<class 'pyowm.weatherapi25.owm25.OWM25'>\n",
      "<class 'pyowm.weatherapi25.owm25.OWM25'>\n"
     ]
    }
   ],
   "source": [
    "from pyowm import OWM\n",
    "from pyowm.weatherapi25.forecast import Forecast\n",
    "from pyowm.exceptions.api_response_error import NotFoundError\n",
    "from pyowm.exceptions.api_call_error import APICallTimeoutError\n",
    "from config import OWM_API_key as key, connection_port, user, loc_host, remo_host, password, socket_path\n",
    "\n",
    "API_key = key\n",
    "owm = OWM(API_key) # the OWM object\n",
    "print(type(owm))\n",
    "\n",
    "API_key = 'key'\n",
    "owm = OWM(API_key) # the OWM object\n",
    "print(type(owm))"
   ]
  },
  {
   "cell_type": "code",
   "execution_count": 5,
   "metadata": {},
   "outputs": [],
   "source": [
    "import json\n",
    "import os\n",
    "import time\n",
    "import urllib\n",
    "import dns\n",
    "\n",
    "from pyowm import OWM\n",
    "from pyowm.weatherapi25.forecast import Forecast\n",
    "from pyowm.exceptions.api_response_error import NotFoundError\n",
    "from pyowm.exceptions.api_call_error import APICallTimeoutError\n",
    "from pprint import pprint\n",
    "from pymongo import MongoClient\n",
    "from pymongo.errors import ConnectionFailure, InvalidDocument, DuplicateKeyError, OperationFailure\n",
    "from urllib.parse import quote\n",
    "from config import OWM_API_key as key, connection_port, user, loc_host, remo_host, password, socket_path\n",
    "\n",
    "global zipcode\n",
    "global obs\n",
    "global reception_time\n",
    "global zid\n",
    "global zlon\n",
    "global zlat\n",
    "global client\n",
    "\n",
    "API_key = key\n",
    "loc_host = loc_host\n",
    "rem_host = remo_host\n",
    "port = connection_port\n",
    "owm = OWM(API_key)    # the OWM object\n",
    "password = quote(password)    # url encode the password for the mongodb uri\n",
    "uri = \"mongodb+srv://%s:%s@%s\" % (user, password, socket_path)\n",
    "\n",
    "\n",
    "def make_zip_list(state):\n",
    "    ''' Make a list of zip codes in the specified state.\n",
    "        Read zip codes from downloadable zip codes csv file available at https://www.unitedstateszipcodes.org/\n",
    "        \n",
    "        :param state: the two-letter abreviation of the state whose zip codes you'd like listed\n",
    "        :type state: string\n",
    "        \n",
    "        :returns success_zips: list of zip codes that OWM has records for\n",
    "        :type success_zips: list\n",
    "    '''\n",
    "    import pandas as pd\n",
    "    from pyowm.exceptions.api_response_error import NotFoundError\n",
    "    \n",
    "    successes = 0\n",
    "    exceptions = 0\n",
    "    success_zips = []\n",
    "    fail_zips = []\n",
    "    \n",
    "    # Make a datafram from the rows with the specified state and write the 'zip' column to a list \n",
    "    df = pd.read_csv(\"resources/zip_code_database.csv\")\n",
    "    zip_list = df.loc[lambda df: df['state'] == f'{state.upper()}']['zip'].tolist()\n",
    "    for zipp in zip_list:\n",
    "        if int(zipp) > 10000:\n",
    "            try:\n",
    "                set_location(zipp)\n",
    "                success_zips.append(zipp)\n",
    "                successes+=1\n",
    "            except NotFoundError:\n",
    "                print(\"except\", f'NotFoundError with zipcode {zipp}')\n",
    "                fail_zips.append(zipp)\n",
    "                exceptions+=1\n",
    "                pass\n",
    "    filename = f'resources/success_zips{state}.csv'\n",
    "    write_list_to_file(success_zips, filename)\n",
    "    write_list_to_file(fail_zips, 'resources/fail_zips.csv')\n",
    "    print(f'successes = {successes}; exceptions = {exceptions}, all written to files')\n",
    "    return(read_list_from_file(filename))\n",
    "\n",
    "def write_list_to_file(zip_list, filename):\n",
    "#     print('using write_list_to_file')\n",
    "    \"\"\" Write the zip codes to csv file.\n",
    "        \n",
    "        :param zip_list: the list created from the zip codes dataframe\n",
    "        :type zip_list: list stings\n",
    "        :param filename: the name of the file\n",
    "        :type filename: sting\n",
    "    \"\"\"\n",
    "    with open(filename, \"w\") as z_list:\n",
    "        z_list.write(\",\".join(str(z) for z in zip_list))\n",
    "    return\n",
    "        \n",
    "def read_list_from_file(filename):\n",
    "    \"\"\" Read the zip codes list from the csv file.\n",
    "        \n",
    "        :param filename: the name of the file\n",
    "        :type filename: sting\n",
    "    \"\"\"\n",
    "    with open(filename, \"r\") as z_list:\n",
    "        return z_list.read().strip().split(',')\n",
    "\n",
    "def set_location(code):\n",
    "    ''' Get the latitude and longitude corrosponding to the zip code.\n",
    "        \n",
    "        :param code: the zip code to find weather data about\n",
    "        :type code: string\n",
    "    '''\n",
    "    global obs, zlat, zlon\n",
    "    try:\n",
    "        obs = owm.weather_at_zip_code(f'{code}', 'us')\n",
    "    except APICallTimeoutError:\n",
    "        time.sleep(5)\n",
    "        try:\n",
    "            obs = owm.weather_at_zip_code(f'{code}', 'us')\n",
    "        except APICallTimeoutError:\n",
    "            print(f'could not get past the goddamn api call for {code}.')\n",
    "            return\n",
    "    location = obs.get_location()\n",
    "    zlon = location.get_lon()\n",
    "    zlat = location.get_lat()\n",
    "    return"
   ]
  },
  {
   "cell_type": "code",
   "execution_count": 12,
   "metadata": {},
   "outputs": [
    {
     "data": {
      "text/plain": [
       "62.93333333333333"
      ]
     },
     "execution_count": 12,
     "metadata": {},
     "output_type": "execute_result"
    }
   ],
   "source": [
    "va_zips = read_list_from_file('resources/success_zipsVA.csv')\n",
    "ga_zips = read_list_from_file('resources/success_zipsGA.csv')\n",
    "sc_zips = read_list_from_file('resources/success_zipsSC.csv')\n",
    "nc_zips = read_list_from_file('resources/success_zipsNC.csv')\n",
    "(len(sc_zips) + len(nc_zips)+len(va_zips)+len(ga_zips))/60"
   ]
  },
  {
   "cell_type": "code",
   "execution_count": null,
   "metadata": {},
   "outputs": [],
   "source": []
  }
 ],
 "metadata": {
  "kernelspec": {
   "display_name": "Python 3",
   "language": "python",
   "name": "python3"
  },
  "language_info": {
   "codemirror_mode": {
    "name": "ipython",
    "version": 3
   },
   "file_extension": ".py",
   "mimetype": "text/x-python",
   "name": "python",
   "nbconvert_exporter": "python",
   "pygments_lexer": "ipython3",
   "version": "3.8.1"
  }
 },
 "nbformat": 4,
 "nbformat_minor": 4
}
