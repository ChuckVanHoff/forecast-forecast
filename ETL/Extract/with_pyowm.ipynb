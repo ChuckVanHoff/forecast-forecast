{
 "cells": [
  {
   "cell_type": "code",
   "execution_count": 26,
   "metadata": {},
   "outputs": [],
   "source": [
    "from pyowm import OWM\n",
    "from pyowm.weatherapi25.forecast import Forecast\n",
    "from key import key\n",
    "\n",
    "API_key = key\n",
    "global zipcode\n",
    "data_zip = zipcode[0] # this is the zip code that will be associated with all the retuned data from this function\n",
    "owm = OWM(API_key) # the OWM object\n",
    "global obs\n",
    "global reception_time"
   ]
  },
  {
   "cell_type": "code",
   "execution_count": 28,
   "metadata": {},
   "outputs": [],
   "source": [
    "Zip_Weather_Data = owm.weather_at_zip_code('27606', 'us') # returns a Weather object corrosponding to that zipcode\n",
    "weather = Zip_Weather_Data\n",
    "Zip_Location\n",
    "location = obs.get_location() # returns a Location object corrosponding to the zipcode\n",
    "#  = Zip_Location\n",
    "zid = Zip_Location.get_ID()\n",
    "zlon = location.get_lon()\n",
    "zlat = location.get_lat()"
   ]
  },
  {
   "cell_type": "code",
   "execution_count": 29,
   "metadata": {},
   "outputs": [],
   "source": [
    "def current(code):\n",
    "    ''' Get the weather data by the zip code '''\n",
    "    obs = owm.weather_at_zip_code(f'{code}', 'us') # get the Observation object for the current weather at the zipcode\n",
    "#     weather = obs.get_weather() # get the Weather object\n",
    "    current_weather = obs.to_JSON() # dump all that weather data to a json object\n",
    "    return(current_weather)\n",
    "\n",
    "def five_day(codes):\n",
    "    ''' Get each weather forecast for the corrosponding zip code. '''\n",
    "    forecaster = owm.three_hours_forecast_at_coords(zlat, zlon)\n",
    "    forecast = forecaster.get_forecast()\n",
    "    forecast_json = forecast.to_JSON()\n",
    "    print(forecast)"
   ]
  },
  {
   "cell_type": "code",
   "execution_count": 30,
   "metadata": {},
   "outputs": [
    {
     "name": "stdout",
     "output_type": "stream",
     "text": [
      "27606\n",
      "<pyowm.weatherapi25.forecast.Forecast - reception time=2019-12-15 03:24:40+00, interval=3h>\n",
      "{'current': '{\"reception_time\": 1576380280, \"Location\": {\"name\": \"Raleigh\", \"coordinates\": {\"lon\": -78.71, \"lat\": 35.76}, \"ID\": 0, \"country\": \"US\"}, \"Weather\": {\"reference_time\": 1576379400, \"sunset_time\": 1576360934, \"sunrise_time\": 1576325807, \"clouds\": 1, \"rain\": {}, \"snow\": {}, \"wind\": {\"speed\": 3.1, \"deg\": 300}, \"humidity\": 61, \"pressure\": {\"press\": 1008, \"sea_level\": null}, \"temperature\": {\"temp\": 281.28, \"temp_kf\": null, \"temp_max\": 283.15, \"temp_min\": 279.15}, \"status\": \"Clear\", \"detailed_status\": \"clear sky\", \"weather_code\": 800, \"weather_icon_name\": \"01n\", \"visibility_distance\": 16093, \"dewpoint\": null, \"humidex\": null, \"heat_index\": null}}', 'five_day': None}\n",
      "27006\n",
      "<pyowm.weatherapi25.forecast.Forecast - reception time=2019-12-15 03:24:40+00, interval=3h>\n",
      "{'current': '{\"reception_time\": 1576380280, \"Location\": {\"name\": \"Advance\", \"coordinates\": {\"lon\": -80.45, \"lat\": 36.01}, \"ID\": 0, \"country\": \"US\"}, \"Weather\": {\"reference_time\": 1576380193, \"sunset_time\": 1576361312, \"sunrise_time\": 1576326264, \"clouds\": 1, \"rain\": {}, \"snow\": {}, \"wind\": {\"speed\": 3.1, \"deg\": 270}, \"humidity\": 65, \"pressure\": {\"press\": 1009, \"sea_level\": null}, \"temperature\": {\"temp\": 278.31, \"temp_kf\": null, \"temp_max\": 280.37, \"temp_min\": 276.15}, \"status\": \"Clear\", \"detailed_status\": \"clear sky\", \"weather_code\": 800, \"weather_icon_name\": \"01n\", \"visibility_distance\": 16093, \"dewpoint\": null, \"humidex\": null, \"heat_index\": null}}', 'five_day': None}\n"
     ]
    }
   ],
   "source": [
    "codes = ['27606', '27006']\n",
    "data = {}\n",
    "for code in codes:\n",
    "    print(code)\n",
    "    data.update({'current': current(code),\n",
    "                'five_day': five_day(code)})\n",
    "    print(data)"
   ]
  },
  {
   "cell_type": "code",
   "execution_count": 31,
   "metadata": {},
   "outputs": [
    {
     "data": {
      "text/plain": [
       "{'current': '{\"reception_time\": 1576380280, \"Location\": {\"name\": \"Advance\", \"coordinates\": {\"lon\": -80.45, \"lat\": 36.01}, \"ID\": 0, \"country\": \"US\"}, \"Weather\": {\"reference_time\": 1576380193, \"sunset_time\": 1576361312, \"sunrise_time\": 1576326264, \"clouds\": 1, \"rain\": {}, \"snow\": {}, \"wind\": {\"speed\": 3.1, \"deg\": 270}, \"humidity\": 65, \"pressure\": {\"press\": 1009, \"sea_level\": null}, \"temperature\": {\"temp\": 278.31, \"temp_kf\": null, \"temp_max\": 280.37, \"temp_min\": 276.15}, \"status\": \"Clear\", \"detailed_status\": \"clear sky\", \"weather_code\": 800, \"weather_icon_name\": \"01n\", \"visibility_distance\": 16093, \"dewpoint\": null, \"humidex\": null, \"heat_index\": null}}',\n",
       " 'five_day': None}"
      ]
     },
     "execution_count": 31,
     "metadata": {},
     "output_type": "execute_result"
    }
   ],
   "source": [
    "data"
   ]
  },
  {
   "cell_type": "code",
   "execution_count": 32,
   "metadata": {},
   "outputs": [
    {
     "ename": "TypeError",
     "evalue": "__init__() missing 1 required positional argument: 'weathers'",
     "output_type": "error",
     "traceback": [
      "\u001b[0;31m---------------------------------------------------------------------------\u001b[0m",
      "\u001b[0;31mTypeError\u001b[0m                                 Traceback (most recent call last)",
      "\u001b[0;32m<ipython-input-32-634bc77afefc>\u001b[0m in \u001b[0;36m<module>\u001b[0;34m\u001b[0m\n\u001b[0;32m----> 1\u001b[0;31m \u001b[0mget_forecast_by_zip\u001b[0m\u001b[0;34m(\u001b[0m\u001b[0mcodes\u001b[0m\u001b[0;34m)\u001b[0m\u001b[0;34m\u001b[0m\u001b[0;34m\u001b[0m\u001b[0m\n\u001b[0m",
      "\u001b[0;32m<ipython-input-12-638622ae4015>\u001b[0m in \u001b[0;36mget_forecast_by_zip\u001b[0;34m(codes)\u001b[0m\n\u001b[1;32m     11\u001b[0m     \u001b[0;32mfor\u001b[0m \u001b[0mcode\u001b[0m \u001b[0;32min\u001b[0m \u001b[0mcodes\u001b[0m\u001b[0;34m:\u001b[0m\u001b[0;34m\u001b[0m\u001b[0;34m\u001b[0m\u001b[0m\n\u001b[1;32m     12\u001b[0m         \u001b[0mreception_time\u001b[0m \u001b[0;34m=\u001b[0m \u001b[0mobs\u001b[0m\u001b[0;34m.\u001b[0m\u001b[0mget_reception_time\u001b[0m\u001b[0;34m(\u001b[0m\u001b[0;34m)\u001b[0m\u001b[0;34m\u001b[0m\u001b[0;34m\u001b[0m\u001b[0m\n\u001b[0;32m---> 13\u001b[0;31m         \u001b[0mforecast\u001b[0m \u001b[0;34m=\u001b[0m \u001b[0mForecast\u001b[0m\u001b[0;34m(\u001b[0m\u001b[0;34m'3h'\u001b[0m\u001b[0;34m,\u001b[0m \u001b[0mreception_time\u001b[0m\u001b[0;34m,\u001b[0m \u001b[0mlocation\u001b[0m\u001b[0;34m)\u001b[0m\u001b[0;34m\u001b[0m\u001b[0;34m\u001b[0m\u001b[0m\n\u001b[0m\u001b[1;32m     14\u001b[0m         \u001b[0mprint\u001b[0m\u001b[0;34m(\u001b[0m\u001b[0mforecast\u001b[0m\u001b[0;34m)\u001b[0m\u001b[0;34m\u001b[0m\u001b[0;34m\u001b[0m\u001b[0m\n",
      "\u001b[0;31mTypeError\u001b[0m: __init__() missing 1 required positional argument: 'weathers'"
     ]
    }
   ],
   "source": []
  },
  {
   "cell_type": "code",
   "execution_count": 13,
   "metadata": {},
   "outputs": [],
   "source": []
  },
  {
   "cell_type": "code",
   "execution_count": 16,
   "metadata": {},
   "outputs": [
    {
     "data": {
      "text/plain": [
       "90"
      ]
     },
     "execution_count": 16,
     "metadata": {},
     "output_type": "execute_result"
    }
   ],
   "source": []
  },
  {
   "cell_type": "code",
   "execution_count": 17,
   "metadata": {},
   "outputs": [
    {
     "data": {
      "text/plain": [
       "71"
      ]
     },
     "execution_count": 17,
     "metadata": {},
     "output_type": "execute_result"
    }
   ],
   "source": []
  },
  {
   "cell_type": "code",
   "execution_count": null,
   "metadata": {},
   "outputs": [],
   "source": []
  }
 ],
 "metadata": {
  "kernelspec": {
   "display_name": "Python 3",
   "language": "python",
   "name": "python3"
  },
  "language_info": {
   "codemirror_mode": {
    "name": "ipython",
    "version": 3
   },
   "file_extension": ".py",
   "mimetype": "text/x-python",
   "name": "python",
   "nbconvert_exporter": "python",
   "pygments_lexer": "ipython3",
   "version": "3.8.0"
  }
 },
 "nbformat": 4,
 "nbformat_minor": 2
}
