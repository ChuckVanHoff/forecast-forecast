{
 "cells": [
  {
   "cell_type": "code",
   "execution_count": 21,
   "metadata": {},
   "outputs": [],
   "source": [
    "from pyowm import OWM\n",
    "from pyowm.weatherapi25.forecast import Forecast\n",
    "from pyowm.exceptions.api_response_error import NotFoundError\n",
    "from config import OWM_API_key as key, connection_port, mongodb_host\n",
    "from pprint import pprint\n",
    "from pymongo import MongoClient\n",
    "from pymongo.errors import ConnectionFailure, InvalidDocument, DuplicateKeyError\n",
    "import json\n",
    "import os\n",
    "from os import path\n",
    "\n",
    "\n",
    "API_key = key\n",
    "host = mongodb_host\n",
    "port = connection_port\n",
    "filename = 'resources/zip_list.csv'\n",
    "global zipcode\n",
    "owm = OWM(API_key) # the OWM object\n",
    "global obs\n",
    "global reception_time\n",
    "global zid\n",
    "global zlon\n",
    "global zlat\n",
    "global client"
   ]
  },
  {
   "cell_type": "code",
   "execution_count": null,
   "metadata": {},
   "outputs": [],
   "source": []
  },
  {
   "cell_type": "code",
   "execution_count": null,
   "metadata": {},
   "outputs": [],
   "source": []
  },
  {
   "cell_type": "code",
   "execution_count": 22,
   "metadata": {},
   "outputs": [],
   "source": [
    "def make_zip_list(state):\n",
    "    ''' Make a list of zip codes in the specified state.\n",
    "        Read zip codes from downloadable zip codes csv file available at https://www.unitedstateszipcodes.org/\n",
    "        \n",
    "        :param state: the two-letter abreviation of the state whose zip codes you'd like listed\n",
    "        :type state: string\n",
    "        \n",
    "        :returns success_zips: list of zip codes that OWM has records for\n",
    "        :type success_zips: list\n",
    "    '''\n",
    "    import pandas as pd\n",
    "    from pyowm.exceptions.api_response_error import NotFoundError\n",
    "    \n",
    "    successes = 0\n",
    "    exceptions = 0\n",
    "    success_zips = []\n",
    "    fail_zips = []\n",
    "    \n",
    "    df = pd.read_csv(\"resources/zip_code_database.csv\")\n",
    "    # Make a datafram from the rows with the specified state and write the 'zip' column to a list \n",
    "    zip_list = df.loc[lambda df: df['state'] == f'{state.upper()}']['zip'].tolist()\n",
    "#     zip_list = df['zip'].tolist()\n",
    "    for zipp in zip_list:\n",
    "        if int(zipp) > 10000:\n",
    "            try:\n",
    "                print('try setting location for ', zipp)\n",
    "                set_location(zipp)\n",
    "                print(f'successfully set location for {zipp}', len(success_zips))\n",
    "                success_zips.append(zipp)\n",
    "                successes+=1\n",
    "            except NotFoundError:\n",
    "                print(\"except\", f'NotFoundError with zipcode {zipp}')\n",
    "                fail_zips.append(zipp)\n",
    "                exceptions+=1\n",
    "                pass\n",
    "    write_list_to_file(success_zips, 'resources/success_zips.csv')\n",
    "    write_list_to_file(fail_zips, 'resources/fail_zips.csv')\n",
    "    print(f'successes = {successes}; exceptions = {exceptions}, all written to files')\n",
    "    return(success_zips)\n",
    "\n",
    "def write_list_to_file(zip_list, filename):\n",
    "    \"\"\" Write the zip codes to csv file.\n",
    "        \n",
    "        :param zip_list: the list created from the zip codes dataframe\n",
    "        :type zip_list: list stings\n",
    "        :param filename: the name of the file\n",
    "        :type filename: sting\n",
    "    \"\"\"\n",
    "    with open(filename, \"w\") as z_list:\n",
    "        z_list.write(\",\".join(str(z) for z in zip_list))\n",
    "    return\n",
    "        \n",
    "def read_list_from_file(filename):\n",
    "    \"\"\" Read the zip codes list from the csv file.\n",
    "        \n",
    "        :param filename: the name of the file\n",
    "        :type filename: sting\n",
    "    \"\"\"\n",
    "    with open(filename, \"r\") as z_list:\n",
    "        return z_list.read().strip().split(',')\n",
    "\n",
    "\n",
    "def set_location(code):\n",
    "    ''' Get the latitude and longitude corrosponding to the zip code.\n",
    "        \n",
    "        :param code: the zip code to find weather data about\n",
    "        :type code: string\n",
    "    '''\n",
    "    global obs, zlat, zlon\n",
    "    obs = owm.weather_at_zip_code(f'{code}', 'us')\n",
    "    location = obs.get_location()\n",
    "    zlon = location.get_lon()\n",
    "    zlat = location.get_lat()\n",
    "    return\n",
    "\n",
    "\n",
    "def current():\n",
    "    ''' Dump the current weather to a json\n",
    "\n",
    "        :return current: the currently observed weather data\n",
    "        :type current: dict\n",
    "    '''\n",
    "    global obs\n",
    "    current = json.loads(obs.to_JSON()) # dump all that weather data to a json object\n",
    "    return(current)\n",
    "\n",
    "\n",
    "def five_day():\n",
    "    ''' Get each weather forecast for the corrosponding zip code. \n",
    "    \n",
    "        :return five_day: the five day, every three hours, forecast for the zip code\n",
    "        :type five_day: dict\n",
    "    '''\n",
    "    global obs, zlat, zlon\n",
    "    forecaster = owm.three_hours_forecast_at_coords(zlat, zlon)\n",
    "    forecast = forecaster.get_forecast()\n",
    "    return(json.loads(forecast.to_JSON()))\n",
    "\n",
    "\n",
    "def get_weather(codes):\n",
    "    ''' Get the weather from the API and load it to the database. \n",
    "    \n",
    "    :param codes: list of zip codes\n",
    "    :type codes: list of strings\n",
    "    '''\n",
    "    client = check_db_access(host, port)\n",
    "    for code in codes:\n",
    "        data = {}\n",
    "        set_location(code)\n",
    "        data.update({'zipcode': code,\n",
    "                     'current': current(),\n",
    "                     'five_day': five_day(),\n",
    "                    })\n",
    "        load(data, client)\n",
    "    client.close()\n",
    "    print('client closed')\n",
    "    return\n",
    "\n",
    "\n",
    "def check_db_access(host, port):\n",
    "    ''' A check that there is write access to the database\n",
    "    \n",
    "        :param host: the database host\n",
    "        :type host: string\n",
    "        :param port: the database connection port\n",
    "        :type port: int\n",
    "    '''\n",
    "    client = MongoClient(host=host, port=port)\n",
    "    try:\n",
    "        # The ismaster command is cheap and does not require auth.\n",
    "        client.admin.command('ismaster')\n",
    "        print('client open')\n",
    "    except ConnectionFailure:\n",
    "        print(\"Server not available\")\n",
    "        return\n",
    "\n",
    "    # check the database connections\n",
    "        # Get a count of the number of databases at the connection (accessible through that port)\n",
    "        # before attempting to add to it\n",
    "    db_count_pre = len(client.list_database_names())\n",
    "        # Add a database and collection\n",
    "    db = client.test_db\n",
    "    col = db.test_col\n",
    "\n",
    "    # Insert something to the db\n",
    "    post = {'name':'Chuck VanHoff',\n",
    "           'age':'38',\n",
    "           'hobby':'gardening'\n",
    "           }\n",
    "    col.insert_one(post)\n",
    "\n",
    "        # Get a count of the databases after adding one\n",
    "    db_count_post = len(client.list_database_names())\n",
    "\n",
    "    if db_count_pre-db_count_post>=0:\n",
    "        print('Your conneciton is flipped up')\n",
    "    else:\n",
    "        print('You have write access')\n",
    "\n",
    "    client.drop_database(db)\n",
    "    return(client)\n",
    "\n",
    "\n",
    "def to_json(data, code):\n",
    "    ''' Store the collected data as a json file in the case that the database\n",
    "        is not connected or otherwise unavailable.\n",
    "        \n",
    "        :param data: the dictionary created from the api calls\n",
    "        :type data: dict\n",
    "        :param code: the zip code associated with the data from the list codes\n",
    "        :type code: sting\n",
    "    '''\n",
    "    collection = data\n",
    "    directory = os.getcwd()\n",
    "    save_path = path.join(directory, 'Data', f'{code}.json')\n",
    "    Data = open(save_path, 'a+')\n",
    "    Data.write(collection)\n",
    "    Data.close()\n",
    "    return\n",
    "\n",
    "\n",
    "def load(data, client):\n",
    "    ''' Load the data to the database if possible, otherwise write to json file. \n",
    "        \n",
    "        :param data: the dictionary created from the api calls\n",
    "        :type data: dict\n",
    "        :param client: the pymongo client object\n",
    "        :type client: MongoClient\n",
    "    '''\n",
    "    if type(data) == dict:\n",
    "        try:\n",
    "            db = client.forcast\n",
    "            col = db.code\n",
    "            col.insert_one(data)\n",
    "            print(f'inserted data for {data[\"zipcode\"]}')\n",
    "        except DuplicateKeyError:\n",
    "            client.close()\n",
    "            print('closed db connection')\n",
    "            to_json(data, code)\n",
    "            print('Wrote to json')\n",
    "    else:\n",
    "        print('data type is not dict')\n",
    "        client.close()\n",
    "        print('closed db connection')\n",
    "    return"
   ]
  },
  {
   "cell_type": "code",
   "execution_count": 3,
   "metadata": {},
   "outputs": [
    {
     "data": {
      "text/plain": [
       "'localhost'"
      ]
     },
     "execution_count": 3,
     "metadata": {},
     "output_type": "execute_result"
    }
   ],
   "source": [
    "# make_zip_list('nc')\n",
    "host"
   ]
  },
  {
   "cell_type": "code",
   "execution_count": 4,
   "metadata": {},
   "outputs": [],
   "source": [
    "filename = 'resources/success_zips.csv'\n",
    "codes = read_list_from_file(filename)"
   ]
  },
  {
   "cell_type": "code",
   "execution_count": 10,
   "metadata": {},
   "outputs": [],
   "source": [
    "# get_weather(codes)"
   ]
  },
  {
   "cell_type": "code",
   "execution_count": 8,
   "metadata": {},
   "outputs": [],
   "source": [
    "code = '27606'\n",
    "\n",
    "def set_location(code):\n",
    "    ''' Get the latitude and longitude corrosponding to the zip code.\n",
    "        \n",
    "        :param code: the zip code to find weather data about\n",
    "        :type code: string\n",
    "    '''\n",
    "    global obs, zlat, zlon\n",
    "    obs = owm.weather_at_zip_code(f'{code}', 'us')\n",
    "    location = obs.get_location()\n",
    "    zlon = location.get_lon()\n",
    "    zlat = location.get_lat()\n",
    "    return"
   ]
  },
  {
   "cell_type": "code",
   "execution_count": 49,
   "metadata": {},
   "outputs": [],
   "source": [
    "def current():\n",
    "    ''' Dump the current weather to a json\n",
    "\n",
    "        :return current: the currently observed weather data\n",
    "        :type current: dict\n",
    "    '''\n",
    "    global obs\n",
    "    current = json.loads(obs.to_JSON()) # dump all that weather data to a json object\n",
    "    return(current)\n"
   ]
  },
  {
   "cell_type": "code",
   "execution_count": 50,
   "metadata": {},
   "outputs": [
    {
     "data": {
      "text/plain": [
       "{'reception_time': 1577667812,\n",
       " 'Location': {'name': 'Raleigh',\n",
       "  'coordinates': {'lon': -78.71, 'lat': 35.76},\n",
       "  'ID': 0,\n",
       "  'country': 'US'},\n",
       " 'Weather': {'reference_time': 1577667715,\n",
       "  'sunset_time': 1577657357,\n",
       "  'sunrise_time': 1577622241,\n",
       "  'clouds': 90,\n",
       "  'rain': {'1h': 0.64},\n",
       "  'snow': {},\n",
       "  'wind': {'speed': 2.6, 'deg': 180},\n",
       "  'humidity': 100,\n",
       "  'pressure': {'press': 1014, 'sea_level': None},\n",
       "  'temperature': {'temp': 291.52,\n",
       "   'temp_kf': None,\n",
       "   'temp_max': 293.15,\n",
       "   'temp_min': 290.15},\n",
       "  'status': 'Rain',\n",
       "  'detailed_status': 'light rain',\n",
       "  'weather_code': 500,\n",
       "  'weather_icon_name': '10n',\n",
       "  'visibility_distance': 16093,\n",
       "  'dewpoint': None,\n",
       "  'humidex': None,\n",
       "  'heat_index': None}}"
      ]
     },
     "execution_count": 50,
     "metadata": {},
     "output_type": "execute_result"
    }
   ],
   "source": [
    "# set_location(code)\n",
    "# # data = current()\n",
    "# import json\n",
    "# print(type(data))\n",
    "# data_json = json.loads(data)\n",
    "# data_json\n",
    "# json.loads(data)\n",
    "# json.loads(obs.to_JSON())\n",
    "current()"
   ]
  },
  {
   "cell_type": "code",
   "execution_count": 17,
   "metadata": {},
   "outputs": [
    {
     "name": "stdout",
     "output_type": "stream",
     "text": [
      "client open\n",
      "You have write access\n"
     ]
    }
   ],
   "source": [
    "client = check_db_access(host, port)\n",
    "\n",
    "def load(data, client):\n",
    "    ''' Load the data to the database if possible, otherwise write to json file. \n",
    "        \n",
    "        :param data: the dictionary created from the api calls\n",
    "        :type data: dict\n",
    "        :param client: the pymongo client object\n",
    "        :type client: MongoClient\n",
    "    '''\n",
    "#     if type(data) == dict:\n",
    "    try:\n",
    "        db = client.forcast\n",
    "        col = db.code\n",
    "        col.insert_one(data)\n",
    "        print(f'inserted data for {data[\"zipcode\"]}')\n",
    "    except DuplicateKeyError:\n",
    "        client.close()\n",
    "        print('closed db connection')\n",
    "        to_json(data, code)\n",
    "        print('Wrote to json')\n",
    "#     else:\n",
    "#         print('data type is not dict')\n",
    "#         client.close()\n",
    "#         print('closed db connection')\n",
    "    return"
   ]
  },
  {
   "cell_type": "code",
   "execution_count": 15,
   "metadata": {},
   "outputs": [
    {
     "name": "stdout",
     "output_type": "stream",
     "text": [
      "data type is not dict\n",
      "closed db connection\n"
     ]
    }
   ],
   "source": [
    "load(data, client)"
   ]
  },
  {
   "cell_type": "code",
   "execution_count": 47,
   "metadata": {},
   "outputs": [],
   "source": [
    "def five_day():\n",
    "    ''' Get each weather forecast for the corrosponding zip code. \n",
    "    \n",
    "        :return five_day: the five day, every three hours, forecast for the zip code\\\n",
    "        :type five_day: dict\n",
    "    '''\n",
    "    global obs, zlat, zlon\n",
    "    forecaster = owm.three_hours_forecast_at_coords(zlat, zlon)\n",
    "    forecast = forecaster.get_forecast()\n",
    "    five_day = forecast.to_JSON()\n",
    "    return(five_day)"
   ]
  },
  {
   "cell_type": "code",
   "execution_count": 67,
   "metadata": {},
   "outputs": [],
   "source": [
    "def five_day():\n",
    "    ''' Get each weather forecast for the corrosponding zip code. \n",
    "    \n",
    "        :return five_day: the five day, every three hours, forecast for the zip code\\\n",
    "        :type five_day: dict\n",
    "    '''\n",
    "    global obs, zlat, zlon\n",
    "    forecaster = owm.three_hours_forecast_at_coords(zlat, zlon)\n",
    "    forecast = forecaster.get_forecast()\n",
    "    return(json.loads(forecast.to_JSON()))\n",
    "#     five_day = forecast.to_JSON()\n",
    "#     return(json.loads(forecast))"
   ]
  },
  {
   "cell_type": "code",
   "execution_count": 68,
   "metadata": {},
   "outputs": [],
   "source": [
    "forecast = five_day()"
   ]
  },
  {
   "cell_type": "code",
   "execution_count": 70,
   "metadata": {},
   "outputs": [
    {
     "data": {
      "text/plain": [
       "dict"
      ]
     },
     "execution_count": 70,
     "metadata": {},
     "output_type": "execute_result"
    }
   ],
   "source": [
    "type(forecast)"
   ]
  },
  {
   "cell_type": "code",
   "execution_count": null,
   "metadata": {},
   "outputs": [],
   "source": []
  }
 ],
 "metadata": {
  "kernelspec": {
   "display_name": "Python 3",
   "language": "python",
   "name": "python3"
  },
  "language_info": {
   "codemirror_mode": {
    "name": "ipython",
    "version": 3
   },
   "file_extension": ".py",
   "mimetype": "text/x-python",
   "name": "python",
   "nbconvert_exporter": "python",
   "pygments_lexer": "ipython3",
   "version": "3.8.0"
  }
 },
 "nbformat": 4,
 "nbformat_minor": 2
}
