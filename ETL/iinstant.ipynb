{
 "cells": [
  {
   "cell_type": "code",
   "execution_count": 1,
   "metadata": {},
   "outputs": [],
   "source": [
    "''' define the instant class and some useful scripts related to them '''\n",
    "\n",
    "class instant:\n",
    "\n",
    "    def __init__(instant=int, zipcode=str, coordinates=dict, forecasts=list, observation=dict):\n",
    "        {'instant': instant,\n",
    "        'zipcode': zipcode,\n",
    "         'coordinates': coordinates,\n",
    "        'forecasts': forecasts,\n",
    "        'observation': observation\n",
    "        }\n",
    "\n",
    "\n",
    "def itslegit(instant):\n",
    "    ''' check the instant's weathers array for count. if it is 40, then the document is returned\n",
    "\n",
    "    :param instant: the instant docuemnt to be legitimized\n",
    "    :type instant: dictionary\n",
    "    '''\n",
    "\n",
    "    if len(instant['forecasts']) == 2:\n",
    "        return True\n",
    "    else:\n",
    "        return False\n",
    "\n",
    "def find_legit(collection):\n",
    "    ''' find the 'legit' instants within the collection specified\n",
    "\n",
    "    :param collection: database collection\n",
    "    :type collection: pymongo.collection.Collection\n",
    "    :return: list of documents\n",
    "    '''\n",
    "\n",
    "    return [item for item in collection.find({}) if itslegit(item)]\n",
    "\n",
    "def load_legit(collection):\n",
    "    ''' load the 'legit' instants to the remote database \n",
    "\n",
    "    :param collection: the collection you want to pull instants from\n",
    "    :type collection: pymongo.collection.Collection\n",
    "    '''\n",
    "    from db_ops import Client, dbncol\n",
    "    from config import uri, host, port\n",
    "\n",
    "    legit_list = getlegit(collection)\n",
    "    client = Client(host, port)\n",
    "    col = dbncol(client, 'legit_inst', 'owmap')\n",
    "    col.insert_many(legit_list)\n",
    "\n",
    "def test_load_legit(collection):\n",
    "    ''' load the 'legit' instants to the remote database \n",
    "\n",
    "    :param collection: the collection you want to pull instants from\n",
    "    :type collection: pymongo.collection.Collection\n",
    "    '''\n",
    "    from db_ops import Client, dbncol\n",
    "    from config import host, port\n",
    "\n",
    "    legit_list = getlegit(collection)\n",
    "    client = Client(uri)\n",
    "    col = dbncol(client, 'legit_inst', 'owmap')\n",
    "    col.insert_many(legit_list)\n",
    "    "
   ]
  },
  {
   "cell_type": "code",
   "execution_count": 2,
   "metadata": {},
   "outputs": [],
   "source": [
    "import db_ops\n",
    "from config import host, port\n",
    "client = db_ops.Client(host=host, port=port)"
   ]
  },
  {
   "cell_type": "code",
   "execution_count": 3,
   "metadata": {},
   "outputs": [],
   "source": [
    "collection = 'instant_temp'\n",
    "database = 'owmap'\n",
    "col = db_ops.dbncol(client, collection, database)"
   ]
  },
  {
   "cell_type": "code",
   "execution_count": 4,
   "metadata": {},
   "outputs": [
    {
     "name": "stdout",
     "output_type": "stream",
     "text": [
      "45360\n"
     ]
    }
   ],
   "source": [
    "inst_col = col.count_documents({})\n",
    "print(inst_col)"
   ]
  },
  {
   "cell_type": "code",
   "execution_count": 5,
   "metadata": {},
   "outputs": [
    {
     "name": "stdout",
     "output_type": "stream",
     "text": [
      "{'_id': ObjectId('5ea0cf0d3da8fd63d6b1a755'), 'instant': 1587600000, 'zipcode': '27006', 'forecasts': [{'sunset_time': 0, 'sunrise_time': 0, 'clouds': 0, 'rain': {}, 'snow': {}, 'wind': {'speed': 3.08, 'deg': 190}, 'humidity': 61, 'pressure': {'press': 1017, 'sea_level': 1017}, 'temperature': {'temp': 286.73, 'temp_kf': -0.02, 'temp_max': 286.75, 'temp_min': 286.73}, 'status': 'Clear', 'detailed_status': 'clear sky', 'weather_code': 800, 'weather_icon_name': '01d', 'visibility_distance': None, 'dewpoint': None, 'humidex': None, 'heat_index': None, 'time_to_instant': 2952}, {'sunset_time': 0, 'sunrise_time': 0, 'clouds': 0, 'rain': {}, 'snow': {}, 'wind': {'speed': 3.08, 'deg': 190}, 'humidity': 61, 'pressure': {'press': 1017, 'sea_level': 1017}, 'temperature': {'temp': 286.73, 'temp_kf': -0.02, 'temp_max': 286.75, 'temp_min': 286.73}, 'status': 'Clear', 'detailed_status': 'clear sky', 'weather_code': 800, 'weather_icon_name': '01d', 'visibility_distance': None, 'dewpoint': None, 'humidex': None, 'heat_index': None, 'time_to_instant': 2558}, {'sunset_time': 0, 'sunrise_time': 0, 'clouds': 0, 'rain': {}, 'snow': {}, 'wind': {'speed': 3.08, 'deg': 190}, 'humidity': 62, 'pressure': {'press': 1017, 'sea_level': 1017}, 'temperature': {'temp': 286.47, 'temp_kf': -0.28, 'temp_max': 286.75, 'temp_min': 286.47}, 'status': 'Clear', 'detailed_status': 'clear sky', 'weather_code': 800, 'weather_icon_name': '01d', 'visibility_distance': None, 'dewpoint': None, 'humidex': None, 'heat_index': None, 'time_to_instant': 2337}], 'weather': {'sunset_time': 1587600068, 'sunrise_time': 1587551933, 'clouds': 1, 'rain': {}, 'snow': {}, 'wind': {'speed': 3.1, 'deg': 200}, 'humidity': 32, 'pressure': {'press': 1016, 'sea_level': None}, 'temperature': {'temp': 291.91, 'temp_kf': None, 'temp_max': 292.59, 'temp_min': 290.93}, 'status': 'Clear', 'detailed_status': 'clear sky', 'weather_code': 800, 'weather_icon_name': '01d', 'visibility_distance': 16093, 'dewpoint': None, 'humidex': None, 'heat_index': None, 'time_to_instant': 2338}}\n"
     ]
    }
   ],
   "source": [
    "instant = col.find({})[0]\n",
    "print(instant)\n",
    "# import Extract as e"
   ]
  },
  {
   "cell_type": "code",
   "execution_count": 6,
   "metadata": {},
   "outputs": [
    {
     "data": {
      "text/plain": [
       "False"
      ]
     },
     "execution_count": 6,
     "metadata": {},
     "output_type": "execute_result"
    }
   ],
   "source": [
    "itslegit(instant)"
   ]
  },
  {
   "cell_type": "code",
   "execution_count": 7,
   "metadata": {},
   "outputs": [],
   "source": [
    "legit_list = find_legit(col)"
   ]
  },
  {
   "cell_type": "code",
   "execution_count": 8,
   "metadata": {},
   "outputs": [
    {
     "data": {
      "text/plain": [
       "36784"
      ]
     },
     "execution_count": 8,
     "metadata": {},
     "output_type": "execute_result"
    }
   ],
   "source": [
    "len(legit_list)"
   ]
  },
  {
   "cell_type": "code",
   "execution_count": 9,
   "metadata": {},
   "outputs": [],
   "source": [
    "def legit_count(col):\n",
    "    for i in range(40):\n",
    "        # change the definition to capture each different value for the forecasts array length\n",
    "        def itslegit(instant):\n",
    "            ''' check the instant's weathers array for count. if it is 40, then the document is returned\n",
    "\n",
    "            :param instant: the instant docuemnt to be legitimized\n",
    "            :type instant: dictionary\n",
    "            '''\n",
    "\n",
    "            if len(instant['forecasts']) == i:\n",
    "                return True\n",
    "            else:\n",
    "                return False\n",
    "        print(f'the are {len(find_legit(col))} documents with {i} entries.')\n"
   ]
  },
  {
   "cell_type": "code",
   "execution_count": null,
   "metadata": {},
   "outputs": [
    {
     "name": "stdout",
     "output_type": "stream",
     "text": [
      "the are 36784 documents with 0 entries.\n",
      "the are 36784 documents with 1 entries.\n",
      "the are 36784 documents with 2 entries.\n",
      "the are 36784 documents with 3 entries.\n",
      "the are 36784 documents with 4 entries.\n",
      "the are 36784 documents with 5 entries.\n",
      "the are 36784 documents with 6 entries.\n",
      "the are 36784 documents with 7 entries.\n",
      "the are 36784 documents with 8 entries.\n",
      "the are 36784 documents with 9 entries.\n"
     ]
    }
   ],
   "source": [
    "legit_count(col)"
   ]
  },
  {
   "cell_type": "code",
   "execution_count": null,
   "metadata": {},
   "outputs": [],
   "source": []
  }
 ],
 "metadata": {
  "kernelspec": {
   "display_name": "Python 3.7.6 64-bit",
   "language": "python",
   "name": "python37664bita50c52ad7e3f49d8a8445f491aa58e70"
  },
  "language_info": {
   "codemirror_mode": {
    "name": "ipython",
    "version": 3
   },
   "file_extension": ".py",
   "mimetype": "text/x-python",
   "name": "python",
   "nbconvert_exporter": "python",
   "pygments_lexer": "ipython3",
   "version": "3.8.1"
  }
 },
 "nbformat": 4,
 "nbformat_minor": 4
}
