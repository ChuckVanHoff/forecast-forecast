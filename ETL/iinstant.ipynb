{
 "cells": [
  {
   "cell_type": "code",
   "execution_count": 1,
   "metadata": {},
   "outputs": [],
   "source": [
    "''' define the instant class and some useful scripts related to them '''\n",
    "\n",
    "class instant:\n",
    "\n",
    "    def __init__(instant=int, zipcode=str, coordinates=dict, forecasts=list, observation=dict):\n",
    "        {'instant': instant,\n",
    "        'zipcode': zipcode,\n",
    "         'coordinates': coordinates,\n",
    "        'forecasts': forecasts,\n",
    "        'observation': observation\n",
    "        }\n",
    "    \n",
    "    def count(instant):\n",
    "        ''' Count the number of elemnets in the forecasts array '''\n",
    "        \n",
    "        return len(instant['forecats'])\n",
    "        \n",
    "\n",
    "def count(instant):\n",
    "    ''' Count the number of elemnets in the forecasts array '''\n",
    "\n",
    "    return len(instant['forecasts'])\n",
    "\n",
    "def cast_count_all(col):\n",
    "    ''' get a tally for the forecast counts per document \n",
    "    \n",
    "    :param col: the collection you want to evaluate\n",
    "    :type col: pymongo.collection.Collection\n",
    "    '''\n",
    "    print('getting started with cast_count_all')\n",
    "    n = 0\n",
    "    collection_cast_counts = {}\n",
    "    # Go through each doc in the collection and count the number of items in the forecasts array.\n",
    "    # Add to the tally for that count.\n",
    "    for doc in col.find({}):\n",
    "        n = count(doc)\n",
    "        if n in collection_cast_counts:\n",
    "            collection_cast_counts[n] += 1\n",
    "        else:\n",
    "            collection_cast_counts[n] = 1\n",
    "    return collection_cast_counts\n",
    "\n",
    "def itslegit(instant):\n",
    "    ''' check the instant's weathers array for count. if it is 40, then the document is returned\n",
    "\n",
    "    :param instant: the instant docuemnt to be legitimized\n",
    "    :type instant: dictionary\n",
    "    '''\n",
    "\n",
    "    if count(instant) == 40:\n",
    "        return True\n",
    "    else:\n",
    "        return False\n",
    "\n",
    "def find_legit(collection):\n",
    "    ''' find the 'legit' instants within the collection specified\n",
    "\n",
    "    :param collection: database collection\n",
    "    :type collection: pymongo.collection.Collection\n",
    "    :return: list of documents\n",
    "    '''\n",
    "\n",
    "    return [item for item in collection.find({}) if itslegit(item)]\n",
    "\n",
    "def load_legit(collection):\n",
    "    ''' load the 'legit' instants to the remote database \n",
    "\n",
    "    :param collection: the collection you want to pull instants from\n",
    "    :type collection: pymongo.collection.Collection\n",
    "    '''\n",
    "    from db_ops import Client, dbncol\n",
    "    from config import uri, host, port\n",
    "\n",
    "    legit_list = getlegit(collection)\n",
    "    client = Client(host, port)\n",
    "    col = dbncol(client, 'legit_inst', 'owmap')\n",
    "    col.insert_many(legit_list)\n",
    "    return\n",
    "\n",
    "def test_load_legit(collection):\n",
    "    ''' load the 'legit' instants to the remote database \n",
    "\n",
    "    :param collection: the collection you want to pull instants from\n",
    "    :type collection: pymongo.collection.Collection\n",
    "    '''\n",
    "    from db_ops import Client, dbncol\n",
    "    from config import host, port\n",
    "    host = 'localhost'\n",
    "    port = 27017\n",
    "    legit_list = getlegit(collection)\n",
    "    client = Client(host, port)\n",
    "    col = dbncol(client, 'legit_inst', 'test')\n",
    "    col.insert_many(legit_list)\n",
    "    return"
   ]
  },
  {
   "cell_type": "code",
   "execution_count": 2,
   "metadata": {},
   "outputs": [],
   "source": [
    "from pymongo import MongoClient\n",
    "import db_ops\n",
    "# from Extract.config import host, port\n",
    "client = db_ops.Client(host=db_ops.host, port=db_ops.port)\n",
    "collection = 'instant_temp'\n",
    "database = 'owmap'\n",
    "col = db_ops.dbncol(client, collection, database)"
   ]
  },
  {
   "cell_type": "code",
   "execution_count": 3,
   "metadata": {},
   "outputs": [
    {
     "data": {
      "text/plain": [
       "['_id', 'instant', 'zipcode', 'forecasts', 'weather']"
      ]
     },
     "execution_count": 3,
     "metadata": {},
     "output_type": "execute_result"
    }
   ],
   "source": [
    "def key_list(d=dict):\n",
    "    ''' Write the dict keys to a list and return that list \n",
    "    \n",
    "    :param d: A python dictionary\n",
    "    :return: A list fo the keys from the python dictionary\n",
    "    '''\n",
    "    \n",
    "    keys = d.keys()\n",
    "    key_list = []\n",
    "    for k in keys:\n",
    "        key_list.append(k)\n",
    "    return key_list\n",
    "\n",
    "\n",
    "key = col.find_one({})\n",
    "key_list(key)"
   ]
  },
  {
   "cell_type": "code",
   "execution_count": 23,
   "metadata": {},
   "outputs": [
    {
     "name": "stdout",
     "output_type": "stream",
     "text": [
      "['_id.', 'instant.', 'zipcode.', 'forecasts.', 'weather', 'sunset_time.', 'sunrise_time.', 'clouds.', 'rain', 'snow', 'wind', 'speed.', 'deg.', 'humidity.wind', 'pressure', 'press.', 'sea_level.', 'temperature', 'temp.', 'temp_kf.', 'temp_max.', 'temp_min.', 'status.temperature', 'detailed_status.temperature', 'weather_code.temperature', 'weather_icon_name.temperature', 'visibility_distance.temperature', 'dewpoint.temperature', 'humidex.temperature', 'heat_index.temperature', 'time_to_instant.temperature']\n"
     ]
    }
   ],
   "source": [
    "def key_list(d=dict):\n",
    "    ''' Write the dict keys to a list and return that list \n",
    "    \n",
    "    :param d: A python dictionary\n",
    "    :return: A list fo the keys from the python dictionary\n",
    "    '''\n",
    "    \n",
    "    keys = d.keys()\n",
    "    key_list = []\n",
    "    for k in keys:\n",
    "        key_list.append(k)\n",
    "    return key_list\n",
    "\n",
    "\n",
    "def all_keys(d):\n",
    "    ''' Get all the dicitonary and nested \"dot format\" nested dictionary keys\n",
    "    from a dict, add them to a list, return the list.\n",
    "    \n",
    "    :param d: A python dictionary\n",
    "    :return: A list of every key in the dictionary\n",
    "    '''\n",
    "    \n",
    "    top_keys = d.keys()\n",
    "    i = 0  # use this as a reference to top_key values\n",
    "    for key, value in d.items():\n",
    "        n_key = key  # Hold on to this key as you will use it in naming any nested keys\n",
    "#         for k, v in d.items():\n",
    "#         print('loop')\n",
    "        if isinstance(d[key], dict):\n",
    "            keys.append(n_key)\n",
    "            t_key = str(n_key)\n",
    "                # print(f'jumped into {v}')\n",
    "#             n_key = t_key+str(d[key].key())\n",
    "            all_keys(d[key])\n",
    "        else:\n",
    "            keys.append(str(t_key) + f'.{str(n_key)}')\n",
    "    return keys\n",
    "\n",
    "d = col.find({})[1]\n",
    "# print(d)\n",
    "keys = []\n",
    "t_key = ''  # Represent relative top dict keys\n",
    "all_keys(d)\n",
    "print(keys)"
   ]
  },
  {
   "cell_type": "code",
   "execution_count": 8,
   "metadata": {},
   "outputs": [
    {
     "data": {
      "text/plain": [
       "dict_items([('_id', ObjectId('5e9bb25c42f97b1723883d7c')), ('instant', 1587265200), ('zipcode', '27006'), ('forecasts', [{'sunset_time': 0, 'sunrise_time': 0, 'clouds': 0, 'rain': {}, 'snow': {}, 'wind': {'speed': 1.7, 'deg': 39}, 'humidity': 55, 'pressure': {'press': 1019, 'sea_level': 1019}, 'temperature': {'temp': 280.13, 'temp_kf': -0.47, 'temp_max': 280.6, 'temp_min': 280.13}, 'status': 'Clear', 'detailed_status': 'clear sky', 'weather_code': 800, 'weather_icon_name': '01n', 'visibility_distance': None, 'dewpoint': None, 'humidex': None, 'heat_index': None, 'time_to_instant': 3178}]), ('weather', {'sunset_time': 1587254263, 'sunrise_time': 1587206633, 'clouds': 0, 'rain': {}, 'snow': {}, 'wind': {'speed': 0.45, 'deg': 40, 'gust': 1.34}, 'humidity': 48, 'pressure': {'press': 1014, 'sea_level': None}, 'temperature': {'temp': 283.22, 'temp_kf': None, 'temp_max': 284.26, 'temp_min': 281.48}, 'status': 'Clear', 'detailed_status': 'clear sky', 'weather_code': 800, 'weather_icon_name': '01n', 'visibility_distance': None, 'dewpoint': None, 'humidex': None, 'heat_index': None, 'time_to_instant': 3401})])"
      ]
     },
     "execution_count": 8,
     "metadata": {},
     "output_type": "execute_result"
    }
   ],
   "source": [
    "key.items()\n",
    "# cast_count_all(col)"
   ]
  },
  {
   "cell_type": "code",
   "execution_count": 3,
   "metadata": {},
   "outputs": [
    {
     "name": "stdout",
     "output_type": "stream",
     "text": [
      "176040\n",
      "getting started with cast_count_all\n"
     ]
    },
    {
     "data": {
      "text/plain": [
       "{1: 2160,\n",
       " 2: 3240,\n",
       " 3: 2160,\n",
       " 4: 2160,\n",
       " 5: 2160,\n",
       " 6: 2160,\n",
       " 7: 2160,\n",
       " 8: 2160,\n",
       " 9: 2160,\n",
       " 10: 2160,\n",
       " 11: 4319,\n",
       " 12: 3168,\n",
       " 13: 7868,\n",
       " 14: 4381,\n",
       " 15: 7237,\n",
       " 16: 2298,\n",
       " 17: 2982,\n",
       " 18: 3149,\n",
       " 19: 4703,\n",
       " 20: 2923,\n",
       " 22: 3012,\n",
       " 23: 4365,\n",
       " 25: 3659,\n",
       " 26: 3958,\n",
       " 28: 3874,\n",
       " 29: 2887,\n",
       " 30: 3067,\n",
       " 31: 4456,\n",
       " 32: 5205,\n",
       " 33: 15508,\n",
       " 34: 19771,\n",
       " 21: 3814,\n",
       " 24: 4701,\n",
       " 27: 2533,\n",
       " 35: 13399,\n",
       " 36: 10086,\n",
       " 37: 5107,\n",
       " 38: 928,\n",
       " 39: 2}"
      ]
     },
     "execution_count": 3,
     "metadata": {},
     "output_type": "execute_result"
    }
   ],
   "source": [
    "inst_col = col.count_documents({})\n",
    "print(inst_col)\n",
    "cast_count_all(col)"
   ]
  },
  {
   "cell_type": "code",
   "execution_count": 4,
   "metadata": {},
   "outputs": [
    {
     "name": "stdout",
     "output_type": "stream",
     "text": [
      "getting started with cast_count_all\n"
     ]
    },
    {
     "data": {
      "text/plain": [
       "{1: 2160,\n",
       " 2: 3240,\n",
       " 3: 2160,\n",
       " 4: 2160,\n",
       " 5: 2160,\n",
       " 6: 2160,\n",
       " 7: 2160,\n",
       " 8: 2160,\n",
       " 9: 2160,\n",
       " 10: 2160,\n",
       " 11: 4319,\n",
       " 12: 3168,\n",
       " 13: 8883,\n",
       " 14: 2286,\n",
       " 15: 6222,\n",
       " 16: 4393,\n",
       " 17: 2982,\n",
       " 18: 3149,\n",
       " 19: 4703,\n",
       " 20: 2923,\n",
       " 22: 3012,\n",
       " 23: 4366,\n",
       " 25: 3659,\n",
       " 26: 3961,\n",
       " 28: 4112,\n",
       " 29: 2262,\n",
       " 30: 2827,\n",
       " 31: 2807,\n",
       " 32: 3437,\n",
       " 33: 16368,\n",
       " 34: 21311,\n",
       " 21: 3813,\n",
       " 24: 4700,\n",
       " 27: 3215,\n",
       " 35: 14928,\n",
       " 36: 11209,\n",
       " 37: 5448,\n",
       " 38: 1055,\n",
       " 39: 2}"
      ]
     },
     "execution_count": 4,
     "metadata": {},
     "output_type": "execute_result"
    }
   ],
   "source": [
    "cast_count_all(col)"
   ]
  },
  {
   "cell_type": "code",
   "execution_count": 30,
   "metadata": {},
   "outputs": [
    {
     "data": {
      "text/plain": [
       "False"
      ]
     },
     "execution_count": 30,
     "metadata": {},
     "output_type": "execute_result"
    }
   ],
   "source": [
    "itslegit(instant)"
   ]
  },
  {
   "cell_type": "code",
   "execution_count": 31,
   "metadata": {},
   "outputs": [],
   "source": [
    "legit_list = find_legit(col)"
   ]
  },
  {
   "cell_type": "code",
   "execution_count": 32,
   "metadata": {},
   "outputs": [
    {
     "data": {
      "text/plain": [
       "0"
      ]
     },
     "execution_count": 32,
     "metadata": {},
     "output_type": "execute_result"
    }
   ],
   "source": [
    "len(legit_list)"
   ]
  },
  {
   "cell_type": "code",
   "execution_count": 33,
   "metadata": {},
   "outputs": [],
   "source": []
  },
  {
   "cell_type": "code",
   "execution_count": 1,
   "metadata": {},
   "outputs": [
    {
     "ename": "NameError",
     "evalue": "name 'load_legit' is not defined",
     "output_type": "error",
     "traceback": [
      "\u001b[0;31m---------------------------------------------------------------------------\u001b[0m",
      "\u001b[0;31mNameError\u001b[0m                                 Traceback (most recent call last)",
      "\u001b[0;32m<ipython-input-1-57fd2b8ade41>\u001b[0m in \u001b[0;36m<module>\u001b[0;34m\u001b[0m\n\u001b[0;32m----> 1\u001b[0;31m \u001b[0mload_legit\u001b[0m\u001b[0;34m(\u001b[0m\u001b[0mcol\u001b[0m\u001b[0;34m)\u001b[0m\u001b[0;34m\u001b[0m\u001b[0;34m\u001b[0m\u001b[0m\n\u001b[0m",
      "\u001b[0;31mNameError\u001b[0m: name 'load_legit' is not defined"
     ]
    }
   ],
   "source": [
    "load_legit(col)"
   ]
  },
  {
   "cell_type": "code",
   "execution_count": null,
   "metadata": {},
   "outputs": [],
   "source": []
  }
 ],
 "metadata": {
  "kernelspec": {
   "display_name": "Python 3.7.3 64-bit ('env': venv)",
   "language": "python",
   "name": "python37364bitenvvenv4a9201e1e72848cf811a9f7702fb1125"
  },
  "language_info": {
   "codemirror_mode": {
    "name": "ipython",
    "version": 3
   },
   "file_extension": ".py",
   "mimetype": "text/x-python",
   "name": "python",
   "nbconvert_exporter": "python",
   "pygments_lexer": "ipython3",
   "version": "3.7.3"
  }
 },
 "nbformat": 4,
 "nbformat_minor": 4
}
