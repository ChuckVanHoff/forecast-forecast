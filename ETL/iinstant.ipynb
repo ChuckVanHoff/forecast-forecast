{
 "cells": [
  {
   "cell_type": "code",
   "execution_count": 1,
   "metadata": {},
   "outputs": [],
   "source": [
    "''' define the instant class and some useful scripts related to them '''\n",
    "\n",
    "class instant:\n",
    "\n",
    "    def __init__(instant=int, zipcode=str, coordinates=dict, forecasts=list, observation=dict):\n",
    "        {'instant': instant,\n",
    "        'zipcode': zipcode,\n",
    "         'coordinates': coordinates,\n",
    "        'forecasts': forecasts,\n",
    "        'observation': observation\n",
    "        }\n",
    "\n",
    "\n",
    "def itslegit(instant):\n",
    "    ''' check the instant's weathers array for count. if it is 40, then the document is returned\n",
    "\n",
    "    :param instant: the instant docuemnt to be legitimized\n",
    "    :type instant: dictionary\n",
    "    '''\n",
    "\n",
    "    if len(instant['forecasts']) == 40:\n",
    "        return True\n",
    "    else:\n",
    "        return False\n",
    "\n",
    "def find_legit(collection):\n",
    "    ''' find the 'legit' instants within the collection specified\n",
    "\n",
    "    :param collection: database collection\n",
    "    :type collection: pymongo.collection.Collection\n",
    "    :return: list of documents\n",
    "    '''\n",
    "\n",
    "    return [item for item in collection.find({}) if islegit(item)]\n",
    "\n",
    "def load_legit(collection):\n",
    "    ''' load the 'legit' instants to the remote database \n",
    "\n",
    "    :param collection: the collection you want to pull instants from\n",
    "    :type collection: pymongo.collection.Collection\n",
    "    '''\n",
    "    from db_ops import Client, dbncol\n",
    "    from config import uri, host, port\n",
    "\n",
    "    legit_list = getlegit(collection)\n",
    "    client = Client(host, port)\n",
    "    col = dbncol(client, 'legit_inst', 'owmap')\n",
    "    col.insert_many(legit_list)\n",
    "\n",
    "def test_load_legit(collection):\n",
    "    ''' load the 'legit' instants to the remote database \n",
    "\n",
    "    :param collection: the collection you want to pull instants from\n",
    "    :type collection: pymongo.collection.Collection\n",
    "    '''\n",
    "    from db_ops import Client, dbncol\n",
    "    from config import host, port\n",
    "\n",
    "    legit_list = getlegit(collection)\n",
    "    client = Client(uri)\n",
    "    col = dbncol(client, 'legit_inst', 'owmap')\n",
    "    col.insert_many(legit_list)\n",
    "    "
   ]
  },
  {
   "cell_type": "code",
   "execution_count": 2,
   "metadata": {},
   "outputs": [],
   "source": [
    "import db_ops\n",
    "from config import host, port\n",
    "client = db_ops.Client(host=host, port=port)"
   ]
  },
  {
   "cell_type": "code",
   "execution_count": 3,
   "metadata": {},
   "outputs": [],
   "source": [
    "collection = 'test_legit'\n",
    "database = 'test'\n",
    "col = db_ops.dbncol(client, collection, database)"
   ]
  },
  {
   "cell_type": "code",
   "execution_count": 4,
   "metadata": {},
   "outputs": [
    {
     "name": "stdout",
     "output_type": "stream",
     "text": [
      "0\n"
     ]
    }
   ],
   "source": [
    "inst_col = col.count_documents({})\n",
    "print(inst_col)"
   ]
  },
  {
   "cell_type": "code",
   "execution_count": 5,
   "metadata": {},
   "outputs": [],
   "source": [
    "# import Extract as e"
   ]
  },
  {
   "cell_type": "code",
   "execution_count": 6,
   "metadata": {},
   "outputs": [
    {
     "ename": "ModuleNotFoundError",
     "evalue": "No module named 'request_and_load'",
     "output_type": "error",
     "traceback": [
      "\u001b[0;31m---------------------------------------------------------------------------\u001b[0m",
      "\u001b[0;31mModuleNotFoundError\u001b[0m                       Traceback (most recent call last)",
      "\u001b[0;32m<ipython-input-6-c4e8d59985d1>\u001b[0m in \u001b[0;36m<module>\u001b[0;34m\u001b[0m\n\u001b[1;32m      1\u001b[0m \u001b[0;32mfrom\u001b[0m \u001b[0mExtract\u001b[0m \u001b[0;32mimport\u001b[0m \u001b[0mrequest_and_load\u001b[0m\u001b[0;34m\u001b[0m\u001b[0;34m\u001b[0m\u001b[0m\n\u001b[0;32m----> 2\u001b[0;31m \u001b[0;32mfrom\u001b[0m \u001b[0mExtract\u001b[0m \u001b[0;32mimport\u001b[0m \u001b[0mget_and_make\u001b[0m\u001b[0;34m\u001b[0m\u001b[0;34m\u001b[0m\u001b[0m\n\u001b[0m",
      "\u001b[0;32m~/data/forecast-forecast/ETL/Extract/get_and_make.py\u001b[0m in \u001b[0;36m<module>\u001b[0;34m\u001b[0m\n\u001b[1;32m      5\u001b[0m \u001b[0;32mfrom\u001b[0m \u001b[0mpymongo\u001b[0m \u001b[0;32mimport\u001b[0m \u001b[0mMongoClient\u001b[0m\u001b[0;34m\u001b[0m\u001b[0;34m\u001b[0m\u001b[0m\n\u001b[1;32m      6\u001b[0m \u001b[0;34m\u001b[0m\u001b[0m\n\u001b[0;32m----> 7\u001b[0;31m \u001b[0;32mfrom\u001b[0m \u001b[0mrequest_and_load\u001b[0m \u001b[0;32mimport\u001b[0m \u001b[0mget_current_weather\u001b[0m\u001b[0;34m,\u001b[0m \u001b[0mfive_day\u001b[0m\u001b[0;34m,\u001b[0m \u001b[0mload_weather\u001b[0m\u001b[0;34m,\u001b[0m \u001b[0mread_list_from_file\u001b[0m\u001b[0;34m\u001b[0m\u001b[0;34m\u001b[0m\u001b[0m\n\u001b[0m\u001b[1;32m      8\u001b[0m \u001b[0;32mfrom\u001b[0m \u001b[0mmake_instants\u001b[0m \u001b[0;32mimport\u001b[0m \u001b[0mmake_instants\u001b[0m\u001b[0;34m\u001b[0m\u001b[0;34m\u001b[0m\u001b[0m\n\u001b[1;32m      9\u001b[0m \u001b[0;34m\u001b[0m\u001b[0m\n",
      "\u001b[0;31mModuleNotFoundError\u001b[0m: No module named 'request_and_load'"
     ]
    }
   ],
   "source": [
    "from Extract import request_and_load\n",
    "from Extract import get_and_make"
   ]
  },
  {
   "cell_type": "code",
   "execution_count": 19,
   "metadata": {},
   "outputs": [
    {
     "data": {
      "text/plain": [
       "{'instant': 2343245,\n",
       " 'zipcode': '27606',\n",
       " 'coordinates': dict,\n",
       " 'forecasts': list,\n",
       " 'observations': dict}"
      ]
     },
     "execution_count": 19,
     "metadata": {},
     "output_type": "execute_result"
    }
   ],
   "source": [
    "inst"
   ]
  },
  {
   "cell_type": "code",
   "execution_count": 23,
   "metadata": {},
   "outputs": [],
   "source": [
    "from db_ops import Client"
   ]
  },
  {
   "cell_type": "code",
   "execution_count": null,
   "metadata": {},
   "outputs": [],
   "source": []
  }
 ],
 "metadata": {
  "kernelspec": {
   "display_name": "Python 3.7.6 64-bit",
   "language": "python",
   "name": "python37664bita50c52ad7e3f49d8a8445f491aa58e70"
  },
  "language_info": {
   "codemirror_mode": {
    "name": "ipython",
    "version": 3
   },
   "file_extension": ".py",
   "mimetype": "text/x-python",
   "name": "python",
   "nbconvert_exporter": "python",
   "pygments_lexer": "ipython3",
   "version": "3.8.1"
  }
 },
 "nbformat": 4,
 "nbformat_minor": 4
}
