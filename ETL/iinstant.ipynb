{
 "cells": [
  {
   "cell_type": "code",
   "execution_count": 1,
   "metadata": {},
   "outputs": [],
   "source": [
    "''' Defines the Instant class and some useful functions. '''\n",
    "\n",
    "\n",
    "class Instant:\n",
    "\n",
    "    def __init__(self, _id, forecasts=[], observations={}):\n",
    "        \n",
    "        self._id = _id\n",
    "        self.casts = forecasts\n",
    "        self.obs = observations\n",
    "#         self.count = len(self.casts)\n",
    "        self.as_dict = {'_id': self._id,\n",
    "                        'forecasts': self.casts,\n",
    "                        'observations': self.obs\n",
    "                        }\n",
    "    \n",
    "    def count(self):\n",
    "        ''' Get the count of the elements in self.casts. '''\n",
    "        \n",
    "        return len(self.casts)\n",
    "    \n",
    "    def itslegit(self):\n",
    "        ''' Check the instant's weathers array's count and if it is 40, then the\n",
    "        document is returned.\n",
    "\n",
    "        :param instant: the instant docuemnt to be legitimized\n",
    "        :type instant: dictionary\n",
    "        '''\n",
    "        \n",
    "#         self.count()\n",
    "        if len(self.casts) >= 40:\n",
    "#         if len(self.as_dict['forecasts']) >= 40:\n",
    "            return True\n",
    "        else:\n",
    "            return False\n",
    "    \n",
    "    def to_dbncol(self, collection='test'):\n",
    "        ''' Load the data to the database. \n",
    "\n",
    "        :param collection: the collection name\n",
    "        :type collection: string\n",
    "        '''\n",
    "\n",
    "        from db_ops import dbncol\n",
    "\n",
    "        col = dbncol(client, collection, database)  # Remember client and\n",
    "                                                    # database are in global\n",
    "        col.update_one({'_id': self._id}, {'$set': self.as_dict}, upsert=True)\n",
    "\n",
    "    \n",
    "def cast_count_all(instants):\n",
    "    ''' get a tally for the forecast counts per document \n",
    "\n",
    "    :param instants: Instant class objects\n",
    "    :type instants: list\n",
    "    '''\n",
    "\n",
    "    n = 0\n",
    "    collection_cast_counts = {}\n",
    "\n",
    "    # Go through each doc in the collection and count the number of items in the forecasts array.\n",
    "    # Add to the tally for that count.\n",
    "    for doc in instants:\n",
    "        n = count(doc)\n",
    "        if n in collection_cast_counts:\n",
    "            collection_cast_counts[n] += 1\n",
    "        else:\n",
    "            collection_cast_counts[n] = 1\n",
    "    return collection_cast_counts\n",
    "\n",
    "\n",
    "def sweep(instants):\n",
    "    ''' Move any instant that has a ref_time less than the current next\n",
    "    ref_time and with self.count less than 40. This is getting rid of the\n",
    "    instnats that are not and will never be legit. \n",
    "\n",
    "    :param instants: a list of instnant objects\n",
    "    '''\n",
    "\n",
    "    \n",
    "def find_legit(instants):\n",
    "    ''' find the 'legit' instants within the list\n",
    "\n",
    "    :param instants: all the instants pulled from the database\n",
    "    :type instants: list\n",
    "    :return: list of instants with a complete forecasts array\n",
    "    '''\n",
    "#     temp = []\n",
    "#     for item in instants:\n",
    "#         if item.itslegit() == False:\n",
    "# #             temp.append(item)\n",
    "#         if item.itslegit() == True:\n",
    "#             temp.append(item)\n",
    "#     return temp# \n",
    "    return [item for item in instants if item.itslegit()]\n",
    "\n",
    "\n",
    "def load_legit(legit_list):\n",
    "    ''' Load the 'legit' instants to the remote database and delete from temp.\n",
    "\n",
    "    :param collection: the collection you want to pull instants from\n",
    "    :type collection: pymongo.collection.Collection\n",
    "    '''\n",
    "\n",
    "    from db_ops import dbncol\n",
    "    from db_ops import copy_docs\n",
    "### this should load to legit_inst in owmap for production ###\n",
    "#         col = dbncol(client, 'legit_inst', 'owmap')\n",
    "    col = dbncol(client, 'legit_inst', database)\n",
    "    col.insert_many(legit_list)\n",
    "    # Now go to the temp_instants collection and delete the instants just\n",
    "    # loaded to legit_inst.\n",
    "    col = dbncol(client, 'temp_inst', database)\n",
    "    col.delete_many(legit_list)\n",
    "    return"
   ]
  },
  {
   "cell_type": "code",
   "execution_count": 2,
   "metadata": {},
   "outputs": [
    {
     "name": "stdout",
     "output_type": "stream",
     "text": [
      "[40, 41, 42, 43, 44, 45, 46, 47, 48, 49, 50, 51, 52, 53, 54, 55, 56, 57, 58, 59, 60, 61, 62, 63, 64, 65, 66, 67, 68, 69, 70, 71, 72, 73, 74, 75, 76, 77, 78, 79] \n",
      " 40\n",
      "True\n",
      "<__main__.Instant object at 0x103e38700>\n",
      "[0, 1, 2, 3, 4, 5, 6, 7, 8, 9, 10, 11, 12, 13, 14, 15, 16, 17, 18, 19, 20, 21, 22, 23, 24, 25, 26, 27, 28, 29, 30, 31, 32, 33, 34, 35, 36, 37, 38, 39] \n",
      " [40, 41, 42, 43, 44, 45, 46, 47, 48, 49, 50, 51, 52, 53, 54, 55, 56, 57, 58, 59, 60, 61, 62, 63, 64, 65, 66, 67, 68, 69, 70, 71, 72, 73, 74, 75, 76, 77, 78, 79]\n",
      "\n",
      " 40 40\n",
      "\n",
      " 40 40\n",
      "\n",
      " 40 True\n",
      "[<__main__.Instant object at 0x103e38700>, <__main__.Instant object at 0x103e38790>] 40\n"
     ]
    }
   ],
   "source": [
    "# create a list with 40 entries\n",
    "inst2 = [i for i in range(0, 40)]\n",
    "# create an Instant object with that list set to forecasts\n",
    "inst = Instant('1234', inst2)\n",
    "# create an instant with no forecast\n",
    "inst3 = Instant('gna')\n",
    "# set Instant.forecasts\n",
    "inst3.casts = [i for i in range(40, 80)]\n",
    "print(inst3.casts, '\\n', len(inst3.casts)) # this should print a list from 40 to 69 then\n",
    "                                    # the number 30\n",
    "print(inst.itslegit())  # this should print TRUE\n",
    "\n",
    "\n",
    "#### something is happening in here that is not getting the object attributes into find_legit() ####\n",
    "instant = [inst, inst3]\n",
    "print(instant[0])  # prints the first element as expected\n",
    "i = instant[0]\n",
    "i3 = instant[1]\n",
    "print(i.casts, '\\n', i3.casts)  # prints the expected lists from the objects\n",
    "print('\\n', i.count(), i3.count())  # prints correct values\n",
    "print('\\n', len(i.casts), len(i3.casts))  # prints the correct values\n",
    "# i3.count = len(i3.casts)\n",
    "print('\\n', i3.count(), i3.itslegit())  # prints the correct list length, prints the _____ truth value\n",
    "inst_list = find_legit(instant)\n",
    "# print('\\n', find_legit(instant)[0].casts, '\\n', find_legit(instant)[1].casts)\n",
    "print(inst_list, inst_list[0].count())"
   ]
  },
  {
   "cell_type": "code",
   "execution_count": null,
   "metadata": {},
   "outputs": [],
   "source": []
  },
  {
   "cell_type": "code",
   "execution_count": 8,
   "metadata": {},
   "outputs": [],
   "source": [
    "from pymongo import MongoClient\n",
    "import db_ops\n",
    "# from Extract.config import host, port\n",
    "client = db_ops.Client(host=db_ops.host, port=db_ops.port)\n",
    "collection = 'instant_temp'\n",
    "database = 'owmap'\n",
    "col = db_ops.dbncol(client, collection, database)"
   ]
  },
  {
   "cell_type": "code",
   "execution_count": 3,
   "metadata": {},
   "outputs": [
    {
     "data": {
      "text/plain": [
       "['_id', 'instant', 'zipcode', 'forecasts', 'weather']"
      ]
     },
     "execution_count": 3,
     "metadata": {},
     "output_type": "execute_result"
    }
   ],
   "source": [
    "def key_list(d=dict):\n",
    "    ''' Write the dict keys to a list and return that list \n",
    "    \n",
    "    :param d: A python dictionary\n",
    "    :return: A list fo the keys from the python dictionary\n",
    "    '''\n",
    "    \n",
    "    keys = d.keys()\n",
    "    key_list = []\n",
    "    for k in keys:\n",
    "        key_list.append(k)\n",
    "    return key_list\n",
    "\n",
    "\n",
    "key = col.find_one({})\n",
    "key_list(key)"
   ]
  },
  {
   "cell_type": "code",
   "execution_count": 23,
   "metadata": {},
   "outputs": [
    {
     "name": "stdout",
     "output_type": "stream",
     "text": [
      "['_id.', 'instant.', 'zipcode.', 'forecasts.', 'weather', 'sunset_time.', 'sunrise_time.', 'clouds.', 'rain', 'snow', 'wind', 'speed.', 'deg.', 'humidity.wind', 'pressure', 'press.', 'sea_level.', 'temperature', 'temp.', 'temp_kf.', 'temp_max.', 'temp_min.', 'status.temperature', 'detailed_status.temperature', 'weather_code.temperature', 'weather_icon_name.temperature', 'visibility_distance.temperature', 'dewpoint.temperature', 'humidex.temperature', 'heat_index.temperature', 'time_to_instant.temperature']\n"
     ]
    }
   ],
   "source": [
    "def key_list(d=dict):\n",
    "    ''' Write the dict keys to a list and return that list \n",
    "    \n",
    "    :param d: A python dictionary\n",
    "    :return: A list fo the keys from the python dictionary\n",
    "    '''\n",
    "    \n",
    "    keys = d.keys()\n",
    "    key_list = []\n",
    "    for k in keys:\n",
    "        key_list.append(k)\n",
    "    return key_list\n",
    "\n",
    "\n",
    "def all_keys(d):\n",
    "    ''' Get all the dicitonary and nested \"dot format\" nested dictionary keys\n",
    "    from a dict, add them to a list, return the list.\n",
    "    \n",
    "    :param d: A python dictionary\n",
    "    :return: A list of every key in the dictionary\n",
    "    '''\n",
    "    \n",
    "    top_keys = d.keys()\n",
    "    i = 0  # use this as a reference to top_key values\n",
    "    for key, value in d.items():\n",
    "        n_key = key  # Hold on to this key as you will use it in naming any nested keys\n",
    "#         for k, v in d.items():\n",
    "#         print('loop')\n",
    "        if isinstance(d[key], dict):\n",
    "            keys.append(n_key)\n",
    "            t_key = str(n_key)\n",
    "                # print(f'jumped into {v}')\n",
    "#             n_key = t_key+str(d[key].key())\n",
    "            all_keys(d[key])\n",
    "        else:\n",
    "            keys.append(str(t_key) + f'.{str(n_key)}')\n",
    "    return keys\n",
    "\n",
    "d = col.find({})[1]\n",
    "# print(d)\n",
    "keys = []\n",
    "t_key = ''  # Represent relative top dict keys\n",
    "all_keys(d)\n",
    "print(keys)"
   ]
  },
  {
   "cell_type": "code",
   "execution_count": 8,
   "metadata": {},
   "outputs": [
    {
     "data": {
      "text/plain": [
       "dict_items([('_id', ObjectId('5e9bb25c42f97b1723883d7c')), ('instant', 1587265200), ('zipcode', '27006'), ('forecasts', [{'sunset_time': 0, 'sunrise_time': 0, 'clouds': 0, 'rain': {}, 'snow': {}, 'wind': {'speed': 1.7, 'deg': 39}, 'humidity': 55, 'pressure': {'press': 1019, 'sea_level': 1019}, 'temperature': {'temp': 280.13, 'temp_kf': -0.47, 'temp_max': 280.6, 'temp_min': 280.13}, 'status': 'Clear', 'detailed_status': 'clear sky', 'weather_code': 800, 'weather_icon_name': '01n', 'visibility_distance': None, 'dewpoint': None, 'humidex': None, 'heat_index': None, 'time_to_instant': 3178}]), ('weather', {'sunset_time': 1587254263, 'sunrise_time': 1587206633, 'clouds': 0, 'rain': {}, 'snow': {}, 'wind': {'speed': 0.45, 'deg': 40, 'gust': 1.34}, 'humidity': 48, 'pressure': {'press': 1014, 'sea_level': None}, 'temperature': {'temp': 283.22, 'temp_kf': None, 'temp_max': 284.26, 'temp_min': 281.48}, 'status': 'Clear', 'detailed_status': 'clear sky', 'weather_code': 800, 'weather_icon_name': '01n', 'visibility_distance': None, 'dewpoint': None, 'humidex': None, 'heat_index': None, 'time_to_instant': 3401})])"
      ]
     },
     "execution_count": 8,
     "metadata": {},
     "output_type": "execute_result"
    }
   ],
   "source": [
    "key.items()\n",
    "# cast_count_all(col)"
   ]
  },
  {
   "cell_type": "code",
   "execution_count": 3,
   "metadata": {},
   "outputs": [
    {
     "name": "stdout",
     "output_type": "stream",
     "text": [
      "176040\n",
      "getting started with cast_count_all\n"
     ]
    },
    {
     "data": {
      "text/plain": [
       "{1: 2160,\n",
       " 2: 3240,\n",
       " 3: 2160,\n",
       " 4: 2160,\n",
       " 5: 2160,\n",
       " 6: 2160,\n",
       " 7: 2160,\n",
       " 8: 2160,\n",
       " 9: 2160,\n",
       " 10: 2160,\n",
       " 11: 4319,\n",
       " 12: 3168,\n",
       " 13: 7868,\n",
       " 14: 4381,\n",
       " 15: 7237,\n",
       " 16: 2298,\n",
       " 17: 2982,\n",
       " 18: 3149,\n",
       " 19: 4703,\n",
       " 20: 2923,\n",
       " 22: 3012,\n",
       " 23: 4365,\n",
       " 25: 3659,\n",
       " 26: 3958,\n",
       " 28: 3874,\n",
       " 29: 2887,\n",
       " 30: 3067,\n",
       " 31: 4456,\n",
       " 32: 5205,\n",
       " 33: 15508,\n",
       " 34: 19771,\n",
       " 21: 3814,\n",
       " 24: 4701,\n",
       " 27: 2533,\n",
       " 35: 13399,\n",
       " 36: 10086,\n",
       " 37: 5107,\n",
       " 38: 928,\n",
       " 39: 2}"
      ]
     },
     "execution_count": 3,
     "metadata": {},
     "output_type": "execute_result"
    }
   ],
   "source": [
    "inst_col = col.count_documents({})\n",
    "print(inst_col)\n",
    "cast_count_all(col)"
   ]
  },
  {
   "cell_type": "code",
   "execution_count": 4,
   "metadata": {},
   "outputs": [
    {
     "name": "stdout",
     "output_type": "stream",
     "text": [
      "getting started with cast_count_all\n"
     ]
    },
    {
     "data": {
      "text/plain": [
       "{1: 2160,\n",
       " 2: 3240,\n",
       " 3: 2160,\n",
       " 4: 2160,\n",
       " 5: 2160,\n",
       " 6: 2160,\n",
       " 7: 2160,\n",
       " 8: 2160,\n",
       " 9: 2160,\n",
       " 10: 2160,\n",
       " 11: 4319,\n",
       " 12: 3168,\n",
       " 13: 8883,\n",
       " 14: 2286,\n",
       " 15: 6222,\n",
       " 16: 4393,\n",
       " 17: 2982,\n",
       " 18: 3149,\n",
       " 19: 4703,\n",
       " 20: 2923,\n",
       " 22: 3012,\n",
       " 23: 4366,\n",
       " 25: 3659,\n",
       " 26: 3961,\n",
       " 28: 4112,\n",
       " 29: 2262,\n",
       " 30: 2827,\n",
       " 31: 2807,\n",
       " 32: 3437,\n",
       " 33: 16368,\n",
       " 34: 21311,\n",
       " 21: 3813,\n",
       " 24: 4700,\n",
       " 27: 3215,\n",
       " 35: 14928,\n",
       " 36: 11209,\n",
       " 37: 5448,\n",
       " 38: 1055,\n",
       " 39: 2}"
      ]
     },
     "execution_count": 4,
     "metadata": {},
     "output_type": "execute_result"
    }
   ],
   "source": [
    "cast_count_all(col)"
   ]
  },
  {
   "cell_type": "code",
   "execution_count": 30,
   "metadata": {},
   "outputs": [
    {
     "data": {
      "text/plain": [
       "False"
      ]
     },
     "execution_count": 30,
     "metadata": {},
     "output_type": "execute_result"
    }
   ],
   "source": [
    "itslegit(instant)"
   ]
  },
  {
   "cell_type": "code",
   "execution_count": 31,
   "metadata": {},
   "outputs": [],
   "source": [
    "legit_list = find_legit(col)"
   ]
  },
  {
   "cell_type": "code",
   "execution_count": 32,
   "metadata": {},
   "outputs": [
    {
     "data": {
      "text/plain": [
       "0"
      ]
     },
     "execution_count": 32,
     "metadata": {},
     "output_type": "execute_result"
    }
   ],
   "source": [
    "len(legit_list)"
   ]
  },
  {
   "cell_type": "code",
   "execution_count": 33,
   "metadata": {},
   "outputs": [],
   "source": []
  },
  {
   "cell_type": "code",
   "execution_count": 1,
   "metadata": {},
   "outputs": [
    {
     "ename": "NameError",
     "evalue": "name 'load_legit' is not defined",
     "output_type": "error",
     "traceback": [
      "\u001b[0;31m---------------------------------------------------------------------------\u001b[0m",
      "\u001b[0;31mNameError\u001b[0m                                 Traceback (most recent call last)",
      "\u001b[0;32m<ipython-input-1-57fd2b8ade41>\u001b[0m in \u001b[0;36m<module>\u001b[0;34m\u001b[0m\n\u001b[0;32m----> 1\u001b[0;31m \u001b[0mload_legit\u001b[0m\u001b[0;34m(\u001b[0m\u001b[0mcol\u001b[0m\u001b[0;34m)\u001b[0m\u001b[0;34m\u001b[0m\u001b[0;34m\u001b[0m\u001b[0m\n\u001b[0m",
      "\u001b[0;31mNameError\u001b[0m: name 'load_legit' is not defined"
     ]
    }
   ],
   "source": [
    "load_legit(col)"
   ]
  },
  {
   "cell_type": "code",
   "execution_count": null,
   "metadata": {},
   "outputs": [],
   "source": []
  }
 ],
 "metadata": {
  "kernelspec": {
   "display_name": "Python 3",
   "language": "python",
   "name": "python3"
  },
  "language_info": {
   "codemirror_mode": {
    "name": "ipython",
    "version": 3
   },
   "file_extension": ".py",
   "mimetype": "text/x-python",
   "name": "python",
   "nbconvert_exporter": "python",
   "pygments_lexer": "ipython3",
   "version": "3.8.1"
  }
 },
 "nbformat": 4,
 "nbformat_minor": 4
}
