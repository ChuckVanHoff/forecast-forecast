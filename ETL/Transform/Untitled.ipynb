{
 "cells": [
  {
   "cell_type": "code",
   "execution_count": 1,
   "metadata": {},
   "outputs": [
    {
     "name": "stdout",
     "output_type": "stream",
     "text": [
      "3\n"
     ]
    }
   ],
   "source": [
    "# parse the previously unparsed weather data\n",
    "import pandas as pd\n",
    "\n",
    "\n",
    "csv_rows = []\n",
    "suspect_rows = []\n",
    "with open('unparsedOWMData.csv', 'r') as data:\n",
    "    n = 0\n",
    "    for row in data:\n",
    "        n+=1\n",
    "        row_values = row.split(',')        \n",
    "        if len(row_values)<=3 and not row_values[0]=='id':\n",
    "            if n==3:\n",
    "                print(n)\n",
    "            suspect_rows.append(row_values)\n",
    "        else:\n",
    "            csv_rows.append(','.join(row_values))\n",
    "\n",
    "    \n",
    "# unparsed_data = pd.read_csv('unparsedOWMData.csv')\n",
    "# unparsed_data.head()"
   ]
  },
  {
   "cell_type": "code",
   "execution_count": 9,
   "metadata": {},
   "outputs": [
    {
     "name": "stdout",
     "output_type": "stream",
     "text": [
      "5df9a1b097fff1b28a43a2a1\n"
     ]
    }
   ],
   "source": [
    "# import json\n",
    "# exportable_data = {}\n",
    "# csv_rows[1] = csv_rows[0].split(',')\n",
    "print(csv_rows[1].split(',')[0])\n",
    "# del csv_rows[0][0]\n",
    "# for i in range(len(csv_rows)-1 )\n",
    "#     l = csv_rows[i+1].split(',')\n",
    "#     del l[0]\n",
    "#     ','.join(l)\n",
    "#     load = json.load(l)\n",
    "    "
   ]
  },
  {
   "cell_type": "markdown",
   "metadata": {},
   "source": [
    "#### "
   ]
  },
  {
   "cell_type": "markdown",
   "metadata": {},
   "source": [
    "##### "
   ]
  },
  {
   "cell_type": "code",
   "execution_count": null,
   "metadata": {},
   "outputs": [],
   "source": []
  }
 ],
 "metadata": {
  "kernelspec": {
   "display_name": "Python 3",
   "language": "python",
   "name": "python3"
  },
  "language_info": {
   "codemirror_mode": {
    "name": "ipython",
    "version": 3
   },
   "file_extension": ".py",
   "mimetype": "text/x-python",
   "name": "python",
   "nbconvert_exporter": "python",
   "pygments_lexer": "ipython3",
   "version": "3.8.0"
  }
 },
 "nbformat": 4,
 "nbformat_minor": 4
}
