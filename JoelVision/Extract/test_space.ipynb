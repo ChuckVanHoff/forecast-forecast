{
 "cells": [
  {
   "cell_type": "code",
   "execution_count": 1,
   "metadata": {},
   "outputs": [],
   "source": [
    "from splinter import Browser\n",
    "from selenium.common.exceptions import InvalidElementStateException\n",
    "from selenium.common.exceptions import ElementNotInteractableException\n",
    "from bs4 import BeautifulSoup\n",
    "import shutil\n",
    "import time"
   ]
  },
  {
   "cell_type": "code",
   "execution_count": 2,
   "metadata": {},
   "outputs": [],
   "source": [
    "# Set the zip codes\n",
    "codes = []\n",
    "codes.append('27606')   # just hard code one in\n",
    "code = codes[0]    # set the variable for zip_and_click"
   ]
  },
  {
   "cell_type": "code",
   "execution_count": 3,
   "metadata": {},
   "outputs": [],
   "source": [
    "# inititial website to visit\n",
    "url = 'https://weather.com'"
   ]
  },
  {
   "cell_type": "code",
   "execution_count": 4,
   "metadata": {},
   "outputs": [],
   "source": [
    "def chrome():\n",
    "    '''\n",
    "    Finds the chromedriver in the system and creates a Chrome browser\n",
    "    '''\n",
    "    executable_path = {'executable_path': shutil.which('chromedriver')}\n",
    "    browser = Browser('chrome', **executable_path)\n",
    "    return(browser)"
   ]
  },
  {
   "cell_type": "code",
   "execution_count": 5,
   "metadata": {},
   "outputs": [],
   "source": [
    "def zip_and_click(code):\n",
    "    '''\n",
    "    Enter zip codes into the search bar on weather.com and click the first result.\n",
    "    No return, just leaves browser at the first data page.\n",
    "    '''\n",
    "    import time\n",
    "    \n",
    "    filled = False\n",
    "    clicked = False\n",
    "    \n",
    "    inputs = browser.find_by_tag('input') # get the search box reference\n",
    "    search_box = inputs[0]\n",
    "    n=0\n",
    "    while not filled:\n",
    "        try:\n",
    "            n=+1\n",
    "            search_box.fill(code)\n",
    "            filled = True\n",
    "        except InvalidElementStateException:\n",
    "            time.sleep(1)\n",
    "    print(n)\n",
    "#     if search_box.fill(code):\n",
    "#         print('filled search box')\n",
    "#     else:\n",
    "#         print('did not fill search box')\n",
    "    print(browser.find_link_by_partial_href('/weather/today/l').value)\n",
    "    while not clicked:\n",
    "        try:\n",
    "            browser.click_link_by_partial_href('/weather/today/l')\n",
    "            print('no exception this time')\n",
    "            clicked = True\n",
    "        except ElementNotInteractableException:\n",
    "            print('exception found....waiting...')\n",
    "            time.sleep(1)\n",
    "    return(browser)     "
   ]
  },
  {
   "cell_type": "code",
   "execution_count": 6,
   "metadata": {},
   "outputs": [],
   "source": [
    "browser = chrome()"
   ]
  },
  {
   "cell_type": "code",
   "execution_count": 7,
   "metadata": {},
   "outputs": [],
   "source": [
    "browser.visit(url)"
   ]
  },
  {
   "cell_type": "code",
   "execution_count": 8,
   "metadata": {},
   "outputs": [
    {
     "name": "stdout",
     "output_type": "stream",
     "text": [
      "1\n",
      "\n",
      "exception found....waiting...\n",
      "no exception this time\n"
     ]
    },
    {
     "data": {
      "text/plain": [
       "<splinter.driver.webdriver.chrome.WebDriver at 0x10a088f90>"
      ]
     },
     "execution_count": 8,
     "metadata": {},
     "output_type": "execute_result"
    }
   ],
   "source": [
    "zip_and_click(code)"
   ]
  },
  {
   "cell_type": "code",
   "execution_count": 9,
   "metadata": {},
   "outputs": [],
   "source": [
    "location = browser.find_by_xpath('//h1').first.value"
   ]
  },
  {
   "cell_type": "code",
   "execution_count": 10,
   "metadata": {},
   "outputs": [],
   "source": [
    "timestamp = browser.find_by_tag('p').first.value"
   ]
  },
  {
   "cell_type": "code",
   "execution_count": 15,
   "metadata": {},
   "outputs": [
    {
     "data": {
      "text/plain": [
       "'RALEIGH, NC\\nas of 4:51 am EST\\n44°\\nCLEAR\\nfeels like 44°\\nH 71° / L 44°\\nUV Index 0 of 10\\nArctic Blasts Could Set Records Across U.S.\\nRIGHT NOW\\nWind\\nCalm\\nHumidity\\n89%\\nDew Point\\n41°\\nPressure\\n30.30 in\\nVisibility\\n8.0 mi'"
      ]
     },
     "execution_count": 15,
     "metadata": {},
     "output_type": "execute_result"
    }
   ],
   "source": [
    "# divs = browser.find_by_tag('div').first\n",
    "nowcard = divs.find_by_tag('section.today_nowcard-container').value"
   ]
  },
  {
   "cell_type": "code",
   "execution_count": null,
   "metadata": {},
   "outputs": [],
   "source": []
  },
  {
   "cell_type": "code",
   "execution_count": null,
   "metadata": {},
   "outputs": [],
   "source": []
  },
  {
   "cell_type": "code",
   "execution_count": 63,
   "metadata": {},
   "outputs": [],
   "source": [
    "browser.find_by_tag('div#daypart-4.today-daypart.daypart-4').click()"
   ]
  },
  {
   "cell_type": "code",
   "execution_count": 58,
   "metadata": {},
   "outputs": [
    {
     "data": {
      "text/plain": [
       "'NEXT 36 HOURS\\nHOURLY10 DAYS\\nTONIGHT\\nPARTLY CLOUDY\\nLOW\\n42°\\n10%\\nTHU\\nHIGH\\n70°\\n10%\\nTHU NIGHT\\nLOW\\n43°\\n90%\\nFRI\\nHIGH\\n48°\\n10%\\nFRI NIGHT\\nLOW\\n29°\\n0%\\nPartly cloudy skies. Low 42F. Winds light and variable.\\nWIND\\nESE 1 mph\\nHUMIDITY\\n92%\\nUV INDEX\\n0 of 10\\nSUN\\n6:41 am5:14 pm'"
      ]
     },
     "execution_count": 58,
     "metadata": {},
     "output_type": "execute_result"
    }
   ],
   "source": [
    "browser.find_by_tag('div#LookingAhead.card.card-padding').first.value"
   ]
  },
  {
   "cell_type": "code",
   "execution_count": 64,
   "metadata": {},
   "outputs": [
    {
     "data": {
      "text/plain": [
       "'Mostly clear skies. Scattered frost possible. Low 29F. Winds light and variable.\\nWIND\\nNNE 4 mph\\nHUMIDITY\\n64%\\nUV INDEX\\n0 of 10\\nSUN\\n6:43 am5:12 pm'"
      ]
     },
     "execution_count": 64,
     "metadata": {},
     "output_type": "execute_result"
    }
   ],
   "source": [
    "details = browser.find_by_tag('div#dp4-details.dp-details').value\n",
    "details"
   ]
  },
  {
   "cell_type": "code",
   "execution_count": 65,
   "metadata": {},
   "outputs": [],
   "source": [
    "browser.quit()"
   ]
  },
  {
   "cell_type": "code",
   "execution_count": 13,
   "metadata": {},
   "outputs": [],
   "source": [
    "today_text = browser.find_by_text('Today')"
   ]
  },
  {
   "cell_type": "code",
   "execution_count": 14,
   "metadata": {},
   "outputs": [
    {
     "data": {
      "text/plain": [
       "1"
      ]
     },
     "execution_count": 14,
     "metadata": {},
     "output_type": "execute_result"
    }
   ],
   "source": [
    "len(today_text)"
   ]
  },
  {
   "cell_type": "code",
   "execution_count": 16,
   "metadata": {},
   "outputs": [
    {
     "data": {
      "text/plain": [
       "'Today'"
      ]
     },
     "execution_count": 16,
     "metadata": {},
     "output_type": "execute_result"
    }
   ],
   "source": [
    "today_text.value"
   ]
  },
  {
   "cell_type": "code",
   "execution_count": 17,
   "metadata": {},
   "outputs": [
    {
     "name": "stdout",
     "output_type": "stream",
     "text": [
      "got input box\n"
     ]
    }
   ],
   "source": [
    "inputs = browser.find_by_tag('input')     # get the search box reference\n",
    "search_box = inputs[0] # \n",
    "if inputs[0]:\n",
    "    print('got input box')\n",
    "else:\n",
    "    print('did not get it')"
   ]
  },
  {
   "cell_type": "code",
   "execution_count": 18,
   "metadata": {},
   "outputs": [
    {
     "data": {
      "text/plain": [
       "1"
      ]
     },
     "execution_count": 18,
     "metadata": {},
     "output_type": "execute_result"
    }
   ],
   "source": [
    "len(inputs)"
   ]
  },
  {
   "cell_type": "code",
   "execution_count": 19,
   "metadata": {},
   "outputs": [],
   "source": [
    "search_box.fill('27606')"
   ]
  },
  {
   "cell_type": "code",
   "execution_count": 20,
   "metadata": {},
   "outputs": [],
   "source": [
    "code_text = browser.find_by_text('27606')"
   ]
  },
  {
   "cell_type": "code",
   "execution_count": 21,
   "metadata": {},
   "outputs": [
    {
     "name": "stdout",
     "output_type": "stream",
     "text": [
      "did not find it\n"
     ]
    }
   ],
   "source": [
    "if code_text:\n",
    "    print('found the entered code')\n",
    "else:\n",
    "    print('did not find it')"
   ]
  },
  {
   "cell_type": "code",
   "execution_count": null,
   "metadata": {},
   "outputs": [],
   "source": [
    "### SEARCH FOR THE TABLE THAT HOLDS THE SEARCH RESULTS ###"
   ]
  }
 ],
 "metadata": {
  "kernelspec": {
   "display_name": "Python 3",
   "language": "python",
   "name": "python3"
  },
  "language_info": {
   "codemirror_mode": {
    "name": "ipython",
    "version": 3
   },
   "file_extension": ".py",
   "mimetype": "text/x-python",
   "name": "python",
   "nbconvert_exporter": "python",
   "pygments_lexer": "ipython3",
   "version": "3.7.4"
  }
 },
 "nbformat": 4,
 "nbformat_minor": 2
}
