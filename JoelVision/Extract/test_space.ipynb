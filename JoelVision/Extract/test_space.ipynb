{
 "cells": [
  {
   "cell_type": "code",
   "execution_count": 3,
   "metadata": {},
   "outputs": [],
   "source": [
    "from splinter import Browser\n",
    "from selenium.common.exceptions import InvalidElementStateException\n",
    "from selenium.common.exceptions import ElementNotInteractableException\n",
    "from bs4 import BeautifulSoup\n",
    "import shutil\n",
    "import time"
   ]
  },
  {
   "cell_type": "code",
   "execution_count": 21,
   "metadata": {},
   "outputs": [
    {
     "data": {
      "text/plain": [
       "1903"
      ]
     },
     "execution_count": 21,
     "metadata": {},
     "output_type": "execute_result"
    }
   ],
   "source": [
    "# Set the zip codes\n",
    "codes = [i for i in range(27006, 28909)]\n",
    "# codes.append('27606')   # just hard code one in\n",
    "code = codes[0]    # set the variable for zip_and_click\n",
    "len(codes)"
   ]
  },
  {
   "cell_type": "code",
   "execution_count": 5,
   "metadata": {},
   "outputs": [],
   "source": [
    "# inititial website to visit\n",
    "url = 'https://weather.com'"
   ]
  },
  {
   "cell_type": "code",
   "execution_count": 6,
   "metadata": {},
   "outputs": [],
   "source": [
    "def chrome():\n",
    "    '''\n",
    "    Finds the chromedriver in the system and creates a Chrome browser\n",
    "    '''\n",
    "    executable_path = {'executable_path': shutil.which('chromedriver')}\n",
    "    browser = Browser('chrome', **executable_path)\n",
    "    return(browser)"
   ]
  },
  {
   "cell_type": "code",
   "execution_count": 7,
   "metadata": {},
   "outputs": [],
   "source": [
    "def zip_and_click(code):\n",
    "    '''\n",
    "    Enter zip codes into the search bar on weather.com and click the first result.\n",
    "    No return, just leaves browser at the first data page.\n",
    "    '''\n",
    "    import time\n",
    "    \n",
    "    filled = False\n",
    "    clicked = False\n",
    "    \n",
    "    inputs = browser.find_by_tag('input') # get the search box reference\n",
    "    search_box = inputs[0]\n",
    "    while not filled:\n",
    "        try:\n",
    "            search_box.fill(code)\n",
    "            filled = True\n",
    "        except InvalidElementStateException:\n",
    "            time.sleep(1)\n",
    "    while not clicked:\n",
    "        try:\n",
    "            browser.click_link_by_partial_href('/weather/today/l')\n",
    "            print('no exception this time')\n",
    "            clicked = True\n",
    "        except ElementNotInteractableException:\n",
    "            print('exception found....waiting...')\n",
    "            time.sleep(1)\n",
    "    return(browser)     "
   ]
  },
  {
   "cell_type": "code",
   "execution_count": 8,
   "metadata": {},
   "outputs": [],
   "source": [
    "def scrape_now(browser):\n",
    "    ''' Get observed weather data from the current weather page '''\n",
    "    divs = browser.find_by_tag('div').first\n",
    "    nowcard = divs.find_by_tag('section.today_nowcard-container').value\n",
    "    nowlist = nowcard.split('\\n')\n",
    "    return(nowlist)"
   ]
  },
  {
   "cell_type": "code",
   "execution_count": 17,
   "metadata": {},
   "outputs": [],
   "source": [
    "def wind_dict(wind_str):\n",
    "    ''' handle the cases where the '''\n",
    "    if wind_str == 'Calm':\n",
    "        return {\n",
    "            'speed': 0,\n",
    "            'direction': None\n",
    "        }\n",
    "    else:\n",
    "        return {\n",
    "            'speed': wind_str.split()[1],\n",
    "            'direction': wind_str.split()[0]\n",
    "        }"
   ]
  },
  {
   "cell_type": "code",
   "execution_count": 10,
   "metadata": {},
   "outputs": [],
   "source": [
    "def scrape_next36(browser):\n",
    "    ''' Get the \"at a glance\" data from the next 36 hours '''\n",
    "#     browser.find_by_tag('div#daypart-0').click(wait_time=1)\n",
    "#     lookahead_values = browser.find_by_tag('div#daypart-0').value\n",
    "#     lookahead_details = browser.find_by_id('dp0-details-narrative').value\n",
    "#     for i in range(4):\n",
    "#         print(hum[i].value)\n",
    "\n",
    "    # All the dictionaries that are going to take values from scrape_next36()\n",
    "    next_36 = {\n",
    "        'now': {'wind': {},\n",
    "               'sun': {}\n",
    "        },\n",
    "        'at_start': {'wind': {},\n",
    "                    'sun': {}\n",
    "        },\n",
    "        'at_12': {'wind': {},\n",
    "                 'sun': {}\n",
    "        },\n",
    "        'at_24': {'wind': {},\n",
    "                 'sun': {}\n",
    "        },\n",
    "        'at_36': {'wind': {},\n",
    "                 'sun': {}\n",
    "        }\n",
    "    }\n",
    "    # Pulling data from the \"next 36 hours\" overview displays. There are 5 sections\n",
    "    # that are pulled from. Each section gets a different label.\n",
    "    hour_code = {'0':'now',\n",
    "                '1':'at_start',\n",
    "                '2':'at_12',\n",
    "                '3';'at_24',\n",
    "                '4':'at_36'\n",
    "    }\n",
    "    for i in range(5):\n",
    "        print(f'looking for {hour_code[str(i)]} snapshot')\n",
    "        browser.find_by_tag(f'div#daypart-{i}').click()\n",
    "        snapshot = browser.find_by_tag(f'div#daypart-{i}')\n",
    "        snap_values = snapshot.value\n",
    "        details = browser.find_by_tag('span.wx-detail-value')\n",
    "        detaillist = [details[j].value for j in range(4)]\n",
    "        print(f'completed section {i} snapshot')\n",
    "\n",
    "        #store the data\n",
    "         next_36[hour_code[str(i)].update = {'now': {'wind': {},\n",
    "                                                       'sun': {}\n",
    "                                            },\n",
    "                                            'at_start': {'wind': {},\n",
    "                                                        'sun': {}\n",
    "                                            },\n",
    "                                            'at_12': {'wind': {},\n",
    "                                                     'sun': {}\n",
    "                                            },\n",
    "                                            'at_24': {'wind': {},\n",
    "                                                     'sun': {}\n",
    "                                            },\n",
    "                                            'at_36': {'wind': {},\n",
    "                                                     'sun': {}\n",
    "                                            }\n",
    "            }\n",
    "\n",
    "#         print(f'looking for section {i} details')\n",
    "#         if i==0: \n",
    "#             next_36['now'].update({\n",
    "#                 'hour': 'now',\n",
    "#                 'condition': snap_values.split('\\n')[1]\n",
    "#             })\n",
    "#             next_36['now']['high/low'] = snap_values.split('\\n')[2]\n",
    "#             next_36['now']['temp_f'] = snap_values.split('\\n')[3]\n",
    "#             next_36['now']['chance_precip'] = snap_values.split('\\n')[4]\n",
    "#             next_36['now']['description'] = browser.find_by_id(f'dp{i}-details-narrative').first.value\n",
    "#             next_36['now']['wind']['speed_mph'] = detaillist[0].split(' ')[0]\n",
    "#             next_36['now']['wind']['direction'] = detaillist[0].split(' ')[1]\n",
    "#             next_36['now']['humidity'] = detaillist[1]\n",
    "#             next_36['now']['uv_index'] = detaillist[2]\n",
    "#             next_36['now']['sun']['rise'] = detaillist[3]\n",
    "#             next_36['now']['sun']['set'] = detaillist[3]\n",
    "#         elif i==1:\n",
    "#             next_36['at_start']['hour'] = 'at_start'\n",
    "#             next_36['at_start']['condition'] = snap_values.split('\\n')[1]\n",
    "#             next_36['at_start']['high/low'] = snap_values.split('\\n')[2]\n",
    "#             next_36['at_start']['temp_f'] = snap_values.split('\\n')[3]\n",
    "#             next_36['at_start']['chance_precip'] = snap_values.split('\\n')[4]\n",
    "#             next_36['at_start']['description'] = browser.find_by_id(f'dp{i}-details-narrative').first.value\n",
    "#             # THIS IS THROWING ERROR WHEN THE WIND IS DESCRIBED AS \"CALM\" (NO SECOND INDEX)\n",
    "#             # created the function 'wind_dict()'\n",
    "#             next_36['at_start']['wind'] = wind_dict(detaillist[0])\n",
    "            \n",
    "#             next_36['at_start']['humidity'] = detaillist[1]\n",
    "#             next_36['at_start']['uv_index'] = detaillist[2]\n",
    "#             next_36['at_start']['sun']['rise'] = detaillist[3]\n",
    "#             next_36['at_start']['sun']['set'] = detaillist[3]\n",
    "#         elif i==2:\n",
    "#             next_36['at_12']['hour'] = 'at_12'\n",
    "#             next_36['at_12']['condition'] = snap_values.split('\\n')[1]\n",
    "#             next_36['at_12']['high/low'] = snap_values.split('\\n')[2]\n",
    "#             next_36['at_12']['temp_f'] = snap_values.split('\\n')[3]\n",
    "#             next_36['at_12']['chance_precip'] = snap_values.split('\\n')[4]\n",
    "#             next_36['at_12']['description'] = browser.find_by_id(f'dp{i}-details-narrative').first.value\n",
    "#             next_36['at_12']['wind']['speed_mph'] = detaillist[0].split(' ')[0]\n",
    "#             next_36['at_12']['wind']['direction'] = detaillist[0].split(' ')[1]\n",
    "#             next_36['at_12']['humidity'] = detaillist[1]\n",
    "#             next_36['at_12']['uv_index'] = detaillist[2]\n",
    "#             next_36['at_12']['sun']['rise'] = detaillist[3]\n",
    "#             next_36['at_12']['sun']['set'] = detaillist[3]\n",
    "#         elif i==3:\n",
    "#             next_36['at_24']['hour'] = 'at_24'\n",
    "#             next_36['at_24']['condition'] = snap_values.split('\\n')[1]\n",
    "#             next_36['at_24']['high/low'] = snap_values.split('\\n')[2]\n",
    "#             next_36['at_24']['temp_f'] = snap_values.split('\\n')[3]\n",
    "#             next_36['at_24']['chance_precip'] = snap_values.split('\\n')[4]\n",
    "#             next_36['at_24']['description'] = browser.find_by_id(f'dp{i}-details-narrative').first.value\n",
    "#             next_36['at_24']['wind']['speed_mph'] = detaillist[0].split(' ')[0]\n",
    "#             next_36['at_24']['wind']['direction'] = detaillist[0].split(' ')[1]\n",
    "#             next_36['at_24']['humidity'] = detaillist[1]\n",
    "#             next_36['at_24']['uv_index'] = detaillist[2]\n",
    "#             next_36['at_24']['sun']['rise'] = detaillist[3]\n",
    "#             next_36['at_24']['sun']['set'] = detaillist[3]\n",
    "#         elif i ==4:\n",
    "#             next_36['at_36']['hour'] = 'at_36'\n",
    "#             next_36['at_36']['condition'] = snap_values.split('\\n')[1]\n",
    "#             next_36['at_36']['high/low'] = snap_values.split('\\n')[2]\n",
    "#             next_36['at_36']['temp_f'] = snap_values.split('\\n')[3]\n",
    "#             next_36['at_36']['chance_precip'] = snap_values.split('\\n')[4]\n",
    "#             next_36['at_36']['description'] = browser.find_by_id(f'dp{i}-details-narrative').first.value\n",
    "#             next_36['at_36']['wind']['speed_mph'] = detaillist[0].split(' ')[0]\n",
    "#             next_36['at_36']['wind']['direction'] = detaillist[0].split(' ')[1]\n",
    "#             next_36['at_36']['humidity'] = detaillist[1]\n",
    "#             next_36['at_36']['uv_index'] = detaillist[2]\n",
    "#             next_36['at_36']['sun']['rise'] = detaillist[3]\n",
    "#             next_36['at_36']['sun']['set'] = detaillist[3]\n",
    "#         else:\n",
    "#             print(f'Breaking loop at i={i}')\n",
    "#             break\n",
    "    return(next_36)"
   ]
  },
  {
   "cell_type": "code",
   "execution_count": 11,
   "metadata": {},
   "outputs": [],
   "source": [
    "browser = chrome()"
   ]
  },
  {
   "cell_type": "code",
   "execution_count": 12,
   "metadata": {},
   "outputs": [],
   "source": [
    "browser.visit(url)"
   ]
  },
  {
   "cell_type": "code",
   "execution_count": 13,
   "metadata": {},
   "outputs": [
    {
     "name": "stdout",
     "output_type": "stream",
     "text": [
      "exception found....waiting...\n",
      "no exception this time\n"
     ]
    },
    {
     "data": {
      "text/plain": [
       "<splinter.driver.webdriver.chrome.WebDriver at 0x10de96a10>"
      ]
     },
     "execution_count": 13,
     "metadata": {},
     "output_type": "execute_result"
    }
   ],
   "source": [
    "zip_and_click(code)"
   ]
  },
  {
   "cell_type": "code",
   "execution_count": 14,
   "metadata": {},
   "outputs": [],
   "source": [
    "now = scrape_now(browser)"
   ]
  },
  {
   "cell_type": "code",
   "execution_count": 15,
   "metadata": {},
   "outputs": [
    {
     "data": {
      "text/plain": [
       "['RALEIGH, NC',\n",
       " 'as of 4:43 pm EST',\n",
       " '49°',\n",
       " 'SUNNY',\n",
       " 'feels like 49°',\n",
       " 'H -- L 29°',\n",
       " 'UV Index 0 of 10',\n",
       " 'Arctic Surge to Deliver Record Mid-November Cold',\n",
       " 'RIGHT NOW',\n",
       " 'WindS 1 mph',\n",
       " 'Humidity41%',\n",
       " 'Dew Point26°',\n",
       " 'Pressure30.21 in',\n",
       " 'Visibility10.0 mi']"
      ]
     },
     "execution_count": 15,
     "metadata": {},
     "output_type": "execute_result"
    }
   ],
   "source": [
    "now"
   ]
  },
  {
   "cell_type": "code",
   "execution_count": 18,
   "metadata": {},
   "outputs": [
    {
     "name": "stdout",
     "output_type": "stream",
     "text": [
      "looking for section 0 snapshot\n",
      "completed section 0 snapshot\n",
      "looking for section 0 details\n",
      "looking for section 1 snapshot\n",
      "completed section 1 snapshot\n",
      "looking for section 1 details\n",
      "looking for section 2 snapshot\n",
      "completed section 2 snapshot\n",
      "looking for section 2 details\n",
      "looking for section 3 snapshot\n"
     ]
    },
    {
     "ename": "ElementNotInteractableException",
     "evalue": "Message: element not interactable\n  (Session info: chrome=78.0.3904.97)\n",
     "output_type": "error",
     "traceback": [
      "\u001b[0;31m---------------------------------------------------------------------------\u001b[0m",
      "\u001b[0;31mElementNotInteractableException\u001b[0m           Traceback (most recent call last)",
      "\u001b[0;32m<ipython-input-18-9034bab55bae>\u001b[0m in \u001b[0;36m<module>\u001b[0;34m\u001b[0m\n\u001b[0;32m----> 1\u001b[0;31m \u001b[0mnext_36\u001b[0m \u001b[0;34m=\u001b[0m \u001b[0mscrape_next36\u001b[0m\u001b[0;34m(\u001b[0m\u001b[0mbrowser\u001b[0m\u001b[0;34m)\u001b[0m\u001b[0;34m\u001b[0m\u001b[0;34m\u001b[0m\u001b[0m\n\u001b[0m",
      "\u001b[0;32m<ipython-input-10-38c3cdcfe45b>\u001b[0m in \u001b[0;36mscrape_next36\u001b[0;34m(browser)\u001b[0m\n\u001b[1;32m     30\u001b[0m     \u001b[0;32mfor\u001b[0m \u001b[0mi\u001b[0m \u001b[0;32min\u001b[0m \u001b[0mrange\u001b[0m\u001b[0;34m(\u001b[0m\u001b[0;36m5\u001b[0m\u001b[0;34m)\u001b[0m\u001b[0;34m:\u001b[0m\u001b[0;34m\u001b[0m\u001b[0;34m\u001b[0m\u001b[0m\n\u001b[1;32m     31\u001b[0m         \u001b[0mprint\u001b[0m\u001b[0;34m(\u001b[0m\u001b[0;34mf'looking for section {i} snapshot'\u001b[0m\u001b[0;34m)\u001b[0m\u001b[0;34m\u001b[0m\u001b[0;34m\u001b[0m\u001b[0m\n\u001b[0;32m---> 32\u001b[0;31m         \u001b[0mbrowser\u001b[0m\u001b[0;34m.\u001b[0m\u001b[0mfind_by_tag\u001b[0m\u001b[0;34m(\u001b[0m\u001b[0;34mf'div#daypart-{i}'\u001b[0m\u001b[0;34m)\u001b[0m\u001b[0;34m.\u001b[0m\u001b[0mclick\u001b[0m\u001b[0;34m(\u001b[0m\u001b[0;34m)\u001b[0m\u001b[0;34m\u001b[0m\u001b[0;34m\u001b[0m\u001b[0m\n\u001b[0m\u001b[1;32m     33\u001b[0m         \u001b[0msnapshot\u001b[0m \u001b[0;34m=\u001b[0m \u001b[0mbrowser\u001b[0m\u001b[0;34m.\u001b[0m\u001b[0mfind_by_tag\u001b[0m\u001b[0;34m(\u001b[0m\u001b[0;34mf'div#daypart-{i}'\u001b[0m\u001b[0;34m)\u001b[0m\u001b[0;34m\u001b[0m\u001b[0;34m\u001b[0m\u001b[0m\n\u001b[1;32m     34\u001b[0m         \u001b[0msnap_values\u001b[0m \u001b[0;34m=\u001b[0m \u001b[0msnapshot\u001b[0m\u001b[0;34m.\u001b[0m\u001b[0mvalue\u001b[0m\u001b[0;34m\u001b[0m\u001b[0;34m\u001b[0m\u001b[0m\n",
      "\u001b[0;32m/Library/Frameworks/Python.framework/Versions/3.7/lib/python3.7/site-packages/splinter/driver/webdriver/__init__.py\u001b[0m in \u001b[0;36mclick\u001b[0;34m(self)\u001b[0m\n\u001b[1;32m    671\u001b[0m \u001b[0;34m\u001b[0m\u001b[0m\n\u001b[1;32m    672\u001b[0m     \u001b[0;32mdef\u001b[0m \u001b[0mclick\u001b[0m\u001b[0;34m(\u001b[0m\u001b[0mself\u001b[0m\u001b[0;34m)\u001b[0m\u001b[0;34m:\u001b[0m\u001b[0;34m\u001b[0m\u001b[0;34m\u001b[0m\u001b[0m\n\u001b[0;32m--> 673\u001b[0;31m         \u001b[0mself\u001b[0m\u001b[0;34m.\u001b[0m\u001b[0m_element\u001b[0m\u001b[0;34m.\u001b[0m\u001b[0mclick\u001b[0m\u001b[0;34m(\u001b[0m\u001b[0;34m)\u001b[0m\u001b[0;34m\u001b[0m\u001b[0;34m\u001b[0m\u001b[0m\n\u001b[0m\u001b[1;32m    674\u001b[0m \u001b[0;34m\u001b[0m\u001b[0m\n\u001b[1;32m    675\u001b[0m     \u001b[0;32mdef\u001b[0m \u001b[0mcheck\u001b[0m\u001b[0;34m(\u001b[0m\u001b[0mself\u001b[0m\u001b[0;34m)\u001b[0m\u001b[0;34m:\u001b[0m\u001b[0;34m\u001b[0m\u001b[0;34m\u001b[0m\u001b[0m\n",
      "\u001b[0;32m/Library/Frameworks/Python.framework/Versions/3.7/lib/python3.7/site-packages/selenium/webdriver/remote/webelement.py\u001b[0m in \u001b[0;36mclick\u001b[0;34m(self)\u001b[0m\n\u001b[1;32m     78\u001b[0m     \u001b[0;32mdef\u001b[0m \u001b[0mclick\u001b[0m\u001b[0;34m(\u001b[0m\u001b[0mself\u001b[0m\u001b[0;34m)\u001b[0m\u001b[0;34m:\u001b[0m\u001b[0;34m\u001b[0m\u001b[0;34m\u001b[0m\u001b[0m\n\u001b[1;32m     79\u001b[0m         \u001b[0;34m\"\"\"Clicks the element.\"\"\"\u001b[0m\u001b[0;34m\u001b[0m\u001b[0;34m\u001b[0m\u001b[0m\n\u001b[0;32m---> 80\u001b[0;31m         \u001b[0mself\u001b[0m\u001b[0;34m.\u001b[0m\u001b[0m_execute\u001b[0m\u001b[0;34m(\u001b[0m\u001b[0mCommand\u001b[0m\u001b[0;34m.\u001b[0m\u001b[0mCLICK_ELEMENT\u001b[0m\u001b[0;34m)\u001b[0m\u001b[0;34m\u001b[0m\u001b[0;34m\u001b[0m\u001b[0m\n\u001b[0m\u001b[1;32m     81\u001b[0m \u001b[0;34m\u001b[0m\u001b[0m\n\u001b[1;32m     82\u001b[0m     \u001b[0;32mdef\u001b[0m \u001b[0msubmit\u001b[0m\u001b[0;34m(\u001b[0m\u001b[0mself\u001b[0m\u001b[0;34m)\u001b[0m\u001b[0;34m:\u001b[0m\u001b[0;34m\u001b[0m\u001b[0;34m\u001b[0m\u001b[0m\n",
      "\u001b[0;32m/Library/Frameworks/Python.framework/Versions/3.7/lib/python3.7/site-packages/selenium/webdriver/remote/webelement.py\u001b[0m in \u001b[0;36m_execute\u001b[0;34m(self, command, params)\u001b[0m\n\u001b[1;32m    631\u001b[0m             \u001b[0mparams\u001b[0m \u001b[0;34m=\u001b[0m \u001b[0;34m{\u001b[0m\u001b[0;34m}\u001b[0m\u001b[0;34m\u001b[0m\u001b[0;34m\u001b[0m\u001b[0m\n\u001b[1;32m    632\u001b[0m         \u001b[0mparams\u001b[0m\u001b[0;34m[\u001b[0m\u001b[0;34m'id'\u001b[0m\u001b[0;34m]\u001b[0m \u001b[0;34m=\u001b[0m \u001b[0mself\u001b[0m\u001b[0;34m.\u001b[0m\u001b[0m_id\u001b[0m\u001b[0;34m\u001b[0m\u001b[0;34m\u001b[0m\u001b[0m\n\u001b[0;32m--> 633\u001b[0;31m         \u001b[0;32mreturn\u001b[0m \u001b[0mself\u001b[0m\u001b[0;34m.\u001b[0m\u001b[0m_parent\u001b[0m\u001b[0;34m.\u001b[0m\u001b[0mexecute\u001b[0m\u001b[0;34m(\u001b[0m\u001b[0mcommand\u001b[0m\u001b[0;34m,\u001b[0m \u001b[0mparams\u001b[0m\u001b[0;34m)\u001b[0m\u001b[0;34m\u001b[0m\u001b[0;34m\u001b[0m\u001b[0m\n\u001b[0m\u001b[1;32m    634\u001b[0m \u001b[0;34m\u001b[0m\u001b[0m\n\u001b[1;32m    635\u001b[0m     \u001b[0;32mdef\u001b[0m \u001b[0mfind_element\u001b[0m\u001b[0;34m(\u001b[0m\u001b[0mself\u001b[0m\u001b[0;34m,\u001b[0m \u001b[0mby\u001b[0m\u001b[0;34m=\u001b[0m\u001b[0mBy\u001b[0m\u001b[0;34m.\u001b[0m\u001b[0mID\u001b[0m\u001b[0;34m,\u001b[0m \u001b[0mvalue\u001b[0m\u001b[0;34m=\u001b[0m\u001b[0;32mNone\u001b[0m\u001b[0;34m)\u001b[0m\u001b[0;34m:\u001b[0m\u001b[0;34m\u001b[0m\u001b[0;34m\u001b[0m\u001b[0m\n",
      "\u001b[0;32m/Library/Frameworks/Python.framework/Versions/3.7/lib/python3.7/site-packages/selenium/webdriver/remote/webdriver.py\u001b[0m in \u001b[0;36mexecute\u001b[0;34m(self, driver_command, params)\u001b[0m\n\u001b[1;32m    319\u001b[0m         \u001b[0mresponse\u001b[0m \u001b[0;34m=\u001b[0m \u001b[0mself\u001b[0m\u001b[0;34m.\u001b[0m\u001b[0mcommand_executor\u001b[0m\u001b[0;34m.\u001b[0m\u001b[0mexecute\u001b[0m\u001b[0;34m(\u001b[0m\u001b[0mdriver_command\u001b[0m\u001b[0;34m,\u001b[0m \u001b[0mparams\u001b[0m\u001b[0;34m)\u001b[0m\u001b[0;34m\u001b[0m\u001b[0;34m\u001b[0m\u001b[0m\n\u001b[1;32m    320\u001b[0m         \u001b[0;32mif\u001b[0m \u001b[0mresponse\u001b[0m\u001b[0;34m:\u001b[0m\u001b[0;34m\u001b[0m\u001b[0;34m\u001b[0m\u001b[0m\n\u001b[0;32m--> 321\u001b[0;31m             \u001b[0mself\u001b[0m\u001b[0;34m.\u001b[0m\u001b[0merror_handler\u001b[0m\u001b[0;34m.\u001b[0m\u001b[0mcheck_response\u001b[0m\u001b[0;34m(\u001b[0m\u001b[0mresponse\u001b[0m\u001b[0;34m)\u001b[0m\u001b[0;34m\u001b[0m\u001b[0;34m\u001b[0m\u001b[0m\n\u001b[0m\u001b[1;32m    322\u001b[0m             response['value'] = self._unwrap_value(\n\u001b[1;32m    323\u001b[0m                 response.get('value', None))\n",
      "\u001b[0;32m/Library/Frameworks/Python.framework/Versions/3.7/lib/python3.7/site-packages/selenium/webdriver/remote/errorhandler.py\u001b[0m in \u001b[0;36mcheck_response\u001b[0;34m(self, response)\u001b[0m\n\u001b[1;32m    240\u001b[0m                 \u001b[0malert_text\u001b[0m \u001b[0;34m=\u001b[0m \u001b[0mvalue\u001b[0m\u001b[0;34m[\u001b[0m\u001b[0;34m'alert'\u001b[0m\u001b[0;34m]\u001b[0m\u001b[0;34m.\u001b[0m\u001b[0mget\u001b[0m\u001b[0;34m(\u001b[0m\u001b[0;34m'text'\u001b[0m\u001b[0;34m)\u001b[0m\u001b[0;34m\u001b[0m\u001b[0;34m\u001b[0m\u001b[0m\n\u001b[1;32m    241\u001b[0m             \u001b[0;32mraise\u001b[0m \u001b[0mexception_class\u001b[0m\u001b[0;34m(\u001b[0m\u001b[0mmessage\u001b[0m\u001b[0;34m,\u001b[0m \u001b[0mscreen\u001b[0m\u001b[0;34m,\u001b[0m \u001b[0mstacktrace\u001b[0m\u001b[0;34m,\u001b[0m \u001b[0malert_text\u001b[0m\u001b[0;34m)\u001b[0m\u001b[0;34m\u001b[0m\u001b[0;34m\u001b[0m\u001b[0m\n\u001b[0;32m--> 242\u001b[0;31m         \u001b[0;32mraise\u001b[0m \u001b[0mexception_class\u001b[0m\u001b[0;34m(\u001b[0m\u001b[0mmessage\u001b[0m\u001b[0;34m,\u001b[0m \u001b[0mscreen\u001b[0m\u001b[0;34m,\u001b[0m \u001b[0mstacktrace\u001b[0m\u001b[0;34m)\u001b[0m\u001b[0;34m\u001b[0m\u001b[0;34m\u001b[0m\u001b[0m\n\u001b[0m\u001b[1;32m    243\u001b[0m \u001b[0;34m\u001b[0m\u001b[0m\n\u001b[1;32m    244\u001b[0m     \u001b[0;32mdef\u001b[0m \u001b[0m_value_or_default\u001b[0m\u001b[0;34m(\u001b[0m\u001b[0mself\u001b[0m\u001b[0;34m,\u001b[0m \u001b[0mobj\u001b[0m\u001b[0;34m,\u001b[0m \u001b[0mkey\u001b[0m\u001b[0;34m,\u001b[0m \u001b[0mdefault\u001b[0m\u001b[0;34m)\u001b[0m\u001b[0;34m:\u001b[0m\u001b[0;34m\u001b[0m\u001b[0;34m\u001b[0m\u001b[0m\n",
      "\u001b[0;31mElementNotInteractableException\u001b[0m: Message: element not interactable\n  (Session info: chrome=78.0.3904.97)\n"
     ]
    }
   ],
   "source": [
    "next_36 = scrape_next36(browser)"
   ]
  },
  {
   "cell_type": "code",
   "execution_count": null,
   "metadata": {},
   "outputs": [],
   "source": [
    "next_36"
   ]
  },
  {
   "cell_type": "code",
   "execution_count": null,
   "metadata": {},
   "outputs": [],
   "source": []
  },
  {
   "cell_type": "code",
   "execution_count": 31,
   "metadata": {},
   "outputs": [
    {
     "name": "stdout",
     "output_type": "stream",
     "text": [
      "looking for section 0 snapshot\n",
      "completed section 0 snapshot\n",
      "looking for section 0 details\n",
      "section 0 complete\n",
      "looking for section 1 snapshot\n",
      "completed section 1 snapshot\n",
      "looking for section 1 details\n",
      "section 1 complete\n",
      "looking for section 2 snapshot\n",
      "completed section 2 snapshot\n",
      "looking for section 2 details\n",
      "section 2 complete\n",
      "looking for section 3 snapshot\n",
      "completed section 3 snapshot\n",
      "looking for section 3 details\n",
      "section 3 complete\n",
      "looking for section 4 snapshot\n",
      "completed section 4 snapshot\n",
      "looking for section 4 details\n",
      "section 4 complete\n"
     ]
    }
   ],
   "source": [
    "next_36 = {}\n",
    "next_36['now'] = {}\n",
    "next_36['at_start'] = {}\n",
    "next_36['at_12'] = {}\n",
    "next_36['at_24'] = {}\n",
    "next_36['at_36'] = {}\n",
    "next_36['now']['wind'] = {}\n",
    "next_36['at_start']['wind'] = {}\n",
    "next_36['at_12']['wind'] = {}\n",
    "next_36['at_24']['wind'] = {}\n",
    "next_36['at_36']['wind'] = {}\n",
    "next_36['now']['sun'] = {}\n",
    "next_36['at_start']['sun'] = {}\n",
    "next_36['at_12']['sun'] = {}\n",
    "next_36['at_24']['sun'] = {}\n",
    "next_36['at_36']['sun'] = {}\n",
    "\n",
    "# Pulling data from the \"next 36 hours\" overview displays. There are 5 sections\n",
    "# that are pulled from. Each section gets a different label.\n",
    "for i in range(5):\n",
    "    print(f'looking for section {i} snapshot')\n",
    "    browser.find_by_tag(f'div#daypart-{i}').click()\n",
    "#     print('clicked first')\n",
    "    snapshot = browser.find_by_tag(f'div#daypart-{i}')\n",
    "#     print('found snapshot')\n",
    "    snap_values = snapshot.value\n",
    "#     print('stored snap values:', snap_values)\n",
    "    details = browser.find_by_tag('span.wx-detail-value')\n",
    "#     print('found details')\n",
    "    detaillist = [details[j].value for j in range(4)]\n",
    "#     print('created the details list: ', detaillist)\n",
    "    print(f'completed section {i} snapshot')\n",
    "    \n",
    "    # getting the values labeled as is appropriate\n",
    "    print(f'looking for section {i} details')\n",
    "    if i==0:\n",
    "        next_36['now']['hour'] = 'now'\n",
    "#         print('entered \"hour\"')\n",
    "        next_36['now']['condition'] = snap_values.split('\\n')[1]\n",
    "#         print('entered \"conditions\"')\n",
    "        next_36['now']['high/low'] = snap_values.split('\\n')[2]\n",
    "#         print('entered \"high/low\"')\n",
    "        next_36['now']['temp_f'] = snap_values.split('\\n')[3]\n",
    "#         print('entered \"temp\"')\n",
    "        next_36['now']['chance_precip'] = snap_values.split('\\n')[4]\n",
    "#         print('entered \"chance precip\"')\n",
    "        next_36['now']['description'] = browser.find_by_id(f'dp{i}-details-narrative').value\n",
    "#         print('entered \"desctiption\"')\n",
    "        next_36['now']['wind']['speed_mph'] = detaillist[0].split(' ')[0]\n",
    "#         print('entered \"windspeed\"')\n",
    "        next_36['now']['wind']['direction'] = detaillist[0].split(' ')[1]\n",
    "#         print('entered \"winddir\"')\n",
    "        next_36['now']['humidity'] = detaillist[1]\n",
    "#         print('entered \"hum\"')\n",
    "        next_36['now']['uv_index'] = detaillist[2]\n",
    "#         print('entered \"uv_index\"')\n",
    "        next_36['now']['sun']['rise'] = detaillist[3]\n",
    "#         print('entered \"sunrise\"')\n",
    "        next_36['now']['sun']['set'] = detaillist[3]\n",
    "#         print('entered \"sunset\"')\n",
    "        print(f'section {i} complete')\n",
    "    elif i==1:\n",
    "        next_36['at_start']['hour'] = 'at_start'\n",
    "        next_36['at_start']['condition'] = snap_values.split('\\n')[1]\n",
    "        next_36['at_start']['high/low'] = snap_values.split('\\n')[2]\n",
    "        next_36['at_start']['temp_f'] = snap_values.split('\\n')[3]\n",
    "        next_36['at_start']['chance_precip'] = snap_values.split('\\n')[4]\n",
    "        next_36['now']['description'] = browser.find_by_id(f'dp{i}-details-narrative').first.value\n",
    "        next_36['at_start']['wind']['speed_mph'] = detaillist[0].split(' ')[0]\n",
    "        next_36['at_start']['wind']['direction'] = detaillist[0].split(' ')[1]\n",
    "        next_36['at_start']['humidity'] = detaillist[1]\n",
    "        next_36['at_start']['uv_index'] = detaillist[2]\n",
    "        next_36['at_start']['sun']['rise'] = detaillist[3]\n",
    "        next_36['at_start']['sun']['set'] = detaillist[3]\n",
    "        print(f'section {i} complete')\n",
    "    elif i==2:\n",
    "        next_36['at_12']['hour'] = 'at_12'\n",
    "        next_36['at_12']['condition'] = snap_values.split('\\n')[1]\n",
    "        next_36['at_12']['high/low'] = snap_values.split('\\n')[2]\n",
    "        next_36['at_12']['temp_f'] = snap_values.split('\\n')[3]\n",
    "        next_36['at_12']['chance_precip'] = snap_values.split('\\n')[4]\n",
    "        next_36['now']['description'] = browser.find_by_id(f'dp{i}-details-narrative').first.value\n",
    "        next_36['at_12']['wind']['speed_mph'] = detaillist[0].split(' ')[0]\n",
    "        next_36['at_12']['wind']['direction'] = detaillist[0].split(' ')[1]\n",
    "        next_36['at_12']['humidity'] = detaillist[1]\n",
    "        next_36['at_12']['uv_index'] = detaillist[2]\n",
    "        next_36['at_12']['sun']['rise'] = detaillist[3]\n",
    "        next_36['at_12']['sun']['set'] = detaillist[3]\n",
    "        print(f'section {i} complete')\n",
    "    elif i==3:\n",
    "        next_36['at_24']['hour'] = 'at_24'\n",
    "        next_36['at_24']['condition'] = snap_values.split('\\n')[1]\n",
    "        next_36['at_24']['high/low'] = snap_values.split('\\n')[2]\n",
    "        next_36['at_24']['temp_f'] = snap_values.split('\\n')[3]\n",
    "        next_36['at_24']['chance_precip'] = snap_values.split('\\n')[4]\n",
    "        next_36['now']['description'] = browser.find_by_id(f'dp{i}-details-narrative').first.value\n",
    "        next_36['at_24']['wind']['speed_mph'] = detaillist[0].split(' ')[0]\n",
    "        next_36['at_24']['wind']['direction'] = detaillist[0].split(' ')[1]\n",
    "        next_36['at_24']['humidity'] = detaillist[1]\n",
    "        next_36['at_24']['uv_index'] = detaillist[2]\n",
    "        next_36['at_24']['sun']['rise'] = detaillist[3]\n",
    "        next_36['at_24']['sun']['set'] = detaillist[3]\n",
    "        print(f'section {i} complete')\n",
    "    elif i ==4:\n",
    "        next_36['at_36']['hour'] = 'at_36'\n",
    "        next_36['at_36']['condition'] = snap_values.split('\\n')[1]\n",
    "        next_36['at_36']['high/low'] = snap_values.split('\\n')[2]\n",
    "        next_36['at_36']['temp_f'] = snap_values.split('\\n')[3]\n",
    "        next_36['at_36']['chance_precip'] = snap_values.split('\\n')[4]\n",
    "        next_36['now']['description'] = browser.find_by_id(f'dp{i}-details-narrative').first.value\n",
    "        next_36['at_36']['wind']['speed_mph'] = detaillist[0].split(' ')[0]\n",
    "        next_36['at_36']['wind']['direction'] = detaillist[0].split(' ')[1]\n",
    "        next_36['at_36']['humidity'] = detaillist[1]\n",
    "        next_36['at_36']['uv_index'] = detaillist[2]\n",
    "        next_36['at_36']['sun']['rise'] = detaillist[3]\n",
    "        next_36['at_36']['sun']['set'] = detaillist[3]\n",
    "        print(f'section {i} complete')\n",
    "    else:\n",
    "        print('Everytihng checked and nothing done.')\n",
    "        break\n"
   ]
  },
  {
   "cell_type": "code",
   "execution_count": null,
   "metadata": {},
   "outputs": [],
   "source": []
  },
  {
   "cell_type": "code",
   "execution_count": 20,
   "metadata": {},
   "outputs": [
    {
     "name": "stdout",
     "output_type": "stream",
     "text": [
      "['TODAY', 'SUNNY', 'HIGH', '51°', '0%']\n"
     ]
    },
    {
     "data": {
      "text/plain": [
       "['ESE 5 mph', '46%', '4 of 10', '6:44 am5:12 pm']"
      ]
     },
     "execution_count": 20,
     "metadata": {},
     "output_type": "execute_result"
    }
   ],
   "source": [
    "browser.find_by_tag('div#daypart-0').click()\n",
    "snapshot = browser.find_by_tag('div#daypart-0').value\n",
    "snaplist = snapshot.split('\\n')\n",
    "details = browser.find_by_tag('span.wx-detail-value')\n",
    "detailslist = [details[i].value for i in range(4)]\n",
    "print(snaplist)\n",
    "detailslist"
   ]
  },
  {
   "cell_type": "code",
   "execution_count": 49,
   "metadata": {},
   "outputs": [
    {
     "name": "stdout",
     "output_type": "stream",
     "text": [
      "['TONIGHT', 'RAIN', 'LOW', '42°', '90%']\n"
     ]
    }
   ],
   "source": [
    "print(snaplist)"
   ]
  },
  {
   "cell_type": "code",
   "execution_count": 43,
   "metadata": {},
   "outputs": [
    {
     "name": "stdout",
     "output_type": "stream",
     "text": [
      "None\n"
     ]
    }
   ],
   "source": [
    "details = exec(\"browser.find_by_tag('span#dp0-details-wind')\")\n",
    "# dp_details = {}\n",
    "# for i in range(4):\n",
    "#     dp_details[exec(\"browser.find_by_tag('span#dp{i}-details-wind'.format(i))\").value]\n",
    "print(details)"
   ]
  },
  {
   "cell_type": "code",
   "execution_count": 35,
   "metadata": {},
   "outputs": [
    {
     "name": "stdout",
     "output_type": "stream",
     "text": [
      "<splinter.element_list.ElementList object at 0x104ad09d0>\n"
     ]
    }
   ],
   "source": [
    "details = browser.find_by_tag('span.wx-detail-value')\n",
    "print(details)"
   ]
  },
  {
   "cell_type": "code",
   "execution_count": 36,
   "metadata": {},
   "outputs": [
    {
     "name": "stdout",
     "output_type": "stream",
     "text": [
      "NNW 10 mph\n",
      "86%\n",
      "0 of 10\n",
      "6:43 am5:13 pm\n"
     ]
    }
   ],
   "source": [
    "for i in range(4):\n",
    "    print(details[i].value)"
   ]
  },
  {
   "cell_type": "code",
   "execution_count": 12,
   "metadata": {},
   "outputs": [
    {
     "data": {
      "text/plain": [
       "'TODAY\\nHIGH\\n70°\\n10%'"
      ]
     },
     "execution_count": 12,
     "metadata": {},
     "output_type": "execute_result"
    }
   ],
   "source": [
    "# browser.find_by_tag('div.today-daypart-content').first.value"
   ]
  },
  {
   "cell_type": "code",
   "execution_count": 26,
   "metadata": {},
   "outputs": [
    {
     "data": {
      "text/plain": [
       "'A clear sky. Scattered frost possible. Low around 30F. Winds light and variable.'"
      ]
     },
     "execution_count": 26,
     "metadata": {},
     "output_type": "execute_result"
    }
   ],
   "source": [
    "description = browser.find_by_id('dp1-details-narrative').first.value\n",
    "description"
   ]
  },
  {
   "cell_type": "code",
   "execution_count": 32,
   "metadata": {},
   "outputs": [],
   "source": [
    "browser.quit()"
   ]
  },
  {
   "cell_type": "code",
   "execution_count": 13,
   "metadata": {},
   "outputs": [],
   "source": []
  },
  {
   "cell_type": "code",
   "execution_count": 14,
   "metadata": {},
   "outputs": [
    {
     "data": {
      "text/plain": [
       "1"
      ]
     },
     "execution_count": 14,
     "metadata": {},
     "output_type": "execute_result"
    }
   ],
   "source": []
  },
  {
   "cell_type": "code",
   "execution_count": 16,
   "metadata": {},
   "outputs": [
    {
     "data": {
      "text/plain": [
       "'Today'"
      ]
     },
     "execution_count": 16,
     "metadata": {},
     "output_type": "execute_result"
    }
   ],
   "source": []
  },
  {
   "cell_type": "code",
   "execution_count": 17,
   "metadata": {},
   "outputs": [
    {
     "name": "stdout",
     "output_type": "stream",
     "text": [
      "got input box\n"
     ]
    }
   ],
   "source": []
  },
  {
   "cell_type": "code",
   "execution_count": 18,
   "metadata": {},
   "outputs": [
    {
     "data": {
      "text/plain": [
       "1"
      ]
     },
     "execution_count": 18,
     "metadata": {},
     "output_type": "execute_result"
    }
   ],
   "source": []
  },
  {
   "cell_type": "code",
   "execution_count": 19,
   "metadata": {},
   "outputs": [],
   "source": []
  },
  {
   "cell_type": "code",
   "execution_count": 20,
   "metadata": {},
   "outputs": [],
   "source": []
  },
  {
   "cell_type": "code",
   "execution_count": 25,
   "metadata": {},
   "outputs": [
    {
     "name": "stdout",
     "output_type": "stream",
     "text": [
      "now\n",
      "now\n",
      "looking for now snapshot\n",
      "at_start\n",
      "looking for at_start snapshot\n",
      "at_12\n",
      "looking for at_12 snapshot\n",
      "at_24\n",
      "looking for at_24 snapshot\n",
      "at_36\n",
      "looking for at_36 snapshot\n"
     ]
    }
   ],
   "source": [
    "hour_code = {'0':'now',\n",
    "            '1':'at_start',\n",
    "            '2':'at_12',\n",
    "            '3':'at_24',\n",
    "            '4':'at_36'\n",
    "}\n",
    "print(hour_code['0'])\n",
    "for i in range(5):\n",
    "    print(hour_code[str(i)])\n",
    "    print(f'looking for {hour_code[str(i)]} snapshot')"
   ]
  },
  {
   "cell_type": "code",
   "execution_count": null,
   "metadata": {},
   "outputs": [],
   "source": [
    "### SEARCH FOR THE TABLE THAT HOLDS THE SEARCH RESULTS ###"
   ]
  }
 ],
 "metadata": {
  "kernelspec": {
   "display_name": "Python 3",
   "language": "python",
   "name": "python3"
  },
  "language_info": {
   "codemirror_mode": {
    "name": "ipython",
    "version": 3
   },
   "file_extension": ".py",
   "mimetype": "text/x-python",
   "name": "python",
   "nbconvert_exporter": "python",
   "pygments_lexer": "ipython3",
   "version": "3.7.4"
  }
 },
 "nbformat": 4,
 "nbformat_minor": 2
}
