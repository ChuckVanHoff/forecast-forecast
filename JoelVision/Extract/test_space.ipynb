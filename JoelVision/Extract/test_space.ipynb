{
 "cells": [
  {
   "cell_type": "code",
   "execution_count": 1,
   "metadata": {},
   "outputs": [],
   "source": [
    "from splinter import Browser\n",
    "from selenium.common.exceptions import InvalidElementStateException\n",
    "from selenium.common.exceptions import ElementNotInteractableException\n",
    "from bs4 import BeautifulSoup\n",
    "from pprint import pprint\n",
    "import pandas as pd\n",
    "import html5lib\n",
    "import lxml\n",
    "import shutil\n",
    "import time\n",
    "import urllib3\n",
    "import requests\n",
    "from pymongo import MongoClient\n",
    "from pymongo.errors import ConnectionFailure\n",
    "import json\n",
    "import os\n",
    "from os import path"
   ]
  },
  {
   "cell_type": "code",
   "execution_count": 2,
   "metadata": {},
   "outputs": [],
   "source": [
    "# Set the zip codes\n",
    "codes = []\n",
    "codes.append('27606')   # just hard code one in\n",
    "code = codes[0]   # set the variable for zip_and_click\n",
    "global browser\n",
    "forecast_type = str   # so I can add the dict field in the function argument\n",
    "data = {}\n",
    "host = 'localhost'\n",
    "port = 27017"
   ]
  },
  {
   "cell_type": "code",
   "execution_count": 3,
   "metadata": {},
   "outputs": [],
   "source": [
    "# inititial website to visit\n",
    "url = 'https://weather.com'"
   ]
  },
  {
   "cell_type": "code",
   "execution_count": 4,
   "metadata": {},
   "outputs": [],
   "source": [
    "def chrome():\n",
    "    '''\n",
    "    Finds the chromedriver in the system and creates a Chrome browser\n",
    "    '''\n",
    "    executable_path = {'executable_path': shutil.which('chromedriver')}\n",
    "    browser = Browser('chrome', **executable_path)\n",
    "    return(browser)"
   ]
  },
  {
   "cell_type": "code",
   "execution_count": 5,
   "metadata": {},
   "outputs": [],
   "source": [
    "def zip_and_click(code):\n",
    "    '''\n",
    "    Enter zip codes into the search bar on weather.com and click the first result.\n",
    "    No return, just leaves browser at the first data page.\n",
    "    '''\n",
    "    import time\n",
    "    \n",
    "    filled = False\n",
    "    clicked = False\n",
    "    \n",
    "    inputs = browser.find_by_tag('input') # get the search box reference\n",
    "    search_box = inputs[0]\n",
    "    while not filled:\n",
    "        try:\n",
    "            search_box.fill(code)\n",
    "            filled = True\n",
    "        except InvalidElementStateException:\n",
    "            time.sleep(1)\n",
    "    while not clicked:\n",
    "        try:\n",
    "            browser.click_link_by_partial_href('/weather/today/l')\n",
    "            print('no exception this time')\n",
    "            clicked = True\n",
    "        except ElementNotInteractableException:\n",
    "            print('exception found....waiting...')\n",
    "            time.sleep(1)\n",
    "    return     "
   ]
  },
  {
   "cell_type": "code",
   "execution_count": 6,
   "metadata": {},
   "outputs": [],
   "source": [
    "def wind_dict(wind_str):\n",
    "    ''' handle the cases where the wind value is simply \"calm\" rather than direction and speed '''\n",
    "    if wind_str == 'Calm':\n",
    "        return {\n",
    "            'speed': 0,\n",
    "            'direction': None\n",
    "        }\n",
    "    else:\n",
    "        return {\n",
    "            'speed': wind_str.split()[1].lower(),\n",
    "            'direction': wind_str.split()[0].lower()\n",
    "        }"
   ]
  },
  {
   "cell_type": "code",
   "execution_count": 7,
   "metadata": {},
   "outputs": [],
   "source": [
    "def to_json(data, code):\n",
    "    ''' Store the collected data as a json file in the case that the database\n",
    "        is not connected or otherwise unavailable. '''\n",
    "    collection = json.dumps(data)\n",
    "    directory = os.getcwd()\n",
    "    path = path.join(directory, 'Data', f'{code}.json')\n",
    "    Data = open(path, 'a')\n",
    "    Data.write(collection)\n",
    "    Data.close()\n",
    "    return"
   ]
  },
  {
   "cell_type": "code",
   "execution_count": 8,
   "metadata": {},
   "outputs": [],
   "source": [
    "def scrape_now(browser):\n",
    "    ''' Get observed weather data from the current weather page '''\n",
    "    right_now = {}\n",
    "    divs = browser.find_by_tag('div').first\n",
    "    nowcard = divs.find_by_tag('section.today_nowcard-container').value\n",
    "    now = nowcard.split('\\n')\n",
    "    right_now.update({'as_of': [x.lower() for  x in now[1].split()[3:5]],\n",
    "                 'observations': {'temp F': {'measured': now[2].lower(),\n",
    "                                            'feels_like': [x.lower() for x in now[4][11:]]\n",
    "                                            },\n",
    "                                 'description': now[3].lower(),\n",
    "                                 'uv_index': now[6].split()[3].lower(),\n",
    "                                 'wind': wind_dict(now[10]),\n",
    "#                                     {'speed mph': now[10].split()[1].lower(),\n",
    "#                                          'direction': now[10].split()[0].lower()\n",
    "#                                          },\n",
    "                                 'humidity': now[12].lower(),\n",
    "                                 'dew_point': now[14].lower(),\n",
    "                                 'pressure': {'in': now[16].split()[0].lower(),\n",
    "                                             'change': ''\n",
    "                                             },\n",
    "                                  'visibility mi': now[18].lower()\n",
    "                                 }\n",
    "                 })\n",
    "    # Store the data\n",
    "    data['right_now'] = right_now\n",
    "#     to_json(data=right_now, code)\n",
    "    return"
   ]
  },
  {
   "cell_type": "code",
   "execution_count": 9,
   "metadata": {},
   "outputs": [],
   "source": [
    "def scrape_next36(browser):\n",
    "    ''' Get the \"at a glance\" data from the next 36 hours '''\n",
    "\n",
    "    next_36 = {}\n",
    "    \n",
    "    # Pulling data from the \"next 36 hours\" overview displays. There are 5 sections\n",
    "    # that are pulled from. Each section gets a different label.\n",
    "    hour_code = {'0':'now',\n",
    "                '1':'at_start',\n",
    "                '2':'at_12',\n",
    "                '3':'at_24',\n",
    "                '4':'at_36'\n",
    "                }\n",
    "    for i in range(5):\n",
    "        try:\n",
    "            browser.find_by_tag(f'div#daypart-{i}').click()\n",
    "        except ElementNotInteractableException:\n",
    "            print('ElementNotInteractableException occured: breaking loop.')\n",
    "            break\n",
    "        snapshot = browser.find_by_tag(f'div#daypart-{i}')\n",
    "        snap_values = snapshot.value\n",
    "        details = browser.find_by_tag('span.wx-detail-value')\n",
    "        detaillist = [details[j].value for j in range(4)]\n",
    "\n",
    "        #store the data\n",
    "        next_36.update({hour_code[str(i)]: {'hour': 'CALCULATED HOUR OF PREDICTION',\n",
    "                                            'condition': snap_values.split('\\n')[1].lower(),\n",
    "                                            'high/low': snap_values.split('\\n')[2].lower(),\n",
    "                                            'temp_f': snap_values.split('\\n')[3].lower(),\n",
    "                                            'chance_precip': snap_values.split('\\n')[4].lower(),\n",
    "                                            'description': browser.find_by_id(f'dp{i}-details-narrative').first.value.lower(),\n",
    "                                            'wind': wind_dict(detaillist[0]),\n",
    "                                            'humidity': detaillist[1].lower(),\n",
    "                                            'uv_index': detaillist[2].lower(),\n",
    "                                            'sun': {'rise': detaillist[3].lower(),\n",
    "                                                    'set': detaillist[3].lower()\n",
    "                                                   }\n",
    "                                              }\n",
    "                      })\n",
    "    data['next_36'] = next_36\n",
    "#     to_json(data=next_36, code)\n",
    "    return"
   ]
  },
  {
   "cell_type": "code",
   "execution_count": 10,
   "metadata": {},
   "outputs": [],
   "source": [
    "def goto_hourly(browser):\n",
    "    ''' Take the browser to the hourly numbers '''\n",
    "    browser.find_by_text('Hourly').click()\n",
    "    time.sleep(.5)\n",
    "    n=0\n",
    "    while browser.is_text_present('Next 8 Hours'):\n",
    "        n+=1\n",
    "        browser.find_by_text('Next 8 Hours').click()\n",
    "        time.sleep(.5)\n",
    "    else:\n",
    "        print(f'got {8*n} hours of forcast')\n",
    "    return"
   ]
  },
  {
   "cell_type": "code",
   "execution_count": 11,
   "metadata": {},
   "outputs": [],
   "source": [
    "def get_tables(forecast_type, browser):\n",
    "    ''' Get the tables from the current page and turn to pandas df's '''\n",
    "    url = browser.url\n",
    "    r = requests.get(url)\n",
    "    dfs = pd.read_html(r.text)\n",
    "    df = dfs[0]\n",
    "    d_table = df.to_json(orient='index')\n",
    "    data[forecast_type] = d_table\n",
    "    return(df)"
   ]
  },
  {
   "cell_type": "code",
   "execution_count": 12,
   "metadata": {},
   "outputs": [],
   "source": [
    "def goto_tenday(browser):\n",
    "    ''' Get the ten day forcast '''\n",
    "    tenday = browser.find_by_text('10 Day Forecast')\n",
    "    if tenday:\n",
    "        tenday[1].click()\n",
    "    time.sleep(1)\n",
    "    return"
   ]
  },
  {
   "cell_type": "code",
   "execution_count": 13,
   "metadata": {},
   "outputs": [],
   "source": [
    "def check_db_access(str: host, port):\n",
    "    '''A check that there is write access to the database'''\n",
    "   \n",
    "    client = MongoClient(host=host, port=port)\n",
    "    try:\n",
    "        # The ismaster command is cheap and does not require auth.\n",
    "        client.admin.command('ismaster')\n",
    "        print('Connection made')\n",
    "    except ConnectionFailure:\n",
    "        print(\"Server not available\")\n",
    "        return\n",
    "\n",
    "    # check the database connections\n",
    "        # Get a count of the number of databases at the connection (accessible through that port)\n",
    "        # before attempting to add to it\n",
    "    db_count_pre = len(client.list_database_names())\n",
    "        # Add a database and collection\n",
    "    db = client.test_db\n",
    "    col = db.test_col\n",
    "\n",
    "    # Insert something to the db\n",
    "    post = {'name':'Chuck VanHoff',\n",
    "           'age':'38',\n",
    "           'hobby':'gardening'\n",
    "           }\n",
    "    col.insert_one(post)\n",
    "\n",
    "        # Get a count of the databases after adding one\n",
    "    db_count_post = len(client.list_database_names())\n",
    "\n",
    "    if db_count_pre-db_count_post>=0:\n",
    "        print('Your conneciton is flipped up')\n",
    "    else:\n",
    "        print('You have write access')\n",
    "\n",
    "    client.drop_database(db)\n",
    "#     client.close()\n",
    "    return(client)"
   ]
  },
  {
   "cell_type": "code",
   "execution_count": 14,
   "metadata": {},
   "outputs": [],
   "source": [
    "def load(data):\n",
    "    ''' Load the data to the database if possible, otherwise write to json file '''\n",
    "    if type(data) == dict:\n",
    "        try:\n",
    "            db = client.forcast\n",
    "            col = db.code\n",
    "            col.insert_one(data)\n",
    "            print('Inserted to database')\n",
    "        except InvalidDocument:\n",
    "            to_json(data, code)\n",
    "            client.close()\n",
    "            print('Wrote to json')\n",
    "    else:\n",
    "#         load = df.to_json(orient='index')\n",
    "        to_json(load, code)\n",
    "    return"
   ]
  },
  {
   "cell_type": "code",
   "execution_count": 15,
   "metadata": {},
   "outputs": [
    {
     "name": "stdout",
     "output_type": "stream",
     "text": [
      "Connection made\n",
      "You have write access\n"
     ]
    }
   ],
   "source": [
    "client = check_db_access(host, port)"
   ]
  },
  {
   "cell_type": "code",
   "execution_count": 16,
   "metadata": {},
   "outputs": [
    {
     "data": {
      "text/plain": [
       "'/Users/mastacow/data/forcast-forcast/env/bin/chromedriver'"
      ]
     },
     "execution_count": 16,
     "metadata": {},
     "output_type": "execute_result"
    }
   ],
   "source": [
    "shutil.which('chromedriver')"
   ]
  },
  {
   "cell_type": "code",
   "execution_count": 17,
   "metadata": {
    "scrolled": true
   },
   "outputs": [],
   "source": [
    "browser = chrome()"
   ]
  },
  {
   "cell_type": "code",
   "execution_count": 18,
   "metadata": {},
   "outputs": [],
   "source": [
    "browser.visit(url)"
   ]
  },
  {
   "cell_type": "code",
   "execution_count": 19,
   "metadata": {},
   "outputs": [
    {
     "name": "stdout",
     "output_type": "stream",
     "text": [
      "exception found....waiting...\n",
      "no exception this time\n"
     ]
    }
   ],
   "source": [
    "zip_and_click(code)"
   ]
  },
  {
   "cell_type": "code",
   "execution_count": 20,
   "metadata": {},
   "outputs": [],
   "source": [
    "right_now = scrape_now(browser)\n",
    "# pprint(right_now)"
   ]
  },
  {
   "cell_type": "code",
   "execution_count": 21,
   "metadata": {},
   "outputs": [],
   "source": [
    "next_36 = scrape_next36(browser)\n",
    "# pprint(next_36)"
   ]
  },
  {
   "cell_type": "code",
   "execution_count": 23,
   "metadata": {},
   "outputs": [
    {
     "name": "stdout",
     "output_type": "stream",
     "text": [
      "got 32 hours of forcast\n"
     ]
    }
   ],
   "source": [
    "goto_hourly(browser)"
   ]
  },
  {
   "cell_type": "code",
   "execution_count": 25,
   "metadata": {},
   "outputs": [],
   "source": [
    "# A line that will click out of an advertisement\n",
    "browser.find_by_tag('a#bx-close-inside-970188')[0].click()"
   ]
  },
  {
   "cell_type": "code",
   "execution_count": 24,
   "metadata": {},
   "outputs": [],
   "source": [
    "hourly = get_tables('hourly', browser)\n",
    "# hourly"
   ]
  },
  {
   "cell_type": "code",
   "execution_count": 25,
   "metadata": {},
   "outputs": [],
   "source": [
    "goto_tenday(browser)"
   ]
  },
  {
   "cell_type": "code",
   "execution_count": 26,
   "metadata": {},
   "outputs": [
    {
     "data": {
      "text/plain": [
       "pandas.core.frame.DataFrame"
      ]
     },
     "execution_count": 26,
     "metadata": {},
     "output_type": "execute_result"
    }
   ],
   "source": [
    "df = get_tables('ten_day', browser)\n",
    "type(df)"
   ]
  },
  {
   "cell_type": "code",
   "execution_count": 31,
   "metadata": {},
   "outputs": [
    {
     "data": {
      "text/html": [
       "<div>\n",
       "<style scoped>\n",
       "    .dataframe tbody tr th:only-of-type {\n",
       "        vertical-align: middle;\n",
       "    }\n",
       "\n",
       "    .dataframe tbody tr th {\n",
       "        vertical-align: top;\n",
       "    }\n",
       "\n",
       "    .dataframe thead th {\n",
       "        text-align: right;\n",
       "    }\n",
       "</style>\n",
       "<table border=\"1\" class=\"dataframe\">\n",
       "  <thead>\n",
       "    <tr style=\"text-align: right;\">\n",
       "      <th></th>\n",
       "      <th>Day</th>\n",
       "      <th>Description</th>\n",
       "      <th>High / Low</th>\n",
       "      <th>Precip</th>\n",
       "      <th>Wind</th>\n",
       "      <th>Humidity</th>\n",
       "      <th>Unnamed: 6</th>\n",
       "    </tr>\n",
       "  </thead>\n",
       "  <tbody>\n",
       "    <tr>\n",
       "      <th>0</th>\n",
       "      <td>NaN</td>\n",
       "      <td>Partly Cloudy</td>\n",
       "      <td>--37°</td>\n",
       "      <td>10%</td>\n",
       "      <td>NNW 3 mph</td>\n",
       "      <td>86%</td>\n",
       "      <td>NaN</td>\n",
       "    </tr>\n",
       "    <tr>\n",
       "      <th>1</th>\n",
       "      <td>NaN</td>\n",
       "      <td>Partly Cloudy</td>\n",
       "      <td>51°28°</td>\n",
       "      <td>10%</td>\n",
       "      <td>NE 8 mph</td>\n",
       "      <td>65%</td>\n",
       "      <td>NaN</td>\n",
       "    </tr>\n",
       "    <tr>\n",
       "      <th>2</th>\n",
       "      <td>NaN</td>\n",
       "      <td>Mostly Sunny</td>\n",
       "      <td>50°42°</td>\n",
       "      <td>10%</td>\n",
       "      <td>ENE 3 mph</td>\n",
       "      <td>56%</td>\n",
       "      <td>NaN</td>\n",
       "    </tr>\n",
       "    <tr>\n",
       "      <th>3</th>\n",
       "      <td>NaN</td>\n",
       "      <td>Showers</td>\n",
       "      <td>56°54°</td>\n",
       "      <td>60%</td>\n",
       "      <td>SSW 6 mph</td>\n",
       "      <td>90%</td>\n",
       "      <td>NaN</td>\n",
       "    </tr>\n",
       "    <tr>\n",
       "      <th>4</th>\n",
       "      <td>NaN</td>\n",
       "      <td>Rain</td>\n",
       "      <td>63°38°</td>\n",
       "      <td>80%</td>\n",
       "      <td>SW 11 mph</td>\n",
       "      <td>85%</td>\n",
       "      <td>NaN</td>\n",
       "    </tr>\n",
       "  </tbody>\n",
       "</table>\n",
       "</div>"
      ],
      "text/plain": [
       "   Day    Description High / Low Precip       Wind Humidity Unnamed: 6\n",
       "0  NaN  Partly Cloudy      --37°    10%  NNW 3 mph      86%        NaN\n",
       "1  NaN  Partly Cloudy     51°28°    10%   NE 8 mph      65%        NaN\n",
       "2  NaN   Mostly Sunny     50°42°    10%  ENE 3 mph      56%        NaN\n",
       "3  NaN        Showers     56°54°    60%  SSW 6 mph      90%        NaN\n",
       "4  NaN           Rain     63°38°    80%  SW 11 mph      85%        NaN"
      ]
     },
     "execution_count": 31,
     "metadata": {},
     "output_type": "execute_result"
    }
   ],
   "source": [
    "df.shift(-1, axis=1).head()"
   ]
  },
  {
   "cell_type": "code",
   "execution_count": 27,
   "metadata": {},
   "outputs": [
    {
     "data": {
      "text/plain": [
       "{'right_now': {'as_of': ['pm', 'est'],\n",
       "  'observations': {'temp F': {'measured': '42°',\n",
       "    'feels_like': ['3', '9', '°']},\n",
       "   'description': 'mostly cloudy',\n",
       "   'uv_index': 'of',\n",
       "   'wind': {'speed': '5', 'direction': 'ene'},\n",
       "   'humidity': '62%',\n",
       "   'dew_point': '30°',\n",
       "   'pressure': {'in': '30.43', 'change': ''},\n",
       "   'visibility mi': '10.0 mi'}},\n",
       " 'next_36': {'now': {'hour': 'CALCULATED HOUR OF PREDICTION',\n",
       "   'condition': 'partly cloudy',\n",
       "   'high/low': 'low',\n",
       "   'temp_f': '30°',\n",
       "   'chance_precip': '10%',\n",
       "   'description': 'some clouds. low around 30f. winds light and variable.',\n",
       "   'wind': {'speed': '3', 'direction': 'ene'},\n",
       "   'humidity': '70%',\n",
       "   'uv_index': '0 of 10',\n",
       "   'sun': {'rise': '7:18 am5:07 pm', 'set': '7:18 am5:07 pm'}},\n",
       "  'at_start': {'hour': 'CALCULATED HOUR OF PREDICTION',\n",
       "   'condition': 'partly cloudy',\n",
       "   'high/low': 'high',\n",
       "   'temp_f': '51°',\n",
       "   'chance_precip': '10%',\n",
       "   'description': 'partly cloudy. high 51f. winds light and variable.',\n",
       "   'wind': {'speed': '4', 'direction': 'ene'},\n",
       "   'humidity': '56%',\n",
       "   'uv_index': '2 of 10',\n",
       "   'sun': {'rise': '7:19 am5:07 pm', 'set': '7:19 am5:07 pm'}},\n",
       "  'at_12': {'hour': 'CALCULATED HOUR OF PREDICTION',\n",
       "   'condition': 'cloudy',\n",
       "   'high/low': 'low',\n",
       "   'temp_f': '39°',\n",
       "   'chance_precip': '20%',\n",
       "   'description': 'overcast. low 39f. winds light and variable.',\n",
       "   'wind': {'speed': '2', 'direction': 'nne'},\n",
       "   'humidity': '78%',\n",
       "   'uv_index': '0 of 10',\n",
       "   'sun': {'rise': '7:19 am5:07 pm', 'set': '7:19 am5:07 pm'}},\n",
       "  'at_24': {'hour': 'CALCULATED HOUR OF PREDICTION',\n",
       "   'condition': 'few showers',\n",
       "   'high/low': 'high',\n",
       "   'temp_f': '54°',\n",
       "   'chance_precip': '30%',\n",
       "   'description': 'cloudy with a few showers. high 54f. winds light and variable. chance of rain 30%.',\n",
       "   'wind': {'speed': '5', 'direction': 'sw'},\n",
       "   'humidity': '89%',\n",
       "   'uv_index': '1 of 10',\n",
       "   'sun': {'rise': '7:20 am5:07 pm', 'set': '7:20 am5:07 pm'}},\n",
       "  'at_36': {'hour': 'CALCULATED HOUR OF PREDICTION',\n",
       "   'condition': 'showers early',\n",
       "   'high/low': 'low',\n",
       "   'temp_f': '51°',\n",
       "   'chance_precip': '50%',\n",
       "   'description': 'rain showers early with overcast skies late. low 51f. winds ssw at 5 to 10 mph. chance of rain 50%.',\n",
       "   'wind': {'speed': '7', 'direction': 'ssw'},\n",
       "   'humidity': '95%',\n",
       "   'uv_index': '0 of 10',\n",
       "   'sun': {'rise': '7:20 am5:07 pm', 'set': '7:20 am5:07 pm'}}},\n",
       " 'hourly': '{\"0\":{\"Time\":null,\"Description\":\"11:00 pm Sat\",\"Temp\":\"Mostly Cloudy\",\"Feels\":\"42\\\\u00b0\",\"Precip\":\"39\\\\u00b0\",\"Humidity\":\"0%\",\"Wind\":\"62%\",\"Unnamed: 7\":\"ENE 5 mph\"},\"1\":{\"Time\":null,\"Description\":\"12:00 am Sun\",\"Temp\":\"Mostly Cloudy\",\"Feels\":\"41\\\\u00b0\",\"Precip\":\"38\\\\u00b0\",\"Humidity\":\"0%\",\"Wind\":\"64%\",\"Unnamed: 7\":\"ENE 4 mph\"},\"2\":{\"Time\":null,\"Description\":\"1:00 am Sun\",\"Temp\":\"Mostly Cloudy\",\"Feels\":\"40\\\\u00b0\",\"Precip\":\"37\\\\u00b0\",\"Humidity\":\"0%\",\"Wind\":\"63%\",\"Unnamed: 7\":\"ENE 4 mph\"},\"3\":{\"Time\":null,\"Description\":\"2:00 am Sun\",\"Temp\":\"Partly Cloudy\",\"Feels\":\"39\\\\u00b0\",\"Precip\":\"36\\\\u00b0\",\"Humidity\":\"0%\",\"Wind\":\"64%\",\"Unnamed: 7\":\"ENE 4 mph\"},\"4\":{\"Time\":null,\"Description\":\"3:00 am Sun\",\"Temp\":\"Partly Cloudy\",\"Feels\":\"35\\\\u00b0\",\"Precip\":\"35\\\\u00b0\",\"Humidity\":\"0%\",\"Wind\":\"74%\",\"Unnamed: 7\":\"ENE 2 mph\"},\"5\":{\"Time\":null,\"Description\":\"4:00 am Sun\",\"Temp\":\"Mostly Clear\",\"Feels\":\"34\\\\u00b0\",\"Precip\":\"34\\\\u00b0\",\"Humidity\":\"0%\",\"Wind\":\"75%\",\"Unnamed: 7\":\"NE 2 mph\"},\"6\":{\"Time\":null,\"Description\":\"5:00 am Sun\",\"Temp\":\"Mostly Clear\",\"Feels\":\"33\\\\u00b0\",\"Precip\":\"33\\\\u00b0\",\"Humidity\":\"5%\",\"Wind\":\"78%\",\"Unnamed: 7\":\"NE 2 mph\"},\"7\":{\"Time\":null,\"Description\":\"6:00 amSun\",\"Temp\":\"Clear\",\"Feels\":\"32\\\\u00b0\",\"Precip\":\"32\\\\u00b0\",\"Humidity\":\"5%\",\"Wind\":\"81%\",\"Unnamed: 7\":\"NE 2 mph\"},\"8\":{\"Time\":null,\"Description\":\"7:00 amSun\",\"Temp\":\"Clear\",\"Feels\":\"31\\\\u00b0\",\"Precip\":\"31\\\\u00b0\",\"Humidity\":\"5%\",\"Wind\":\"83%\",\"Unnamed: 7\":\"NE 2 mph\"},\"9\":{\"Time\":null,\"Description\":\"8:00 amSun\",\"Temp\":\"Sunny\",\"Feels\":\"32\\\\u00b0\",\"Precip\":\"32\\\\u00b0\",\"Humidity\":\"5%\",\"Wind\":\"82%\",\"Unnamed: 7\":\"NE 2 mph\"},\"10\":{\"Time\":null,\"Description\":\"9:00 amSun\",\"Temp\":\"Sunny\",\"Feels\":\"36\\\\u00b0\",\"Precip\":\"33\\\\u00b0\",\"Humidity\":\"0%\",\"Wind\":\"70%\",\"Unnamed: 7\":\"NE 3 mph\"},\"11\":{\"Time\":null,\"Description\":\"10:00 am Sun\",\"Temp\":\"Mostly Sunny\",\"Feels\":\"39\\\\u00b0\",\"Precip\":\"36\\\\u00b0\",\"Humidity\":\"0%\",\"Wind\":\"61%\",\"Unnamed: 7\":\"ENE 4 mph\"},\"12\":{\"Time\":null,\"Description\":\"11:00 am Sun\",\"Temp\":\"Partly Cloudy\",\"Feels\":\"42\\\\u00b0\",\"Precip\":\"40\\\\u00b0\",\"Humidity\":\"0%\",\"Wind\":\"54%\",\"Unnamed: 7\":\"E 4 mph\"},\"13\":{\"Time\":null,\"Description\":\"12:00 pm Sun\",\"Temp\":\"Partly Cloudy\",\"Feels\":\"45\\\\u00b0\",\"Precip\":\"45\\\\u00b0\",\"Humidity\":\"0%\",\"Wind\":\"47%\",\"Unnamed: 7\":\"E 3 mph\"},\"14\":{\"Time\":null,\"Description\":\"1:00 pm Sun\",\"Temp\":\"Partly Cloudy\",\"Feels\":\"47\\\\u00b0\",\"Precip\":\"47\\\\u00b0\",\"Humidity\":\"0%\",\"Wind\":\"45%\",\"Unnamed: 7\":\"E 2 mph\"},\"15\":{\"Time\":null,\"Description\":\"2:00 pm Sun\",\"Temp\":\"Partly Cloudy\",\"Feels\":\"49\\\\u00b0\",\"Precip\":\"49\\\\u00b0\",\"Humidity\":\"0%\",\"Wind\":\"43%\",\"Unnamed: 7\":\"E 2 mph\"}}',\n",
       " 'ten_day': '{\"0\":{\"Day\":null,\"Description\":\"Tonight DEC 7\",\"High \\\\/ Low\":\"Partly Cloudy\",\"Precip\":\"--30\\\\u00b0\",\"Wind\":\"10%\",\"Humidity\":\"ENE 3 mph\",\"Unnamed: 6\":\"70%\"},\"1\":{\"Day\":null,\"Description\":\"Sun DEC 8\",\"High \\\\/ Low\":\"Partly Cloudy\",\"Precip\":\"51\\\\u00b039\\\\u00b0\",\"Wind\":\"10%\",\"Humidity\":\"ENE 4 mph\",\"Unnamed: 6\":\"56%\"},\"2\":{\"Day\":null,\"Description\":\"MonDEC 9\",\"High \\\\/ Low\":\"Few Showers\",\"Precip\":\"54\\\\u00b051\\\\u00b0\",\"Wind\":\"30%\",\"Humidity\":\"SW 5 mph\",\"Unnamed: 6\":\"89%\"},\"3\":{\"Day\":null,\"Description\":\"TueDEC 10\",\"High \\\\/ Low\":\"Rain\",\"Precip\":\"64\\\\u00b039\\\\u00b0\",\"Wind\":\"80%\",\"Humidity\":\"SW 11 mph\",\"Unnamed: 6\":\"86%\"},\"4\":{\"Day\":null,\"Description\":\"WedDEC 11\",\"High \\\\/ Low\":\"AM Showers\",\"Precip\":\"47\\\\u00b028\\\\u00b0\",\"Wind\":\"50%\",\"Humidity\":\"NNW 7 mph\",\"Unnamed: 6\":\"57%\"},\"5\":{\"Day\":null,\"Description\":\"Thu DEC 12\",\"High \\\\/ Low\":\"Mostly Sunny\",\"Precip\":\"40\\\\u00b026\\\\u00b0\",\"Wind\":\"20%\",\"Humidity\":\"NE 7 mph\",\"Unnamed: 6\":\"50%\"},\"6\":{\"Day\":null,\"Description\":\"FriDEC 13\",\"High \\\\/ Low\":\"Rain\\\\/Freezing Rain\",\"Precip\":\"42\\\\u00b037\\\\u00b0\",\"Wind\":\"40%\",\"Humidity\":\"NE 6 mph\",\"Unnamed: 6\":\"67%\"},\"7\":{\"Day\":null,\"Description\":\"SatDEC 14\",\"High \\\\/ Low\":\"Showers\",\"Precip\":\"51\\\\u00b038\\\\u00b0\",\"Wind\":\"50%\",\"Humidity\":\"N 4 mph\",\"Unnamed: 6\":\"84%\"},\"8\":{\"Day\":null,\"Description\":\"Sun DEC 15\",\"High \\\\/ Low\":\"Partly Cloudy\",\"Precip\":\"55\\\\u00b039\\\\u00b0\",\"Wind\":\"10%\",\"Humidity\":\"W 5 mph\",\"Unnamed: 6\":\"75%\"},\"9\":{\"Day\":null,\"Description\":\"MonDEC 16\",\"High \\\\/ Low\":\"AM Showers\",\"Precip\":\"56\\\\u00b036\\\\u00b0\",\"Wind\":\"30%\",\"Humidity\":\"WSW 5 mph\",\"Unnamed: 6\":\"74%\"},\"10\":{\"Day\":null,\"Description\":\"TueDEC 17\",\"High \\\\/ Low\":\"Showers\",\"Precip\":\"49\\\\u00b031\\\\u00b0\",\"Wind\":\"40%\",\"Humidity\":\"NNW 6 mph\",\"Unnamed: 6\":\"66%\"},\"11\":{\"Day\":null,\"Description\":\"Wed DEC 18\",\"High \\\\/ Low\":\"Partly Cloudy\",\"Precip\":\"48\\\\u00b032\\\\u00b0\",\"Wind\":\"20%\",\"Humidity\":\"NNW 6 mph\",\"Unnamed: 6\":\"60%\"},\"12\":{\"Day\":null,\"Description\":\"ThuDEC 19\",\"High \\\\/ Low\":\"Showers\",\"Precip\":\"49\\\\u00b034\\\\u00b0\",\"Wind\":\"40%\",\"Humidity\":\"NW 5 mph\",\"Unnamed: 6\":\"61%\"},\"13\":{\"Day\":null,\"Description\":\"FriDEC 20\",\"High \\\\/ Low\":\"Showers\",\"Precip\":\"51\\\\u00b035\\\\u00b0\",\"Wind\":\"40%\",\"Humidity\":\"NW 6 mph\",\"Unnamed: 6\":\"64%\"},\"14\":{\"Day\":null,\"Description\":\"SatDEC 21\",\"High \\\\/ Low\":\"Showers\",\"Precip\":\"50\\\\u00b035\\\\u00b0\",\"Wind\":\"40%\",\"Humidity\":\"NNE 6 mph\",\"Unnamed: 6\":\"64%\"}}'}"
      ]
     },
     "execution_count": 27,
     "metadata": {},
     "output_type": "execute_result"
    }
   ],
   "source": [
    "data"
   ]
  },
  {
   "cell_type": "code",
   "execution_count": 27,
   "metadata": {},
   "outputs": [
    {
     "name": "stdout",
     "output_type": "stream",
     "text": [
      "Inserted to database\n"
     ]
    }
   ],
   "source": [
    "load(data)"
   ]
  },
  {
   "cell_type": "code",
   "execution_count": null,
   "metadata": {},
   "outputs": [],
   "source": []
  },
  {
   "cell_type": "code",
   "execution_count": 33,
   "metadata": {},
   "outputs": [
    {
     "data": {
      "text/plain": [
       "['code']"
      ]
     },
     "execution_count": 33,
     "metadata": {},
     "output_type": "execute_result"
    }
   ],
   "source": [
    "db = client.forcast\n",
    "db.list_collection_names()"
   ]
  },
  {
   "cell_type": "code",
   "execution_count": 34,
   "metadata": {},
   "outputs": [
    {
     "name": "stdout",
     "output_type": "stream",
     "text": [
      "{'_id': ObjectId('5de6575e08b5184ef0c66939')}\n",
      "{'_id': ObjectId('5de79796cad08f0bd0c801d8')}\n",
      "{'_id': ObjectId('5de871afff395937db2f6f30'),\n",
      " 'hourly': '{\"columns\":[\"Time\",\"Description\",\"Temp\",\"Feels\",\"Precip\",\"Humidity\",\"Wind\",\"Unnamed: '\n",
      "           '7\"],\"index\":[0,1,2,3,4,5,6,7,8,9,10,11,12,13,14,15],\"data\":[[null,\"9:45 '\n",
      "           'pmWed\",\"Clear\",\"44\\\\u00b0\",\"44\\\\u00b0\",\"0%\",\"60%\",\"W 2 '\n",
      "           'mph\"],[null,\"10:00 '\n",
      "           'pmWed\",\"Clear\",\"43\\\\u00b0\",\"43\\\\u00b0\",\"0%\",\"60%\",\"W 2 '\n",
      "           'mph\"],[null,\"11:00 '\n",
      "           'pmWed\",\"Clear\",\"42\\\\u00b0\",\"42\\\\u00b0\",\"0%\",\"60%\",\"WSW 1 '\n",
      "           'mph\"],[null,\"12:00 '\n",
      "           'amThu\",\"Clear\",\"42\\\\u00b0\",\"42\\\\u00b0\",\"0%\",\"62%\",\"WSW 2 '\n",
      "           'mph\"],[null,\"1:00 '\n",
      "           'amThu\",\"Clear\",\"41\\\\u00b0\",\"41\\\\u00b0\",\"0%\",\"63%\",\"WSW 2 '\n",
      "           'mph\"],[null,\"2:00 '\n",
      "           'amThu\",\"Clear\",\"42\\\\u00b0\",\"39\\\\u00b0\",\"0%\",\"62%\",\"W 4 '\n",
      "           'mph\"],[null,\"3:00 '\n",
      "           'amThu\",\"Clear\",\"41\\\\u00b0\",\"38\\\\u00b0\",\"0%\",\"62%\",\"W 5 '\n",
      "           'mph\"],[null,\"4:00 '\n",
      "           'amThu\",\"Clear\",\"40\\\\u00b0\",\"37\\\\u00b0\",\"0%\",\"63%\",\"W 5 '\n",
      "           'mph\"],[null,\"5:00 '\n",
      "           'amThu\",\"Clear\",\"40\\\\u00b0\",\"37\\\\u00b0\",\"0%\",\"64%\",\"W 4 '\n",
      "           'mph\"],[null,\"6:00 '\n",
      "           'amThu\",\"Clear\",\"39\\\\u00b0\",\"36\\\\u00b0\",\"0%\",\"66%\",\"W 4 '\n",
      "           'mph\"],[null,\"7:00 '\n",
      "           'amThu\",\"Clear\",\"38\\\\u00b0\",\"36\\\\u00b0\",\"0%\",\"69%\",\"W 3 '\n",
      "           'mph\"],[null,\"8:00 '\n",
      "           'amThu\",\"Sunny\",\"39\\\\u00b0\",\"36\\\\u00b0\",\"0%\",\"69%\",\"W 4 '\n",
      "           'mph\"],[null,\"9:00 '\n",
      "           'amThu\",\"Sunny\",\"43\\\\u00b0\",\"40\\\\u00b0\",\"0%\",\"61%\",\"W 6 '\n",
      "           'mph\"],[null,\"10:00 '\n",
      "           'amThu\",\"Sunny\",\"47\\\\u00b0\",\"43\\\\u00b0\",\"0%\",\"51%\",\"WNW 8 '\n",
      "           'mph\"],[null,\"11:00 '\n",
      "           'amThu\",\"Sunny\",\"49\\\\u00b0\",\"45\\\\u00b0\",\"0%\",\"44%\",\"WNW 9 '\n",
      "           'mph\"],[null,\"12:00 '\n",
      "           'pmThu\",\"Sunny\",\"51\\\\u00b0\",\"48\\\\u00b0\",\"0%\",\"40%\",\"WNW 8 mph\"]]}',\n",
      " 'next_36': {'at_12': {'chance_precip': '0%',\n",
      "                       'condition': 'MOSTLY CLEAR',\n",
      "                       'description': 'Mainly clear early, then a few clouds '\n",
      "                                      'later on. Low near 35F. Winds light and '\n",
      "                                      'variable.',\n",
      "                       'high/low': 'LOW',\n",
      "                       'hour': 'CALCULATED HOUR OF PREDICTION',\n",
      "                       'humidity': '77%',\n",
      "                       'sun': {'rise': '7:09 am5:00 pm',\n",
      "                               'set': '7:09 am5:00 pm'},\n",
      "                       'temp_f': '35°',\n",
      "                       'uv_index': '0 of 10',\n",
      "                       'wind': {'direction': 'SSW', 'speed': '2'}},\n",
      "             'at_24': {'chance_precip': '10%',\n",
      "                       'condition': 'MOSTLY CLOUDY',\n",
      "                       'description': 'Partly cloudy skies in the morning will '\n",
      "                                      'give way to cloudy skies during the '\n",
      "                                      'afternoon. High around 60F. Winds SW at '\n",
      "                                      '5 to 10 mph.',\n",
      "                       'high/low': 'HIGH',\n",
      "                       'hour': 'CALCULATED HOUR OF PREDICTION',\n",
      "                       'humidity': '54%',\n",
      "                       'sun': {'rise': '7:10 am5:00 pm',\n",
      "                               'set': '7:10 am5:00 pm'},\n",
      "                       'temp_f': '60°',\n",
      "                       'uv_index': '2 of 10',\n",
      "                       'wind': {'direction': 'SW', 'speed': '8'}},\n",
      "             'at_36': {'chance_precip': '20%',\n",
      "                       'condition': 'CLOUDS EARLY/CLEARING LATE',\n",
      "                       'description': 'Cloudy skies early, followed by partial '\n",
      "                                      'clearing. Low around 40F. Winds NW at 5 '\n",
      "                                      'to 10 mph.',\n",
      "                       'high/low': 'LOW',\n",
      "                       'hour': 'CALCULATED HOUR OF PREDICTION',\n",
      "                       'humidity': '84%',\n",
      "                       'sun': {'rise': '7:10 am5:00 pm',\n",
      "                               'set': '7:10 am5:00 pm'},\n",
      "                       'temp_f': '40°',\n",
      "                       'uv_index': '0 of 10',\n",
      "                       'wind': {'direction': 'NW', 'speed': '7'}},\n",
      "             'at_start': {'chance_precip': '0%',\n",
      "                          'condition': 'SUNNY',\n",
      "                          'description': 'Sunny skies. High 56F. Winds WNW at '\n",
      "                                         '5 to 10 mph.',\n",
      "                          'high/low': 'HIGH',\n",
      "                          'hour': 'CALCULATED HOUR OF PREDICTION',\n",
      "                          'humidity': '48%',\n",
      "                          'sun': {'rise': '7:09 am5:00 pm',\n",
      "                                  'set': '7:09 am5:00 pm'},\n",
      "                          'temp_f': '56°',\n",
      "                          'uv_index': '3 of 10',\n",
      "                          'wind': {'direction': 'WNW', 'speed': '8'}},\n",
      "             'now': {'chance_precip': '0%',\n",
      "                     'condition': 'CLEAR',\n",
      "                     'description': 'Clear skies. Low 37F. Winds light and '\n",
      "                                    'variable.',\n",
      "                     'high/low': 'LOW',\n",
      "                     'hour': 'CALCULATED HOUR OF PREDICTION',\n",
      "                     'humidity': '62%',\n",
      "                     'sun': {'rise': '7:08 am5:00 pm', 'set': '7:08 am5:00 pm'},\n",
      "                     'temp_f': '37°',\n",
      "                     'uv_index': '0 of 10',\n",
      "                     'wind': {'direction': 'W', 'speed': '4'}}},\n",
      " 'right_now': {'as_of': ['pm', 'EST'],\n",
      "               'observations': {'description': 'CLEAR',\n",
      "                                'dew_point': '30°',\n",
      "                                'humidity': '59%',\n",
      "                                'pressure': {'change': '', 'in': '29.78'},\n",
      "                                'temp F': {'feels_like': '43°',\n",
      "                                           'measured': '43°'},\n",
      "                                'uv_index': 'of',\n",
      "                                'visibility mi': '10.0 mi',\n",
      "                                'wind': {'direction': 'E', 'speed mph': '2'}}}}\n",
      "{'_id': ObjectId('5de87733ff395937db2f6f36'),\n",
      " 'hourly': '{\"columns\":[\"Time\",\"Description\",\"Temp\",\"Feels\",\"Precip\",\"Humidity\",\"Wind\",\"Unnamed: '\n",
      "           '7\"],\"index\":[0,1,2,3,4,5,6,7,8,9,10,11,12,13,14,15],\"data\":[[null,\"10:30 '\n",
      "           'pmWed\",\"Clear\",\"42\\\\u00b0\",\"42\\\\u00b0\",\"0%\",\"58%\",\"W 2 '\n",
      "           'mph\"],[null,\"11:00 '\n",
      "           'pmWed\",\"Clear\",\"42\\\\u00b0\",\"42\\\\u00b0\",\"0%\",\"59%\",\"WSW 2 '\n",
      "           'mph\"],[null,\"12:00 '\n",
      "           'amThu\",\"Clear\",\"42\\\\u00b0\",\"42\\\\u00b0\",\"0%\",\"61%\",\"WSW 2 '\n",
      "           'mph\"],[null,\"1:00 '\n",
      "           'amThu\",\"Clear\",\"41\\\\u00b0\",\"41\\\\u00b0\",\"0%\",\"62%\",\"WSW 3 '\n",
      "           'mph\"],[null,\"2:00 '\n",
      "           'amThu\",\"Clear\",\"42\\\\u00b0\",\"39\\\\u00b0\",\"0%\",\"62%\",\"W 5 '\n",
      "           'mph\"],[null,\"3:00 '\n",
      "           'amThu\",\"Clear\",\"41\\\\u00b0\",\"38\\\\u00b0\",\"0%\",\"63%\",\"W 5 '\n",
      "           'mph\"],[null,\"4:00 '\n",
      "           'amThu\",\"Clear\",\"40\\\\u00b0\",\"37\\\\u00b0\",\"0%\",\"64%\",\"W 5 '\n",
      "           'mph\"],[null,\"5:00 '\n",
      "           'amThu\",\"Clear\",\"39\\\\u00b0\",\"37\\\\u00b0\",\"0%\",\"65%\",\"W 4 '\n",
      "           'mph\"],[null,\"6:00 '\n",
      "           'amThu\",\"Clear\",\"38\\\\u00b0\",\"36\\\\u00b0\",\"0%\",\"66%\",\"W 3 '\n",
      "           'mph\"],[null,\"7:00 '\n",
      "           'amThu\",\"Clear\",\"38\\\\u00b0\",\"35\\\\u00b0\",\"0%\",\"68%\",\"W 3 '\n",
      "           'mph\"],[null,\"8:00 '\n",
      "           'amThu\",\"Sunny\",\"38\\\\u00b0\",\"35\\\\u00b0\",\"0%\",\"69%\",\"W 5 '\n",
      "           'mph\"],[null,\"9:00 '\n",
      "           'amThu\",\"Sunny\",\"43\\\\u00b0\",\"39\\\\u00b0\",\"0%\",\"60%\",\"W 7 '\n",
      "           'mph\"],[null,\"10:00 '\n",
      "           'amThu\",\"Sunny\",\"46\\\\u00b0\",\"42\\\\u00b0\",\"0%\",\"51%\",\"WNW 8 '\n",
      "           'mph\"],[null,\"11:00 '\n",
      "           'amThu\",\"Sunny\",\"48\\\\u00b0\",\"45\\\\u00b0\",\"0%\",\"45%\",\"WNW 9 '\n",
      "           'mph\"],[null,\"12:00 '\n",
      "           'pmThu\",\"Sunny\",\"50\\\\u00b0\",\"47\\\\u00b0\",\"0%\",\"41%\",\"WNW 8 '\n",
      "           'mph\"],[null,\"1:00 '\n",
      "           'pmThu\",\"Sunny\",\"52\\\\u00b0\",\"49\\\\u00b0\",\"0%\",\"37%\",\"WNW 8 mph\"]]}',\n",
      " 'next_36': {'at_12': {'chance_precip': '10%',\n",
      "                       'condition': 'MOSTLY CLEAR',\n",
      "                       'description': 'Mainly clear early, then a few clouds '\n",
      "                                      'later on. Low 34F. Winds light and '\n",
      "                                      'variable.',\n",
      "                       'high/low': 'LOW',\n",
      "                       'hour': 'CALCULATED HOUR OF PREDICTION',\n",
      "                       'humidity': '82%',\n",
      "                       'sun': {'rise': '7:09 am5:00 pm',\n",
      "                               'set': '7:09 am5:00 pm'},\n",
      "                       'temp_f': '34°',\n",
      "                       'uv_index': '0 of 10',\n",
      "                       'wind': {'direction': 'SSW', 'speed': '2'}},\n",
      "             'at_24': {'chance_precip': '10%',\n",
      "                       'condition': 'MOSTLY CLOUDY',\n",
      "                       'description': 'A mix of clouds and sun early, then '\n",
      "                                      'becoming cloudy later in the day. High '\n",
      "                                      'near 60F. Winds SW at 5 to 10 mph.',\n",
      "                       'high/low': 'HIGH',\n",
      "                       'hour': 'CALCULATED HOUR OF PREDICTION',\n",
      "                       'humidity': '56%',\n",
      "                       'sun': {'rise': '7:10 am5:00 pm',\n",
      "                               'set': '7:10 am5:00 pm'},\n",
      "                       'temp_f': '60°',\n",
      "                       'uv_index': '2 of 10',\n",
      "                       'wind': {'direction': 'SW', 'speed': '7'}},\n",
      "             'at_36': {'chance_precip': '10%',\n",
      "                       'condition': 'CLOUDS EARLY/CLEARING LATE',\n",
      "                       'description': 'Cloudy early with partial clearing '\n",
      "                                      'expected late. Low 39F. Winds NW at 5 '\n",
      "                                      'to 10 mph.',\n",
      "                       'high/low': 'LOW',\n",
      "                       'hour': 'CALCULATED HOUR OF PREDICTION',\n",
      "                       'humidity': '83%',\n",
      "                       'sun': {'rise': '7:10 am5:00 pm',\n",
      "                               'set': '7:10 am5:00 pm'},\n",
      "                       'temp_f': '39°',\n",
      "                       'uv_index': '0 of 10',\n",
      "                       'wind': {'direction': 'NW', 'speed': '7'}},\n",
      "             'at_start': {'chance_precip': '0%',\n",
      "                          'condition': 'SUNNY',\n",
      "                          'description': 'Mainly sunny. High 56F. Winds WNW at '\n",
      "                                         '5 to 10 mph.',\n",
      "                          'high/low': 'HIGH',\n",
      "                          'hour': 'CALCULATED HOUR OF PREDICTION',\n",
      "                          'humidity': '49%',\n",
      "                          'sun': {'rise': '7:09 am5:00 pm',\n",
      "                                  'set': '7:09 am5:00 pm'},\n",
      "                          'temp_f': '56°',\n",
      "                          'uv_index': '3 of 10',\n",
      "                          'wind': {'direction': 'WNW', 'speed': '8'}},\n",
      "             'now': {'chance_precip': '0%',\n",
      "                     'condition': 'CLEAR',\n",
      "                     'description': 'Clear skies. Low 37F. Winds light and '\n",
      "                                    'variable.',\n",
      "                     'high/low': 'LOW',\n",
      "                     'hour': 'CALCULATED HOUR OF PREDICTION',\n",
      "                     'humidity': '62%',\n",
      "                     'sun': {'rise': '7:08 am5:00 pm', 'set': '7:08 am5:00 pm'},\n",
      "                     'temp_f': '37°',\n",
      "                     'uv_index': '0 of 10',\n",
      "                     'wind': {'direction': 'W', 'speed': '5'}}},\n",
      " 'right_now': {'as_of': ['pm', 'EST'],\n",
      "               'observations': {'description': 'CLEAR',\n",
      "                                'dew_point': '29°',\n",
      "                                'humidity': '58%',\n",
      "                                'pressure': {'change': '', 'in': '29.78'},\n",
      "                                'temp F': {'feels_like': '43°',\n",
      "                                           'measured': '43°'},\n",
      "                                'uv_index': 'of',\n",
      "                                'visibility mi': '10.0 mi',\n",
      "                                'wind': {'direction': 'NE', 'speed mph': '2'}}}}\n",
      "{'_id': ObjectId('5de877c4ff395937db2f6f3a'),\n",
      " 'hourly': '{\"columns\":[\"Time\",\"Description\",\"Temp\",\"Feels\",\"Precip\",\"Humidity\",\"Wind\",\"Unnamed: '\n",
      "           '7\"],\"index\":[0,1,2,3,4,5,6,7,8,9,10,11,12,13,14,15],\"data\":[[null,\"10:30 '\n",
      "           'pmWed\",\"Clear\",\"42\\\\u00b0\",\"42\\\\u00b0\",\"0%\",\"58%\",\"W 2 '\n",
      "           'mph\"],[null,\"11:00 '\n",
      "           'pmWed\",\"Clear\",\"42\\\\u00b0\",\"42\\\\u00b0\",\"0%\",\"59%\",\"WSW 2 '\n",
      "           'mph\"],[null,\"12:00 '\n",
      "           'amThu\",\"Clear\",\"42\\\\u00b0\",\"42\\\\u00b0\",\"0%\",\"61%\",\"WSW 2 '\n",
      "           'mph\"],[null,\"1:00 '\n",
      "           'amThu\",\"Clear\",\"41\\\\u00b0\",\"41\\\\u00b0\",\"0%\",\"62%\",\"WSW 3 '\n",
      "           'mph\"],[null,\"2:00 '\n",
      "           'amThu\",\"Clear\",\"42\\\\u00b0\",\"39\\\\u00b0\",\"0%\",\"62%\",\"W 5 '\n",
      "           'mph\"],[null,\"3:00 '\n",
      "           'amThu\",\"Clear\",\"41\\\\u00b0\",\"38\\\\u00b0\",\"0%\",\"63%\",\"W 5 '\n",
      "           'mph\"],[null,\"4:00 '\n",
      "           'amThu\",\"Clear\",\"40\\\\u00b0\",\"37\\\\u00b0\",\"0%\",\"64%\",\"W 5 '\n",
      "           'mph\"],[null,\"5:00 '\n",
      "           'amThu\",\"Clear\",\"39\\\\u00b0\",\"37\\\\u00b0\",\"0%\",\"65%\",\"W 4 '\n",
      "           'mph\"],[null,\"6:00 '\n",
      "           'amThu\",\"Clear\",\"39\\\\u00b0\",\"36\\\\u00b0\",\"0%\",\"67%\",\"W 3 '\n",
      "           'mph\"],[null,\"7:00 '\n",
      "           'amThu\",\"Clear\",\"38\\\\u00b0\",\"36\\\\u00b0\",\"0%\",\"68%\",\"W 3 '\n",
      "           'mph\"],[null,\"8:00 '\n",
      "           'amThu\",\"Sunny\",\"39\\\\u00b0\",\"35\\\\u00b0\",\"0%\",\"69%\",\"W 5 '\n",
      "           'mph\"],[null,\"9:00 '\n",
      "           'amThu\",\"Sunny\",\"43\\\\u00b0\",\"39\\\\u00b0\",\"0%\",\"60%\",\"W 7 '\n",
      "           'mph\"],[null,\"10:00 '\n",
      "           'amThu\",\"Sunny\",\"47\\\\u00b0\",\"43\\\\u00b0\",\"0%\",\"51%\",\"WNW 8 '\n",
      "           'mph\"],[null,\"11:00 '\n",
      "           'amThu\",\"Sunny\",\"49\\\\u00b0\",\"45\\\\u00b0\",\"0%\",\"45%\",\"WNW 9 '\n",
      "           'mph\"],[null,\"12:00 '\n",
      "           'pmThu\",\"Sunny\",\"51\\\\u00b0\",\"48\\\\u00b0\",\"0%\",\"41%\",\"WNW 8 '\n",
      "           'mph\"],[null,\"1:00 '\n",
      "           'pmThu\",\"Sunny\",\"52\\\\u00b0\",\"50\\\\u00b0\",\"0%\",\"38%\",\"WNW 8 mph\"]]}',\n",
      " 'next_36': {'at_12': {'chance_precip': '10%',\n",
      "                       'condition': 'MOSTLY CLEAR',\n",
      "                       'description': 'Mainly clear early, then a few clouds '\n",
      "                                      'later on. Low 34F. Winds light and '\n",
      "                                      'variable.',\n",
      "                       'high/low': 'LOW',\n",
      "                       'hour': 'CALCULATED HOUR OF PREDICTION',\n",
      "                       'humidity': '82%',\n",
      "                       'sun': {'rise': '7:09 am5:00 pm',\n",
      "                               'set': '7:09 am5:00 pm'},\n",
      "                       'temp_f': '34°',\n",
      "                       'uv_index': '0 of 10',\n",
      "                       'wind': {'direction': 'SSW', 'speed': '2'}},\n",
      "             'at_24': {'chance_precip': '10%',\n",
      "                       'condition': 'MOSTLY CLOUDY',\n",
      "                       'description': 'A mix of clouds and sun early, then '\n",
      "                                      'becoming cloudy later in the day. High '\n",
      "                                      'near 60F. Winds SW at 5 to 10 mph.',\n",
      "                       'high/low': 'HIGH',\n",
      "                       'hour': 'CALCULATED HOUR OF PREDICTION',\n",
      "                       'humidity': '56%',\n",
      "                       'sun': {'rise': '7:10 am5:00 pm',\n",
      "                               'set': '7:10 am5:00 pm'},\n",
      "                       'temp_f': '60°',\n",
      "                       'uv_index': '2 of 10',\n",
      "                       'wind': {'direction': 'SW', 'speed': '7'}},\n",
      "             'at_36': {'chance_precip': '10%',\n",
      "                       'condition': 'CLOUDS EARLY/CLEARING LATE',\n",
      "                       'description': 'Cloudy early with partial clearing '\n",
      "                                      'expected late. Low 39F. Winds NW at 5 '\n",
      "                                      'to 10 mph.',\n",
      "                       'high/low': 'LOW',\n",
      "                       'hour': 'CALCULATED HOUR OF PREDICTION',\n",
      "                       'humidity': '83%',\n",
      "                       'sun': {'rise': '7:10 am5:00 pm',\n",
      "                               'set': '7:10 am5:00 pm'},\n",
      "                       'temp_f': '39°',\n",
      "                       'uv_index': '0 of 10',\n",
      "                       'wind': {'direction': 'NW', 'speed': '7'}},\n",
      "             'at_start': {'chance_precip': '0%',\n",
      "                          'condition': 'SUNNY',\n",
      "                          'description': 'Mainly sunny. High 56F. Winds WNW at '\n",
      "                                         '5 to 10 mph.',\n",
      "                          'high/low': 'HIGH',\n",
      "                          'hour': 'CALCULATED HOUR OF PREDICTION',\n",
      "                          'humidity': '49%',\n",
      "                          'sun': {'rise': '7:09 am5:00 pm',\n",
      "                                  'set': '7:09 am5:00 pm'},\n",
      "                          'temp_f': '56°',\n",
      "                          'uv_index': '3 of 10',\n",
      "                          'wind': {'direction': 'WNW', 'speed': '8'}},\n",
      "             'now': {'chance_precip': '0%',\n",
      "                     'condition': 'CLEAR',\n",
      "                     'description': 'Clear skies. Low 37F. Winds light and '\n",
      "                                    'variable.',\n",
      "                     'high/low': 'LOW',\n",
      "                     'hour': 'CALCULATED HOUR OF PREDICTION',\n",
      "                     'humidity': '62%',\n",
      "                     'sun': {'rise': '7:08 am5:00 pm', 'set': '7:08 am5:00 pm'},\n",
      "                     'temp_f': '37°',\n",
      "                     'uv_index': '0 of 10',\n",
      "                     'wind': {'direction': 'W', 'speed': '5'}}},\n",
      " 'right_now': {'as_of': ['pm', 'EST'],\n",
      "               'observations': {'description': 'CLEAR',\n",
      "                                'dew_point': '29°',\n",
      "                                'humidity': '58%',\n",
      "                                'pressure': {'change': '', 'in': '29.78'},\n",
      "                                'temp F': {'feels_like': '43°',\n",
      "                                           'measured': '43°'},\n",
      "                                'uv_index': 'of',\n",
      "                                'visibility mi': '10.0 mi',\n",
      "                                'wind': {'direction': 'NE', 'speed mph': '2'}}}}\n",
      "{'_id': ObjectId('5de87923ff395937db2f6f3e'),\n",
      " 'hourly': '{\"columns\":[\"Time\",\"Description\",\"Temp\",\"Feels\",\"Precip\",\"Humidity\",\"Wind\",\"Unnamed: '\n",
      "           '7\"],\"index\":[0,1,2,3,4,5,6,7,8,9,10,11,12,13,14,15],\"data\":[[null,\"10:30 '\n",
      "           'pmWed\",\"Clear\",\"42\\\\u00b0\",\"42\\\\u00b0\",\"0%\",\"58%\",\"W 2 '\n",
      "           'mph\"],[null,\"11:00 '\n",
      "           'pmWed\",\"Clear\",\"42\\\\u00b0\",\"42\\\\u00b0\",\"0%\",\"59%\",\"WSW 2 '\n",
      "           'mph\"],[null,\"12:00 '\n",
      "           'amThu\",\"Clear\",\"42\\\\u00b0\",\"42\\\\u00b0\",\"0%\",\"61%\",\"WSW 2 '\n",
      "           'mph\"],[null,\"1:00 '\n",
      "           'amThu\",\"Clear\",\"41\\\\u00b0\",\"41\\\\u00b0\",\"0%\",\"62%\",\"WSW 3 '\n",
      "           'mph\"],[null,\"2:00 '\n",
      "           'amThu\",\"Clear\",\"42\\\\u00b0\",\"39\\\\u00b0\",\"0%\",\"62%\",\"W 5 '\n",
      "           'mph\"],[null,\"3:00 '\n",
      "           'amThu\",\"Clear\",\"41\\\\u00b0\",\"38\\\\u00b0\",\"0%\",\"63%\",\"W 5 '\n",
      "           'mph\"],[null,\"4:00 '\n",
      "           'amThu\",\"Clear\",\"40\\\\u00b0\",\"37\\\\u00b0\",\"0%\",\"64%\",\"W 5 '\n",
      "           'mph\"],[null,\"5:00 '\n",
      "           'amThu\",\"Clear\",\"39\\\\u00b0\",\"37\\\\u00b0\",\"0%\",\"65%\",\"W 4 '\n",
      "           'mph\"],[null,\"6:00 '\n",
      "           'amThu\",\"Clear\",\"38\\\\u00b0\",\"36\\\\u00b0\",\"0%\",\"66%\",\"W 3 '\n",
      "           'mph\"],[null,\"7:00 '\n",
      "           'amThu\",\"Clear\",\"38\\\\u00b0\",\"35\\\\u00b0\",\"0%\",\"68%\",\"W 3 '\n",
      "           'mph\"],[null,\"8:00 '\n",
      "           'amThu\",\"Sunny\",\"38\\\\u00b0\",\"35\\\\u00b0\",\"0%\",\"69%\",\"W 5 '\n",
      "           'mph\"],[null,\"9:00 '\n",
      "           'amThu\",\"Sunny\",\"43\\\\u00b0\",\"39\\\\u00b0\",\"0%\",\"60%\",\"W 7 '\n",
      "           'mph\"],[null,\"10:00 '\n",
      "           'amThu\",\"Sunny\",\"46\\\\u00b0\",\"42\\\\u00b0\",\"0%\",\"51%\",\"WNW 8 '\n",
      "           'mph\"],[null,\"11:00 '\n",
      "           'amThu\",\"Sunny\",\"48\\\\u00b0\",\"45\\\\u00b0\",\"0%\",\"45%\",\"WNW 9 '\n",
      "           'mph\"],[null,\"12:00 '\n",
      "           'pmThu\",\"Sunny\",\"50\\\\u00b0\",\"47\\\\u00b0\",\"0%\",\"41%\",\"WNW 8 '\n",
      "           'mph\"],[null,\"1:00 '\n",
      "           'pmThu\",\"Sunny\",\"52\\\\u00b0\",\"49\\\\u00b0\",\"0%\",\"38%\",\"WNW 8 mph\"]]}',\n",
      " 'next_36': {'at_12': {'chance_precip': '10%',\n",
      "                       'condition': 'MOSTLY CLEAR',\n",
      "                       'description': 'Mainly clear early, then a few clouds '\n",
      "                                      'later on. Low 34F. Winds light and '\n",
      "                                      'variable.',\n",
      "                       'high/low': 'LOW',\n",
      "                       'hour': 'CALCULATED HOUR OF PREDICTION',\n",
      "                       'humidity': '82%',\n",
      "                       'sun': {'rise': '7:09 am5:00 pm',\n",
      "                               'set': '7:09 am5:00 pm'},\n",
      "                       'temp_f': '34°',\n",
      "                       'uv_index': '0 of 10',\n",
      "                       'wind': {'direction': 'SSW', 'speed': '2'}},\n",
      "             'at_24': {'chance_precip': '10%',\n",
      "                       'condition': 'MOSTLY CLOUDY',\n",
      "                       'description': 'A mix of clouds and sun early, then '\n",
      "                                      'becoming cloudy later in the day. High '\n",
      "                                      'near 60F. Winds SW at 5 to 10 mph.',\n",
      "                       'high/low': 'HIGH',\n",
      "                       'hour': 'CALCULATED HOUR OF PREDICTION',\n",
      "                       'humidity': '56%',\n",
      "                       'sun': {'rise': '7:10 am5:00 pm',\n",
      "                               'set': '7:10 am5:00 pm'},\n",
      "                       'temp_f': '60°',\n",
      "                       'uv_index': '2 of 10',\n",
      "                       'wind': {'direction': 'SW', 'speed': '7'}},\n",
      "             'at_36': {'chance_precip': '10%',\n",
      "                       'condition': 'CLOUDS EARLY/CLEARING LATE',\n",
      "                       'description': 'Cloudy early with partial clearing '\n",
      "                                      'expected late. Low 39F. Winds NW at 5 '\n",
      "                                      'to 10 mph.',\n",
      "                       'high/low': 'LOW',\n",
      "                       'hour': 'CALCULATED HOUR OF PREDICTION',\n",
      "                       'humidity': '83%',\n",
      "                       'sun': {'rise': '7:10 am5:00 pm',\n",
      "                               'set': '7:10 am5:00 pm'},\n",
      "                       'temp_f': '39°',\n",
      "                       'uv_index': '0 of 10',\n",
      "                       'wind': {'direction': 'NW', 'speed': '7'}},\n",
      "             'at_start': {'chance_precip': '0%',\n",
      "                          'condition': 'SUNNY',\n",
      "                          'description': 'Mainly sunny. High 56F. Winds WNW at '\n",
      "                                         '5 to 10 mph.',\n",
      "                          'high/low': 'HIGH',\n",
      "                          'hour': 'CALCULATED HOUR OF PREDICTION',\n",
      "                          'humidity': '49%',\n",
      "                          'sun': {'rise': '7:09 am5:00 pm',\n",
      "                                  'set': '7:09 am5:00 pm'},\n",
      "                          'temp_f': '56°',\n",
      "                          'uv_index': '3 of 10',\n",
      "                          'wind': {'direction': 'WNW', 'speed': '8'}},\n",
      "             'now': {'chance_precip': '0%',\n",
      "                     'condition': 'CLEAR',\n",
      "                     'description': 'Clear skies. Low 37F. Winds light and '\n",
      "                                    'variable.',\n",
      "                     'high/low': 'LOW',\n",
      "                     'hour': 'CALCULATED HOUR OF PREDICTION',\n",
      "                     'humidity': '62%',\n",
      "                     'sun': {'rise': '7:08 am5:00 pm', 'set': '7:08 am5:00 pm'},\n",
      "                     'temp_f': '37°',\n",
      "                     'uv_index': '0 of 10',\n",
      "                     'wind': {'direction': 'W', 'speed': '5'}}},\n",
      " 'right_now': {'as_of': ['pm', 'EST'],\n",
      "               'observations': {'description': 'CLEAR',\n",
      "                                'dew_point': '29°',\n",
      "                                'humidity': '58%',\n",
      "                                'pressure': {'change': '', 'in': '29.78'},\n",
      "                                'temp F': {'feels_like': '43°',\n",
      "                                           'measured': '43°'},\n",
      "                                'uv_index': 'of',\n",
      "                                'visibility mi': '10.0 mi',\n",
      "                                'wind': {'direction': 'NE', 'speed mph': '2'}}}}\n",
      "{'_id': ObjectId('5dec74ba811ae39c1a561e7b'),\n",
      " 'hourly': '{\"0\":{\"Time\":null,\"Description\":\"11:00 pm Sat\",\"Temp\":\"Mostly '\n",
      "           'Cloudy\",\"Feels\":\"42\\\\u00b0\",\"Precip\":\"39\\\\u00b0\",\"Humidity\":\"0%\",\"Wind\":\"62%\",\"Unnamed: '\n",
      "           '7\":\"ENE 5 mph\"},\"1\":{\"Time\":null,\"Description\":\"12:00 am '\n",
      "           'Sun\",\"Temp\":\"Mostly '\n",
      "           'Cloudy\",\"Feels\":\"41\\\\u00b0\",\"Precip\":\"38\\\\u00b0\",\"Humidity\":\"0%\",\"Wind\":\"64%\",\"Unnamed: '\n",
      "           '7\":\"ENE 4 mph\"},\"2\":{\"Time\":null,\"Description\":\"1:00 am '\n",
      "           'Sun\",\"Temp\":\"Mostly '\n",
      "           'Cloudy\",\"Feels\":\"40\\\\u00b0\",\"Precip\":\"37\\\\u00b0\",\"Humidity\":\"0%\",\"Wind\":\"63%\",\"Unnamed: '\n",
      "           '7\":\"ENE 4 mph\"},\"3\":{\"Time\":null,\"Description\":\"2:00 am '\n",
      "           'Sun\",\"Temp\":\"Partly '\n",
      "           'Cloudy\",\"Feels\":\"39\\\\u00b0\",\"Precip\":\"36\\\\u00b0\",\"Humidity\":\"0%\",\"Wind\":\"64%\",\"Unnamed: '\n",
      "           '7\":\"ENE 4 mph\"},\"4\":{\"Time\":null,\"Description\":\"3:00 am '\n",
      "           'Sun\",\"Temp\":\"Partly '\n",
      "           'Cloudy\",\"Feels\":\"35\\\\u00b0\",\"Precip\":\"35\\\\u00b0\",\"Humidity\":\"0%\",\"Wind\":\"74%\",\"Unnamed: '\n",
      "           '7\":\"ENE 2 mph\"},\"5\":{\"Time\":null,\"Description\":\"4:00 am '\n",
      "           'Sun\",\"Temp\":\"Mostly '\n",
      "           'Clear\",\"Feels\":\"34\\\\u00b0\",\"Precip\":\"34\\\\u00b0\",\"Humidity\":\"0%\",\"Wind\":\"75%\",\"Unnamed: '\n",
      "           '7\":\"NE 2 mph\"},\"6\":{\"Time\":null,\"Description\":\"5:00 am '\n",
      "           'Sun\",\"Temp\":\"Mostly '\n",
      "           'Clear\",\"Feels\":\"33\\\\u00b0\",\"Precip\":\"33\\\\u00b0\",\"Humidity\":\"5%\",\"Wind\":\"78%\",\"Unnamed: '\n",
      "           '7\":\"NE 2 mph\"},\"7\":{\"Time\":null,\"Description\":\"6:00 '\n",
      "           'amSun\",\"Temp\":\"Clear\",\"Feels\":\"32\\\\u00b0\",\"Precip\":\"32\\\\u00b0\",\"Humidity\":\"5%\",\"Wind\":\"81%\",\"Unnamed: '\n",
      "           '7\":\"NE 2 mph\"},\"8\":{\"Time\":null,\"Description\":\"7:00 '\n",
      "           'amSun\",\"Temp\":\"Clear\",\"Feels\":\"31\\\\u00b0\",\"Precip\":\"31\\\\u00b0\",\"Humidity\":\"5%\",\"Wind\":\"83%\",\"Unnamed: '\n",
      "           '7\":\"NE 2 mph\"},\"9\":{\"Time\":null,\"Description\":\"8:00 '\n",
      "           'amSun\",\"Temp\":\"Sunny\",\"Feels\":\"32\\\\u00b0\",\"Precip\":\"32\\\\u00b0\",\"Humidity\":\"5%\",\"Wind\":\"82%\",\"Unnamed: '\n",
      "           '7\":\"NE 2 mph\"},\"10\":{\"Time\":null,\"Description\":\"9:00 '\n",
      "           'amSun\",\"Temp\":\"Sunny\",\"Feels\":\"36\\\\u00b0\",\"Precip\":\"33\\\\u00b0\",\"Humidity\":\"0%\",\"Wind\":\"70%\",\"Unnamed: '\n",
      "           '7\":\"NE 3 mph\"},\"11\":{\"Time\":null,\"Description\":\"10:00 am '\n",
      "           'Sun\",\"Temp\":\"Mostly '\n",
      "           'Sunny\",\"Feels\":\"39\\\\u00b0\",\"Precip\":\"36\\\\u00b0\",\"Humidity\":\"0%\",\"Wind\":\"61%\",\"Unnamed: '\n",
      "           '7\":\"ENE 4 mph\"},\"12\":{\"Time\":null,\"Description\":\"11:00 am '\n",
      "           'Sun\",\"Temp\":\"Partly '\n",
      "           'Cloudy\",\"Feels\":\"42\\\\u00b0\",\"Precip\":\"40\\\\u00b0\",\"Humidity\":\"0%\",\"Wind\":\"54%\",\"Unnamed: '\n",
      "           '7\":\"E 4 mph\"},\"13\":{\"Time\":null,\"Description\":\"12:00 pm '\n",
      "           'Sun\",\"Temp\":\"Partly '\n",
      "           'Cloudy\",\"Feels\":\"45\\\\u00b0\",\"Precip\":\"45\\\\u00b0\",\"Humidity\":\"0%\",\"Wind\":\"47%\",\"Unnamed: '\n",
      "           '7\":\"E 3 mph\"},\"14\":{\"Time\":null,\"Description\":\"1:00 pm '\n",
      "           'Sun\",\"Temp\":\"Partly '\n",
      "           'Cloudy\",\"Feels\":\"47\\\\u00b0\",\"Precip\":\"47\\\\u00b0\",\"Humidity\":\"0%\",\"Wind\":\"45%\",\"Unnamed: '\n",
      "           '7\":\"E 2 mph\"},\"15\":{\"Time\":null,\"Description\":\"2:00 pm '\n",
      "           'Sun\",\"Temp\":\"Partly '\n",
      "           'Cloudy\",\"Feels\":\"49\\\\u00b0\",\"Precip\":\"49\\\\u00b0\",\"Humidity\":\"0%\",\"Wind\":\"43%\",\"Unnamed: '\n",
      "           '7\":\"E 2 mph\"}}',\n",
      " 'next_36': {'at_12': {'chance_precip': '20%',\n",
      "                       'condition': 'cloudy',\n",
      "                       'description': 'overcast. low 39f. winds light and '\n",
      "                                      'variable.',\n",
      "                       'high/low': 'low',\n",
      "                       'hour': 'CALCULATED HOUR OF PREDICTION',\n",
      "                       'humidity': '78%',\n",
      "                       'sun': {'rise': '7:19 am5:07 pm',\n",
      "                               'set': '7:19 am5:07 pm'},\n",
      "                       'temp_f': '39°',\n",
      "                       'uv_index': '0 of 10',\n",
      "                       'wind': {'direction': 'nne', 'speed': '2'}},\n",
      "             'at_24': {'chance_precip': '30%',\n",
      "                       'condition': 'few showers',\n",
      "                       'description': 'cloudy with a few showers. high 54f. '\n",
      "                                      'winds light and variable. chance of '\n",
      "                                      'rain 30%.',\n",
      "                       'high/low': 'high',\n",
      "                       'hour': 'CALCULATED HOUR OF PREDICTION',\n",
      "                       'humidity': '89%',\n",
      "                       'sun': {'rise': '7:20 am5:07 pm',\n",
      "                               'set': '7:20 am5:07 pm'},\n",
      "                       'temp_f': '54°',\n",
      "                       'uv_index': '1 of 10',\n",
      "                       'wind': {'direction': 'sw', 'speed': '5'}},\n",
      "             'at_36': {'chance_precip': '50%',\n",
      "                       'condition': 'showers early',\n",
      "                       'description': 'rain showers early with overcast skies '\n",
      "                                      'late. low 51f. winds ssw at 5 to 10 '\n",
      "                                      'mph. chance of rain 50%.',\n",
      "                       'high/low': 'low',\n",
      "                       'hour': 'CALCULATED HOUR OF PREDICTION',\n",
      "                       'humidity': '95%',\n",
      "                       'sun': {'rise': '7:20 am5:07 pm',\n",
      "                               'set': '7:20 am5:07 pm'},\n",
      "                       'temp_f': '51°',\n",
      "                       'uv_index': '0 of 10',\n",
      "                       'wind': {'direction': 'ssw', 'speed': '7'}},\n",
      "             'at_start': {'chance_precip': '10%',\n",
      "                          'condition': 'partly cloudy',\n",
      "                          'description': 'partly cloudy. high 51f. winds light '\n",
      "                                         'and variable.',\n",
      "                          'high/low': 'high',\n",
      "                          'hour': 'CALCULATED HOUR OF PREDICTION',\n",
      "                          'humidity': '56%',\n",
      "                          'sun': {'rise': '7:19 am5:07 pm',\n",
      "                                  'set': '7:19 am5:07 pm'},\n",
      "                          'temp_f': '51°',\n",
      "                          'uv_index': '2 of 10',\n",
      "                          'wind': {'direction': 'ene', 'speed': '4'}},\n",
      "             'now': {'chance_precip': '10%',\n",
      "                     'condition': 'partly cloudy',\n",
      "                     'description': 'some clouds. low around 30f. winds light '\n",
      "                                    'and variable.',\n",
      "                     'high/low': 'low',\n",
      "                     'hour': 'CALCULATED HOUR OF PREDICTION',\n",
      "                     'humidity': '70%',\n",
      "                     'sun': {'rise': '7:18 am5:07 pm', 'set': '7:18 am5:07 pm'},\n",
      "                     'temp_f': '30°',\n",
      "                     'uv_index': '0 of 10',\n",
      "                     'wind': {'direction': 'ene', 'speed': '3'}}},\n",
      " 'right_now': {'as_of': ['pm', 'est'],\n",
      "               'observations': {'description': 'mostly cloudy',\n",
      "                                'dew_point': '30°',\n",
      "                                'humidity': '62%',\n",
      "                                'pressure': {'change': '', 'in': '30.43'},\n",
      "                                'temp F': {'feels_like': ['3', '9', '°'],\n",
      "                                           'measured': '42°'},\n",
      "                                'uv_index': 'of',\n",
      "                                'visibility mi': '10.0 mi',\n",
      "                                'wind': {'direction': 'ene', 'speed': '5'}}},\n",
      " 'ten_day': '{\"0\":{\"Day\":null,\"Description\":\"Tonight DEC 7\",\"High \\\\/ '\n",
      "            'Low\":\"Partly '\n",
      "            'Cloudy\",\"Precip\":\"--30\\\\u00b0\",\"Wind\":\"10%\",\"Humidity\":\"ENE 3 '\n",
      "            'mph\",\"Unnamed: 6\":\"70%\"},\"1\":{\"Day\":null,\"Description\":\"Sun DEC '\n",
      "            '8\",\"High \\\\/ Low\":\"Partly '\n",
      "            'Cloudy\",\"Precip\":\"51\\\\u00b039\\\\u00b0\",\"Wind\":\"10%\",\"Humidity\":\"ENE '\n",
      "            '4 mph\",\"Unnamed: 6\":\"56%\"},\"2\":{\"Day\":null,\"Description\":\"MonDEC '\n",
      "            '9\",\"High \\\\/ Low\":\"Few '\n",
      "            'Showers\",\"Precip\":\"54\\\\u00b051\\\\u00b0\",\"Wind\":\"30%\",\"Humidity\":\"SW '\n",
      "            '5 mph\",\"Unnamed: 6\":\"89%\"},\"3\":{\"Day\":null,\"Description\":\"TueDEC '\n",
      "            '10\",\"High \\\\/ '\n",
      "            'Low\":\"Rain\",\"Precip\":\"64\\\\u00b039\\\\u00b0\",\"Wind\":\"80%\",\"Humidity\":\"SW '\n",
      "            '11 mph\",\"Unnamed: 6\":\"86%\"},\"4\":{\"Day\":null,\"Description\":\"WedDEC '\n",
      "            '11\",\"High \\\\/ Low\":\"AM '\n",
      "            'Showers\",\"Precip\":\"47\\\\u00b028\\\\u00b0\",\"Wind\":\"50%\",\"Humidity\":\"NNW '\n",
      "            '7 mph\",\"Unnamed: 6\":\"57%\"},\"5\":{\"Day\":null,\"Description\":\"Thu DEC '\n",
      "            '12\",\"High \\\\/ Low\":\"Mostly '\n",
      "            'Sunny\",\"Precip\":\"40\\\\u00b026\\\\u00b0\",\"Wind\":\"20%\",\"Humidity\":\"NE '\n",
      "            '7 mph\",\"Unnamed: 6\":\"50%\"},\"6\":{\"Day\":null,\"Description\":\"FriDEC '\n",
      "            '13\",\"High \\\\/ Low\":\"Rain\\\\/Freezing '\n",
      "            'Rain\",\"Precip\":\"42\\\\u00b037\\\\u00b0\",\"Wind\":\"40%\",\"Humidity\":\"NE 6 '\n",
      "            'mph\",\"Unnamed: 6\":\"67%\"},\"7\":{\"Day\":null,\"Description\":\"SatDEC '\n",
      "            '14\",\"High \\\\/ '\n",
      "            'Low\":\"Showers\",\"Precip\":\"51\\\\u00b038\\\\u00b0\",\"Wind\":\"50%\",\"Humidity\":\"N '\n",
      "            '4 mph\",\"Unnamed: 6\":\"84%\"},\"8\":{\"Day\":null,\"Description\":\"Sun DEC '\n",
      "            '15\",\"High \\\\/ Low\":\"Partly '\n",
      "            'Cloudy\",\"Precip\":\"55\\\\u00b039\\\\u00b0\",\"Wind\":\"10%\",\"Humidity\":\"W '\n",
      "            '5 mph\",\"Unnamed: 6\":\"75%\"},\"9\":{\"Day\":null,\"Description\":\"MonDEC '\n",
      "            '16\",\"High \\\\/ Low\":\"AM '\n",
      "            'Showers\",\"Precip\":\"56\\\\u00b036\\\\u00b0\",\"Wind\":\"30%\",\"Humidity\":\"WSW '\n",
      "            '5 mph\",\"Unnamed: 6\":\"74%\"},\"10\":{\"Day\":null,\"Description\":\"TueDEC '\n",
      "            '17\",\"High \\\\/ '\n",
      "            'Low\":\"Showers\",\"Precip\":\"49\\\\u00b031\\\\u00b0\",\"Wind\":\"40%\",\"Humidity\":\"NNW '\n",
      "            '6 mph\",\"Unnamed: 6\":\"66%\"},\"11\":{\"Day\":null,\"Description\":\"Wed '\n",
      "            'DEC 18\",\"High \\\\/ Low\":\"Partly '\n",
      "            'Cloudy\",\"Precip\":\"48\\\\u00b032\\\\u00b0\",\"Wind\":\"20%\",\"Humidity\":\"NNW '\n",
      "            '6 mph\",\"Unnamed: 6\":\"60%\"},\"12\":{\"Day\":null,\"Description\":\"ThuDEC '\n",
      "            '19\",\"High \\\\/ '\n",
      "            'Low\":\"Showers\",\"Precip\":\"49\\\\u00b034\\\\u00b0\",\"Wind\":\"40%\",\"Humidity\":\"NW '\n",
      "            '5 mph\",\"Unnamed: 6\":\"61%\"},\"13\":{\"Day\":null,\"Description\":\"FriDEC '\n",
      "            '20\",\"High \\\\/ '\n",
      "            'Low\":\"Showers\",\"Precip\":\"51\\\\u00b035\\\\u00b0\",\"Wind\":\"40%\",\"Humidity\":\"NW '\n",
      "            '6 mph\",\"Unnamed: 6\":\"64%\"},\"14\":{\"Day\":null,\"Description\":\"SatDEC '\n",
      "            '21\",\"High \\\\/ '\n",
      "            'Low\":\"Showers\",\"Precip\":\"50\\\\u00b035\\\\u00b0\",\"Wind\":\"40%\",\"Humidity\":\"NNE '\n",
      "            '6 mph\",\"Unnamed: 6\":\"64%\"}}'}\n"
     ]
    }
   ],
   "source": [
    "for x in db.code.find():\n",
    "    pprint(x)"
   ]
  },
  {
   "cell_type": "code",
   "execution_count": 35,
   "metadata": {},
   "outputs": [
    {
     "data": {
      "text/plain": [
       "1575778063.3095932"
      ]
     },
     "execution_count": 35,
     "metadata": {},
     "output_type": "execute_result"
    }
   ],
   "source": [
    "time.time()"
   ]
  },
  {
   "cell_type": "code",
   "execution_count": 20,
   "metadata": {},
   "outputs": [
    {
     "name": "stdout",
     "output_type": "stream",
     "text": [
      "1\n",
      "got next 8 hour spotted\n",
      "clicked and waiting\n",
      "end n=1 th pass\n",
      "2\n",
      "got next 8 hour spotted\n",
      "clicked and waiting\n",
      "end n=2 th pass\n",
      "3\n",
      "got next 8 hour spotted\n",
      "clicked and waiting\n",
      "end n=3 th pass\n",
      "4\n",
      "got next 8 hour spotted\n",
      "clicked and waiting\n",
      "end n=4 th pass\n",
      "5\n",
      "got next 8 hour spotted\n",
      "clicked and waiting\n",
      "end n=5 th pass\n"
     ]
    }
   ],
   "source": [
    "goto_hourly(browser)"
   ]
  },
  {
   "cell_type": "code",
   "execution_count": 43,
   "metadata": {},
   "outputs": [],
   "source": [
    "browser.quit()"
   ]
  },
  {
   "cell_type": "raw",
   "metadata": {},
   "source": []
  },
  {
   "cell_type": "code",
   "execution_count": null,
   "metadata": {},
   "outputs": [],
   "source": []
  },
  {
   "cell_type": "code",
   "execution_count": 55,
   "metadata": {},
   "outputs": [
    {
     "data": {
      "text/plain": [
       "['ADVANCE, NC',\n",
       " 'as of 11:27 pm EST',\n",
       " '43°',\n",
       " 'CLEAR',\n",
       " 'feels like 41°',\n",
       " 'H -- L 35°',\n",
       " 'UV Index 0 of 10',\n",
       " 'Holiday Week Travel Forecast',\n",
       " 'RIGHT NOW',\n",
       " 'Wind',\n",
       " 'NNW 4 mph',\n",
       " 'Humidity',\n",
       " '57%',\n",
       " 'Dew Point',\n",
       " '29°',\n",
       " 'Pressure',\n",
       " '30.31 in',\n",
       " 'Visibility',\n",
       " '10.0 mi']"
      ]
     },
     "execution_count": 55,
     "metadata": {},
     "output_type": "execute_result"
    }
   ],
   "source": [
    "now"
   ]
  },
  {
   "cell_type": "code",
   "execution_count": null,
   "metadata": {},
   "outputs": [],
   "source": [
    "if now[10]"
   ]
  },
  {
   "cell_type": "code",
   "execution_count": 57,
   "metadata": {},
   "outputs": [
    {
     "name": "stdout",
     "output_type": "stream",
     "text": [
      "{'chance_precip': '0%',\n",
      " 'condition': 'MOSTLY CLEAR',\n",
      " 'description': 'Clear to partly cloudy. Low near 35F. Winds light and '\n",
      "                'variable.',\n",
      " 'high/low': 'LOW',\n",
      " 'hour': 'CALCULATED HOUR OF PREDICTION',\n",
      " 'humidity': '68%',\n",
      " 'sun': {'rise': '7:10 am5:08 pm', 'set': '7:10 am5:08 pm'},\n",
      " 'temp_f': '35°',\n",
      " 'uv_index': '0 of 10',\n",
      " 'wind': {'direction': 'NNE', 'speed': '4'}}\n"
     ]
    }
   ],
   "source": [
    "from pprint import pprint\n",
    "pprint(next_36['now'])\n",
    "# next_36"
   ]
  },
  {
   "cell_type": "code",
   "execution_count": 22,
   "metadata": {},
   "outputs": [
    {
     "data": {
      "text/plain": [
       "[    Time  Description        Temp Feels Precip Humidity Wind Unnamed: 7\n",
       " 0    NaN  12:30 pmSat      Cloudy   48°    48°       0%  86%  SSE 2 mph\n",
       " 1    NaN   1:00 pmSat      Cloudy   49°    49°       0%  85%  SSE 2 mph\n",
       " 2    NaN   2:00 pmSat      Cloudy   50°    50°       0%  81%  SSE 2 mph\n",
       " 3    NaN   3:00 pmSat      Cloudy   50°    50°      10%  78%  SSE 3 mph\n",
       " 4    NaN   4:00 pmSat      Cloudy   50°    50°      25%  77%   SE 2 mph\n",
       " 5    NaN   5:00 pmSat        Rain   50°    50°      70%  80%  ESE 1 mph\n",
       " 6    NaN   6:00 pmSat     Showers   49°    49°      65%  89%  ESE 1 mph\n",
       " 7    NaN   7:00 pmSat        Rain   48°    48°      60%  93%   SE 2 mph\n",
       " 8    NaN   8:00 pmSat  Light Rain   47°    47°      65%  93%   SE 2 mph\n",
       " 9    NaN   9:00 pmSat  Light Rain   47°    47°      65%  94%  ESE 2 mph\n",
       " 10   NaN  10:00 pmSat        Rain   47°    47°      85%  96%  ESE 2 mph\n",
       " 11   NaN  11:00 pmSat        Rain   47°    47°      90%  95%   SE 2 mph\n",
       " 12   NaN  12:00 amSun        Rain   47°    46°      85%  93%   SE 4 mph\n",
       " 13   NaN   1:00 amSun        Rain   48°    46°      80%  96%   SE 4 mph\n",
       " 14   NaN   2:00 amSun        Rain   48°    46°      80%  95%  SSE 5 mph\n",
       " 15   NaN   3:00 amSun        Rain   48°    46°      80%  96%   SE 5 mph]"
      ]
     },
     "execution_count": 22,
     "metadata": {},
     "output_type": "execute_result"
    }
   ],
   "source": [
    "get_table(browser)"
   ]
  },
  {
   "cell_type": "code",
   "execution_count": 36,
   "metadata": {},
   "outputs": [],
   "source": [
    "browser.back()"
   ]
  },
  {
   "cell_type": "code",
   "execution_count": 35,
   "metadata": {},
   "outputs": [
    {
     "data": {
      "text/plain": [
       "1"
      ]
     },
     "execution_count": 35,
     "metadata": {},
     "output_type": "execute_result"
    }
   ],
   "source": [
    "len(dfs)"
   ]
  },
  {
   "cell_type": "code",
   "execution_count": null,
   "metadata": {},
   "outputs": [],
   "source": []
  },
  {
   "cell_type": "code",
   "execution_count": 21,
   "metadata": {},
   "outputs": [],
   "source": []
  },
  {
   "cell_type": "code",
   "execution_count": null,
   "metadata": {},
   "outputs": [],
   "source": []
  },
  {
   "cell_type": "raw",
   "metadata": {},
   "source": [
    "if <you get that error message>:\n",
    "    if <check to see if there is a 'close' button to click on the DOM>:\n",
    "        <click that button>\n",
    "    else:\n",
    "        <handle that error some other way>"
   ]
  },
  {
   "cell_type": "code",
   "execution_count": null,
   "metadata": {},
   "outputs": [],
   "source": [
    "# snapshot = browser.find_by_tag('div#daypart-0').value\n",
    "# snaplist = snapshot.split('\\n')\n",
    "# details = browser.find_by_tag('span.wx-detail-value')\n",
    "# detailslist = [details[i].value for i in range(4)]\n",
    "# print(snaplist)\n",
    "# detailslist"
   ]
  },
  {
   "cell_type": "code",
   "execution_count": 49,
   "metadata": {},
   "outputs": [
    {
     "name": "stdout",
     "output_type": "stream",
     "text": [
      "['TONIGHT', 'RAIN', 'LOW', '42°', '90%']\n"
     ]
    }
   ],
   "source": [
    "print(snaplist)"
   ]
  },
  {
   "cell_type": "code",
   "execution_count": 43,
   "metadata": {},
   "outputs": [
    {
     "name": "stdout",
     "output_type": "stream",
     "text": [
      "None\n"
     ]
    }
   ],
   "source": []
  },
  {
   "cell_type": "code",
   "execution_count": 35,
   "metadata": {},
   "outputs": [
    {
     "name": "stdout",
     "output_type": "stream",
     "text": [
      "<splinter.element_list.ElementList object at 0x104ad09d0>\n"
     ]
    }
   ],
   "source": []
  },
  {
   "cell_type": "code",
   "execution_count": 36,
   "metadata": {},
   "outputs": [
    {
     "name": "stdout",
     "output_type": "stream",
     "text": [
      "NNW 10 mph\n",
      "86%\n",
      "0 of 10\n",
      "6:43 am5:13 pm\n"
     ]
    }
   ],
   "source": []
  },
  {
   "cell_type": "code",
   "execution_count": 12,
   "metadata": {},
   "outputs": [
    {
     "data": {
      "text/plain": [
       "'TODAY\\nHIGH\\n70°\\n10%'"
      ]
     },
     "execution_count": 12,
     "metadata": {},
     "output_type": "execute_result"
    }
   ],
   "source": []
  },
  {
   "cell_type": "code",
   "execution_count": 26,
   "metadata": {},
   "outputs": [
    {
     "data": {
      "text/plain": [
       "'A clear sky. Scattered frost possible. Low around 30F. Winds light and variable.'"
      ]
     },
     "execution_count": 26,
     "metadata": {},
     "output_type": "execute_result"
    }
   ],
   "source": []
  },
  {
   "cell_type": "code",
   "execution_count": 18,
   "metadata": {},
   "outputs": [],
   "source": [
    "browser.quit()"
   ]
  },
  {
   "cell_type": "code",
   "execution_count": 13,
   "metadata": {},
   "outputs": [],
   "source": []
  },
  {
   "cell_type": "code",
   "execution_count": 14,
   "metadata": {},
   "outputs": [
    {
     "data": {
      "text/plain": [
       "1"
      ]
     },
     "execution_count": 14,
     "metadata": {},
     "output_type": "execute_result"
    }
   ],
   "source": []
  },
  {
   "cell_type": "code",
   "execution_count": 16,
   "metadata": {},
   "outputs": [
    {
     "data": {
      "text/plain": [
       "'Today'"
      ]
     },
     "execution_count": 16,
     "metadata": {},
     "output_type": "execute_result"
    }
   ],
   "source": []
  },
  {
   "cell_type": "code",
   "execution_count": 17,
   "metadata": {},
   "outputs": [
    {
     "name": "stdout",
     "output_type": "stream",
     "text": [
      "got input box\n"
     ]
    }
   ],
   "source": []
  },
  {
   "cell_type": "code",
   "execution_count": 18,
   "metadata": {},
   "outputs": [
    {
     "data": {
      "text/plain": [
       "1"
      ]
     },
     "execution_count": 18,
     "metadata": {},
     "output_type": "execute_result"
    }
   ],
   "source": []
  },
  {
   "cell_type": "code",
   "execution_count": 19,
   "metadata": {},
   "outputs": [],
   "source": []
  },
  {
   "cell_type": "code",
   "execution_count": 20,
   "metadata": {},
   "outputs": [],
   "source": []
  },
  {
   "cell_type": "code",
   "execution_count": 25,
   "metadata": {},
   "outputs": [
    {
     "name": "stdout",
     "output_type": "stream",
     "text": [
      "now\n",
      "now\n",
      "looking for now snapshot\n",
      "at_start\n",
      "looking for at_start snapshot\n",
      "at_12\n",
      "looking for at_12 snapshot\n",
      "at_24\n",
      "looking for at_24 snapshot\n",
      "at_36\n",
      "looking for at_36 snapshot\n"
     ]
    }
   ],
   "source": [
    "hour_code = {'0':'now',\n",
    "            '1':'at_start',\n",
    "            '2':'at_12',\n",
    "            '3':'at_24',\n",
    "            '4':'at_36'\n",
    "}\n",
    "print(hour_code['0'])\n",
    "for i in range(5):\n",
    "    print(hour_code[str(i)])\n",
    "    print(f'looking for {hour_code[str(i)]} snapshot')"
   ]
  },
  {
   "cell_type": "code",
   "execution_count": null,
   "metadata": {},
   "outputs": [],
   "source": [
    "### SEARCH FOR THE TABLE THAT HOLDS THE SEARCH RESULTS ###"
   ]
  }
 ],
 "metadata": {
  "kernelspec": {
   "display_name": "Python 3",
   "language": "python",
   "name": "python3"
  },
  "language_info": {
   "codemirror_mode": {
    "name": "ipython",
    "version": 3
   },
   "file_extension": ".py",
   "mimetype": "text/x-python",
   "name": "python",
   "nbconvert_exporter": "python",
   "pygments_lexer": "ipython3",
   "version": "3.8.0"
  }
 },
 "nbformat": 4,
 "nbformat_minor": 2
}
