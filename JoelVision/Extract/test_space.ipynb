{
 "cells": [
  {
   "cell_type": "code",
   "execution_count": 40,
   "metadata": {},
   "outputs": [],
   "source": [
    "from splinter import Browser\n",
    "from selenium.common.exceptions import InvalidElementStateException\n",
    "from selenium.common.exceptions import ElementNotInteractableException\n",
    "from bs4 import BeautifulSoup\n",
    "import pandas as pd\n",
    "import html5lib\n",
    "import lxml\n",
    "import shutil\n",
    "import time\n",
    "import urllib3\n",
    "import requests"
   ]
  },
  {
   "cell_type": "code",
   "execution_count": 41,
   "metadata": {},
   "outputs": [
    {
     "data": {
      "text/plain": [
       "1903"
      ]
     },
     "execution_count": 41,
     "metadata": {},
     "output_type": "execute_result"
    }
   ],
   "source": [
    "# Set the zip codes\n",
    "codes = [i for i in range(27006, 28909)]\n",
    "# codes.append('27606')   # just hard code one in\n",
    "code = codes[0]    # set the variable for zip_and_click\n",
    "len(codes)"
   ]
  },
  {
   "cell_type": "code",
   "execution_count": 42,
   "metadata": {},
   "outputs": [],
   "source": [
    "# inititial website to visit\n",
    "url = 'https://weather.com'"
   ]
  },
  {
   "cell_type": "code",
   "execution_count": 43,
   "metadata": {},
   "outputs": [],
   "source": [
    "def chrome():\n",
    "    '''\n",
    "    Finds the chromedriver in the system and creates a Chrome browser\n",
    "    '''\n",
    "    executable_path = {'executable_path': shutil.which('chromedriver')}\n",
    "    browser = Browser('chrome', **executable_path)\n",
    "    return(browser)"
   ]
  },
  {
   "cell_type": "code",
   "execution_count": 44,
   "metadata": {},
   "outputs": [],
   "source": [
    "def zip_and_click(code):\n",
    "    '''\n",
    "    Enter zip codes into the search bar on weather.com and click the first result.\n",
    "    No return, just leaves browser at the first data page.\n",
    "    '''\n",
    "    import time\n",
    "    \n",
    "    filled = False\n",
    "    clicked = False\n",
    "    \n",
    "    inputs = browser.find_by_tag('input') # get the search box reference\n",
    "    search_box = inputs[0]\n",
    "    while not filled:\n",
    "        try:\n",
    "            search_box.fill(code)\n",
    "            filled = True\n",
    "        except InvalidElementStateException:\n",
    "            time.sleep(1)\n",
    "    while not clicked:\n",
    "        try:\n",
    "            browser.click_link_by_partial_href('/weather/today/l')\n",
    "            print('no exception this time')\n",
    "            clicked = True\n",
    "        except ElementNotInteractableException:\n",
    "            print('exception found....waiting...')\n",
    "            time.sleep(1)\n",
    "    return(browser)     "
   ]
  },
  {
   "cell_type": "code",
   "execution_count": 45,
   "metadata": {},
   "outputs": [],
   "source": [
    "def scrape_now(browser):\n",
    "    ''' Get observed weather data from the current weather page '''\n",
    "    divs = browser.find_by_tag('div').first\n",
    "    nowcard = divs.find_by_tag('section.today_nowcard-container').value\n",
    "    nowlist = nowcard.split('\\n')\n",
    "    return(nowlist)"
   ]
  },
  {
   "cell_type": "code",
   "execution_count": 46,
   "metadata": {},
   "outputs": [],
   "source": [
    "def wind_dict(wind_str):\n",
    "    ''' handle the cases where the wind value is simply \"calm\" rather than direction and speed '''\n",
    "    if wind_str == 'Calm':\n",
    "        return {\n",
    "            'speed': 0,\n",
    "            'direction': None\n",
    "        }\n",
    "    else:\n",
    "        return {\n",
    "            'speed': wind_str.split()[1],\n",
    "            'direction': wind_str.split()[0]\n",
    "        }"
   ]
  },
  {
   "cell_type": "code",
   "execution_count": 47,
   "metadata": {},
   "outputs": [],
   "source": [
    "def scrape_next36(browser):\n",
    "    ''' Get the \"at a glance\" data from the next 36 hours '''\n",
    "\n",
    "    next_36 = {}\n",
    "    \n",
    "    # Pulling data from the \"next 36 hours\" overview displays. There are 5 sections\n",
    "    # that are pulled from. Each section gets a different label.\n",
    "    hour_code = {'0':'now',\n",
    "                '1':'at_start',\n",
    "                '2':'at_12',\n",
    "                '3':'at_24',\n",
    "                '4':'at_36'\n",
    "                }\n",
    "    for i in range(5):\n",
    "        print(f'looking for {hour_code[str(i)]} snapshot')\n",
    "        browser.find_by_tag(f'div#daypart-{i}').click()\n",
    "        snapshot = browser.find_by_tag(f'div#daypart-{i}')\n",
    "        snap_values = snapshot.value\n",
    "        details = browser.find_by_tag('span.wx-detail-value')\n",
    "        detaillist = [details[j].value for j in range(4)]\n",
    "        print(f'completed section {i} snapshot')\n",
    "\n",
    "        #store the data\n",
    "        next_36.update({hour_code[str(i)]: {'hour': 'CALCULATED HOUR OF PREDICTION',\n",
    "                                            'condition': snap_values.split('\\n')[1],\n",
    "                                            'high/low': snap_values.split('\\n')[2],\n",
    "                                            'temp_f': snap_values.split('\\n')[3],\n",
    "                                            'chance_precip': snap_values.split('\\n')[4],\n",
    "                                            'description': browser.find_by_id(f'dp{i}-details-narrative').first.value,\n",
    "                                            'wind': wind_dict(detaillist[0]),\n",
    "#                                             {'speed_mph': detaillist[0].split(' ')[1],\n",
    "#                                                            'direction': detaillist[0].split(' ')[0]\n",
    "#                                                    },\n",
    "                                            'humidity': detaillist[1],\n",
    "                                            'uv_index': detaillist[2],\n",
    "                                            'sun': {'rise': detaillist[3],\n",
    "                                                    'set': detaillist[3]\n",
    "                                                   }\n",
    "                                              }\n",
    "                      })\n",
    "    return(next_36)"
   ]
  },
  {
   "cell_type": "code",
   "execution_count": 48,
   "metadata": {},
   "outputs": [],
   "source": [
    "def goto_hourly(browser):\n",
    "    ''' Take the browser to the hourly numbers '''\n",
    "    browser.find_by_text('Hourly').click()\n",
    "    time.sleep(1)\n",
    "    n=0\n",
    "    while browser.is_text_present('Next 8 Hours', wait_time=.5):\n",
    "        n+=1\n",
    "        print(n)\n",
    "        next8 = browser.find_by_text('Next 8 Hours')\n",
    "        print('got next 8 hour spotted')\n",
    "        next8.click()\n",
    "        print('clicked and waiting')\n",
    "        time.sleep(.5)\n",
    "        print(f'end n={n} th pass')\n",
    "    return"
   ]
  },
  {
   "cell_type": "code",
   "execution_count": 49,
   "metadata": {},
   "outputs": [
    {
     "data": {
      "text/plain": [
       "'/Users/mastacow/data/forcast-forcast/env/bin/chromedriver'"
      ]
     },
     "execution_count": 49,
     "metadata": {},
     "output_type": "execute_result"
    }
   ],
   "source": [
    "shutil.which('chromedriver')"
   ]
  },
  {
   "cell_type": "raw",
   "metadata": {},
   "source": []
  },
  {
   "cell_type": "code",
   "execution_count": 50,
   "metadata": {
    "scrolled": true
   },
   "outputs": [],
   "source": [
    "browser = chrome()"
   ]
  },
  {
   "cell_type": "code",
   "execution_count": 20,
   "metadata": {},
   "outputs": [],
   "source": [
    "browser.quit()"
   ]
  },
  {
   "cell_type": "raw",
   "metadata": {},
   "source": []
  },
  {
   "cell_type": "code",
   "execution_count": 51,
   "metadata": {},
   "outputs": [],
   "source": [
    "browser.visit(url)"
   ]
  },
  {
   "cell_type": "code",
   "execution_count": null,
   "metadata": {},
   "outputs": [],
   "source": []
  },
  {
   "cell_type": "code",
   "execution_count": 52,
   "metadata": {},
   "outputs": [
    {
     "name": "stdout",
     "output_type": "stream",
     "text": [
      "exception found....waiting...\n",
      "no exception this time\n"
     ]
    },
    {
     "data": {
      "text/plain": [
       "<splinter.driver.webdriver.chrome.WebDriver at 0x11c602160>"
      ]
     },
     "execution_count": 52,
     "metadata": {},
     "output_type": "execute_result"
    }
   ],
   "source": [
    "zip_and_click(code)"
   ]
  },
  {
   "cell_type": "code",
   "execution_count": 53,
   "metadata": {},
   "outputs": [],
   "source": [
    "now = scrape_now(browser)"
   ]
  },
  {
   "cell_type": "code",
   "execution_count": 55,
   "metadata": {},
   "outputs": [
    {
     "data": {
      "text/plain": [
       "['ADVANCE, NC',\n",
       " 'as of 11:27 pm EST',\n",
       " '43°',\n",
       " 'CLEAR',\n",
       " 'feels like 41°',\n",
       " 'H -- L 35°',\n",
       " 'UV Index 0 of 10',\n",
       " 'Holiday Week Travel Forecast',\n",
       " 'RIGHT NOW',\n",
       " 'Wind',\n",
       " 'NNW 4 mph',\n",
       " 'Humidity',\n",
       " '57%',\n",
       " 'Dew Point',\n",
       " '29°',\n",
       " 'Pressure',\n",
       " '30.31 in',\n",
       " 'Visibility',\n",
       " '10.0 mi']"
      ]
     },
     "execution_count": 55,
     "metadata": {},
     "output_type": "execute_result"
    }
   ],
   "source": [
    "now"
   ]
  },
  {
   "cell_type": "code",
   "execution_count": 56,
   "metadata": {},
   "outputs": [
    {
     "name": "stdout",
     "output_type": "stream",
     "text": [
      "looking for now snapshot\n",
      "completed section 0 snapshot\n",
      "looking for at_start snapshot\n",
      "completed section 1 snapshot\n",
      "looking for at_12 snapshot\n",
      "completed section 2 snapshot\n",
      "looking for at_24 snapshot\n",
      "completed section 3 snapshot\n",
      "looking for at_36 snapshot\n",
      "completed section 4 snapshot\n"
     ]
    }
   ],
   "source": [
    "next_36 = scrape_next36(browser)"
   ]
  },
  {
   "cell_type": "code",
   "execution_count": 57,
   "metadata": {},
   "outputs": [
    {
     "name": "stdout",
     "output_type": "stream",
     "text": [
      "{'chance_precip': '0%',\n",
      " 'condition': 'MOSTLY CLEAR',\n",
      " 'description': 'Clear to partly cloudy. Low near 35F. Winds light and '\n",
      "                'variable.',\n",
      " 'high/low': 'LOW',\n",
      " 'hour': 'CALCULATED HOUR OF PREDICTION',\n",
      " 'humidity': '68%',\n",
      " 'sun': {'rise': '7:10 am5:08 pm', 'set': '7:10 am5:08 pm'},\n",
      " 'temp_f': '35°',\n",
      " 'uv_index': '0 of 10',\n",
      " 'wind': {'direction': 'NNE', 'speed': '4'}}\n"
     ]
    }
   ],
   "source": [
    "from pprint import pprint\n",
    "pprint(next_36['now'])\n",
    "# next_36"
   ]
  },
  {
   "cell_type": "code",
   "execution_count": 58,
   "metadata": {},
   "outputs": [
    {
     "name": "stdout",
     "output_type": "stream",
     "text": [
      "1\n",
      "got next 8 hour spotted\n",
      "clicked and waiting\n",
      "end n=1 th pass\n",
      "2\n",
      "got next 8 hour spotted\n",
      "clicked and waiting\n",
      "end n=2 th pass\n",
      "3\n",
      "got next 8 hour spotted\n",
      "clicked and waiting\n",
      "end n=3 th pass\n",
      "4\n",
      "got next 8 hour spotted\n",
      "clicked and waiting\n",
      "end n=4 th pass\n"
     ]
    }
   ],
   "source": [
    "goto_hourly(browser)"
   ]
  },
  {
   "cell_type": "code",
   "execution_count": 59,
   "metadata": {},
   "outputs": [
    {
     "data": {
      "text/html": [
       "<div>\n",
       "<style scoped>\n",
       "    .dataframe tbody tr th:only-of-type {\n",
       "        vertical-align: middle;\n",
       "    }\n",
       "\n",
       "    .dataframe tbody tr th {\n",
       "        vertical-align: top;\n",
       "    }\n",
       "\n",
       "    .dataframe thead th {\n",
       "        text-align: right;\n",
       "    }\n",
       "</style>\n",
       "<table border=\"1\" class=\"dataframe\">\n",
       "  <thead>\n",
       "    <tr style=\"text-align: right;\">\n",
       "      <th></th>\n",
       "      <th>Time</th>\n",
       "      <th>Description</th>\n",
       "      <th>Temp</th>\n",
       "      <th>Feels</th>\n",
       "      <th>Precip</th>\n",
       "      <th>Humidity</th>\n",
       "      <th>Wind</th>\n",
       "      <th>Unnamed: 7</th>\n",
       "    </tr>\n",
       "  </thead>\n",
       "  <tbody>\n",
       "    <tr>\n",
       "      <th>0</th>\n",
       "      <td>NaN</td>\n",
       "      <td>11:45 pmThu</td>\n",
       "      <td>Clear</td>\n",
       "      <td>42°</td>\n",
       "      <td>40°</td>\n",
       "      <td>0%</td>\n",
       "      <td>59%</td>\n",
       "      <td>N 4 mph</td>\n",
       "    </tr>\n",
       "    <tr>\n",
       "      <th>1</th>\n",
       "      <td>NaN</td>\n",
       "      <td>12:00 amFri</td>\n",
       "      <td>Clear</td>\n",
       "      <td>42°</td>\n",
       "      <td>40°</td>\n",
       "      <td>0%</td>\n",
       "      <td>59%</td>\n",
       "      <td>N 4 mph</td>\n",
       "    </tr>\n",
       "    <tr>\n",
       "      <th>2</th>\n",
       "      <td>NaN</td>\n",
       "      <td>1:00 amFri</td>\n",
       "      <td>Clear</td>\n",
       "      <td>41°</td>\n",
       "      <td>39°</td>\n",
       "      <td>0%</td>\n",
       "      <td>61%</td>\n",
       "      <td>NNE 3 mph</td>\n",
       "    </tr>\n",
       "    <tr>\n",
       "      <th>3</th>\n",
       "      <td>NaN</td>\n",
       "      <td>2:00 amFri</td>\n",
       "      <td>Clear</td>\n",
       "      <td>41°</td>\n",
       "      <td>41°</td>\n",
       "      <td>0%</td>\n",
       "      <td>63%</td>\n",
       "      <td>NNE 2 mph</td>\n",
       "    </tr>\n",
       "    <tr>\n",
       "      <th>4</th>\n",
       "      <td>NaN</td>\n",
       "      <td>3:00 am Fri</td>\n",
       "      <td>Mostly Clear</td>\n",
       "      <td>39°</td>\n",
       "      <td>39°</td>\n",
       "      <td>0%</td>\n",
       "      <td>70%</td>\n",
       "      <td>NNE 1 mph</td>\n",
       "    </tr>\n",
       "    <tr>\n",
       "      <th>5</th>\n",
       "      <td>NaN</td>\n",
       "      <td>4:00 am Fri</td>\n",
       "      <td>Mostly Clear</td>\n",
       "      <td>38°</td>\n",
       "      <td>38°</td>\n",
       "      <td>0%</td>\n",
       "      <td>72%</td>\n",
       "      <td>Calm</td>\n",
       "    </tr>\n",
       "    <tr>\n",
       "      <th>6</th>\n",
       "      <td>NaN</td>\n",
       "      <td>5:00 am Fri</td>\n",
       "      <td>Mostly Clear</td>\n",
       "      <td>37°</td>\n",
       "      <td>37°</td>\n",
       "      <td>0%</td>\n",
       "      <td>77%</td>\n",
       "      <td>Calm</td>\n",
       "    </tr>\n",
       "    <tr>\n",
       "      <th>7</th>\n",
       "      <td>NaN</td>\n",
       "      <td>6:00 am Fri</td>\n",
       "      <td>Mostly Clear</td>\n",
       "      <td>36°</td>\n",
       "      <td>36°</td>\n",
       "      <td>5%</td>\n",
       "      <td>80%</td>\n",
       "      <td>Calm</td>\n",
       "    </tr>\n",
       "    <tr>\n",
       "      <th>8</th>\n",
       "      <td>NaN</td>\n",
       "      <td>7:00 am Fri</td>\n",
       "      <td>Mostly Clear</td>\n",
       "      <td>36°</td>\n",
       "      <td>36°</td>\n",
       "      <td>5%</td>\n",
       "      <td>79%</td>\n",
       "      <td>Calm</td>\n",
       "    </tr>\n",
       "    <tr>\n",
       "      <th>9</th>\n",
       "      <td>NaN</td>\n",
       "      <td>8:00 am Fri</td>\n",
       "      <td>Mostly Sunny</td>\n",
       "      <td>37°</td>\n",
       "      <td>37°</td>\n",
       "      <td>5%</td>\n",
       "      <td>78%</td>\n",
       "      <td>Calm</td>\n",
       "    </tr>\n",
       "    <tr>\n",
       "      <th>10</th>\n",
       "      <td>NaN</td>\n",
       "      <td>9:00 am Fri</td>\n",
       "      <td>Mostly Sunny</td>\n",
       "      <td>41°</td>\n",
       "      <td>41°</td>\n",
       "      <td>0%</td>\n",
       "      <td>69%</td>\n",
       "      <td>N 1 mph</td>\n",
       "    </tr>\n",
       "    <tr>\n",
       "      <th>11</th>\n",
       "      <td>NaN</td>\n",
       "      <td>10:00 am Fri</td>\n",
       "      <td>Mostly Sunny</td>\n",
       "      <td>45°</td>\n",
       "      <td>45°</td>\n",
       "      <td>0%</td>\n",
       "      <td>61%</td>\n",
       "      <td>SSW 1 mph</td>\n",
       "    </tr>\n",
       "    <tr>\n",
       "      <th>12</th>\n",
       "      <td>NaN</td>\n",
       "      <td>11:00 am Fri</td>\n",
       "      <td>Partly Cloudy</td>\n",
       "      <td>47°</td>\n",
       "      <td>47°</td>\n",
       "      <td>0%</td>\n",
       "      <td>53%</td>\n",
       "      <td>SSW 1 mph</td>\n",
       "    </tr>\n",
       "    <tr>\n",
       "      <th>13</th>\n",
       "      <td>NaN</td>\n",
       "      <td>12:00 pm Fri</td>\n",
       "      <td>Partly Cloudy</td>\n",
       "      <td>49°</td>\n",
       "      <td>49°</td>\n",
       "      <td>0%</td>\n",
       "      <td>50%</td>\n",
       "      <td>SW 2 mph</td>\n",
       "    </tr>\n",
       "    <tr>\n",
       "      <th>14</th>\n",
       "      <td>NaN</td>\n",
       "      <td>1:00 pm Fri</td>\n",
       "      <td>Partly Cloudy</td>\n",
       "      <td>52°</td>\n",
       "      <td>52°</td>\n",
       "      <td>0%</td>\n",
       "      <td>46%</td>\n",
       "      <td>SW 3 mph</td>\n",
       "    </tr>\n",
       "    <tr>\n",
       "      <th>15</th>\n",
       "      <td>NaN</td>\n",
       "      <td>2:00 pm Fri</td>\n",
       "      <td>Partly Cloudy</td>\n",
       "      <td>53°</td>\n",
       "      <td>53°</td>\n",
       "      <td>0%</td>\n",
       "      <td>44%</td>\n",
       "      <td>WSW 3 mph</td>\n",
       "    </tr>\n",
       "  </tbody>\n",
       "</table>\n",
       "</div>"
      ],
      "text/plain": [
       "    Time   Description           Temp Feels Precip Humidity Wind Unnamed: 7\n",
       "0    NaN   11:45 pmThu          Clear   42°    40°       0%  59%    N 4 mph\n",
       "1    NaN   12:00 amFri          Clear   42°    40°       0%  59%    N 4 mph\n",
       "2    NaN    1:00 amFri          Clear   41°    39°       0%  61%  NNE 3 mph\n",
       "3    NaN    2:00 amFri          Clear   41°    41°       0%  63%  NNE 2 mph\n",
       "4    NaN   3:00 am Fri   Mostly Clear   39°    39°       0%  70%  NNE 1 mph\n",
       "5    NaN   4:00 am Fri   Mostly Clear   38°    38°       0%  72%       Calm\n",
       "6    NaN   5:00 am Fri   Mostly Clear   37°    37°       0%  77%       Calm\n",
       "7    NaN   6:00 am Fri   Mostly Clear   36°    36°       5%  80%       Calm\n",
       "8    NaN   7:00 am Fri   Mostly Clear   36°    36°       5%  79%       Calm\n",
       "9    NaN   8:00 am Fri   Mostly Sunny   37°    37°       5%  78%       Calm\n",
       "10   NaN   9:00 am Fri   Mostly Sunny   41°    41°       0%  69%    N 1 mph\n",
       "11   NaN  10:00 am Fri   Mostly Sunny   45°    45°       0%  61%  SSW 1 mph\n",
       "12   NaN  11:00 am Fri  Partly Cloudy   47°    47°       0%  53%  SSW 1 mph\n",
       "13   NaN  12:00 pm Fri  Partly Cloudy   49°    49°       0%  50%   SW 2 mph\n",
       "14   NaN   1:00 pm Fri  Partly Cloudy   52°    52°       0%  46%   SW 3 mph\n",
       "15   NaN   2:00 pm Fri  Partly Cloudy   53°    53°       0%  44%  WSW 3 mph"
      ]
     },
     "execution_count": 59,
     "metadata": {},
     "output_type": "execute_result"
    }
   ],
   "source": [
    "# get the weather forcast table\n",
    "url = browser.url\n",
    "r = requests.get(url)\n",
    "dfs = pd.read_html(r.text)\n",
    "dfs[0]"
   ]
  },
  {
   "cell_type": "code",
   "execution_count": 36,
   "metadata": {},
   "outputs": [],
   "source": [
    "browser.back()"
   ]
  },
  {
   "cell_type": "code",
   "execution_count": 35,
   "metadata": {},
   "outputs": [
    {
     "data": {
      "text/plain": [
       "1"
      ]
     },
     "execution_count": 35,
     "metadata": {},
     "output_type": "execute_result"
    }
   ],
   "source": [
    "len(dfs)"
   ]
  },
  {
   "cell_type": "code",
   "execution_count": null,
   "metadata": {},
   "outputs": [],
   "source": []
  },
  {
   "cell_type": "code",
   "execution_count": 21,
   "metadata": {},
   "outputs": [],
   "source": []
  },
  {
   "cell_type": "code",
   "execution_count": null,
   "metadata": {},
   "outputs": [],
   "source": []
  },
  {
   "cell_type": "code",
   "execution_count": 19,
   "metadata": {},
   "outputs": [],
   "source": [
    "# A line that will click out of an advertisement\n",
    "browser.find_by_tag('a#bx-close-inside-970188')[0].click()\n",
    "\n",
    "# snapshot = browser.find_by_tag('div#daypart-0').value\n",
    "# snaplist = snapshot.split('\\n')\n",
    "# details = browser.find_by_tag('span.wx-detail-value')\n",
    "# detailslist = [details[i].value for i in range(4)]\n",
    "# print(snaplist)\n",
    "# detailslist"
   ]
  },
  {
   "cell_type": "code",
   "execution_count": 49,
   "metadata": {},
   "outputs": [
    {
     "name": "stdout",
     "output_type": "stream",
     "text": [
      "['TONIGHT', 'RAIN', 'LOW', '42°', '90%']\n"
     ]
    }
   ],
   "source": [
    "print(snaplist)"
   ]
  },
  {
   "cell_type": "code",
   "execution_count": 43,
   "metadata": {},
   "outputs": [
    {
     "name": "stdout",
     "output_type": "stream",
     "text": [
      "None\n"
     ]
    }
   ],
   "source": [
    "details = exec(\"browser.find_by_tag('span#dp0-details-wind')\")\n",
    "# dp_details = {}\n",
    "# for i in range(4):\n",
    "#     dp_details[exec(\"browser.find_by_tag('span#dp{i}-details-wind'.format(i))\").value]\n",
    "print(details)"
   ]
  },
  {
   "cell_type": "code",
   "execution_count": 35,
   "metadata": {},
   "outputs": [
    {
     "name": "stdout",
     "output_type": "stream",
     "text": [
      "<splinter.element_list.ElementList object at 0x104ad09d0>\n"
     ]
    }
   ],
   "source": [
    "details = browser.find_by_tag('span.wx-detail-value')\n",
    "print(details)"
   ]
  },
  {
   "cell_type": "code",
   "execution_count": 36,
   "metadata": {},
   "outputs": [
    {
     "name": "stdout",
     "output_type": "stream",
     "text": [
      "NNW 10 mph\n",
      "86%\n",
      "0 of 10\n",
      "6:43 am5:13 pm\n"
     ]
    }
   ],
   "source": [
    "for i in range(4):\n",
    "    print(details[i].value)"
   ]
  },
  {
   "cell_type": "code",
   "execution_count": 12,
   "metadata": {},
   "outputs": [
    {
     "data": {
      "text/plain": [
       "'TODAY\\nHIGH\\n70°\\n10%'"
      ]
     },
     "execution_count": 12,
     "metadata": {},
     "output_type": "execute_result"
    }
   ],
   "source": [
    "# browser.find_by_tag('div.today-daypart-content').first.value"
   ]
  },
  {
   "cell_type": "code",
   "execution_count": 26,
   "metadata": {},
   "outputs": [
    {
     "data": {
      "text/plain": [
       "'A clear sky. Scattered frost possible. Low around 30F. Winds light and variable.'"
      ]
     },
     "execution_count": 26,
     "metadata": {},
     "output_type": "execute_result"
    }
   ],
   "source": [
    "description = browser.find_by_id('dp1-details-narrative').first.value\n",
    "description"
   ]
  },
  {
   "cell_type": "code",
   "execution_count": 40,
   "metadata": {},
   "outputs": [],
   "source": [
    "browser.quit()"
   ]
  },
  {
   "cell_type": "code",
   "execution_count": 13,
   "metadata": {},
   "outputs": [],
   "source": []
  },
  {
   "cell_type": "code",
   "execution_count": 14,
   "metadata": {},
   "outputs": [
    {
     "data": {
      "text/plain": [
       "1"
      ]
     },
     "execution_count": 14,
     "metadata": {},
     "output_type": "execute_result"
    }
   ],
   "source": []
  },
  {
   "cell_type": "code",
   "execution_count": 16,
   "metadata": {},
   "outputs": [
    {
     "data": {
      "text/plain": [
       "'Today'"
      ]
     },
     "execution_count": 16,
     "metadata": {},
     "output_type": "execute_result"
    }
   ],
   "source": []
  },
  {
   "cell_type": "code",
   "execution_count": 17,
   "metadata": {},
   "outputs": [
    {
     "name": "stdout",
     "output_type": "stream",
     "text": [
      "got input box\n"
     ]
    }
   ],
   "source": []
  },
  {
   "cell_type": "code",
   "execution_count": 18,
   "metadata": {},
   "outputs": [
    {
     "data": {
      "text/plain": [
       "1"
      ]
     },
     "execution_count": 18,
     "metadata": {},
     "output_type": "execute_result"
    }
   ],
   "source": []
  },
  {
   "cell_type": "code",
   "execution_count": 19,
   "metadata": {},
   "outputs": [],
   "source": []
  },
  {
   "cell_type": "code",
   "execution_count": 20,
   "metadata": {},
   "outputs": [],
   "source": []
  },
  {
   "cell_type": "code",
   "execution_count": 25,
   "metadata": {},
   "outputs": [
    {
     "name": "stdout",
     "output_type": "stream",
     "text": [
      "now\n",
      "now\n",
      "looking for now snapshot\n",
      "at_start\n",
      "looking for at_start snapshot\n",
      "at_12\n",
      "looking for at_12 snapshot\n",
      "at_24\n",
      "looking for at_24 snapshot\n",
      "at_36\n",
      "looking for at_36 snapshot\n"
     ]
    }
   ],
   "source": [
    "hour_code = {'0':'now',\n",
    "            '1':'at_start',\n",
    "            '2':'at_12',\n",
    "            '3':'at_24',\n",
    "            '4':'at_36'\n",
    "}\n",
    "print(hour_code['0'])\n",
    "for i in range(5):\n",
    "    print(hour_code[str(i)])\n",
    "    print(f'looking for {hour_code[str(i)]} snapshot')"
   ]
  },
  {
   "cell_type": "code",
   "execution_count": null,
   "metadata": {},
   "outputs": [],
   "source": [
    "### SEARCH FOR THE TABLE THAT HOLDS THE SEARCH RESULTS ###"
   ]
  }
 ],
 "metadata": {
  "kernelspec": {
   "display_name": "Python 3",
   "language": "python",
   "name": "python3"
  },
  "language_info": {
   "codemirror_mode": {
    "name": "ipython",
    "version": 3
   },
   "file_extension": ".py",
   "mimetype": "text/x-python",
   "name": "python",
   "nbconvert_exporter": "python",
   "pygments_lexer": "ipython3",
   "version": "3.8.0"
  }
 },
 "nbformat": 4,
 "nbformat_minor": 2
}
