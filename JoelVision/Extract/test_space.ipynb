{
 "cells": [
  {
   "cell_type": "code",
   "execution_count": 81,
   "metadata": {},
   "outputs": [],
   "source": [
    "from splinter import Browser\n",
    "from selenium.common.exceptions import InvalidElementStateException\n",
    "from selenium.common.exceptions import ElementNotInteractableException\n",
    "from bs4 import BeautifulSoup\n",
    "from pprint import pprint\n",
    "import pandas as pd\n",
    "import html5lib\n",
    "import lxml\n",
    "import shutil\n",
    "import time\n",
    "import urllib3\n",
    "import requests\n",
    "from pymongo import MongoClient\n",
    "from pymongo.errors import ConnectionFailure\n",
    "import json"
   ]
  },
  {
   "cell_type": "code",
   "execution_count": 82,
   "metadata": {},
   "outputs": [],
   "source": [
    "# Set the zip codes\n",
    "codes = []\n",
    "codes.append('27006')   # just hard code one in\n",
    "code = codes[0]    # set the variable for zip_and_click\n",
    "global browser\n",
    "forecast_type = str # so I can add the dict field in the function argument\n",
    "data = {}\n",
    "host = 'localhost'\n",
    "port = 27017"
   ]
  },
  {
   "cell_type": "code",
   "execution_count": 83,
   "metadata": {},
   "outputs": [],
   "source": [
    "# inititial website to visit\n",
    "url = 'https://weather.com'"
   ]
  },
  {
   "cell_type": "code",
   "execution_count": 84,
   "metadata": {},
   "outputs": [],
   "source": [
    "def chrome():\n",
    "    '''\n",
    "    Finds the chromedriver in the system and creates a Chrome browser\n",
    "    '''\n",
    "    executable_path = {'executable_path': shutil.which('chromedriver')}\n",
    "    browser = Browser('chrome', **executable_path)\n",
    "    return(browser)"
   ]
  },
  {
   "cell_type": "code",
   "execution_count": 85,
   "metadata": {},
   "outputs": [],
   "source": [
    "def zip_and_click(code):\n",
    "    '''\n",
    "    Enter zip codes into the search bar on weather.com and click the first result.\n",
    "    No return, just leaves browser at the first data page.\n",
    "    '''\n",
    "    import time\n",
    "    \n",
    "    filled = False\n",
    "    clicked = False\n",
    "    \n",
    "    inputs = browser.find_by_tag('input') # get the search box reference\n",
    "    search_box = inputs[0]\n",
    "    while not filled:\n",
    "        try:\n",
    "            search_box.fill(code)\n",
    "            filled = True\n",
    "        except InvalidElementStateException:\n",
    "            time.sleep(1)\n",
    "    while not clicked:\n",
    "        try:\n",
    "            browser.click_link_by_partial_href('/weather/today/l')\n",
    "            print('no exception this time')\n",
    "            clicked = True\n",
    "        except ElementNotInteractableException:\n",
    "            print('exception found....waiting...')\n",
    "            time.sleep(1)\n",
    "    return(browser)     "
   ]
  },
  {
   "cell_type": "code",
   "execution_count": 86,
   "metadata": {},
   "outputs": [],
   "source": [
    "def scrape_now(browser):\n",
    "    ''' Get observed weather data from the current weather page '''\n",
    "    right_now = {}\n",
    "    divs = browser.find_by_tag('div').first\n",
    "    nowcard = divs.find_by_tag('section.today_nowcard-container').value\n",
    "    now = nowcard.split('\\n')\n",
    "    right_now.update({'as_of': [x.lower() for  x in now[1].split()[3:5]],\n",
    "                 'observations': {'temp F': {'measured': now[2].lower(),\n",
    "                                            'feels_like': [x.lower() for x in now[4][11:]]\n",
    "                                            },\n",
    "                                 'description': now[3].lower(),\n",
    "                                 'uv_index': now[6].split()[3].lower(),\n",
    "                                 'wind': wind_dict(now[10]),\n",
    "#                                     {'speed mph': now[10].split()[1].lower(),\n",
    "#                                          'direction': now[10].split()[0].lower()\n",
    "#                                          },\n",
    "                                 'humidity': now[12].lower(),\n",
    "                                 'dew_point': now[14].lower(),\n",
    "                                 'pressure': {'in': now[16].split()[0].lower(),\n",
    "                                             'change': ''\n",
    "                                             },\n",
    "                                  'visibility mi': now[18].lower()\n",
    "                                 }\n",
    "                 })\n",
    "    data['right_now'] = right_now\n",
    "    return(right_now)"
   ]
  },
  {
   "cell_type": "code",
   "execution_count": 87,
   "metadata": {},
   "outputs": [],
   "source": [
    "def wind_dict(wind_str):\n",
    "    ''' handle the cases where the wind value is simply \"calm\" rather than direction and speed '''\n",
    "    if wind_str == 'Calm':\n",
    "        return {\n",
    "            'speed': 0,\n",
    "            'direction': None\n",
    "        }\n",
    "    else:\n",
    "        return {\n",
    "            'speed': wind_str.split()[1].lower(),\n",
    "            'direction': wind_str.split()[0].lower()\n",
    "        }"
   ]
  },
  {
   "cell_type": "code",
   "execution_count": 88,
   "metadata": {},
   "outputs": [],
   "source": [
    "def scrape_next36(browser):\n",
    "    ''' Get the \"at a glance\" data from the next 36 hours '''\n",
    "\n",
    "    next_36 = {}\n",
    "    \n",
    "    # Pulling data from the \"next 36 hours\" overview displays. There are 5 sections\n",
    "    # that are pulled from. Each section gets a different label.\n",
    "    hour_code = {'0':'now',\n",
    "                '1':'at_start',\n",
    "                '2':'at_12',\n",
    "                '3':'at_24',\n",
    "                '4':'at_36'\n",
    "                }\n",
    "    for i in range(5):\n",
    "        try:\n",
    "            browser.find_by_tag(f'div#daypart-{i}').click()\n",
    "        except ElementNotInteractableException:\n",
    "            print('ElementNotInteractableException occured: breaking loop.')\n",
    "            break\n",
    "        snapshot = browser.find_by_tag(f'div#daypart-{i}')\n",
    "        snap_values = snapshot.value\n",
    "        details = browser.find_by_tag('span.wx-detail-value')\n",
    "        detaillist = [details[j].value for j in range(4)]\n",
    "\n",
    "        #store the data\n",
    "        next_36.update({hour_code[str(i)]: {'hour': 'CALCULATED HOUR OF PREDICTION',\n",
    "                                            'condition': snap_values.split('\\n')[1].lower(),\n",
    "                                            'high/low': snap_values.split('\\n')[2].lower(),\n",
    "                                            'temp_f': snap_values.split('\\n')[3].lower(),\n",
    "                                            'chance_precip': snap_values.split('\\n')[4].lower(),\n",
    "                                            'description': browser.find_by_id(f'dp{i}-details-narrative').first.value.lower(),\n",
    "                                            'wind': wind_dict(detaillist[0]),\n",
    "                                            'humidity': detaillist[1].lower(),\n",
    "                                            'uv_index': detaillist[2].lower(),\n",
    "                                            'sun': {'rise': detaillist[3].lower(),\n",
    "                                                    'set': detaillist[3].lower()\n",
    "                                                   }\n",
    "                                              }\n",
    "                      })\n",
    "    data['next_36'] = next_36\n",
    "    return"
   ]
  },
  {
   "cell_type": "code",
   "execution_count": 89,
   "metadata": {},
   "outputs": [],
   "source": [
    "def goto_hourly(browser):\n",
    "    ''' Take the browser to the hourly numbers '''\n",
    "    browser.find_by_text('Hourly').click()\n",
    "    time.sleep(.5)\n",
    "    n=0\n",
    "    while browser.is_text_present('Next 8 Hours'):\n",
    "        n+=1\n",
    "        browser.find_by_text('Next 8 Hours').click()\n",
    "        time.sleep(.5)\n",
    "    else:\n",
    "        print(f'got {8*n} hours of forcast')\n",
    "    return"
   ]
  },
  {
   "cell_type": "code",
   "execution_count": 90,
   "metadata": {},
   "outputs": [],
   "source": [
    "def get_tables(forecast_type, browser):\n",
    "    ''' Get the tables from the current page and turn to pandas df's '''\n",
    "    url = browser.url\n",
    "    r = requests.get(url)\n",
    "    dfs = pd.read_html(r.text)\n",
    "    df = dfs[0]\n",
    "    d_table = df.to_dict(orient='index')\n",
    "    data[forecast_type] = d_table\n",
    "    return"
   ]
  },
  {
   "cell_type": "code",
   "execution_count": 91,
   "metadata": {},
   "outputs": [],
   "source": [
    "def goto_tenday(browser):\n",
    "    ''' Get the ten day forcast '''\n",
    "    tenday = browser.find_by_text('10 Day Forecast')\n",
    "    if tenday:\n",
    "        tenday[1].click()\n",
    "    time.sleep(1)\n",
    "    return"
   ]
  },
  {
   "cell_type": "code",
   "execution_count": 92,
   "metadata": {},
   "outputs": [],
   "source": [
    "def check_db_access(str: host, port):\n",
    "    '''A check that there is write access to the database'''\n",
    "   \n",
    "    client = MongoClient(host=host, port=port)\n",
    "    try:\n",
    "        # The ismaster command is cheap and does not require auth.\n",
    "        client.admin.command('ismaster')\n",
    "        print('Connection made')\n",
    "    except ConnectionFailure:\n",
    "        print(\"Server not available\")\n",
    "        return\n",
    "\n",
    "    # check the database connections\n",
    "        # Get a count of the number of databases at the connection (accessible through that port)\n",
    "        # before attempting to add to it\n",
    "    db_count_pre = len(client.list_database_names())\n",
    "        # Add a database and collection\n",
    "    db = client.test_db\n",
    "    col = db.test_col\n",
    "\n",
    "    # Insert something to the db\n",
    "    post = {'name':'Chuck VanHoff',\n",
    "           'age':'38',\n",
    "           'hobby':'gardening'\n",
    "           }\n",
    "    col.insert_one(post)\n",
    "\n",
    "        # Get a count of the databases after adding one\n",
    "    db_count_post = len(client.list_database_names())\n",
    "\n",
    "    if db_count_pre-db_count_post>=0:\n",
    "        print('Your conneciton is flipped up')\n",
    "    else:\n",
    "        print('You have write access')\n",
    "\n",
    "    client.drop_database(db)\n",
    "    client.close()\n",
    "    return(client)"
   ]
  },
  {
   "cell_type": "code",
   "execution_count": 93,
   "metadata": {},
   "outputs": [],
   "source": [
    "def load(data):\n",
    "    ''' Load the data to the database '''\n",
    "#     client = MongoClient(host=host, port=port)\n",
    "    db = client.forcast\n",
    "#     code = str(code)\n",
    "    col = db.code\n",
    "#     post = data\n",
    "    col.insert_one(data)\n",
    "    return"
   ]
  },
  {
   "cell_type": "code",
   "execution_count": 94,
   "metadata": {},
   "outputs": [
    {
     "name": "stdout",
     "output_type": "stream",
     "text": [
      "Connection made\n",
      "You have write access\n"
     ]
    }
   ],
   "source": [
    "client = check_db_access(host, port)"
   ]
  },
  {
   "cell_type": "code",
   "execution_count": 95,
   "metadata": {},
   "outputs": [
    {
     "data": {
      "text/plain": [
       "'/Users/mastacow/data/forcast-forcast/env/bin/chromedriver'"
      ]
     },
     "execution_count": 95,
     "metadata": {},
     "output_type": "execute_result"
    }
   ],
   "source": [
    "shutil.which('chromedriver')"
   ]
  },
  {
   "cell_type": "code",
   "execution_count": 17,
   "metadata": {
    "scrolled": true
   },
   "outputs": [],
   "source": [
    "browser = chrome()"
   ]
  },
  {
   "cell_type": "code",
   "execution_count": 96,
   "metadata": {},
   "outputs": [],
   "source": [
    "browser.visit(url)"
   ]
  },
  {
   "cell_type": "code",
   "execution_count": 97,
   "metadata": {},
   "outputs": [
    {
     "name": "stdout",
     "output_type": "stream",
     "text": [
      "no exception this time\n"
     ]
    },
    {
     "data": {
      "text/plain": [
       "<splinter.driver.webdriver.chrome.WebDriver at 0x11080e280>"
      ]
     },
     "execution_count": 97,
     "metadata": {},
     "output_type": "execute_result"
    }
   ],
   "source": [
    "zip_and_click(code)"
   ]
  },
  {
   "cell_type": "code",
   "execution_count": 98,
   "metadata": {},
   "outputs": [],
   "source": [
    "right_now = scrape_now(browser)\n",
    "# pprint(right_now)"
   ]
  },
  {
   "cell_type": "code",
   "execution_count": 99,
   "metadata": {},
   "outputs": [],
   "source": [
    "next_36 = scrape_next36(browser)\n",
    "# pprint(next_36)"
   ]
  },
  {
   "cell_type": "code",
   "execution_count": 100,
   "metadata": {},
   "outputs": [
    {
     "name": "stdout",
     "output_type": "stream",
     "text": [
      "got 32 hours of forcast\n"
     ]
    }
   ],
   "source": [
    "goto_hourly(browser)"
   ]
  },
  {
   "cell_type": "code",
   "execution_count": 30,
   "metadata": {},
   "outputs": [],
   "source": [
    "# A line that will click out of an advertisement\n",
    "browser.find_by_tag('a#bx-close-inside-970188')[0].click()"
   ]
  },
  {
   "cell_type": "code",
   "execution_count": 101,
   "metadata": {},
   "outputs": [],
   "source": [
    "hourly = get_tables('hourly', browser)\n",
    "# hourly"
   ]
  },
  {
   "cell_type": "code",
   "execution_count": 102,
   "metadata": {},
   "outputs": [],
   "source": [
    "goto_tenday(browser)"
   ]
  },
  {
   "cell_type": "code",
   "execution_count": 103,
   "metadata": {},
   "outputs": [],
   "source": [
    "t_day = get_tables('ten_day', browser)\n",
    "# pprint(t_day)"
   ]
  },
  {
   "cell_type": "code",
   "execution_count": 104,
   "metadata": {},
   "outputs": [
    {
     "data": {
      "text/plain": [
       "{'right_now': {'as_of': ['pm', 'est'],\n",
       "  'observations': {'temp F': {'measured': '44°',\n",
       "    'feels_like': ['4', '4', '°']},\n",
       "   'description': 'mostly cloudy',\n",
       "   'uv_index': 'of',\n",
       "   'wind': {'speed': '1', 'direction': 'e'},\n",
       "   'humidity': '82%',\n",
       "   'dew_point': '39°',\n",
       "   'pressure': {'in': '30.19', 'change': ''},\n",
       "   'visibility mi': '10.0 mi'}},\n",
       " 'next_36': {'now': {'hour': 'CALCULATED HOUR OF PREDICTION',\n",
       "   'condition': 'partly cloudy',\n",
       "   'high/low': 'low',\n",
       "   'temp_f': '37°',\n",
       "   'chance_precip': '20%',\n",
       "   'description': 'a shower is possible early. some clouds this evening will give way to mainly clear skies overnight. low 37f. winds light and variable.',\n",
       "   'wind': {'speed': '3', 'direction': 'nnw'},\n",
       "   'humidity': '85%',\n",
       "   'uv_index': '0 of 10',\n",
       "   'sun': {'rise': '7:17 am5:07 pm', 'set': '7:17 am5:07 pm'}},\n",
       "  'at_start': {'hour': 'CALCULATED HOUR OF PREDICTION',\n",
       "   'condition': 'partly cloudy',\n",
       "   'high/low': 'high',\n",
       "   'temp_f': '51°',\n",
       "   'chance_precip': '10%',\n",
       "   'description': 'sunshine and clouds mixed. high 51f. winds ne at 5 to 10 mph.',\n",
       "   'wind': {'speed': '8', 'direction': 'ne'},\n",
       "   'humidity': '64%',\n",
       "   'uv_index': '2 of 10',\n",
       "   'sun': {'rise': '7:18 am5:07 pm', 'set': '7:18 am5:07 pm'}},\n",
       "  'at_12': {'hour': 'CALCULATED HOUR OF PREDICTION',\n",
       "   'condition': 'clear',\n",
       "   'high/low': 'low',\n",
       "   'temp_f': '29°',\n",
       "   'chance_precip': '10%',\n",
       "   'description': 'clear. low 29f. winds light and variable.',\n",
       "   'wind': {'speed': '2', 'direction': 'ene'},\n",
       "   'humidity': '75%',\n",
       "   'uv_index': '0 of 10',\n",
       "   'sun': {'rise': '7:18 am5:07 pm', 'set': '7:18 am5:07 pm'}},\n",
       "  'at_24': {'hour': 'CALCULATED HOUR OF PREDICTION',\n",
       "   'condition': 'mostly sunny',\n",
       "   'high/low': 'high',\n",
       "   'temp_f': '50°',\n",
       "   'chance_precip': '10%',\n",
       "   'description': 'generally sunny despite a few afternoon clouds. high near 50f. winds light and variable.',\n",
       "   'wind': {'speed': '3', 'direction': 'ene'},\n",
       "   'humidity': '57%',\n",
       "   'uv_index': '2 of 10',\n",
       "   'sun': {'rise': '7:19 am5:07 pm', 'set': '7:19 am5:07 pm'}},\n",
       "  'at_36': {'hour': 'CALCULATED HOUR OF PREDICTION',\n",
       "   'condition': 'showers',\n",
       "   'high/low': 'low',\n",
       "   'temp_f': '41°',\n",
       "   'chance_precip': '50%',\n",
       "   'description': 'cloudy with occasional rain showers. low 41f. winds light and variable. chance of rain 50%.',\n",
       "   'wind': {'speed': '1', 'direction': 'ne'},\n",
       "   'humidity': '77%',\n",
       "   'uv_index': '0 of 10',\n",
       "   'sun': {'rise': '7:19 am5:07 pm', 'set': '7:19 am5:07 pm'}}},\n",
       " 'hourly': {0: {'Time': nan,\n",
       "   'Description': '9:30 pm Fri',\n",
       "   'Temp': 'Mostly Cloudy',\n",
       "   'Feels': '43°',\n",
       "   'Precip': '43°',\n",
       "   'Humidity': '15%',\n",
       "   'Wind': '83%',\n",
       "   'Unnamed: 7': 'Calm'},\n",
       "  1: {'Time': nan,\n",
       "   'Description': '10:00 pm Fri',\n",
       "   'Temp': 'Partly Cloudy',\n",
       "   'Feels': '43°',\n",
       "   'Precip': '43°',\n",
       "   'Humidity': '0%',\n",
       "   'Wind': '84%',\n",
       "   'Unnamed: 7': 'Calm'},\n",
       "  2: {'Time': nan,\n",
       "   'Description': '11:00 pm Fri',\n",
       "   'Temp': 'Partly Cloudy',\n",
       "   'Feels': '43°',\n",
       "   'Precip': '43°',\n",
       "   'Humidity': '0%',\n",
       "   'Wind': '85%',\n",
       "   'Unnamed: 7': 'Calm'},\n",
       "  3: {'Time': nan,\n",
       "   'Description': '12:00 am Sat',\n",
       "   'Temp': 'Mostly Clear',\n",
       "   'Feels': '42°',\n",
       "   'Precip': '42°',\n",
       "   'Humidity': '0%',\n",
       "   'Wind': '85%',\n",
       "   'Unnamed: 7': 'Calm'},\n",
       "  4: {'Time': nan,\n",
       "   'Description': '1:00 amSat',\n",
       "   'Temp': 'Clear',\n",
       "   'Feels': '41°',\n",
       "   'Precip': '41°',\n",
       "   'Humidity': '0%',\n",
       "   'Wind': '84%',\n",
       "   'Unnamed: 7': 'NNW 1 mph'},\n",
       "  5: {'Time': nan,\n",
       "   'Description': '2:00 amSat',\n",
       "   'Temp': 'Clear',\n",
       "   'Feels': '40°',\n",
       "   'Precip': '40°',\n",
       "   'Humidity': '0%',\n",
       "   'Wind': '85%',\n",
       "   'Unnamed: 7': 'N 2 mph'},\n",
       "  6: {'Time': nan,\n",
       "   'Description': '3:00 amSat',\n",
       "   'Temp': 'Clear',\n",
       "   'Feels': '39°',\n",
       "   'Precip': '39°',\n",
       "   'Humidity': '5%',\n",
       "   'Wind': '86%',\n",
       "   'Unnamed: 7': 'N 3 mph'},\n",
       "  7: {'Time': nan,\n",
       "   'Description': '4:00 amSat',\n",
       "   'Temp': 'Clear',\n",
       "   'Feels': '39°',\n",
       "   'Precip': '39°',\n",
       "   'Humidity': '5%',\n",
       "   'Wind': '86%',\n",
       "   'Unnamed: 7': 'N 3 mph'},\n",
       "  8: {'Time': nan,\n",
       "   'Description': '5:00 amSat',\n",
       "   'Temp': 'Clear',\n",
       "   'Feels': '39°',\n",
       "   'Precip': '36°',\n",
       "   'Humidity': '5%',\n",
       "   'Wind': '87%',\n",
       "   'Unnamed: 7': 'N 4 mph'},\n",
       "  9: {'Time': nan,\n",
       "   'Description': '6:00 amSat',\n",
       "   'Temp': 'Clear',\n",
       "   'Feels': '38°',\n",
       "   'Precip': '36°',\n",
       "   'Humidity': '5%',\n",
       "   'Wind': '88%',\n",
       "   'Unnamed: 7': 'NNE 4 mph'},\n",
       "  10: {'Time': nan,\n",
       "   'Description': '7:00 am Sat',\n",
       "   'Temp': 'Mostly Clear',\n",
       "   'Feels': '39°',\n",
       "   'Precip': '36°',\n",
       "   'Humidity': '5%',\n",
       "   'Wind': '88%',\n",
       "   'Unnamed: 7': 'NNE 4 mph'},\n",
       "  11: {'Time': nan,\n",
       "   'Description': '8:00 am Sat',\n",
       "   'Temp': 'Mostly Sunny',\n",
       "   'Feels': '40°',\n",
       "   'Precip': '36°',\n",
       "   'Humidity': '5%',\n",
       "   'Wind': '89%',\n",
       "   'Unnamed: 7': 'NNE 5 mph'},\n",
       "  12: {'Time': nan,\n",
       "   'Description': '9:00 am Sat',\n",
       "   'Temp': 'Partly Cloudy',\n",
       "   'Feels': '43°',\n",
       "   'Precip': '39°',\n",
       "   'Humidity': '5%',\n",
       "   'Wind': '81%',\n",
       "   'Unnamed: 7': 'NE 8 mph'},\n",
       "  13: {'Time': nan,\n",
       "   'Description': '10:00 am Sat',\n",
       "   'Temp': 'Partly Cloudy',\n",
       "   'Feels': '46°',\n",
       "   'Precip': '41°',\n",
       "   'Humidity': '5%',\n",
       "   'Wind': '72%',\n",
       "   'Unnamed: 7': 'NE 8 mph'},\n",
       "  14: {'Time': nan,\n",
       "   'Description': '11:00 am Sat',\n",
       "   'Temp': 'Partly Cloudy',\n",
       "   'Feels': '47°',\n",
       "   'Precip': '43°',\n",
       "   'Humidity': '5%',\n",
       "   'Wind': '65%',\n",
       "   'Unnamed: 7': 'ENE 8 mph'},\n",
       "  15: {'Time': nan,\n",
       "   'Description': '12:00 pm Sat',\n",
       "   'Temp': 'Partly Cloudy',\n",
       "   'Feels': '48°',\n",
       "   'Precip': '44°',\n",
       "   'Humidity': '0%',\n",
       "   'Wind': '59%',\n",
       "   'Unnamed: 7': 'ENE 7 mph'}},\n",
       " 'ten_day': {0: {'Day': nan,\n",
       "   'Description': 'Tonight DEC 6',\n",
       "   'High / Low': 'Partly Cloudy',\n",
       "   'Precip': '--37°',\n",
       "   'Wind': '20%',\n",
       "   'Humidity': 'NNW 4 mph',\n",
       "   'Unnamed: 6': '85%'},\n",
       "  1: {'Day': nan,\n",
       "   'Description': 'Sat DEC 7',\n",
       "   'High / Low': 'Partly Cloudy',\n",
       "   'Precip': '51°29°',\n",
       "   'Wind': '10%',\n",
       "   'Humidity': 'NE 8 mph',\n",
       "   'Unnamed: 6': '64%'},\n",
       "  2: {'Day': nan,\n",
       "   'Description': 'Sun DEC 8',\n",
       "   'High / Low': 'Mostly Sunny',\n",
       "   'Precip': '50°41°',\n",
       "   'Wind': '10%',\n",
       "   'Humidity': 'ENE 3 mph',\n",
       "   'Unnamed: 6': '57%'},\n",
       "  3: {'Day': nan,\n",
       "   'Description': 'MonDEC 9',\n",
       "   'High / Low': 'Showers',\n",
       "   'Precip': '56°55°',\n",
       "   'Wind': '60%',\n",
       "   'Humidity': 'SSW 6 mph',\n",
       "   'Unnamed: 6': '90%'},\n",
       "  4: {'Day': nan,\n",
       "   'Description': 'TueDEC 10',\n",
       "   'High / Low': 'Rain',\n",
       "   'Precip': '64°38°',\n",
       "   'Wind': '80%',\n",
       "   'Humidity': 'SW 11 mph',\n",
       "   'Unnamed: 6': '85%'},\n",
       "  5: {'Day': nan,\n",
       "   'Description': 'WedDEC 11',\n",
       "   'High / Low': 'AM Showers',\n",
       "   'Precip': '46°26°',\n",
       "   'Wind': '40%',\n",
       "   'Humidity': 'NNW 7 mph',\n",
       "   'Unnamed: 6': '55%'},\n",
       "  6: {'Day': nan,\n",
       "   'Description': 'Thu DEC 12',\n",
       "   'High / Low': 'Mostly Sunny',\n",
       "   'Precip': '38°24°',\n",
       "   'Wind': '0%',\n",
       "   'Humidity': 'NE 6 mph',\n",
       "   'Unnamed: 6': '41%'},\n",
       "  7: {'Day': nan,\n",
       "   'Description': 'FriDEC 13',\n",
       "   'High / Low': 'Showers',\n",
       "   'Precip': '41°35°',\n",
       "   'Wind': '40%',\n",
       "   'Humidity': 'NE 4 mph',\n",
       "   'Unnamed: 6': '60%'},\n",
       "  8: {'Day': nan,\n",
       "   'Description': 'SatDEC 14',\n",
       "   'High / Low': 'Showers',\n",
       "   'Precip': '53°38°',\n",
       "   'Wind': '40%',\n",
       "   'Humidity': 'SSE 6 mph',\n",
       "   'Unnamed: 6': '82%'},\n",
       "  9: {'Day': nan,\n",
       "   'Description': 'Sun DEC 15',\n",
       "   'High / Low': 'Partly Cloudy',\n",
       "   'Precip': '51°32°',\n",
       "   'Wind': '20%',\n",
       "   'Humidity': 'W 9 mph',\n",
       "   'Unnamed: 6': '67%'},\n",
       "  10: {'Day': nan,\n",
       "   'Description': 'Mon DEC 16',\n",
       "   'High / Low': 'Mostly Sunny',\n",
       "   'Precip': '51°35°',\n",
       "   'Wind': '20%',\n",
       "   'Humidity': 'WSW 6 mph',\n",
       "   'Unnamed: 6': '63%'},\n",
       "  11: {'Day': nan,\n",
       "   'Description': 'TueDEC 17',\n",
       "   'High / Low': 'Showers',\n",
       "   'Precip': '48°32°',\n",
       "   'Wind': '40%',\n",
       "   'Humidity': 'NNW 6 mph',\n",
       "   'Unnamed: 6': '65%'},\n",
       "  12: {'Day': nan,\n",
       "   'Description': 'WedDEC 18',\n",
       "   'High / Low': 'Rain/Snow Showers',\n",
       "   'Precip': '46°32°',\n",
       "   'Wind': '40%',\n",
       "   'Humidity': 'N 5 mph',\n",
       "   'Unnamed: 6': '60%'},\n",
       "  13: {'Day': nan,\n",
       "   'Description': 'ThuDEC 19',\n",
       "   'High / Low': 'Showers',\n",
       "   'Precip': '47°32°',\n",
       "   'Wind': '40%',\n",
       "   'Humidity': 'NNW 5 mph',\n",
       "   'Unnamed: 6': '61%'},\n",
       "  14: {'Day': nan,\n",
       "   'Description': 'FriDEC 20',\n",
       "   'High / Low': 'Showers',\n",
       "   'Precip': '48°35°',\n",
       "   'Wind': '40%',\n",
       "   'Humidity': 'NW 5 mph',\n",
       "   'Unnamed: 6': '63%'}}}"
      ]
     },
     "execution_count": 104,
     "metadata": {},
     "output_type": "execute_result"
    }
   ],
   "source": [
    "data"
   ]
  },
  {
   "cell_type": "code",
   "execution_count": null,
   "metadata": {},
   "outputs": [],
   "source": []
  },
  {
   "cell_type": "code",
   "execution_count": 105,
   "metadata": {},
   "outputs": [
    {
     "ename": "InvalidDocument",
     "evalue": "documents must have only string keys, key was 0",
     "output_type": "error",
     "traceback": [
      "\u001b[0;31m---------------------------------------------------------------------------\u001b[0m",
      "\u001b[0;31mInvalidDocument\u001b[0m                           Traceback (most recent call last)",
      "\u001b[0;32m<ipython-input-105-42308ea2488a>\u001b[0m in \u001b[0;36m<module>\u001b[0;34m\u001b[0m\n\u001b[0;32m----> 1\u001b[0;31m \u001b[0mload\u001b[0m\u001b[0;34m(\u001b[0m\u001b[0mdata\u001b[0m\u001b[0;34m)\u001b[0m\u001b[0;34m\u001b[0m\u001b[0;34m\u001b[0m\u001b[0m\n\u001b[0m",
      "\u001b[0;32m<ipython-input-93-01651c8a600b>\u001b[0m in \u001b[0;36mload\u001b[0;34m(data)\u001b[0m\n\u001b[1;32m      6\u001b[0m     \u001b[0mcol\u001b[0m \u001b[0;34m=\u001b[0m \u001b[0mdb\u001b[0m\u001b[0;34m.\u001b[0m\u001b[0mcode\u001b[0m\u001b[0;34m\u001b[0m\u001b[0;34m\u001b[0m\u001b[0m\n\u001b[1;32m      7\u001b[0m \u001b[0;31m#     post = data\u001b[0m\u001b[0;34m\u001b[0m\u001b[0;34m\u001b[0m\u001b[0;34m\u001b[0m\u001b[0m\n\u001b[0;32m----> 8\u001b[0;31m     \u001b[0mcol\u001b[0m\u001b[0;34m.\u001b[0m\u001b[0minsert_one\u001b[0m\u001b[0;34m(\u001b[0m\u001b[0mdata\u001b[0m\u001b[0;34m)\u001b[0m\u001b[0;34m\u001b[0m\u001b[0;34m\u001b[0m\u001b[0m\n\u001b[0m\u001b[1;32m      9\u001b[0m     \u001b[0;32mreturn\u001b[0m\u001b[0;34m\u001b[0m\u001b[0;34m\u001b[0m\u001b[0m\n",
      "\u001b[0;32m~/data/forcast-forcast/env/lib/python3.8/site-packages/pymongo/collection.py\u001b[0m in \u001b[0;36minsert_one\u001b[0;34m(self, document, bypass_document_validation, session)\u001b[0m\n\u001b[1;32m    693\u001b[0m         \u001b[0mwrite_concern\u001b[0m \u001b[0;34m=\u001b[0m \u001b[0mself\u001b[0m\u001b[0;34m.\u001b[0m\u001b[0m_write_concern_for\u001b[0m\u001b[0;34m(\u001b[0m\u001b[0msession\u001b[0m\u001b[0;34m)\u001b[0m\u001b[0;34m\u001b[0m\u001b[0;34m\u001b[0m\u001b[0m\n\u001b[1;32m    694\u001b[0m         return InsertOneResult(\n\u001b[0;32m--> 695\u001b[0;31m             self._insert(document,\n\u001b[0m\u001b[1;32m    696\u001b[0m                          \u001b[0mwrite_concern\u001b[0m\u001b[0;34m=\u001b[0m\u001b[0mwrite_concern\u001b[0m\u001b[0;34m,\u001b[0m\u001b[0;34m\u001b[0m\u001b[0;34m\u001b[0m\u001b[0m\n\u001b[1;32m    697\u001b[0m                          \u001b[0mbypass_doc_val\u001b[0m\u001b[0;34m=\u001b[0m\u001b[0mbypass_document_validation\u001b[0m\u001b[0;34m,\u001b[0m\u001b[0;34m\u001b[0m\u001b[0;34m\u001b[0m\u001b[0m\n",
      "\u001b[0;32m~/data/forcast-forcast/env/lib/python3.8/site-packages/pymongo/collection.py\u001b[0m in \u001b[0;36m_insert\u001b[0;34m(self, docs, ordered, check_keys, manipulate, write_concern, op_id, bypass_doc_val, session)\u001b[0m\n\u001b[1;32m    608\u001b[0m         \u001b[0;34m\"\"\"Internal insert helper.\"\"\"\u001b[0m\u001b[0;34m\u001b[0m\u001b[0;34m\u001b[0m\u001b[0m\n\u001b[1;32m    609\u001b[0m         \u001b[0;32mif\u001b[0m \u001b[0misinstance\u001b[0m\u001b[0;34m(\u001b[0m\u001b[0mdocs\u001b[0m\u001b[0;34m,\u001b[0m \u001b[0mabc\u001b[0m\u001b[0;34m.\u001b[0m\u001b[0mMapping\u001b[0m\u001b[0;34m)\u001b[0m\u001b[0;34m:\u001b[0m\u001b[0;34m\u001b[0m\u001b[0;34m\u001b[0m\u001b[0m\n\u001b[0;32m--> 610\u001b[0;31m             return self._insert_one(\n\u001b[0m\u001b[1;32m    611\u001b[0m                 \u001b[0mdocs\u001b[0m\u001b[0;34m,\u001b[0m \u001b[0mordered\u001b[0m\u001b[0;34m,\u001b[0m \u001b[0mcheck_keys\u001b[0m\u001b[0;34m,\u001b[0m \u001b[0mmanipulate\u001b[0m\u001b[0;34m,\u001b[0m \u001b[0mwrite_concern\u001b[0m\u001b[0;34m,\u001b[0m \u001b[0mop_id\u001b[0m\u001b[0;34m,\u001b[0m\u001b[0;34m\u001b[0m\u001b[0;34m\u001b[0m\u001b[0m\n\u001b[1;32m    612\u001b[0m                 bypass_doc_val, session)\n",
      "\u001b[0;32m~/data/forcast-forcast/env/lib/python3.8/site-packages/pymongo/collection.py\u001b[0m in \u001b[0;36m_insert_one\u001b[0;34m(self, doc, ordered, check_keys, manipulate, write_concern, op_id, bypass_doc_val, session)\u001b[0m\n\u001b[1;32m    597\u001b[0m             \u001b[0m_check_write_command_response\u001b[0m\u001b[0;34m(\u001b[0m\u001b[0mresult\u001b[0m\u001b[0;34m)\u001b[0m\u001b[0;34m\u001b[0m\u001b[0;34m\u001b[0m\u001b[0m\n\u001b[1;32m    598\u001b[0m \u001b[0;34m\u001b[0m\u001b[0m\n\u001b[0;32m--> 599\u001b[0;31m         self.__database.client._retryable_write(\n\u001b[0m\u001b[1;32m    600\u001b[0m             acknowledged, _insert_command, session)\n\u001b[1;32m    601\u001b[0m \u001b[0;34m\u001b[0m\u001b[0m\n",
      "\u001b[0;32m~/data/forcast-forcast/env/lib/python3.8/site-packages/pymongo/mongo_client.py\u001b[0m in \u001b[0;36m_retryable_write\u001b[0;34m(self, retryable, func, session)\u001b[0m\n\u001b[1;32m   1490\u001b[0m         \u001b[0;34m\"\"\"Internal retryable write helper.\"\"\"\u001b[0m\u001b[0;34m\u001b[0m\u001b[0;34m\u001b[0m\u001b[0m\n\u001b[1;32m   1491\u001b[0m         \u001b[0;32mwith\u001b[0m \u001b[0mself\u001b[0m\u001b[0;34m.\u001b[0m\u001b[0m_tmp_session\u001b[0m\u001b[0;34m(\u001b[0m\u001b[0msession\u001b[0m\u001b[0;34m)\u001b[0m \u001b[0;32mas\u001b[0m \u001b[0ms\u001b[0m\u001b[0;34m:\u001b[0m\u001b[0;34m\u001b[0m\u001b[0;34m\u001b[0m\u001b[0m\n\u001b[0;32m-> 1492\u001b[0;31m             \u001b[0;32mreturn\u001b[0m \u001b[0mself\u001b[0m\u001b[0;34m.\u001b[0m\u001b[0m_retry_with_session\u001b[0m\u001b[0;34m(\u001b[0m\u001b[0mretryable\u001b[0m\u001b[0;34m,\u001b[0m \u001b[0mfunc\u001b[0m\u001b[0;34m,\u001b[0m \u001b[0ms\u001b[0m\u001b[0;34m,\u001b[0m \u001b[0;32mNone\u001b[0m\u001b[0;34m)\u001b[0m\u001b[0;34m\u001b[0m\u001b[0;34m\u001b[0m\u001b[0m\n\u001b[0m\u001b[1;32m   1493\u001b[0m \u001b[0;34m\u001b[0m\u001b[0m\n\u001b[1;32m   1494\u001b[0m     \u001b[0;32mdef\u001b[0m \u001b[0m_reset_server\u001b[0m\u001b[0;34m(\u001b[0m\u001b[0mself\u001b[0m\u001b[0;34m,\u001b[0m \u001b[0maddress\u001b[0m\u001b[0;34m)\u001b[0m\u001b[0;34m:\u001b[0m\u001b[0;34m\u001b[0m\u001b[0;34m\u001b[0m\u001b[0m\n",
      "\u001b[0;32m~/data/forcast-forcast/env/lib/python3.8/site-packages/pymongo/mongo_client.py\u001b[0m in \u001b[0;36m_retry_with_session\u001b[0;34m(self, retryable, func, session, bulk)\u001b[0m\n\u001b[1;32m   1383\u001b[0m                             \u001b[0;32mraise\u001b[0m \u001b[0mlast_error\u001b[0m\u001b[0;34m\u001b[0m\u001b[0;34m\u001b[0m\u001b[0m\n\u001b[1;32m   1384\u001b[0m                         \u001b[0mretryable\u001b[0m \u001b[0;34m=\u001b[0m \u001b[0;32mFalse\u001b[0m\u001b[0;34m\u001b[0m\u001b[0;34m\u001b[0m\u001b[0m\n\u001b[0;32m-> 1385\u001b[0;31m                     \u001b[0;32mreturn\u001b[0m \u001b[0mfunc\u001b[0m\u001b[0;34m(\u001b[0m\u001b[0msession\u001b[0m\u001b[0;34m,\u001b[0m \u001b[0msock_info\u001b[0m\u001b[0;34m,\u001b[0m \u001b[0mretryable\u001b[0m\u001b[0;34m)\u001b[0m\u001b[0;34m\u001b[0m\u001b[0;34m\u001b[0m\u001b[0m\n\u001b[0m\u001b[1;32m   1386\u001b[0m             \u001b[0;32mexcept\u001b[0m \u001b[0mServerSelectionTimeoutError\u001b[0m\u001b[0;34m:\u001b[0m\u001b[0;34m\u001b[0m\u001b[0;34m\u001b[0m\u001b[0m\n\u001b[1;32m   1387\u001b[0m                 \u001b[0;32mif\u001b[0m \u001b[0mis_retrying\u001b[0m\u001b[0;34m(\u001b[0m\u001b[0;34m)\u001b[0m\u001b[0;34m:\u001b[0m\u001b[0;34m\u001b[0m\u001b[0;34m\u001b[0m\u001b[0m\n",
      "\u001b[0;32m~/data/forcast-forcast/env/lib/python3.8/site-packages/pymongo/collection.py\u001b[0m in \u001b[0;36m_insert_command\u001b[0;34m(session, sock_info, retryable_write)\u001b[0m\n\u001b[1;32m    585\u001b[0m                 \u001b[0mcommand\u001b[0m\u001b[0;34m[\u001b[0m\u001b[0;34m'bypassDocumentValidation'\u001b[0m\u001b[0;34m]\u001b[0m \u001b[0;34m=\u001b[0m \u001b[0;32mTrue\u001b[0m\u001b[0;34m\u001b[0m\u001b[0;34m\u001b[0m\u001b[0m\n\u001b[1;32m    586\u001b[0m \u001b[0;34m\u001b[0m\u001b[0m\n\u001b[0;32m--> 587\u001b[0;31m             result = sock_info.command(\n\u001b[0m\u001b[1;32m    588\u001b[0m                 \u001b[0mself\u001b[0m\u001b[0;34m.\u001b[0m\u001b[0m__database\u001b[0m\u001b[0;34m.\u001b[0m\u001b[0mname\u001b[0m\u001b[0;34m,\u001b[0m\u001b[0;34m\u001b[0m\u001b[0;34m\u001b[0m\u001b[0m\n\u001b[1;32m    589\u001b[0m                 \u001b[0mcommand\u001b[0m\u001b[0;34m,\u001b[0m\u001b[0;34m\u001b[0m\u001b[0;34m\u001b[0m\u001b[0m\n",
      "\u001b[0;32m~/data/forcast-forcast/env/lib/python3.8/site-packages/pymongo/pool.py\u001b[0m in \u001b[0;36mcommand\u001b[0;34m(self, dbname, spec, slave_ok, read_preference, codec_options, check, allowable_errors, check_keys, read_concern, write_concern, parse_write_concern_error, collation, session, client, retryable_write, publish_events, user_fields)\u001b[0m\n\u001b[1;32m    616\u001b[0m         \u001b[0;31m# Catch socket.error, KeyboardInterrupt, etc. and close ourselves.\u001b[0m\u001b[0;34m\u001b[0m\u001b[0;34m\u001b[0m\u001b[0;34m\u001b[0m\u001b[0m\n\u001b[1;32m    617\u001b[0m         \u001b[0;32mexcept\u001b[0m \u001b[0mBaseException\u001b[0m \u001b[0;32mas\u001b[0m \u001b[0merror\u001b[0m\u001b[0;34m:\u001b[0m\u001b[0;34m\u001b[0m\u001b[0;34m\u001b[0m\u001b[0m\n\u001b[0;32m--> 618\u001b[0;31m             \u001b[0mself\u001b[0m\u001b[0;34m.\u001b[0m\u001b[0m_raise_connection_failure\u001b[0m\u001b[0;34m(\u001b[0m\u001b[0merror\u001b[0m\u001b[0;34m)\u001b[0m\u001b[0;34m\u001b[0m\u001b[0;34m\u001b[0m\u001b[0m\n\u001b[0m\u001b[1;32m    619\u001b[0m \u001b[0;34m\u001b[0m\u001b[0m\n\u001b[1;32m    620\u001b[0m     \u001b[0;32mdef\u001b[0m \u001b[0msend_message\u001b[0m\u001b[0;34m(\u001b[0m\u001b[0mself\u001b[0m\u001b[0;34m,\u001b[0m \u001b[0mmessage\u001b[0m\u001b[0;34m,\u001b[0m \u001b[0mmax_doc_size\u001b[0m\u001b[0;34m)\u001b[0m\u001b[0;34m:\u001b[0m\u001b[0;34m\u001b[0m\u001b[0;34m\u001b[0m\u001b[0m\n",
      "\u001b[0;32m~/data/forcast-forcast/env/lib/python3.8/site-packages/pymongo/pool.py\u001b[0m in \u001b[0;36mcommand\u001b[0;34m(self, dbname, spec, slave_ok, read_preference, codec_options, check, allowable_errors, check_keys, read_concern, write_concern, parse_write_concern_error, collation, session, client, retryable_write, publish_events, user_fields)\u001b[0m\n\u001b[1;32m    601\u001b[0m             \u001b[0mself\u001b[0m\u001b[0;34m.\u001b[0m\u001b[0m_raise_if_not_writable\u001b[0m\u001b[0;34m(\u001b[0m\u001b[0munacknowledged\u001b[0m\u001b[0;34m)\u001b[0m\u001b[0;34m\u001b[0m\u001b[0;34m\u001b[0m\u001b[0m\n\u001b[1;32m    602\u001b[0m         \u001b[0;32mtry\u001b[0m\u001b[0;34m:\u001b[0m\u001b[0;34m\u001b[0m\u001b[0;34m\u001b[0m\u001b[0m\n\u001b[0;32m--> 603\u001b[0;31m             return command(self.sock, dbname, spec, slave_ok,\n\u001b[0m\u001b[1;32m    604\u001b[0m                            \u001b[0mself\u001b[0m\u001b[0;34m.\u001b[0m\u001b[0mis_mongos\u001b[0m\u001b[0;34m,\u001b[0m \u001b[0mread_preference\u001b[0m\u001b[0;34m,\u001b[0m \u001b[0mcodec_options\u001b[0m\u001b[0;34m,\u001b[0m\u001b[0;34m\u001b[0m\u001b[0;34m\u001b[0m\u001b[0m\n\u001b[1;32m    605\u001b[0m                            \u001b[0msession\u001b[0m\u001b[0;34m,\u001b[0m \u001b[0mclient\u001b[0m\u001b[0;34m,\u001b[0m \u001b[0mcheck\u001b[0m\u001b[0;34m,\u001b[0m \u001b[0mallowable_errors\u001b[0m\u001b[0;34m,\u001b[0m\u001b[0;34m\u001b[0m\u001b[0;34m\u001b[0m\u001b[0m\n",
      "\u001b[0;32m~/data/forcast-forcast/env/lib/python3.8/site-packages/pymongo/network.py\u001b[0m in \u001b[0;36mcommand\u001b[0;34m(sock, dbname, spec, slave_ok, is_mongos, read_preference, codec_options, session, client, check, allowable_errors, address, check_keys, listeners, max_bson_size, read_concern, parse_write_concern_error, collation, compression_ctx, use_op_msg, unacknowledged, user_fields)\u001b[0m\n\u001b[1;32m    125\u001b[0m     \u001b[0;32mif\u001b[0m \u001b[0muse_op_msg\u001b[0m\u001b[0;34m:\u001b[0m\u001b[0;34m\u001b[0m\u001b[0;34m\u001b[0m\u001b[0m\n\u001b[1;32m    126\u001b[0m         \u001b[0mflags\u001b[0m \u001b[0;34m=\u001b[0m \u001b[0;36m2\u001b[0m \u001b[0;32mif\u001b[0m \u001b[0munacknowledged\u001b[0m \u001b[0;32melse\u001b[0m \u001b[0;36m0\u001b[0m\u001b[0;34m\u001b[0m\u001b[0;34m\u001b[0m\u001b[0m\n\u001b[0;32m--> 127\u001b[0;31m         request_id, msg, size, max_doc_size = message._op_msg(\n\u001b[0m\u001b[1;32m    128\u001b[0m             \u001b[0mflags\u001b[0m\u001b[0;34m,\u001b[0m \u001b[0mspec\u001b[0m\u001b[0;34m,\u001b[0m \u001b[0mdbname\u001b[0m\u001b[0;34m,\u001b[0m \u001b[0mread_preference\u001b[0m\u001b[0;34m,\u001b[0m \u001b[0mslave_ok\u001b[0m\u001b[0;34m,\u001b[0m \u001b[0mcheck_keys\u001b[0m\u001b[0;34m,\u001b[0m\u001b[0;34m\u001b[0m\u001b[0;34m\u001b[0m\u001b[0m\n\u001b[1;32m    129\u001b[0m             codec_options, ctx=compression_ctx)\n",
      "\u001b[0;32m~/data/forcast-forcast/env/lib/python3.8/site-packages/pymongo/message.py\u001b[0m in \u001b[0;36m_op_msg\u001b[0;34m(flags, command, dbname, read_preference, slave_ok, check_keys, opts, ctx)\u001b[0m\n\u001b[1;32m    701\u001b[0m             return _op_msg_compressed(\n\u001b[1;32m    702\u001b[0m                 flags, command, identifier, docs, check_keys, opts, ctx)\n\u001b[0;32m--> 703\u001b[0;31m         return _op_msg_uncompressed(\n\u001b[0m\u001b[1;32m    704\u001b[0m             flags, command, identifier, docs, check_keys, opts)\n\u001b[1;32m    705\u001b[0m     \u001b[0;32mfinally\u001b[0m\u001b[0;34m:\u001b[0m\u001b[0;34m\u001b[0m\u001b[0;34m\u001b[0m\u001b[0m\n",
      "\u001b[0;31mInvalidDocument\u001b[0m: documents must have only string keys, key was 0"
     ]
    }
   ],
   "source": [
    "load(data)"
   ]
  },
  {
   "cell_type": "code",
   "execution_count": 72,
   "metadata": {},
   "outputs": [
    {
     "data": {
      "text/plain": [
       "['code']"
      ]
     },
     "execution_count": 72,
     "metadata": {},
     "output_type": "execute_result"
    }
   ],
   "source": [
    "db = client.forcast\n",
    "db.list_collection_names()"
   ]
  },
  {
   "cell_type": "code",
   "execution_count": 61,
   "metadata": {},
   "outputs": [
    {
     "name": "stdout",
     "output_type": "stream",
     "text": [
      "{'_id': ObjectId('5de6575e08b5184ef0c66939')}\n",
      "{'_id': ObjectId('5de79796cad08f0bd0c801d8')}\n",
      "{'_id': ObjectId('5de871afff395937db2f6f30'),\n",
      " 'hourly': '{\"columns\":[\"Time\",\"Description\",\"Temp\",\"Feels\",\"Precip\",\"Humidity\",\"Wind\",\"Unnamed: '\n",
      "           '7\"],\"index\":[0,1,2,3,4,5,6,7,8,9,10,11,12,13,14,15],\"data\":[[null,\"9:45 '\n",
      "           'pmWed\",\"Clear\",\"44\\\\u00b0\",\"44\\\\u00b0\",\"0%\",\"60%\",\"W 2 '\n",
      "           'mph\"],[null,\"10:00 '\n",
      "           'pmWed\",\"Clear\",\"43\\\\u00b0\",\"43\\\\u00b0\",\"0%\",\"60%\",\"W 2 '\n",
      "           'mph\"],[null,\"11:00 '\n",
      "           'pmWed\",\"Clear\",\"42\\\\u00b0\",\"42\\\\u00b0\",\"0%\",\"60%\",\"WSW 1 '\n",
      "           'mph\"],[null,\"12:00 '\n",
      "           'amThu\",\"Clear\",\"42\\\\u00b0\",\"42\\\\u00b0\",\"0%\",\"62%\",\"WSW 2 '\n",
      "           'mph\"],[null,\"1:00 '\n",
      "           'amThu\",\"Clear\",\"41\\\\u00b0\",\"41\\\\u00b0\",\"0%\",\"63%\",\"WSW 2 '\n",
      "           'mph\"],[null,\"2:00 '\n",
      "           'amThu\",\"Clear\",\"42\\\\u00b0\",\"39\\\\u00b0\",\"0%\",\"62%\",\"W 4 '\n",
      "           'mph\"],[null,\"3:00 '\n",
      "           'amThu\",\"Clear\",\"41\\\\u00b0\",\"38\\\\u00b0\",\"0%\",\"62%\",\"W 5 '\n",
      "           'mph\"],[null,\"4:00 '\n",
      "           'amThu\",\"Clear\",\"40\\\\u00b0\",\"37\\\\u00b0\",\"0%\",\"63%\",\"W 5 '\n",
      "           'mph\"],[null,\"5:00 '\n",
      "           'amThu\",\"Clear\",\"40\\\\u00b0\",\"37\\\\u00b0\",\"0%\",\"64%\",\"W 4 '\n",
      "           'mph\"],[null,\"6:00 '\n",
      "           'amThu\",\"Clear\",\"39\\\\u00b0\",\"36\\\\u00b0\",\"0%\",\"66%\",\"W 4 '\n",
      "           'mph\"],[null,\"7:00 '\n",
      "           'amThu\",\"Clear\",\"38\\\\u00b0\",\"36\\\\u00b0\",\"0%\",\"69%\",\"W 3 '\n",
      "           'mph\"],[null,\"8:00 '\n",
      "           'amThu\",\"Sunny\",\"39\\\\u00b0\",\"36\\\\u00b0\",\"0%\",\"69%\",\"W 4 '\n",
      "           'mph\"],[null,\"9:00 '\n",
      "           'amThu\",\"Sunny\",\"43\\\\u00b0\",\"40\\\\u00b0\",\"0%\",\"61%\",\"W 6 '\n",
      "           'mph\"],[null,\"10:00 '\n",
      "           'amThu\",\"Sunny\",\"47\\\\u00b0\",\"43\\\\u00b0\",\"0%\",\"51%\",\"WNW 8 '\n",
      "           'mph\"],[null,\"11:00 '\n",
      "           'amThu\",\"Sunny\",\"49\\\\u00b0\",\"45\\\\u00b0\",\"0%\",\"44%\",\"WNW 9 '\n",
      "           'mph\"],[null,\"12:00 '\n",
      "           'pmThu\",\"Sunny\",\"51\\\\u00b0\",\"48\\\\u00b0\",\"0%\",\"40%\",\"WNW 8 mph\"]]}',\n",
      " 'next_36': {'at_12': {'chance_precip': '0%',\n",
      "                       'condition': 'MOSTLY CLEAR',\n",
      "                       'description': 'Mainly clear early, then a few clouds '\n",
      "                                      'later on. Low near 35F. Winds light and '\n",
      "                                      'variable.',\n",
      "                       'high/low': 'LOW',\n",
      "                       'hour': 'CALCULATED HOUR OF PREDICTION',\n",
      "                       'humidity': '77%',\n",
      "                       'sun': {'rise': '7:09 am5:00 pm',\n",
      "                               'set': '7:09 am5:00 pm'},\n",
      "                       'temp_f': '35°',\n",
      "                       'uv_index': '0 of 10',\n",
      "                       'wind': {'direction': 'SSW', 'speed': '2'}},\n",
      "             'at_24': {'chance_precip': '10%',\n",
      "                       'condition': 'MOSTLY CLOUDY',\n",
      "                       'description': 'Partly cloudy skies in the morning will '\n",
      "                                      'give way to cloudy skies during the '\n",
      "                                      'afternoon. High around 60F. Winds SW at '\n",
      "                                      '5 to 10 mph.',\n",
      "                       'high/low': 'HIGH',\n",
      "                       'hour': 'CALCULATED HOUR OF PREDICTION',\n",
      "                       'humidity': '54%',\n",
      "                       'sun': {'rise': '7:10 am5:00 pm',\n",
      "                               'set': '7:10 am5:00 pm'},\n",
      "                       'temp_f': '60°',\n",
      "                       'uv_index': '2 of 10',\n",
      "                       'wind': {'direction': 'SW', 'speed': '8'}},\n",
      "             'at_36': {'chance_precip': '20%',\n",
      "                       'condition': 'CLOUDS EARLY/CLEARING LATE',\n",
      "                       'description': 'Cloudy skies early, followed by partial '\n",
      "                                      'clearing. Low around 40F. Winds NW at 5 '\n",
      "                                      'to 10 mph.',\n",
      "                       'high/low': 'LOW',\n",
      "                       'hour': 'CALCULATED HOUR OF PREDICTION',\n",
      "                       'humidity': '84%',\n",
      "                       'sun': {'rise': '7:10 am5:00 pm',\n",
      "                               'set': '7:10 am5:00 pm'},\n",
      "                       'temp_f': '40°',\n",
      "                       'uv_index': '0 of 10',\n",
      "                       'wind': {'direction': 'NW', 'speed': '7'}},\n",
      "             'at_start': {'chance_precip': '0%',\n",
      "                          'condition': 'SUNNY',\n",
      "                          'description': 'Sunny skies. High 56F. Winds WNW at '\n",
      "                                         '5 to 10 mph.',\n",
      "                          'high/low': 'HIGH',\n",
      "                          'hour': 'CALCULATED HOUR OF PREDICTION',\n",
      "                          'humidity': '48%',\n",
      "                          'sun': {'rise': '7:09 am5:00 pm',\n",
      "                                  'set': '7:09 am5:00 pm'},\n",
      "                          'temp_f': '56°',\n",
      "                          'uv_index': '3 of 10',\n",
      "                          'wind': {'direction': 'WNW', 'speed': '8'}},\n",
      "             'now': {'chance_precip': '0%',\n",
      "                     'condition': 'CLEAR',\n",
      "                     'description': 'Clear skies. Low 37F. Winds light and '\n",
      "                                    'variable.',\n",
      "                     'high/low': 'LOW',\n",
      "                     'hour': 'CALCULATED HOUR OF PREDICTION',\n",
      "                     'humidity': '62%',\n",
      "                     'sun': {'rise': '7:08 am5:00 pm', 'set': '7:08 am5:00 pm'},\n",
      "                     'temp_f': '37°',\n",
      "                     'uv_index': '0 of 10',\n",
      "                     'wind': {'direction': 'W', 'speed': '4'}}},\n",
      " 'right_now': {'as_of': ['pm', 'EST'],\n",
      "               'observations': {'description': 'CLEAR',\n",
      "                                'dew_point': '30°',\n",
      "                                'humidity': '59%',\n",
      "                                'pressure': {'change': '', 'in': '29.78'},\n",
      "                                'temp F': {'feels_like': '43°',\n",
      "                                           'measured': '43°'},\n",
      "                                'uv_index': 'of',\n",
      "                                'visibility mi': '10.0 mi',\n",
      "                                'wind': {'direction': 'E', 'speed mph': '2'}}}}\n",
      "{'_id': ObjectId('5de87733ff395937db2f6f36'),\n",
      " 'hourly': '{\"columns\":[\"Time\",\"Description\",\"Temp\",\"Feels\",\"Precip\",\"Humidity\",\"Wind\",\"Unnamed: '\n",
      "           '7\"],\"index\":[0,1,2,3,4,5,6,7,8,9,10,11,12,13,14,15],\"data\":[[null,\"10:30 '\n",
      "           'pmWed\",\"Clear\",\"42\\\\u00b0\",\"42\\\\u00b0\",\"0%\",\"58%\",\"W 2 '\n",
      "           'mph\"],[null,\"11:00 '\n",
      "           'pmWed\",\"Clear\",\"42\\\\u00b0\",\"42\\\\u00b0\",\"0%\",\"59%\",\"WSW 2 '\n",
      "           'mph\"],[null,\"12:00 '\n",
      "           'amThu\",\"Clear\",\"42\\\\u00b0\",\"42\\\\u00b0\",\"0%\",\"61%\",\"WSW 2 '\n",
      "           'mph\"],[null,\"1:00 '\n",
      "           'amThu\",\"Clear\",\"41\\\\u00b0\",\"41\\\\u00b0\",\"0%\",\"62%\",\"WSW 3 '\n",
      "           'mph\"],[null,\"2:00 '\n",
      "           'amThu\",\"Clear\",\"42\\\\u00b0\",\"39\\\\u00b0\",\"0%\",\"62%\",\"W 5 '\n",
      "           'mph\"],[null,\"3:00 '\n",
      "           'amThu\",\"Clear\",\"41\\\\u00b0\",\"38\\\\u00b0\",\"0%\",\"63%\",\"W 5 '\n",
      "           'mph\"],[null,\"4:00 '\n",
      "           'amThu\",\"Clear\",\"40\\\\u00b0\",\"37\\\\u00b0\",\"0%\",\"64%\",\"W 5 '\n",
      "           'mph\"],[null,\"5:00 '\n",
      "           'amThu\",\"Clear\",\"39\\\\u00b0\",\"37\\\\u00b0\",\"0%\",\"65%\",\"W 4 '\n",
      "           'mph\"],[null,\"6:00 '\n",
      "           'amThu\",\"Clear\",\"38\\\\u00b0\",\"36\\\\u00b0\",\"0%\",\"66%\",\"W 3 '\n",
      "           'mph\"],[null,\"7:00 '\n",
      "           'amThu\",\"Clear\",\"38\\\\u00b0\",\"35\\\\u00b0\",\"0%\",\"68%\",\"W 3 '\n",
      "           'mph\"],[null,\"8:00 '\n",
      "           'amThu\",\"Sunny\",\"38\\\\u00b0\",\"35\\\\u00b0\",\"0%\",\"69%\",\"W 5 '\n",
      "           'mph\"],[null,\"9:00 '\n",
      "           'amThu\",\"Sunny\",\"43\\\\u00b0\",\"39\\\\u00b0\",\"0%\",\"60%\",\"W 7 '\n",
      "           'mph\"],[null,\"10:00 '\n",
      "           'amThu\",\"Sunny\",\"46\\\\u00b0\",\"42\\\\u00b0\",\"0%\",\"51%\",\"WNW 8 '\n",
      "           'mph\"],[null,\"11:00 '\n",
      "           'amThu\",\"Sunny\",\"48\\\\u00b0\",\"45\\\\u00b0\",\"0%\",\"45%\",\"WNW 9 '\n",
      "           'mph\"],[null,\"12:00 '\n",
      "           'pmThu\",\"Sunny\",\"50\\\\u00b0\",\"47\\\\u00b0\",\"0%\",\"41%\",\"WNW 8 '\n",
      "           'mph\"],[null,\"1:00 '\n",
      "           'pmThu\",\"Sunny\",\"52\\\\u00b0\",\"49\\\\u00b0\",\"0%\",\"37%\",\"WNW 8 mph\"]]}',\n",
      " 'next_36': {'at_12': {'chance_precip': '10%',\n",
      "                       'condition': 'MOSTLY CLEAR',\n",
      "                       'description': 'Mainly clear early, then a few clouds '\n",
      "                                      'later on. Low 34F. Winds light and '\n",
      "                                      'variable.',\n",
      "                       'high/low': 'LOW',\n",
      "                       'hour': 'CALCULATED HOUR OF PREDICTION',\n",
      "                       'humidity': '82%',\n",
      "                       'sun': {'rise': '7:09 am5:00 pm',\n",
      "                               'set': '7:09 am5:00 pm'},\n",
      "                       'temp_f': '34°',\n",
      "                       'uv_index': '0 of 10',\n",
      "                       'wind': {'direction': 'SSW', 'speed': '2'}},\n",
      "             'at_24': {'chance_precip': '10%',\n",
      "                       'condition': 'MOSTLY CLOUDY',\n",
      "                       'description': 'A mix of clouds and sun early, then '\n",
      "                                      'becoming cloudy later in the day. High '\n",
      "                                      'near 60F. Winds SW at 5 to 10 mph.',\n",
      "                       'high/low': 'HIGH',\n",
      "                       'hour': 'CALCULATED HOUR OF PREDICTION',\n",
      "                       'humidity': '56%',\n",
      "                       'sun': {'rise': '7:10 am5:00 pm',\n",
      "                               'set': '7:10 am5:00 pm'},\n",
      "                       'temp_f': '60°',\n",
      "                       'uv_index': '2 of 10',\n",
      "                       'wind': {'direction': 'SW', 'speed': '7'}},\n",
      "             'at_36': {'chance_precip': '10%',\n",
      "                       'condition': 'CLOUDS EARLY/CLEARING LATE',\n",
      "                       'description': 'Cloudy early with partial clearing '\n",
      "                                      'expected late. Low 39F. Winds NW at 5 '\n",
      "                                      'to 10 mph.',\n",
      "                       'high/low': 'LOW',\n",
      "                       'hour': 'CALCULATED HOUR OF PREDICTION',\n",
      "                       'humidity': '83%',\n",
      "                       'sun': {'rise': '7:10 am5:00 pm',\n",
      "                               'set': '7:10 am5:00 pm'},\n",
      "                       'temp_f': '39°',\n",
      "                       'uv_index': '0 of 10',\n",
      "                       'wind': {'direction': 'NW', 'speed': '7'}},\n",
      "             'at_start': {'chance_precip': '0%',\n",
      "                          'condition': 'SUNNY',\n",
      "                          'description': 'Mainly sunny. High 56F. Winds WNW at '\n",
      "                                         '5 to 10 mph.',\n",
      "                          'high/low': 'HIGH',\n",
      "                          'hour': 'CALCULATED HOUR OF PREDICTION',\n",
      "                          'humidity': '49%',\n",
      "                          'sun': {'rise': '7:09 am5:00 pm',\n",
      "                                  'set': '7:09 am5:00 pm'},\n",
      "                          'temp_f': '56°',\n",
      "                          'uv_index': '3 of 10',\n",
      "                          'wind': {'direction': 'WNW', 'speed': '8'}},\n",
      "             'now': {'chance_precip': '0%',\n",
      "                     'condition': 'CLEAR',\n",
      "                     'description': 'Clear skies. Low 37F. Winds light and '\n",
      "                                    'variable.',\n",
      "                     'high/low': 'LOW',\n",
      "                     'hour': 'CALCULATED HOUR OF PREDICTION',\n",
      "                     'humidity': '62%',\n",
      "                     'sun': {'rise': '7:08 am5:00 pm', 'set': '7:08 am5:00 pm'},\n",
      "                     'temp_f': '37°',\n",
      "                     'uv_index': '0 of 10',\n",
      "                     'wind': {'direction': 'W', 'speed': '5'}}},\n",
      " 'right_now': {'as_of': ['pm', 'EST'],\n",
      "               'observations': {'description': 'CLEAR',\n",
      "                                'dew_point': '29°',\n",
      "                                'humidity': '58%',\n",
      "                                'pressure': {'change': '', 'in': '29.78'},\n",
      "                                'temp F': {'feels_like': '43°',\n",
      "                                           'measured': '43°'},\n",
      "                                'uv_index': 'of',\n",
      "                                'visibility mi': '10.0 mi',\n",
      "                                'wind': {'direction': 'NE', 'speed mph': '2'}}}}\n",
      "{'_id': ObjectId('5de877c4ff395937db2f6f3a'),\n",
      " 'hourly': '{\"columns\":[\"Time\",\"Description\",\"Temp\",\"Feels\",\"Precip\",\"Humidity\",\"Wind\",\"Unnamed: '\n",
      "           '7\"],\"index\":[0,1,2,3,4,5,6,7,8,9,10,11,12,13,14,15],\"data\":[[null,\"10:30 '\n",
      "           'pmWed\",\"Clear\",\"42\\\\u00b0\",\"42\\\\u00b0\",\"0%\",\"58%\",\"W 2 '\n",
      "           'mph\"],[null,\"11:00 '\n",
      "           'pmWed\",\"Clear\",\"42\\\\u00b0\",\"42\\\\u00b0\",\"0%\",\"59%\",\"WSW 2 '\n",
      "           'mph\"],[null,\"12:00 '\n",
      "           'amThu\",\"Clear\",\"42\\\\u00b0\",\"42\\\\u00b0\",\"0%\",\"61%\",\"WSW 2 '\n",
      "           'mph\"],[null,\"1:00 '\n",
      "           'amThu\",\"Clear\",\"41\\\\u00b0\",\"41\\\\u00b0\",\"0%\",\"62%\",\"WSW 3 '\n",
      "           'mph\"],[null,\"2:00 '\n",
      "           'amThu\",\"Clear\",\"42\\\\u00b0\",\"39\\\\u00b0\",\"0%\",\"62%\",\"W 5 '\n",
      "           'mph\"],[null,\"3:00 '\n",
      "           'amThu\",\"Clear\",\"41\\\\u00b0\",\"38\\\\u00b0\",\"0%\",\"63%\",\"W 5 '\n",
      "           'mph\"],[null,\"4:00 '\n",
      "           'amThu\",\"Clear\",\"40\\\\u00b0\",\"37\\\\u00b0\",\"0%\",\"64%\",\"W 5 '\n",
      "           'mph\"],[null,\"5:00 '\n",
      "           'amThu\",\"Clear\",\"39\\\\u00b0\",\"37\\\\u00b0\",\"0%\",\"65%\",\"W 4 '\n",
      "           'mph\"],[null,\"6:00 '\n",
      "           'amThu\",\"Clear\",\"39\\\\u00b0\",\"36\\\\u00b0\",\"0%\",\"67%\",\"W 3 '\n",
      "           'mph\"],[null,\"7:00 '\n",
      "           'amThu\",\"Clear\",\"38\\\\u00b0\",\"36\\\\u00b0\",\"0%\",\"68%\",\"W 3 '\n",
      "           'mph\"],[null,\"8:00 '\n",
      "           'amThu\",\"Sunny\",\"39\\\\u00b0\",\"35\\\\u00b0\",\"0%\",\"69%\",\"W 5 '\n",
      "           'mph\"],[null,\"9:00 '\n",
      "           'amThu\",\"Sunny\",\"43\\\\u00b0\",\"39\\\\u00b0\",\"0%\",\"60%\",\"W 7 '\n",
      "           'mph\"],[null,\"10:00 '\n",
      "           'amThu\",\"Sunny\",\"47\\\\u00b0\",\"43\\\\u00b0\",\"0%\",\"51%\",\"WNW 8 '\n",
      "           'mph\"],[null,\"11:00 '\n",
      "           'amThu\",\"Sunny\",\"49\\\\u00b0\",\"45\\\\u00b0\",\"0%\",\"45%\",\"WNW 9 '\n",
      "           'mph\"],[null,\"12:00 '\n",
      "           'pmThu\",\"Sunny\",\"51\\\\u00b0\",\"48\\\\u00b0\",\"0%\",\"41%\",\"WNW 8 '\n",
      "           'mph\"],[null,\"1:00 '\n",
      "           'pmThu\",\"Sunny\",\"52\\\\u00b0\",\"50\\\\u00b0\",\"0%\",\"38%\",\"WNW 8 mph\"]]}',\n",
      " 'next_36': {'at_12': {'chance_precip': '10%',\n",
      "                       'condition': 'MOSTLY CLEAR',\n",
      "                       'description': 'Mainly clear early, then a few clouds '\n",
      "                                      'later on. Low 34F. Winds light and '\n",
      "                                      'variable.',\n",
      "                       'high/low': 'LOW',\n",
      "                       'hour': 'CALCULATED HOUR OF PREDICTION',\n",
      "                       'humidity': '82%',\n",
      "                       'sun': {'rise': '7:09 am5:00 pm',\n",
      "                               'set': '7:09 am5:00 pm'},\n",
      "                       'temp_f': '34°',\n",
      "                       'uv_index': '0 of 10',\n",
      "                       'wind': {'direction': 'SSW', 'speed': '2'}},\n",
      "             'at_24': {'chance_precip': '10%',\n",
      "                       'condition': 'MOSTLY CLOUDY',\n",
      "                       'description': 'A mix of clouds and sun early, then '\n",
      "                                      'becoming cloudy later in the day. High '\n",
      "                                      'near 60F. Winds SW at 5 to 10 mph.',\n",
      "                       'high/low': 'HIGH',\n",
      "                       'hour': 'CALCULATED HOUR OF PREDICTION',\n",
      "                       'humidity': '56%',\n",
      "                       'sun': {'rise': '7:10 am5:00 pm',\n",
      "                               'set': '7:10 am5:00 pm'},\n",
      "                       'temp_f': '60°',\n",
      "                       'uv_index': '2 of 10',\n",
      "                       'wind': {'direction': 'SW', 'speed': '7'}},\n",
      "             'at_36': {'chance_precip': '10%',\n",
      "                       'condition': 'CLOUDS EARLY/CLEARING LATE',\n",
      "                       'description': 'Cloudy early with partial clearing '\n",
      "                                      'expected late. Low 39F. Winds NW at 5 '\n",
      "                                      'to 10 mph.',\n",
      "                       'high/low': 'LOW',\n",
      "                       'hour': 'CALCULATED HOUR OF PREDICTION',\n",
      "                       'humidity': '83%',\n",
      "                       'sun': {'rise': '7:10 am5:00 pm',\n",
      "                               'set': '7:10 am5:00 pm'},\n",
      "                       'temp_f': '39°',\n",
      "                       'uv_index': '0 of 10',\n",
      "                       'wind': {'direction': 'NW', 'speed': '7'}},\n",
      "             'at_start': {'chance_precip': '0%',\n",
      "                          'condition': 'SUNNY',\n",
      "                          'description': 'Mainly sunny. High 56F. Winds WNW at '\n",
      "                                         '5 to 10 mph.',\n",
      "                          'high/low': 'HIGH',\n",
      "                          'hour': 'CALCULATED HOUR OF PREDICTION',\n",
      "                          'humidity': '49%',\n",
      "                          'sun': {'rise': '7:09 am5:00 pm',\n",
      "                                  'set': '7:09 am5:00 pm'},\n",
      "                          'temp_f': '56°',\n",
      "                          'uv_index': '3 of 10',\n",
      "                          'wind': {'direction': 'WNW', 'speed': '8'}},\n",
      "             'now': {'chance_precip': '0%',\n",
      "                     'condition': 'CLEAR',\n",
      "                     'description': 'Clear skies. Low 37F. Winds light and '\n",
      "                                    'variable.',\n",
      "                     'high/low': 'LOW',\n",
      "                     'hour': 'CALCULATED HOUR OF PREDICTION',\n",
      "                     'humidity': '62%',\n",
      "                     'sun': {'rise': '7:08 am5:00 pm', 'set': '7:08 am5:00 pm'},\n",
      "                     'temp_f': '37°',\n",
      "                     'uv_index': '0 of 10',\n",
      "                     'wind': {'direction': 'W', 'speed': '5'}}},\n",
      " 'right_now': {'as_of': ['pm', 'EST'],\n",
      "               'observations': {'description': 'CLEAR',\n",
      "                                'dew_point': '29°',\n",
      "                                'humidity': '58%',\n",
      "                                'pressure': {'change': '', 'in': '29.78'},\n",
      "                                'temp F': {'feels_like': '43°',\n",
      "                                           'measured': '43°'},\n",
      "                                'uv_index': 'of',\n",
      "                                'visibility mi': '10.0 mi',\n",
      "                                'wind': {'direction': 'NE', 'speed mph': '2'}}}}\n"
     ]
    }
   ],
   "source": [
    "for x in db.code.find():\n",
    "    pprint(x)"
   ]
  },
  {
   "cell_type": "code",
   "execution_count": 18,
   "metadata": {},
   "outputs": [
    {
     "data": {
      "text/plain": [
       "1575322635.426256"
      ]
     },
     "execution_count": 18,
     "metadata": {},
     "output_type": "execute_result"
    }
   ],
   "source": [
    "time.time()"
   ]
  },
  {
   "cell_type": "code",
   "execution_count": 20,
   "metadata": {},
   "outputs": [
    {
     "name": "stdout",
     "output_type": "stream",
     "text": [
      "1\n",
      "got next 8 hour spotted\n",
      "clicked and waiting\n",
      "end n=1 th pass\n",
      "2\n",
      "got next 8 hour spotted\n",
      "clicked and waiting\n",
      "end n=2 th pass\n",
      "3\n",
      "got next 8 hour spotted\n",
      "clicked and waiting\n",
      "end n=3 th pass\n",
      "4\n",
      "got next 8 hour spotted\n",
      "clicked and waiting\n",
      "end n=4 th pass\n",
      "5\n",
      "got next 8 hour spotted\n",
      "clicked and waiting\n",
      "end n=5 th pass\n"
     ]
    }
   ],
   "source": [
    "goto_hourly(browser)"
   ]
  },
  {
   "cell_type": "code",
   "execution_count": 36,
   "metadata": {},
   "outputs": [],
   "source": [
    "browser.quit()"
   ]
  },
  {
   "cell_type": "raw",
   "metadata": {},
   "source": []
  },
  {
   "cell_type": "code",
   "execution_count": null,
   "metadata": {},
   "outputs": [],
   "source": []
  },
  {
   "cell_type": "code",
   "execution_count": 55,
   "metadata": {},
   "outputs": [
    {
     "data": {
      "text/plain": [
       "['ADVANCE, NC',\n",
       " 'as of 11:27 pm EST',\n",
       " '43°',\n",
       " 'CLEAR',\n",
       " 'feels like 41°',\n",
       " 'H -- L 35°',\n",
       " 'UV Index 0 of 10',\n",
       " 'Holiday Week Travel Forecast',\n",
       " 'RIGHT NOW',\n",
       " 'Wind',\n",
       " 'NNW 4 mph',\n",
       " 'Humidity',\n",
       " '57%',\n",
       " 'Dew Point',\n",
       " '29°',\n",
       " 'Pressure',\n",
       " '30.31 in',\n",
       " 'Visibility',\n",
       " '10.0 mi']"
      ]
     },
     "execution_count": 55,
     "metadata": {},
     "output_type": "execute_result"
    }
   ],
   "source": [
    "now"
   ]
  },
  {
   "cell_type": "code",
   "execution_count": null,
   "metadata": {},
   "outputs": [],
   "source": [
    "if now[10]"
   ]
  },
  {
   "cell_type": "code",
   "execution_count": 57,
   "metadata": {},
   "outputs": [
    {
     "name": "stdout",
     "output_type": "stream",
     "text": [
      "{'chance_precip': '0%',\n",
      " 'condition': 'MOSTLY CLEAR',\n",
      " 'description': 'Clear to partly cloudy. Low near 35F. Winds light and '\n",
      "                'variable.',\n",
      " 'high/low': 'LOW',\n",
      " 'hour': 'CALCULATED HOUR OF PREDICTION',\n",
      " 'humidity': '68%',\n",
      " 'sun': {'rise': '7:10 am5:08 pm', 'set': '7:10 am5:08 pm'},\n",
      " 'temp_f': '35°',\n",
      " 'uv_index': '0 of 10',\n",
      " 'wind': {'direction': 'NNE', 'speed': '4'}}\n"
     ]
    }
   ],
   "source": [
    "from pprint import pprint\n",
    "pprint(next_36['now'])\n",
    "# next_36"
   ]
  },
  {
   "cell_type": "code",
   "execution_count": 22,
   "metadata": {},
   "outputs": [
    {
     "data": {
      "text/plain": [
       "[    Time  Description        Temp Feels Precip Humidity Wind Unnamed: 7\n",
       " 0    NaN  12:30 pmSat      Cloudy   48°    48°       0%  86%  SSE 2 mph\n",
       " 1    NaN   1:00 pmSat      Cloudy   49°    49°       0%  85%  SSE 2 mph\n",
       " 2    NaN   2:00 pmSat      Cloudy   50°    50°       0%  81%  SSE 2 mph\n",
       " 3    NaN   3:00 pmSat      Cloudy   50°    50°      10%  78%  SSE 3 mph\n",
       " 4    NaN   4:00 pmSat      Cloudy   50°    50°      25%  77%   SE 2 mph\n",
       " 5    NaN   5:00 pmSat        Rain   50°    50°      70%  80%  ESE 1 mph\n",
       " 6    NaN   6:00 pmSat     Showers   49°    49°      65%  89%  ESE 1 mph\n",
       " 7    NaN   7:00 pmSat        Rain   48°    48°      60%  93%   SE 2 mph\n",
       " 8    NaN   8:00 pmSat  Light Rain   47°    47°      65%  93%   SE 2 mph\n",
       " 9    NaN   9:00 pmSat  Light Rain   47°    47°      65%  94%  ESE 2 mph\n",
       " 10   NaN  10:00 pmSat        Rain   47°    47°      85%  96%  ESE 2 mph\n",
       " 11   NaN  11:00 pmSat        Rain   47°    47°      90%  95%   SE 2 mph\n",
       " 12   NaN  12:00 amSun        Rain   47°    46°      85%  93%   SE 4 mph\n",
       " 13   NaN   1:00 amSun        Rain   48°    46°      80%  96%   SE 4 mph\n",
       " 14   NaN   2:00 amSun        Rain   48°    46°      80%  95%  SSE 5 mph\n",
       " 15   NaN   3:00 amSun        Rain   48°    46°      80%  96%   SE 5 mph]"
      ]
     },
     "execution_count": 22,
     "metadata": {},
     "output_type": "execute_result"
    }
   ],
   "source": [
    "get_table(browser)"
   ]
  },
  {
   "cell_type": "code",
   "execution_count": 36,
   "metadata": {},
   "outputs": [],
   "source": [
    "browser.back()"
   ]
  },
  {
   "cell_type": "code",
   "execution_count": 35,
   "metadata": {},
   "outputs": [
    {
     "data": {
      "text/plain": [
       "1"
      ]
     },
     "execution_count": 35,
     "metadata": {},
     "output_type": "execute_result"
    }
   ],
   "source": [
    "len(dfs)"
   ]
  },
  {
   "cell_type": "code",
   "execution_count": null,
   "metadata": {},
   "outputs": [],
   "source": []
  },
  {
   "cell_type": "code",
   "execution_count": 21,
   "metadata": {},
   "outputs": [],
   "source": []
  },
  {
   "cell_type": "code",
   "execution_count": null,
   "metadata": {},
   "outputs": [],
   "source": []
  },
  {
   "cell_type": "raw",
   "metadata": {},
   "source": [
    "if <you get that error message>:\n",
    "    if <check to see if there is a 'close' button to click on the DOM>:\n",
    "        <click that button>\n",
    "    else:\n",
    "        <handle that error some other way>"
   ]
  },
  {
   "cell_type": "code",
   "execution_count": null,
   "metadata": {},
   "outputs": [],
   "source": [
    "# snapshot = browser.find_by_tag('div#daypart-0').value\n",
    "# snaplist = snapshot.split('\\n')\n",
    "# details = browser.find_by_tag('span.wx-detail-value')\n",
    "# detailslist = [details[i].value for i in range(4)]\n",
    "# print(snaplist)\n",
    "# detailslist"
   ]
  },
  {
   "cell_type": "code",
   "execution_count": 49,
   "metadata": {},
   "outputs": [
    {
     "name": "stdout",
     "output_type": "stream",
     "text": [
      "['TONIGHT', 'RAIN', 'LOW', '42°', '90%']\n"
     ]
    }
   ],
   "source": [
    "print(snaplist)"
   ]
  },
  {
   "cell_type": "code",
   "execution_count": 43,
   "metadata": {},
   "outputs": [
    {
     "name": "stdout",
     "output_type": "stream",
     "text": [
      "None\n"
     ]
    }
   ],
   "source": []
  },
  {
   "cell_type": "code",
   "execution_count": 35,
   "metadata": {},
   "outputs": [
    {
     "name": "stdout",
     "output_type": "stream",
     "text": [
      "<splinter.element_list.ElementList object at 0x104ad09d0>\n"
     ]
    }
   ],
   "source": []
  },
  {
   "cell_type": "code",
   "execution_count": 36,
   "metadata": {},
   "outputs": [
    {
     "name": "stdout",
     "output_type": "stream",
     "text": [
      "NNW 10 mph\n",
      "86%\n",
      "0 of 10\n",
      "6:43 am5:13 pm\n"
     ]
    }
   ],
   "source": []
  },
  {
   "cell_type": "code",
   "execution_count": 12,
   "metadata": {},
   "outputs": [
    {
     "data": {
      "text/plain": [
       "'TODAY\\nHIGH\\n70°\\n10%'"
      ]
     },
     "execution_count": 12,
     "metadata": {},
     "output_type": "execute_result"
    }
   ],
   "source": []
  },
  {
   "cell_type": "code",
   "execution_count": 26,
   "metadata": {},
   "outputs": [
    {
     "data": {
      "text/plain": [
       "'A clear sky. Scattered frost possible. Low around 30F. Winds light and variable.'"
      ]
     },
     "execution_count": 26,
     "metadata": {},
     "output_type": "execute_result"
    }
   ],
   "source": []
  },
  {
   "cell_type": "code",
   "execution_count": 18,
   "metadata": {},
   "outputs": [],
   "source": [
    "browser.quit()"
   ]
  },
  {
   "cell_type": "code",
   "execution_count": 13,
   "metadata": {},
   "outputs": [],
   "source": []
  },
  {
   "cell_type": "code",
   "execution_count": 14,
   "metadata": {},
   "outputs": [
    {
     "data": {
      "text/plain": [
       "1"
      ]
     },
     "execution_count": 14,
     "metadata": {},
     "output_type": "execute_result"
    }
   ],
   "source": []
  },
  {
   "cell_type": "code",
   "execution_count": 16,
   "metadata": {},
   "outputs": [
    {
     "data": {
      "text/plain": [
       "'Today'"
      ]
     },
     "execution_count": 16,
     "metadata": {},
     "output_type": "execute_result"
    }
   ],
   "source": []
  },
  {
   "cell_type": "code",
   "execution_count": 17,
   "metadata": {},
   "outputs": [
    {
     "name": "stdout",
     "output_type": "stream",
     "text": [
      "got input box\n"
     ]
    }
   ],
   "source": []
  },
  {
   "cell_type": "code",
   "execution_count": 18,
   "metadata": {},
   "outputs": [
    {
     "data": {
      "text/plain": [
       "1"
      ]
     },
     "execution_count": 18,
     "metadata": {},
     "output_type": "execute_result"
    }
   ],
   "source": []
  },
  {
   "cell_type": "code",
   "execution_count": 19,
   "metadata": {},
   "outputs": [],
   "source": []
  },
  {
   "cell_type": "code",
   "execution_count": 20,
   "metadata": {},
   "outputs": [],
   "source": []
  },
  {
   "cell_type": "code",
   "execution_count": 25,
   "metadata": {},
   "outputs": [
    {
     "name": "stdout",
     "output_type": "stream",
     "text": [
      "now\n",
      "now\n",
      "looking for now snapshot\n",
      "at_start\n",
      "looking for at_start snapshot\n",
      "at_12\n",
      "looking for at_12 snapshot\n",
      "at_24\n",
      "looking for at_24 snapshot\n",
      "at_36\n",
      "looking for at_36 snapshot\n"
     ]
    }
   ],
   "source": [
    "hour_code = {'0':'now',\n",
    "            '1':'at_start',\n",
    "            '2':'at_12',\n",
    "            '3':'at_24',\n",
    "            '4':'at_36'\n",
    "}\n",
    "print(hour_code['0'])\n",
    "for i in range(5):\n",
    "    print(hour_code[str(i)])\n",
    "    print(f'looking for {hour_code[str(i)]} snapshot')"
   ]
  },
  {
   "cell_type": "code",
   "execution_count": null,
   "metadata": {},
   "outputs": [],
   "source": [
    "### SEARCH FOR THE TABLE THAT HOLDS THE SEARCH RESULTS ###"
   ]
  }
 ],
 "metadata": {
  "kernelspec": {
   "display_name": "Python 3",
   "language": "python",
   "name": "python3"
  },
  "language_info": {
   "codemirror_mode": {
    "name": "ipython",
    "version": 3
   },
   "file_extension": ".py",
   "mimetype": "text/x-python",
   "name": "python",
   "nbconvert_exporter": "python",
   "pygments_lexer": "ipython3",
   "version": "3.8.0"
  }
 },
 "nbformat": 4,
 "nbformat_minor": 2
}
