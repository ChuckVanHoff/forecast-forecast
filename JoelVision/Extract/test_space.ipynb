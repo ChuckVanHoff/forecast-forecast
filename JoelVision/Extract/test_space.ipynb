{
 "cells": [
  {
   "cell_type": "code",
   "execution_count": 28,
   "metadata": {},
   "outputs": [],
   "source": [
    "from splinter import Browser\n",
    "from selenium.common.exceptions import InvalidElementStateException\n",
    "from selenium.common.exceptions import ElementNotInteractableException\n",
    "from bs4 import BeautifulSoup\n",
    "import pandas as pd\n",
    "import shutil\n",
    "import time"
   ]
  },
  {
   "cell_type": "code",
   "execution_count": 30,
   "metadata": {},
   "outputs": [
    {
     "data": {
      "text/plain": [
       "1903"
      ]
     },
     "execution_count": 30,
     "metadata": {},
     "output_type": "execute_result"
    }
   ],
   "source": [
    "# Set the zip codes\n",
    "codes = [i for i in range(27006, 28909)]\n",
    "# codes.append('27606')   # just hard code one in\n",
    "code = codes[0]    # set the variable for zip_and_click\n",
    "len(codes)"
   ]
  },
  {
   "cell_type": "code",
   "execution_count": 31,
   "metadata": {},
   "outputs": [],
   "source": [
    "# inititial website to visit\n",
    "url = 'https://weather.com'"
   ]
  },
  {
   "cell_type": "code",
   "execution_count": 32,
   "metadata": {},
   "outputs": [],
   "source": [
    "def chrome():\n",
    "    '''\n",
    "    Finds the chromedriver in the system and creates a Chrome browser\n",
    "    '''\n",
    "    executable_path = {'executable_path': shutil.which('chromedriver')}\n",
    "    browser = Browser('chrome', **executable_path)\n",
    "    return(browser)"
   ]
  },
  {
   "cell_type": "code",
   "execution_count": 33,
   "metadata": {},
   "outputs": [],
   "source": [
    "def zip_and_click(code):\n",
    "    '''\n",
    "    Enter zip codes into the search bar on weather.com and click the first result.\n",
    "    No return, just leaves browser at the first data page.\n",
    "    '''\n",
    "    import time\n",
    "    \n",
    "    filled = False\n",
    "    clicked = False\n",
    "    \n",
    "    inputs = browser.find_by_tag('input') # get the search box reference\n",
    "    search_box = inputs[0]\n",
    "    while not filled:\n",
    "        try:\n",
    "            search_box.fill(code)\n",
    "            filled = True\n",
    "        except InvalidElementStateException:\n",
    "            time.sleep(1)\n",
    "    while not clicked:\n",
    "        try:\n",
    "            browser.click_link_by_partial_href('/weather/today/l')\n",
    "            print('no exception this time')\n",
    "            clicked = True\n",
    "        except ElementNotInteractableException:\n",
    "            print('exception found....waiting...')\n",
    "            time.sleep(1)\n",
    "    return(browser)     "
   ]
  },
  {
   "cell_type": "code",
   "execution_count": 34,
   "metadata": {},
   "outputs": [],
   "source": [
    "def scrape_now(browser):\n",
    "    ''' Get observed weather data from the current weather page '''\n",
    "    divs = browser.find_by_tag('div').first\n",
    "    nowcard = divs.find_by_tag('section.today_nowcard-container').value\n",
    "    nowlist = nowcard.split('\\n')\n",
    "    return(nowlist)"
   ]
  },
  {
   "cell_type": "code",
   "execution_count": 35,
   "metadata": {},
   "outputs": [],
   "source": [
    "def wind_dict(wind_str):\n",
    "    ''' handle the cases where the wind value is simply \"calm\" rather than direction and speed '''\n",
    "    if wind_str == 'Calm':\n",
    "        return {\n",
    "            'speed': 0,\n",
    "            'direction': None\n",
    "        }\n",
    "    else:\n",
    "        return {\n",
    "            'speed': wind_str.split()[1],\n",
    "            'direction': wind_str.split()[0]\n",
    "        }"
   ]
  },
  {
   "cell_type": "code",
   "execution_count": 36,
   "metadata": {},
   "outputs": [],
   "source": [
    "def scrape_next36(browser):\n",
    "    ''' Get the \"at a glance\" data from the next 36 hours '''\n",
    "\n",
    "    next_36 = {}\n",
    "    \n",
    "    # Pulling data from the \"next 36 hours\" overview displays. There are 5 sections\n",
    "    # that are pulled from. Each section gets a different label.\n",
    "    hour_code = {'0':'now',\n",
    "                '1':'at_start',\n",
    "                '2':'at_12',\n",
    "                '3':'at_24',\n",
    "                '4':'at_36'\n",
    "                }\n",
    "    for i in range(5):\n",
    "        print(f'looking for {hour_code[str(i)]} snapshot')\n",
    "        browser.find_by_tag(f'div#daypart-{i}').click()\n",
    "        snapshot = browser.find_by_tag(f'div#daypart-{i}')\n",
    "        snap_values = snapshot.value\n",
    "        details = browser.find_by_tag('span.wx-detail-value')\n",
    "        detaillist = [details[j].value for j in range(4)]\n",
    "        print(f'completed section {i} snapshot')\n",
    "\n",
    "        #store the data\n",
    "        next_36.update({hour_code[str(i)]: {'hour': 'CALCULATED HOUR OF PREDICTION',\n",
    "                                            'condition': snap_values.split('\\n')[1],\n",
    "                                            'high/low': snap_values.split('\\n')[2],\n",
    "                                            'temp_f': snap_values.split('\\n')[3],\n",
    "                                            'chance_precip': snap_values.split('\\n')[4],\n",
    "                                            'description': browser.find_by_id(f'dp{i}-details-narrative').first.value,\n",
    "                                            'wind': wind_dict(detaillist[0]),\n",
    "#                                             {'speed_mph': detaillist[0].split(' ')[1],\n",
    "#                                                            'direction': detaillist[0].split(' ')[0]\n",
    "#                                                    },\n",
    "                                            'humidity': detaillist[1],\n",
    "                                            'uv_index': detaillist[2],\n",
    "                                            'sun': {'rise': detaillist[3],\n",
    "                                                    'set': detaillist[3]\n",
    "                                                   }\n",
    "                                              }\n",
    "                      })\n",
    "    return(next_36)"
   ]
  },
  {
   "cell_type": "code",
   "execution_count": 37,
   "metadata": {},
   "outputs": [],
   "source": [
    "def goto_hourly(browser):\n",
    "    ''' Take the browser to the hourly numbers '''\n",
    "    browser.find_by_text('Hourly').click()\n",
    "    time.sleep(.5)\n",
    "    while browser.is_text_present('Next 8 Hours'):\n",
    "        browser.find_by_text('Next 8 Hours').click()\n",
    "        time.sleep(.5)\n",
    "    return()"
   ]
  },
  {
   "cell_type": "code",
   "execution_count": 39,
   "metadata": {},
   "outputs": [],
   "source": [
    "browser = chrome()"
   ]
  },
  {
   "cell_type": "code",
   "execution_count": 40,
   "metadata": {},
   "outputs": [],
   "source": [
    "browser.visit(url)"
   ]
  },
  {
   "cell_type": "code",
   "execution_count": null,
   "metadata": {},
   "outputs": [],
   "source": [
    "zip_and_click(code)"
   ]
  },
  {
   "cell_type": "code",
   "execution_count": 13,
   "metadata": {},
   "outputs": [],
   "source": [
    "now = scrape_now(browser)"
   ]
  },
  {
   "cell_type": "code",
   "execution_count": 14,
   "metadata": {},
   "outputs": [
    {
     "data": {
      "text/plain": [
       "['ADVANCE, NC',\n",
       " 'as of 9:18 pm EST',\n",
       " '29°',\n",
       " 'CLEAR',\n",
       " 'feels like 21°',\n",
       " 'H -- L 20°',\n",
       " 'UV Index 0 of 10',\n",
       " 'Forecast: Record Low Temps Ahead',\n",
       " 'RIGHT NOW',\n",
       " 'Wind',\n",
       " 'N 8 mph',\n",
       " 'Humidity',\n",
       " '50%',\n",
       " 'Dew Point',\n",
       " '13°',\n",
       " 'Pressure',\n",
       " '30.30 in',\n",
       " 'Visibility',\n",
       " '10.0 mi']"
      ]
     },
     "execution_count": 14,
     "metadata": {},
     "output_type": "execute_result"
    }
   ],
   "source": [
    "now"
   ]
  },
  {
   "cell_type": "code",
   "execution_count": 15,
   "metadata": {},
   "outputs": [
    {
     "name": "stdout",
     "output_type": "stream",
     "text": [
      "looking for now snapshot\n",
      "completed section 0 snapshot\n",
      "looking for at_start snapshot\n",
      "completed section 1 snapshot\n",
      "looking for at_12 snapshot\n",
      "completed section 2 snapshot\n",
      "looking for at_24 snapshot\n",
      "completed section 3 snapshot\n",
      "looking for at_36 snapshot\n",
      "completed section 4 snapshot\n"
     ]
    }
   ],
   "source": [
    "next_36 = scrape_next36(browser)"
   ]
  },
  {
   "cell_type": "code",
   "execution_count": 16,
   "metadata": {},
   "outputs": [
    {
     "name": "stdout",
     "output_type": "stream",
     "text": [
      "{'at_12': {'chance_precip': '0%',\n",
      "           'condition': 'MOSTLY CLEAR',\n",
      "           'description': 'Clear to partly cloudy. Low near 20F. Winds light '\n",
      "                          'and variable.',\n",
      "           'high/low': 'LOW',\n",
      "           'hour': 'CALCULATED HOUR OF PREDICTION',\n",
      "           'humidity': '80%',\n",
      "           'sun': {'rise': '6:56 am5:15 pm', 'set': '6:56 am5:15 pm'},\n",
      "           'temp_f': '20°',\n",
      "           'uv_index': '0 of 10',\n",
      "           'wind': {'direction': 'E', 'speed': '1'}},\n",
      " 'at_24': {'chance_precip': '20%',\n",
      "           'condition': 'CLOUDY',\n",
      "           'description': 'Cloudy. Slight chance of a rain shower. High 43F. '\n",
      "                          'Winds light and variable.',\n",
      "           'high/low': 'HIGH',\n",
      "           'hour': 'CALCULATED HOUR OF PREDICTION',\n",
      "           'humidity': '60%',\n",
      "           'sun': {'rise': '6:57 am5:14 pm', 'set': '6:57 am5:14 pm'},\n",
      "           'temp_f': '43°',\n",
      "           'uv_index': '2 of 10',\n",
      "           'wind': {'direction': 'NE', 'speed': '2'}},\n",
      " 'at_36': {'chance_precip': '50%',\n",
      "           'condition': 'SHOWERS',\n",
      "           'description': 'Cloudy with showers. Low 36F. Winds light and '\n",
      "                          'variable. Chance of rain 50%.',\n",
      "           'high/low': 'LOW',\n",
      "           'hour': 'CALCULATED HOUR OF PREDICTION',\n",
      "           'humidity': '88%',\n",
      "           'sun': {'rise': '6:57 am5:14 pm', 'set': '6:57 am5:14 pm'},\n",
      "           'temp_f': '36°',\n",
      "           'uv_index': '0 of 10',\n",
      "           'wind': {'direction': 'NNE', 'speed': '2'}},\n",
      " 'at_start': {'chance_precip': '0%',\n",
      "              'condition': 'SUNNY',\n",
      "              'description': 'A mainly sunny sky. High 42F. Winds ENE at 5 to '\n",
      "                             '10 mph.',\n",
      "              'high/low': 'HIGH',\n",
      "              'hour': 'CALCULATED HOUR OF PREDICTION',\n",
      "              'humidity': '43%',\n",
      "              'sun': {'rise': '6:56 am5:15 pm', 'set': '6:56 am5:15 pm'},\n",
      "              'temp_f': '42°',\n",
      "              'uv_index': '3 of 10',\n",
      "              'wind': {'direction': 'ENE', 'speed': '6'}},\n",
      " 'now': {'chance_precip': '0%',\n",
      "         'condition': 'CLEAR',\n",
      "         'description': 'Clear skies. Low near 20F. Winds N at 5 to 10 mph.',\n",
      "         'high/low': 'LOW',\n",
      "         'hour': 'CALCULATED HOUR OF PREDICTION',\n",
      "         'humidity': '57%',\n",
      "         'sun': {'rise': '6:55 am5:16 pm', 'set': '6:55 am5:16 pm'},\n",
      "         'temp_f': '20°',\n",
      "         'uv_index': '0 of 10',\n",
      "         'wind': {'direction': 'N', 'speed': '9'}}}\n"
     ]
    },
    {
     "data": {
      "text/plain": [
       "{'now': {'hour': 'CALCULATED HOUR OF PREDICTION',\n",
       "  'condition': 'CLEAR',\n",
       "  'high/low': 'LOW',\n",
       "  'temp_f': '20°',\n",
       "  'chance_precip': '0%',\n",
       "  'description': 'Clear skies. Low near 20F. Winds N at 5 to 10 mph.',\n",
       "  'wind': {'speed': '9', 'direction': 'N'},\n",
       "  'humidity': '57%',\n",
       "  'uv_index': '0 of 10',\n",
       "  'sun': {'rise': '6:55 am5:16 pm', 'set': '6:55 am5:16 pm'}},\n",
       " 'at_start': {'hour': 'CALCULATED HOUR OF PREDICTION',\n",
       "  'condition': 'SUNNY',\n",
       "  'high/low': 'HIGH',\n",
       "  'temp_f': '42°',\n",
       "  'chance_precip': '0%',\n",
       "  'description': 'A mainly sunny sky. High 42F. Winds ENE at 5 to 10 mph.',\n",
       "  'wind': {'speed': '6', 'direction': 'ENE'},\n",
       "  'humidity': '43%',\n",
       "  'uv_index': '3 of 10',\n",
       "  'sun': {'rise': '6:56 am5:15 pm', 'set': '6:56 am5:15 pm'}},\n",
       " 'at_12': {'hour': 'CALCULATED HOUR OF PREDICTION',\n",
       "  'condition': 'MOSTLY CLEAR',\n",
       "  'high/low': 'LOW',\n",
       "  'temp_f': '20°',\n",
       "  'chance_precip': '0%',\n",
       "  'description': 'Clear to partly cloudy. Low near 20F. Winds light and variable.',\n",
       "  'wind': {'speed': '1', 'direction': 'E'},\n",
       "  'humidity': '80%',\n",
       "  'uv_index': '0 of 10',\n",
       "  'sun': {'rise': '6:56 am5:15 pm', 'set': '6:56 am5:15 pm'}},\n",
       " 'at_24': {'hour': 'CALCULATED HOUR OF PREDICTION',\n",
       "  'condition': 'CLOUDY',\n",
       "  'high/low': 'HIGH',\n",
       "  'temp_f': '43°',\n",
       "  'chance_precip': '20%',\n",
       "  'description': 'Cloudy. Slight chance of a rain shower. High 43F. Winds light and variable.',\n",
       "  'wind': {'speed': '2', 'direction': 'NE'},\n",
       "  'humidity': '60%',\n",
       "  'uv_index': '2 of 10',\n",
       "  'sun': {'rise': '6:57 am5:14 pm', 'set': '6:57 am5:14 pm'}},\n",
       " 'at_36': {'hour': 'CALCULATED HOUR OF PREDICTION',\n",
       "  'condition': 'SHOWERS',\n",
       "  'high/low': 'LOW',\n",
       "  'temp_f': '36°',\n",
       "  'chance_precip': '50%',\n",
       "  'description': 'Cloudy with showers. Low 36F. Winds light and variable. Chance of rain 50%.',\n",
       "  'wind': {'speed': '2', 'direction': 'NNE'},\n",
       "  'humidity': '88%',\n",
       "  'uv_index': '0 of 10',\n",
       "  'sun': {'rise': '6:57 am5:14 pm', 'set': '6:57 am5:14 pm'}}}"
      ]
     },
     "execution_count": 16,
     "metadata": {},
     "output_type": "execute_result"
    }
   ],
   "source": [
    "from pprint import pprint\n",
    "pprint(next_36)\n",
    "next_36"
   ]
  },
  {
   "cell_type": "code",
   "execution_count": null,
   "metadata": {},
   "outputs": [],
   "source": []
  },
  {
   "cell_type": "code",
   "execution_count": 17,
   "metadata": {},
   "outputs": [
    {
     "data": {
      "text/plain": [
       "()"
      ]
     },
     "execution_count": 17,
     "metadata": {},
     "output_type": "execute_result"
    }
   ],
   "source": [
    "goto_hourly(browser)"
   ]
  },
  {
   "cell_type": "code",
   "execution_count": null,
   "metadata": {},
   "outputs": [],
   "source": [
    "def scrape_hourly(browser):\n",
    "    "
   ]
  },
  {
   "cell_type": "code",
   "execution_count": 37,
   "metadata": {},
   "outputs": [
    {
     "name": "stdout",
     "output_type": "stream",
     "text": [
      "https://weather.com/weather/hourbyhour/l/15d7cae6a3bd8dea6586e2ea77ef72be81e7593b073dcd3ed31cf719e686f364\n"
     ]
    }
   ],
   "source": [
    "url = browser.url\n",
    "response = requests.get(url)\n",
    "soup = BeautifulSoup(response.text, 'lxml')\n",
    "soup.find_all()"
   ]
  },
  {
   "cell_type": "code",
   "execution_count": 18,
   "metadata": {},
   "outputs": [
    {
     "name": "stdout",
     "output_type": "stream",
     "text": [
      "https://weather.com/weather/hourbyhour/l/15d7cae6a3bd8dea6586e2ea77ef72be81e7593b073dcd3ed31cf719e686f364\n"
     ]
    },
    {
     "ename": "ImportError",
     "evalue": "html5lib not found, please install it",
     "output_type": "error",
     "traceback": [
      "\u001b[0;31m---------------------------------------------------------------------------\u001b[0m",
      "\u001b[0;31mImportError\u001b[0m                               Traceback (most recent call last)",
      "\u001b[0;32m<ipython-input-18-905eb07000d8>\u001b[0m in \u001b[0;36m<module>\u001b[0;34m\u001b[0m\n\u001b[1;32m      1\u001b[0m \u001b[0murl\u001b[0m \u001b[0;34m=\u001b[0m \u001b[0mbrowser\u001b[0m\u001b[0;34m.\u001b[0m\u001b[0murl\u001b[0m\u001b[0;34m\u001b[0m\u001b[0;34m\u001b[0m\u001b[0m\n\u001b[1;32m      2\u001b[0m \u001b[0mprint\u001b[0m\u001b[0;34m(\u001b[0m\u001b[0murl\u001b[0m\u001b[0;34m)\u001b[0m\u001b[0;34m\u001b[0m\u001b[0;34m\u001b[0m\u001b[0m\n\u001b[0;32m----> 3\u001b[0;31m \u001b[0mtables\u001b[0m \u001b[0;34m=\u001b[0m \u001b[0mpd\u001b[0m\u001b[0;34m.\u001b[0m\u001b[0mread_html\u001b[0m\u001b[0;34m(\u001b[0m\u001b[0murl\u001b[0m\u001b[0;34m)\u001b[0m\u001b[0;34m\u001b[0m\u001b[0;34m\u001b[0m\u001b[0m\n\u001b[0m\u001b[1;32m      4\u001b[0m \u001b[0mtables\u001b[0m\u001b[0;34m\u001b[0m\u001b[0;34m\u001b[0m\u001b[0m\n",
      "\u001b[0;32m/Library/Frameworks/Python.framework/Versions/3.7/lib/python3.7/site-packages/pandas/io/html.py\u001b[0m in \u001b[0;36mread_html\u001b[0;34m(io, match, flavor, header, index_col, skiprows, attrs, parse_dates, thousands, encoding, decimal, converters, na_values, keep_default_na, displayed_only)\u001b[0m\n\u001b[1;32m   1103\u001b[0m         \u001b[0mna_values\u001b[0m\u001b[0;34m=\u001b[0m\u001b[0mna_values\u001b[0m\u001b[0;34m,\u001b[0m\u001b[0;34m\u001b[0m\u001b[0;34m\u001b[0m\u001b[0m\n\u001b[1;32m   1104\u001b[0m         \u001b[0mkeep_default_na\u001b[0m\u001b[0;34m=\u001b[0m\u001b[0mkeep_default_na\u001b[0m\u001b[0;34m,\u001b[0m\u001b[0;34m\u001b[0m\u001b[0;34m\u001b[0m\u001b[0m\n\u001b[0;32m-> 1105\u001b[0;31m         \u001b[0mdisplayed_only\u001b[0m\u001b[0;34m=\u001b[0m\u001b[0mdisplayed_only\u001b[0m\u001b[0;34m,\u001b[0m\u001b[0;34m\u001b[0m\u001b[0;34m\u001b[0m\u001b[0m\n\u001b[0m\u001b[1;32m   1106\u001b[0m     )\n",
      "\u001b[0;32m/Library/Frameworks/Python.framework/Versions/3.7/lib/python3.7/site-packages/pandas/io/html.py\u001b[0m in \u001b[0;36m_parse\u001b[0;34m(flavor, io, match, attrs, encoding, displayed_only, **kwargs)\u001b[0m\n\u001b[1;32m    886\u001b[0m     \u001b[0mretained\u001b[0m \u001b[0;34m=\u001b[0m \u001b[0;32mNone\u001b[0m\u001b[0;34m\u001b[0m\u001b[0;34m\u001b[0m\u001b[0m\n\u001b[1;32m    887\u001b[0m     \u001b[0;32mfor\u001b[0m \u001b[0mflav\u001b[0m \u001b[0;32min\u001b[0m \u001b[0mflavor\u001b[0m\u001b[0;34m:\u001b[0m\u001b[0;34m\u001b[0m\u001b[0;34m\u001b[0m\u001b[0m\n\u001b[0;32m--> 888\u001b[0;31m         \u001b[0mparser\u001b[0m \u001b[0;34m=\u001b[0m \u001b[0m_parser_dispatch\u001b[0m\u001b[0;34m(\u001b[0m\u001b[0mflav\u001b[0m\u001b[0;34m)\u001b[0m\u001b[0;34m\u001b[0m\u001b[0;34m\u001b[0m\u001b[0m\n\u001b[0m\u001b[1;32m    889\u001b[0m         \u001b[0mp\u001b[0m \u001b[0;34m=\u001b[0m \u001b[0mparser\u001b[0m\u001b[0;34m(\u001b[0m\u001b[0mio\u001b[0m\u001b[0;34m,\u001b[0m \u001b[0mcompiled_match\u001b[0m\u001b[0;34m,\u001b[0m \u001b[0mattrs\u001b[0m\u001b[0;34m,\u001b[0m \u001b[0mencoding\u001b[0m\u001b[0;34m,\u001b[0m \u001b[0mdisplayed_only\u001b[0m\u001b[0;34m)\u001b[0m\u001b[0;34m\u001b[0m\u001b[0;34m\u001b[0m\u001b[0m\n\u001b[1;32m    890\u001b[0m \u001b[0;34m\u001b[0m\u001b[0m\n",
      "\u001b[0;32m/Library/Frameworks/Python.framework/Versions/3.7/lib/python3.7/site-packages/pandas/io/html.py\u001b[0m in \u001b[0;36m_parser_dispatch\u001b[0;34m(flavor)\u001b[0m\n\u001b[1;32m    833\u001b[0m     \u001b[0;32mif\u001b[0m \u001b[0mflavor\u001b[0m \u001b[0;32min\u001b[0m \u001b[0;34m(\u001b[0m\u001b[0;34m\"bs4\"\u001b[0m\u001b[0;34m,\u001b[0m \u001b[0;34m\"html5lib\"\u001b[0m\u001b[0;34m)\u001b[0m\u001b[0;34m:\u001b[0m\u001b[0;34m\u001b[0m\u001b[0;34m\u001b[0m\u001b[0m\n\u001b[1;32m    834\u001b[0m         \u001b[0;32mif\u001b[0m \u001b[0;32mnot\u001b[0m \u001b[0m_HAS_HTML5LIB\u001b[0m\u001b[0;34m:\u001b[0m\u001b[0;34m\u001b[0m\u001b[0;34m\u001b[0m\u001b[0m\n\u001b[0;32m--> 835\u001b[0;31m             \u001b[0;32mraise\u001b[0m \u001b[0mImportError\u001b[0m\u001b[0;34m(\u001b[0m\u001b[0;34m\"html5lib not found, please install it\"\u001b[0m\u001b[0;34m)\u001b[0m\u001b[0;34m\u001b[0m\u001b[0;34m\u001b[0m\u001b[0m\n\u001b[0m\u001b[1;32m    836\u001b[0m         \u001b[0;32mif\u001b[0m \u001b[0;32mnot\u001b[0m \u001b[0m_HAS_BS4\u001b[0m\u001b[0;34m:\u001b[0m\u001b[0;34m\u001b[0m\u001b[0;34m\u001b[0m\u001b[0m\n\u001b[1;32m    837\u001b[0m             \u001b[0;32mraise\u001b[0m \u001b[0mImportError\u001b[0m\u001b[0;34m(\u001b[0m\u001b[0;34m\"BeautifulSoup4 (bs4) not found, please install it\"\u001b[0m\u001b[0;34m)\u001b[0m\u001b[0;34m\u001b[0m\u001b[0;34m\u001b[0m\u001b[0m\n",
      "\u001b[0;31mImportError\u001b[0m: html5lib not found, please install it"
     ]
    }
   ],
   "source": [
    "url = browser.url\n",
    "print(url)\n",
    "tables = pd.read_html(url)\n",
    "tables"
   ]
  },
  {
   "cell_type": "code",
   "execution_count": 20,
   "metadata": {},
   "outputs": [
    {
     "name": "stdout",
     "output_type": "stream",
     "text": [
      "['TODAY', 'SUNNY', 'HIGH', '51°', '0%']\n"
     ]
    },
    {
     "data": {
      "text/plain": [
       "['ESE 5 mph', '46%', '4 of 10', '6:44 am5:12 pm']"
      ]
     },
     "execution_count": 20,
     "metadata": {},
     "output_type": "execute_result"
    }
   ],
   "source": [
    "browser.find_by_tag('div#daypart-0').click()\n",
    "snapshot = browser.find_by_tag('div#daypart-0').value\n",
    "snaplist = snapshot.split('\\n')\n",
    "details = browser.find_by_tag('span.wx-detail-value')\n",
    "detailslist = [details[i].value for i in range(4)]\n",
    "print(snaplist)\n",
    "detailslist"
   ]
  },
  {
   "cell_type": "code",
   "execution_count": 49,
   "metadata": {},
   "outputs": [
    {
     "name": "stdout",
     "output_type": "stream",
     "text": [
      "['TONIGHT', 'RAIN', 'LOW', '42°', '90%']\n"
     ]
    }
   ],
   "source": [
    "print(snaplist)"
   ]
  },
  {
   "cell_type": "code",
   "execution_count": 43,
   "metadata": {},
   "outputs": [
    {
     "name": "stdout",
     "output_type": "stream",
     "text": [
      "None\n"
     ]
    }
   ],
   "source": [
    "details = exec(\"browser.find_by_tag('span#dp0-details-wind')\")\n",
    "# dp_details = {}\n",
    "# for i in range(4):\n",
    "#     dp_details[exec(\"browser.find_by_tag('span#dp{i}-details-wind'.format(i))\").value]\n",
    "print(details)"
   ]
  },
  {
   "cell_type": "code",
   "execution_count": 35,
   "metadata": {},
   "outputs": [
    {
     "name": "stdout",
     "output_type": "stream",
     "text": [
      "<splinter.element_list.ElementList object at 0x104ad09d0>\n"
     ]
    }
   ],
   "source": [
    "details = browser.find_by_tag('span.wx-detail-value')\n",
    "print(details)"
   ]
  },
  {
   "cell_type": "code",
   "execution_count": 36,
   "metadata": {},
   "outputs": [
    {
     "name": "stdout",
     "output_type": "stream",
     "text": [
      "NNW 10 mph\n",
      "86%\n",
      "0 of 10\n",
      "6:43 am5:13 pm\n"
     ]
    }
   ],
   "source": [
    "for i in range(4):\n",
    "    print(details[i].value)"
   ]
  },
  {
   "cell_type": "code",
   "execution_count": 12,
   "metadata": {},
   "outputs": [
    {
     "data": {
      "text/plain": [
       "'TODAY\\nHIGH\\n70°\\n10%'"
      ]
     },
     "execution_count": 12,
     "metadata": {},
     "output_type": "execute_result"
    }
   ],
   "source": [
    "# browser.find_by_tag('div.today-daypart-content').first.value"
   ]
  },
  {
   "cell_type": "code",
   "execution_count": 26,
   "metadata": {},
   "outputs": [
    {
     "data": {
      "text/plain": [
       "'A clear sky. Scattered frost possible. Low around 30F. Winds light and variable.'"
      ]
     },
     "execution_count": 26,
     "metadata": {},
     "output_type": "execute_result"
    }
   ],
   "source": [
    "description = browser.find_by_id('dp1-details-narrative').first.value\n",
    "description"
   ]
  },
  {
   "cell_type": "code",
   "execution_count": 38,
   "metadata": {},
   "outputs": [],
   "source": [
    "browser.quit()"
   ]
  },
  {
   "cell_type": "code",
   "execution_count": 13,
   "metadata": {},
   "outputs": [],
   "source": []
  },
  {
   "cell_type": "code",
   "execution_count": 14,
   "metadata": {},
   "outputs": [
    {
     "data": {
      "text/plain": [
       "1"
      ]
     },
     "execution_count": 14,
     "metadata": {},
     "output_type": "execute_result"
    }
   ],
   "source": []
  },
  {
   "cell_type": "code",
   "execution_count": 16,
   "metadata": {},
   "outputs": [
    {
     "data": {
      "text/plain": [
       "'Today'"
      ]
     },
     "execution_count": 16,
     "metadata": {},
     "output_type": "execute_result"
    }
   ],
   "source": []
  },
  {
   "cell_type": "code",
   "execution_count": 17,
   "metadata": {},
   "outputs": [
    {
     "name": "stdout",
     "output_type": "stream",
     "text": [
      "got input box\n"
     ]
    }
   ],
   "source": []
  },
  {
   "cell_type": "code",
   "execution_count": 18,
   "metadata": {},
   "outputs": [
    {
     "data": {
      "text/plain": [
       "1"
      ]
     },
     "execution_count": 18,
     "metadata": {},
     "output_type": "execute_result"
    }
   ],
   "source": []
  },
  {
   "cell_type": "code",
   "execution_count": 19,
   "metadata": {},
   "outputs": [],
   "source": []
  },
  {
   "cell_type": "code",
   "execution_count": 20,
   "metadata": {},
   "outputs": [],
   "source": []
  },
  {
   "cell_type": "code",
   "execution_count": 25,
   "metadata": {},
   "outputs": [
    {
     "name": "stdout",
     "output_type": "stream",
     "text": [
      "now\n",
      "now\n",
      "looking for now snapshot\n",
      "at_start\n",
      "looking for at_start snapshot\n",
      "at_12\n",
      "looking for at_12 snapshot\n",
      "at_24\n",
      "looking for at_24 snapshot\n",
      "at_36\n",
      "looking for at_36 snapshot\n"
     ]
    }
   ],
   "source": [
    "hour_code = {'0':'now',\n",
    "            '1':'at_start',\n",
    "            '2':'at_12',\n",
    "            '3':'at_24',\n",
    "            '4':'at_36'\n",
    "}\n",
    "print(hour_code['0'])\n",
    "for i in range(5):\n",
    "    print(hour_code[str(i)])\n",
    "    print(f'looking for {hour_code[str(i)]} snapshot')"
   ]
  },
  {
   "cell_type": "code",
   "execution_count": null,
   "metadata": {},
   "outputs": [],
   "source": [
    "### SEARCH FOR THE TABLE THAT HOLDS THE SEARCH RESULTS ###"
   ]
  }
 ],
 "metadata": {
  "kernelspec": {
   "display_name": "Python 3",
   "language": "python",
   "name": "python3"
  },
  "language_info": {
   "codemirror_mode": {
    "name": "ipython",
    "version": 3
   },
   "file_extension": ".py",
   "mimetype": "text/x-python",
   "name": "python",
   "nbconvert_exporter": "python",
   "pygments_lexer": "ipython3",
   "version": "3.7.4"
  }
 },
 "nbformat": 4,
 "nbformat_minor": 2
}
