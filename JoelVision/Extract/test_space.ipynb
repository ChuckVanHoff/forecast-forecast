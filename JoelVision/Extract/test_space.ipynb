{
 "cells": [
  {
   "cell_type": "code",
   "execution_count": 7,
   "metadata": {},
   "outputs": [],
   "source": [
    "from splinter import Browser\n",
    "from selenium.common.exceptions import InvalidElementStateException\n",
    "from selenium.common.exceptions import ElementNotInteractableException\n",
    "from bs4 import BeautifulSoup\n",
    "from pprint import pprint\n",
    "import pandas as pd\n",
    "import html5lib\n",
    "import lxml\n",
    "import shutil\n",
    "import time\n",
    "import urllib3\n",
    "import requests\n",
    "from pymongo import MongoClient\n",
    "from pymongo.errors import ConnectionFailure"
   ]
  },
  {
   "cell_type": "code",
   "execution_count": 9,
   "metadata": {},
   "outputs": [],
   "source": [
    "# Set the zip codes\n",
    "codes = []\n",
    "codes.append('27606')   # just hard code one in\n",
    "code = codes[0]    # set the variable for zip_and_click\n",
    "global browser\n",
    "data = {}\n",
    "host = 'localhost'\n",
    "port = 27017"
   ]
  },
  {
   "cell_type": "code",
   "execution_count": 3,
   "metadata": {},
   "outputs": [],
   "source": [
    "# inititial website to visit\n",
    "url = 'https://weather.com'"
   ]
  },
  {
   "cell_type": "code",
   "execution_count": 4,
   "metadata": {},
   "outputs": [],
   "source": [
    "def chrome():\n",
    "    '''\n",
    "    Finds the chromedriver in the system and creates a Chrome browser\n",
    "    '''\n",
    "    executable_path = {'executable_path': shutil.which('chromedriver')}\n",
    "    browser = Browser('chrome', **executable_path)\n",
    "    return(browser)"
   ]
  },
  {
   "cell_type": "code",
   "execution_count": 5,
   "metadata": {},
   "outputs": [],
   "source": [
    "def zip_and_click(code):\n",
    "    '''\n",
    "    Enter zip codes into the search bar on weather.com and click the first result.\n",
    "    No return, just leaves browser at the first data page.\n",
    "    '''\n",
    "    import time\n",
    "    \n",
    "    filled = False\n",
    "    clicked = False\n",
    "    \n",
    "    inputs = browser.find_by_tag('input') # get the search box reference\n",
    "    search_box = inputs[0]\n",
    "    while not filled:\n",
    "        try:\n",
    "            search_box.fill(code)\n",
    "            filled = True\n",
    "        except InvalidElementStateException:\n",
    "            time.sleep(1)\n",
    "    while not clicked:\n",
    "        try:\n",
    "            browser.click_link_by_partial_href('/weather/today/l')\n",
    "            print('no exception this time')\n",
    "            clicked = True\n",
    "        except ElementNotInteractableException:\n",
    "            print('exception found....waiting...')\n",
    "            time.sleep(1)\n",
    "    return(browser)     "
   ]
  },
  {
   "cell_type": "code",
   "execution_count": 6,
   "metadata": {},
   "outputs": [],
   "source": [
    "def scrape_now(browser):\n",
    "    ''' Get observed weather data from the current weather page '''\n",
    "    right_now = {}\n",
    "    divs = browser.find_by_tag('div').first\n",
    "    nowcard = divs.find_by_tag('section.today_nowcard-container').value\n",
    "    now = nowcard.split('\\n')\n",
    "    right_now.update({'as_of': now[1].split()[3:5],\n",
    "                 'observations': {'temp F': {'measured': now[2],\n",
    "                                            'feels_like': now[4][11:]\n",
    "                                            },\n",
    "                                 'description': now[3],\n",
    "                                 'uv_index': now[6].split()[3],\n",
    "                                 'wind': {'speed mph': now[10].split()[1],\n",
    "                                         'direction': now[10].split()[0]\n",
    "                                         },\n",
    "                                 'humidity': now[12],\n",
    "                                 'dew_point': now[14],\n",
    "                                 'pressure': {'in': now[16].split()[0],\n",
    "                                             'change': ''\n",
    "                                             },\n",
    "                                  'visibility mi': now[18]\n",
    "                                 }\n",
    "                 })\n",
    "    data['right_now'] = right_now\n",
    "    return(right_now)"
   ]
  },
  {
   "cell_type": "code",
   "execution_count": 7,
   "metadata": {},
   "outputs": [],
   "source": [
    "def wind_dict(wind_str):\n",
    "    ''' handle the cases where the wind value is simply \"calm\" rather than direction and speed '''\n",
    "    if wind_str == 'Calm':\n",
    "        return {\n",
    "            'speed': 0,\n",
    "            'direction': None\n",
    "        }\n",
    "    else:\n",
    "        return {\n",
    "            'speed': wind_str.split()[1],\n",
    "            'direction': wind_str.split()[0]\n",
    "        }"
   ]
  },
  {
   "cell_type": "code",
   "execution_count": 28,
   "metadata": {},
   "outputs": [],
   "source": [
    "def scrape_next36(browser):\n",
    "    ''' Get the \"at a glance\" data from the next 36 hours '''\n",
    "\n",
    "    next_36 = {}\n",
    "    \n",
    "    # Pulling data from the \"next 36 hours\" overview displays. There are 5 sections\n",
    "    # that are pulled from. Each section gets a different label.\n",
    "    hour_code = {'0':'now',\n",
    "                '1':'at_start',\n",
    "                '2':'at_12',\n",
    "                '3':'at_24',\n",
    "                '4':'at_36'\n",
    "                }\n",
    "    for i in range(5):\n",
    "        print(f'looking for {hour_code[str(i)]} snapshot')\n",
    "        try:\n",
    "            browser.find_by_tag(f'div#daypart-{i}').click()\n",
    "        except ElementNotInteractableException:\n",
    "            print('ElementNotInteractableException occured: breaking loop.')\n",
    "            break\n",
    "        snapshot = browser.find_by_tag(f'div#daypart-{i}')\n",
    "        snap_values = snapshot.value\n",
    "        details = browser.find_by_tag('span.wx-detail-value')\n",
    "        detaillist = [details[j].value for j in range(4)]\n",
    "        print(f'completed section {i} snapshot')\n",
    "\n",
    "        #store the data\n",
    "        next_36.update({hour_code[str(i)]: {'hour': 'CALCULATED HOUR OF PREDICTION',\n",
    "                                            'condition': snap_values.split('\\n')[1],\n",
    "                                            'high/low': snap_values.split('\\n')[2],\n",
    "                                            'temp_f': snap_values.split('\\n')[3],\n",
    "                                            'chance_precip': snap_values.split('\\n')[4],\n",
    "                                            'description': browser.find_by_id(f'dp{i}-details-narrative').first.value,\n",
    "                                            'wind': wind_dict(detaillist[0]),\n",
    "                                            'humidity': detaillist[1],\n",
    "                                            'uv_index': detaillist[2],\n",
    "                                            'sun': {'rise': detaillist[3],\n",
    "                                                    'set': detaillist[3]\n",
    "                                                   }\n",
    "                                              }\n",
    "                      })\n",
    "    data['next_36'] = next_36\n",
    "    return(next_36)"
   ]
  },
  {
   "cell_type": "code",
   "execution_count": 9,
   "metadata": {},
   "outputs": [],
   "source": [
    "def goto_hourly(browser):\n",
    "    ''' Take the browser to the hourly numbers '''\n",
    "    browser.find_by_text('Hourly').click()\n",
    "    time.sleep(.5)\n",
    "    n=0\n",
    "    while browser.is_text_present('Next 8 Hours'):\n",
    "        n+=1\n",
    "        browser.find_by_text('Next 8 Hours').click()\n",
    "        time.sleep(.5)\n",
    "    else:\n",
    "        print(f'got {8*n} hours of forcast')\n",
    "    return"
   ]
  },
  {
   "cell_type": "code",
   "execution_count": 33,
   "metadata": {},
   "outputs": [],
   "source": [
    "def get_hourly(browser):\n",
    "    ''' Get the tables from the current page and turn to pandas df's '''\n",
    "    url = browser.url\n",
    "    r = requests.get(url)\n",
    "    dfs = pd.read_html(r.text)\n",
    "    df = dfs[0]\n",
    "    hourly = df.to_json(orient='split')\n",
    "    data['hourly'] = hourly\n",
    "    return(hourly)"
   ]
  },
  {
   "cell_type": "code",
   "execution_count": null,
   "metadata": {},
   "outputs": [],
   "source": [
    "def check_db_access(str: host, port):\n",
    "    '''A check that there is write access to the database'''\n",
    "   \n",
    "    client = MongoClient(host=host, port=port)\n",
    "    try:\n",
    "        # The ismaster command is cheap and does not require auth.\n",
    "        client.admin.command('ismaster')\n",
    "        print('Connection made')\n",
    "    except ConnectionFailure:\n",
    "        print(\"Server not available\")\n",
    "        return()\n",
    "\n",
    "    # check the database connections\n",
    "        # Get a count of the number of databases at the connection (accessible through that port)\n",
    "        # before attempting to add to it\n",
    "    db_count_pre = len(client.list_database_names())\n",
    "        # Add a database and collection\n",
    "    db = client.test_db\n",
    "    col = db.test_col\n",
    "\n",
    "    # Insert something to the db\n",
    "    post = {'name':'Chuck VanHoff',\n",
    "           'age':'38',\n",
    "           'hobby':'gardening'\n",
    "           }\n",
    "    col.insert_one(post)\n",
    "\n",
    "        # Get a count of the databases after adding one\n",
    "    db_count_post = len(client.list_database_names())\n",
    "\n",
    "    if db_count_pre-db_count_post>=0:\n",
    "        print('Your conneciton is flipped up')\n",
    "    else:\n",
    "        print('You have write access')\n",
    "\n",
    "    client.drop_database(db)\n",
    "    client.close()\n",
    "    return()"
   ]
  },
  {
   "cell_type": "code",
   "execution_count": 5,
   "metadata": {},
   "outputs": [],
   "source": [
    "def load(code):\n",
    "    ''' Load the data to the database '''\n",
    "    client = MongoClient(host=host, port=port)\n",
    "    db = client.forcast\n",
    "    code = str(code)\n",
    "    col = db.code\n",
    "    post = data\n",
    "    col.insert_one(data)\n",
    "    return()"
   ]
  },
  {
   "cell_type": "code",
   "execution_count": 11,
   "metadata": {},
   "outputs": [
    {
     "data": {
      "text/plain": [
       "'/Users/mastacow/data/forcast-forcast/env/bin/chromedriver'"
      ]
     },
     "execution_count": 11,
     "metadata": {},
     "output_type": "execute_result"
    }
   ],
   "source": [
    "shutil.which('chromedriver')"
   ]
  },
  {
   "cell_type": "code",
   "execution_count": 12,
   "metadata": {
    "scrolled": true
   },
   "outputs": [],
   "source": [
    "browser = chrome()"
   ]
  },
  {
   "cell_type": "code",
   "execution_count": 17,
   "metadata": {},
   "outputs": [],
   "source": [
    "browser.visit(url)"
   ]
  },
  {
   "cell_type": "code",
   "execution_count": 18,
   "metadata": {},
   "outputs": [
    {
     "name": "stdout",
     "output_type": "stream",
     "text": [
      "no exception this time\n"
     ]
    },
    {
     "data": {
      "text/plain": [
       "<splinter.driver.webdriver.chrome.WebDriver at 0x1156f4850>"
      ]
     },
     "execution_count": 18,
     "metadata": {},
     "output_type": "execute_result"
    }
   ],
   "source": [
    "zip_and_click(code)"
   ]
  },
  {
   "cell_type": "code",
   "execution_count": 19,
   "metadata": {},
   "outputs": [
    {
     "name": "stdout",
     "output_type": "stream",
     "text": [
      "{'as_of': ['pm', 'EST'],\n",
      " 'observations': {'description': 'CLOUDY',\n",
      "                  'dew_point': '28°',\n",
      "                  'humidity': '60%',\n",
      "                  'pressure': {'change': '', 'in': '29.89'},\n",
      "                  'temp F': {'feels_like': '36°', 'measured': '41°'},\n",
      "                  'uv_index': 'of',\n",
      "                  'visibility mi': '10.0 mi',\n",
      "                  'wind': {'direction': 'W', 'speed mph': '8'}}}\n"
     ]
    }
   ],
   "source": [
    "right_now = scrape_now(browser)\n",
    "# scraped = {}\n",
    "# scraped['observations'] = now\n",
    "# scraped['id'] = time.time()\n",
    "# scraped['zip_code'] = code\n",
    "\n",
    "pprint(right_now)\n",
    "# pprint(scraped)"
   ]
  },
  {
   "cell_type": "code",
   "execution_count": 20,
   "metadata": {},
   "outputs": [
    {
     "name": "stdout",
     "output_type": "stream",
     "text": [
      "looking for now snapshot\n",
      "completed section 0 snapshot\n",
      "looking for at_start snapshot\n",
      "completed section 1 snapshot\n",
      "looking for at_12 snapshot\n",
      "completed section 2 snapshot\n",
      "looking for at_24 snapshot\n",
      "completed section 3 snapshot\n",
      "looking for at_36 snapshot\n",
      "completed section 4 snapshot\n",
      "{'at_12': {'chance_precip': '0%',\n",
      "           'condition': 'CLOUDS EARLY/CLEARING LATE',\n",
      "           'description': 'Cloudy skies early, then partly cloudy after '\n",
      "                          'midnight. Low 32F. Winds light and variable.',\n",
      "           'high/low': 'LOW',\n",
      "           'hour': 'CALCULATED HOUR OF PREDICTION',\n",
      "           'humidity': '74%',\n",
      "           'sun': {'rise': '7:15 am5:07 pm', 'set': '7:15 am5:07 pm'},\n",
      "           'temp_f': '32°',\n",
      "           'uv_index': '0 of 10',\n",
      "           'wind': {'direction': 'W', 'speed': '4'}},\n",
      " 'at_24': {'chance_precip': '0%',\n",
      "           'condition': 'SUNNY',\n",
      "           'description': 'Mainly sunny. High 56F. Winds W at 10 to 15 mph.',\n",
      "           'high/low': 'HIGH',\n",
      "           'hour': 'CALCULATED HOUR OF PREDICTION',\n",
      "           'humidity': '53%',\n",
      "           'sun': {'rise': '7:16 am5:07 pm', 'set': '7:16 am5:07 pm'},\n",
      "           'temp_f': '56°',\n",
      "           'uv_index': '3 of 10',\n",
      "           'wind': {'direction': 'W', 'speed': '10'}},\n",
      " 'at_36': {'chance_precip': '0%',\n",
      "           'condition': 'CLEAR',\n",
      "           'description': 'Clear skies. Low 33F. Winds W at 5 to 10 mph.',\n",
      "           'high/low': 'LOW',\n",
      "           'hour': 'CALCULATED HOUR OF PREDICTION',\n",
      "           'humidity': '67%',\n",
      "           'sun': {'rise': '7:16 am5:07 pm', 'set': '7:16 am5:07 pm'},\n",
      "           'temp_f': '33°',\n",
      "           'uv_index': '0 of 10',\n",
      "           'wind': {'direction': 'W', 'speed': '6'}},\n",
      " 'at_start': {'chance_precip': '0%',\n",
      "              'condition': 'MOSTLY SUNNY',\n",
      "              'description': 'Generally sunny despite a few afternoon clouds. '\n",
      "                             'High 51F. Winds light and variable.',\n",
      "              'high/low': 'HIGH',\n",
      "              'hour': 'CALCULATED HOUR OF PREDICTION',\n",
      "              'humidity': '58%',\n",
      "              'sun': {'rise': '7:15 am5:07 pm', 'set': '7:15 am5:07 pm'},\n",
      "              'temp_f': '51°',\n",
      "              'uv_index': '3 of 10',\n",
      "              'wind': {'direction': 'W', 'speed': '5'}},\n",
      " 'now': {'chance_precip': '0%',\n",
      "         'condition': 'PARTLY CLOUDY',\n",
      "         'description': 'Partly cloudy skies. Low 32F. Winds WNW at 5 to 10 '\n",
      "                        'mph.',\n",
      "         'high/low': 'LOW',\n",
      "         'hour': 'CALCULATED HOUR OF PREDICTION',\n",
      "         'humidity': '67%',\n",
      "         'sun': {'rise': '7:14 am5:07 pm', 'set': '7:14 am5:07 pm'},\n",
      "         'temp_f': '32°',\n",
      "         'uv_index': '0 of 10',\n",
      "         'wind': {'direction': 'WNW', 'speed': '7'}}}\n"
     ]
    }
   ],
   "source": [
    "next_36 = scrape_next36(browser)\n",
    "pprint(next_36)"
   ]
  },
  {
   "cell_type": "code",
   "execution_count": 21,
   "metadata": {},
   "outputs": [
    {
     "name": "stdout",
     "output_type": "stream",
     "text": [
      "got 8*5 hours of forcast\n"
     ]
    }
   ],
   "source": [
    "goto_hourly(browser)"
   ]
  },
  {
   "cell_type": "code",
   "execution_count": 34,
   "metadata": {},
   "outputs": [
    {
     "data": {
      "text/plain": [
       "'{\"columns\":[\"Time\",\"Description\",\"Temp\",\"Feels\",\"Precip\",\"Humidity\",\"Wind\",\"Unnamed: 7\"],\"index\":[0,1,2,3,4,5,6,7,8,9,10,11,12,13,14,15],\"data\":[[null,\"10:15 pmMon\",\"Cloudy\",\"41\\\\u00b0\",\"36\\\\u00b0\",\"0%\",\"59%\",\"WNW 7 mph\"],[null,\"11:00 pm Mon\",\"Mostly Cloudy\",\"40\\\\u00b0\",\"36\\\\u00b0\",\"0%\",\"59%\",\"WNW 7 mph\"],[null,\"12:00 am Tue\",\"Mostly Cloudy\",\"39\\\\u00b0\",\"35\\\\u00b0\",\"0%\",\"60%\",\"WNW 6 mph\"],[null,\"1:00 am Tue\",\"Partly Cloudy\",\"38\\\\u00b0\",\"34\\\\u00b0\",\"0%\",\"63%\",\"WNW 6 mph\"],[null,\"2:00 am Tue\",\"Mostly Clear\",\"36\\\\u00b0\",\"32\\\\u00b0\",\"0%\",\"68%\",\"WNW 5 mph\"],[null,\"3:00 am Tue\",\"Mostly Clear\",\"35\\\\u00b0\",\"31\\\\u00b0\",\"0%\",\"70%\",\"WNW 5 mph\"],[null,\"4:00 am Tue\",\"Mostly Clear\",\"35\\\\u00b0\",\"31\\\\u00b0\",\"0%\",\"72%\",\"WNW 4 mph\"],[null,\"5:00 am Tue\",\"Mostly Clear\",\"34\\\\u00b0\",\"31\\\\u00b0\",\"5%\",\"73%\",\"WNW 4 mph\"],[null,\"6:00 amTue\",\"Clear\",\"33\\\\u00b0\",\"30\\\\u00b0\",\"5%\",\"77%\",\"WNW 4 mph\"],[null,\"7:00 amTue\",\"Clear\",\"32\\\\u00b0\",\"29\\\\u00b0\",\"5%\",\"79%\",\"WNW 3 mph\"],[null,\"8:00 amTue\",\"Sunny\",\"33\\\\u00b0\",\"30\\\\u00b0\",\"5%\",\"77%\",\"WNW 3 mph\"],[null,\"9:00 amTue\",\"Sunny\",\"38\\\\u00b0\",\"33\\\\u00b0\",\"0%\",\"67%\",\"WNW 5 mph\"],[null,\"10:00 amTue\",\"Sunny\",\"40\\\\u00b0\",\"37\\\\u00b0\",\"0%\",\"60%\",\"WNW 6 mph\"],[null,\"11:00 amTue\",\"Sunny\",\"43\\\\u00b0\",\"40\\\\u00b0\",\"0%\",\"54%\",\"WNW 5 mph\"],[null,\"12:00 pmTue\",\"Sunny\",\"45\\\\u00b0\",\"43\\\\u00b0\",\"0%\",\"51%\",\"W 4 mph\"],[null,\"1:00 pm Tue\",\"Partly Cloudy\",\"47\\\\u00b0\",\"45\\\\u00b0\",\"0%\",\"49%\",\"W 5 mph\"]]}'"
      ]
     },
     "execution_count": 34,
     "metadata": {},
     "output_type": "execute_result"
    }
   ],
   "source": [
    "hourly = get_hourly(browser)\n",
    "# hourly[0].head(1)\n",
    "# df = hourly[0]\n",
    "# df\n",
    "# df.shift(2, axis = 1)\n",
    "hourly"
   ]
  },
  {
   "cell_type": "code",
   "execution_count": 35,
   "metadata": {},
   "outputs": [
    {
     "data": {
      "text/plain": [
       "{'right_now': {'as_of': ['pm', 'EST'],\n",
       "  'observations': {'temp F': {'measured': '41°', 'feels_like': '36°'},\n",
       "   'description': 'CLOUDY',\n",
       "   'uv_index': 'of',\n",
       "   'wind': {'speed mph': '8', 'direction': 'W'},\n",
       "   'humidity': '60%',\n",
       "   'dew_point': '28°',\n",
       "   'pressure': {'in': '29.89', 'change': ''},\n",
       "   'visibility mi': '10.0 mi'}},\n",
       " 'next_36': {'now': {'hour': 'CALCULATED HOUR OF PREDICTION',\n",
       "   'condition': 'PARTLY CLOUDY',\n",
       "   'high/low': 'LOW',\n",
       "   'temp_f': '32°',\n",
       "   'chance_precip': '0%',\n",
       "   'description': 'Partly cloudy skies. Low 32F. Winds WNW at 5 to 10 mph.',\n",
       "   'wind': {'speed': '7', 'direction': 'WNW'},\n",
       "   'humidity': '67%',\n",
       "   'uv_index': '0 of 10',\n",
       "   'sun': {'rise': '7:14 am5:07 pm', 'set': '7:14 am5:07 pm'}},\n",
       "  'at_start': {'hour': 'CALCULATED HOUR OF PREDICTION',\n",
       "   'condition': 'MOSTLY SUNNY',\n",
       "   'high/low': 'HIGH',\n",
       "   'temp_f': '51°',\n",
       "   'chance_precip': '0%',\n",
       "   'description': 'Generally sunny despite a few afternoon clouds. High 51F. Winds light and variable.',\n",
       "   'wind': {'speed': '5', 'direction': 'W'},\n",
       "   'humidity': '58%',\n",
       "   'uv_index': '3 of 10',\n",
       "   'sun': {'rise': '7:15 am5:07 pm', 'set': '7:15 am5:07 pm'}},\n",
       "  'at_12': {'hour': 'CALCULATED HOUR OF PREDICTION',\n",
       "   'condition': 'CLOUDS EARLY/CLEARING LATE',\n",
       "   'high/low': 'LOW',\n",
       "   'temp_f': '32°',\n",
       "   'chance_precip': '0%',\n",
       "   'description': 'Cloudy skies early, then partly cloudy after midnight. Low 32F. Winds light and variable.',\n",
       "   'wind': {'speed': '4', 'direction': 'W'},\n",
       "   'humidity': '74%',\n",
       "   'uv_index': '0 of 10',\n",
       "   'sun': {'rise': '7:15 am5:07 pm', 'set': '7:15 am5:07 pm'}},\n",
       "  'at_24': {'hour': 'CALCULATED HOUR OF PREDICTION',\n",
       "   'condition': 'SUNNY',\n",
       "   'high/low': 'HIGH',\n",
       "   'temp_f': '56°',\n",
       "   'chance_precip': '0%',\n",
       "   'description': 'Mainly sunny. High 56F. Winds W at 10 to 15 mph.',\n",
       "   'wind': {'speed': '10', 'direction': 'W'},\n",
       "   'humidity': '53%',\n",
       "   'uv_index': '3 of 10',\n",
       "   'sun': {'rise': '7:16 am5:07 pm', 'set': '7:16 am5:07 pm'}},\n",
       "  'at_36': {'hour': 'CALCULATED HOUR OF PREDICTION',\n",
       "   'condition': 'CLEAR',\n",
       "   'high/low': 'LOW',\n",
       "   'temp_f': '33°',\n",
       "   'chance_precip': '0%',\n",
       "   'description': 'Clear skies. Low 33F. Winds W at 5 to 10 mph.',\n",
       "   'wind': {'speed': '6', 'direction': 'W'},\n",
       "   'humidity': '67%',\n",
       "   'uv_index': '0 of 10',\n",
       "   'sun': {'rise': '7:16 am5:07 pm', 'set': '7:16 am5:07 pm'}}},\n",
       " 'hourly': '{\"columns\":[\"Time\",\"Description\",\"Temp\",\"Feels\",\"Precip\",\"Humidity\",\"Wind\",\"Unnamed: 7\"],\"index\":[0,1,2,3,4,5,6,7,8,9,10,11,12,13,14,15],\"data\":[[null,\"10:15 pmMon\",\"Cloudy\",\"41\\\\u00b0\",\"36\\\\u00b0\",\"0%\",\"59%\",\"WNW 7 mph\"],[null,\"11:00 pm Mon\",\"Mostly Cloudy\",\"40\\\\u00b0\",\"36\\\\u00b0\",\"0%\",\"59%\",\"WNW 7 mph\"],[null,\"12:00 am Tue\",\"Mostly Cloudy\",\"39\\\\u00b0\",\"35\\\\u00b0\",\"0%\",\"60%\",\"WNW 6 mph\"],[null,\"1:00 am Tue\",\"Partly Cloudy\",\"38\\\\u00b0\",\"34\\\\u00b0\",\"0%\",\"63%\",\"WNW 6 mph\"],[null,\"2:00 am Tue\",\"Mostly Clear\",\"36\\\\u00b0\",\"32\\\\u00b0\",\"0%\",\"68%\",\"WNW 5 mph\"],[null,\"3:00 am Tue\",\"Mostly Clear\",\"35\\\\u00b0\",\"31\\\\u00b0\",\"0%\",\"70%\",\"WNW 5 mph\"],[null,\"4:00 am Tue\",\"Mostly Clear\",\"35\\\\u00b0\",\"31\\\\u00b0\",\"0%\",\"72%\",\"WNW 4 mph\"],[null,\"5:00 am Tue\",\"Mostly Clear\",\"34\\\\u00b0\",\"31\\\\u00b0\",\"5%\",\"73%\",\"WNW 4 mph\"],[null,\"6:00 amTue\",\"Clear\",\"33\\\\u00b0\",\"30\\\\u00b0\",\"5%\",\"77%\",\"WNW 4 mph\"],[null,\"7:00 amTue\",\"Clear\",\"32\\\\u00b0\",\"29\\\\u00b0\",\"5%\",\"79%\",\"WNW 3 mph\"],[null,\"8:00 amTue\",\"Sunny\",\"33\\\\u00b0\",\"30\\\\u00b0\",\"5%\",\"77%\",\"WNW 3 mph\"],[null,\"9:00 amTue\",\"Sunny\",\"38\\\\u00b0\",\"33\\\\u00b0\",\"0%\",\"67%\",\"WNW 5 mph\"],[null,\"10:00 amTue\",\"Sunny\",\"40\\\\u00b0\",\"37\\\\u00b0\",\"0%\",\"60%\",\"WNW 6 mph\"],[null,\"11:00 amTue\",\"Sunny\",\"43\\\\u00b0\",\"40\\\\u00b0\",\"0%\",\"54%\",\"WNW 5 mph\"],[null,\"12:00 pmTue\",\"Sunny\",\"45\\\\u00b0\",\"43\\\\u00b0\",\"0%\",\"51%\",\"W 4 mph\"],[null,\"1:00 pm Tue\",\"Partly Cloudy\",\"47\\\\u00b0\",\"45\\\\u00b0\",\"0%\",\"49%\",\"W 5 mph\"]]}'}"
      ]
     },
     "execution_count": 35,
     "metadata": {},
     "output_type": "execute_result"
    }
   ],
   "source": [
    "data"
   ]
  },
  {
   "cell_type": "code",
   "execution_count": 10,
   "metadata": {},
   "outputs": [
    {
     "data": {
      "text/plain": [
       "()"
      ]
     },
     "execution_count": 10,
     "metadata": {},
     "output_type": "execute_result"
    }
   ],
   "source": [
    "load(code)"
   ]
  },
  {
   "cell_type": "code",
   "execution_count": 11,
   "metadata": {},
   "outputs": [
    {
     "ename": "NameError",
     "evalue": "name 'client' is not defined",
     "output_type": "error",
     "traceback": [
      "\u001b[0;31m---------------------------------------------------------------------------\u001b[0m",
      "\u001b[0;31mNameError\u001b[0m                                 Traceback (most recent call last)",
      "\u001b[0;32m<ipython-input-11-3b2b87f572ed>\u001b[0m in \u001b[0;36m<module>\u001b[0;34m\u001b[0m\n\u001b[0;32m----> 1\u001b[0;31m \u001b[0mlen\u001b[0m\u001b[0;34m(\u001b[0m\u001b[0mclient\u001b[0m\u001b[0;34m.\u001b[0m\u001b[0mlist_database_names\u001b[0m\u001b[0;34m(\u001b[0m\u001b[0;34m)\u001b[0m\u001b[0;34m)\u001b[0m\u001b[0;34m\u001b[0m\u001b[0;34m\u001b[0m\u001b[0m\n\u001b[0m",
      "\u001b[0;31mNameError\u001b[0m: name 'client' is not defined"
     ]
    }
   ],
   "source": [
    "len(client.list_database_names())"
   ]
  },
  {
   "cell_type": "code",
   "execution_count": 18,
   "metadata": {},
   "outputs": [
    {
     "data": {
      "text/plain": [
       "1575322635.426256"
      ]
     },
     "execution_count": 18,
     "metadata": {},
     "output_type": "execute_result"
    }
   ],
   "source": [
    "time.time()"
   ]
  },
  {
   "cell_type": "code",
   "execution_count": 20,
   "metadata": {},
   "outputs": [
    {
     "name": "stdout",
     "output_type": "stream",
     "text": [
      "1\n",
      "got next 8 hour spotted\n",
      "clicked and waiting\n",
      "end n=1 th pass\n",
      "2\n",
      "got next 8 hour spotted\n",
      "clicked and waiting\n",
      "end n=2 th pass\n",
      "3\n",
      "got next 8 hour spotted\n",
      "clicked and waiting\n",
      "end n=3 th pass\n",
      "4\n",
      "got next 8 hour spotted\n",
      "clicked and waiting\n",
      "end n=4 th pass\n",
      "5\n",
      "got next 8 hour spotted\n",
      "clicked and waiting\n",
      "end n=5 th pass\n"
     ]
    }
   ],
   "source": [
    "goto_hourly(browser)"
   ]
  },
  {
   "cell_type": "code",
   "execution_count": 36,
   "metadata": {},
   "outputs": [],
   "source": [
    "browser.quit()"
   ]
  },
  {
   "cell_type": "raw",
   "metadata": {},
   "source": []
  },
  {
   "cell_type": "code",
   "execution_count": null,
   "metadata": {},
   "outputs": [],
   "source": []
  },
  {
   "cell_type": "code",
   "execution_count": 55,
   "metadata": {},
   "outputs": [
    {
     "data": {
      "text/plain": [
       "['ADVANCE, NC',\n",
       " 'as of 11:27 pm EST',\n",
       " '43°',\n",
       " 'CLEAR',\n",
       " 'feels like 41°',\n",
       " 'H -- L 35°',\n",
       " 'UV Index 0 of 10',\n",
       " 'Holiday Week Travel Forecast',\n",
       " 'RIGHT NOW',\n",
       " 'Wind',\n",
       " 'NNW 4 mph',\n",
       " 'Humidity',\n",
       " '57%',\n",
       " 'Dew Point',\n",
       " '29°',\n",
       " 'Pressure',\n",
       " '30.31 in',\n",
       " 'Visibility',\n",
       " '10.0 mi']"
      ]
     },
     "execution_count": 55,
     "metadata": {},
     "output_type": "execute_result"
    }
   ],
   "source": [
    "now"
   ]
  },
  {
   "cell_type": "code",
   "execution_count": null,
   "metadata": {},
   "outputs": [],
   "source": [
    "if now[10]"
   ]
  },
  {
   "cell_type": "code",
   "execution_count": 57,
   "metadata": {},
   "outputs": [
    {
     "name": "stdout",
     "output_type": "stream",
     "text": [
      "{'chance_precip': '0%',\n",
      " 'condition': 'MOSTLY CLEAR',\n",
      " 'description': 'Clear to partly cloudy. Low near 35F. Winds light and '\n",
      "                'variable.',\n",
      " 'high/low': 'LOW',\n",
      " 'hour': 'CALCULATED HOUR OF PREDICTION',\n",
      " 'humidity': '68%',\n",
      " 'sun': {'rise': '7:10 am5:08 pm', 'set': '7:10 am5:08 pm'},\n",
      " 'temp_f': '35°',\n",
      " 'uv_index': '0 of 10',\n",
      " 'wind': {'direction': 'NNE', 'speed': '4'}}\n"
     ]
    }
   ],
   "source": [
    "from pprint import pprint\n",
    "pprint(next_36['now'])\n",
    "# next_36"
   ]
  },
  {
   "cell_type": "code",
   "execution_count": 22,
   "metadata": {},
   "outputs": [
    {
     "data": {
      "text/plain": [
       "[    Time  Description        Temp Feels Precip Humidity Wind Unnamed: 7\n",
       " 0    NaN  12:30 pmSat      Cloudy   48°    48°       0%  86%  SSE 2 mph\n",
       " 1    NaN   1:00 pmSat      Cloudy   49°    49°       0%  85%  SSE 2 mph\n",
       " 2    NaN   2:00 pmSat      Cloudy   50°    50°       0%  81%  SSE 2 mph\n",
       " 3    NaN   3:00 pmSat      Cloudy   50°    50°      10%  78%  SSE 3 mph\n",
       " 4    NaN   4:00 pmSat      Cloudy   50°    50°      25%  77%   SE 2 mph\n",
       " 5    NaN   5:00 pmSat        Rain   50°    50°      70%  80%  ESE 1 mph\n",
       " 6    NaN   6:00 pmSat     Showers   49°    49°      65%  89%  ESE 1 mph\n",
       " 7    NaN   7:00 pmSat        Rain   48°    48°      60%  93%   SE 2 mph\n",
       " 8    NaN   8:00 pmSat  Light Rain   47°    47°      65%  93%   SE 2 mph\n",
       " 9    NaN   9:00 pmSat  Light Rain   47°    47°      65%  94%  ESE 2 mph\n",
       " 10   NaN  10:00 pmSat        Rain   47°    47°      85%  96%  ESE 2 mph\n",
       " 11   NaN  11:00 pmSat        Rain   47°    47°      90%  95%   SE 2 mph\n",
       " 12   NaN  12:00 amSun        Rain   47°    46°      85%  93%   SE 4 mph\n",
       " 13   NaN   1:00 amSun        Rain   48°    46°      80%  96%   SE 4 mph\n",
       " 14   NaN   2:00 amSun        Rain   48°    46°      80%  95%  SSE 5 mph\n",
       " 15   NaN   3:00 amSun        Rain   48°    46°      80%  96%   SE 5 mph]"
      ]
     },
     "execution_count": 22,
     "metadata": {},
     "output_type": "execute_result"
    }
   ],
   "source": [
    "get_table(browser)"
   ]
  },
  {
   "cell_type": "code",
   "execution_count": 36,
   "metadata": {},
   "outputs": [],
   "source": [
    "browser.back()"
   ]
  },
  {
   "cell_type": "code",
   "execution_count": 35,
   "metadata": {},
   "outputs": [
    {
     "data": {
      "text/plain": [
       "1"
      ]
     },
     "execution_count": 35,
     "metadata": {},
     "output_type": "execute_result"
    }
   ],
   "source": [
    "len(dfs)"
   ]
  },
  {
   "cell_type": "code",
   "execution_count": null,
   "metadata": {},
   "outputs": [],
   "source": []
  },
  {
   "cell_type": "code",
   "execution_count": 21,
   "metadata": {},
   "outputs": [],
   "source": []
  },
  {
   "cell_type": "code",
   "execution_count": null,
   "metadata": {},
   "outputs": [],
   "source": []
  },
  {
   "cell_type": "code",
   "execution_count": 31,
   "metadata": {},
   "outputs": [],
   "source": [
    "# A line that will click out of an advertisement\n",
    "browser.find_by_tag('a#bx-close-inside-970188')[0].click()"
   ]
  },
  {
   "cell_type": "raw",
   "metadata": {},
   "source": [
    "if <you get that error message>:\n",
    "    if <check to see if there is a 'close' button to click on the DOM>:\n",
    "        <click that button>\n",
    "    else:\n",
    "        <handle that error some other way>"
   ]
  },
  {
   "cell_type": "code",
   "execution_count": null,
   "metadata": {},
   "outputs": [],
   "source": [
    "# snapshot = browser.find_by_tag('div#daypart-0').value\n",
    "# snaplist = snapshot.split('\\n')\n",
    "# details = browser.find_by_tag('span.wx-detail-value')\n",
    "# detailslist = [details[i].value for i in range(4)]\n",
    "# print(snaplist)\n",
    "# detailslist"
   ]
  },
  {
   "cell_type": "code",
   "execution_count": 49,
   "metadata": {},
   "outputs": [
    {
     "name": "stdout",
     "output_type": "stream",
     "text": [
      "['TONIGHT', 'RAIN', 'LOW', '42°', '90%']\n"
     ]
    }
   ],
   "source": [
    "print(snaplist)"
   ]
  },
  {
   "cell_type": "code",
   "execution_count": 43,
   "metadata": {},
   "outputs": [
    {
     "name": "stdout",
     "output_type": "stream",
     "text": [
      "None\n"
     ]
    }
   ],
   "source": []
  },
  {
   "cell_type": "code",
   "execution_count": 35,
   "metadata": {},
   "outputs": [
    {
     "name": "stdout",
     "output_type": "stream",
     "text": [
      "<splinter.element_list.ElementList object at 0x104ad09d0>\n"
     ]
    }
   ],
   "source": []
  },
  {
   "cell_type": "code",
   "execution_count": 36,
   "metadata": {},
   "outputs": [
    {
     "name": "stdout",
     "output_type": "stream",
     "text": [
      "NNW 10 mph\n",
      "86%\n",
      "0 of 10\n",
      "6:43 am5:13 pm\n"
     ]
    }
   ],
   "source": []
  },
  {
   "cell_type": "code",
   "execution_count": 12,
   "metadata": {},
   "outputs": [
    {
     "data": {
      "text/plain": [
       "'TODAY\\nHIGH\\n70°\\n10%'"
      ]
     },
     "execution_count": 12,
     "metadata": {},
     "output_type": "execute_result"
    }
   ],
   "source": []
  },
  {
   "cell_type": "code",
   "execution_count": 26,
   "metadata": {},
   "outputs": [
    {
     "data": {
      "text/plain": [
       "'A clear sky. Scattered frost possible. Low around 30F. Winds light and variable.'"
      ]
     },
     "execution_count": 26,
     "metadata": {},
     "output_type": "execute_result"
    }
   ],
   "source": []
  },
  {
   "cell_type": "code",
   "execution_count": 40,
   "metadata": {},
   "outputs": [],
   "source": [
    "browser.quit()"
   ]
  },
  {
   "cell_type": "code",
   "execution_count": 13,
   "metadata": {},
   "outputs": [],
   "source": []
  },
  {
   "cell_type": "code",
   "execution_count": 14,
   "metadata": {},
   "outputs": [
    {
     "data": {
      "text/plain": [
       "1"
      ]
     },
     "execution_count": 14,
     "metadata": {},
     "output_type": "execute_result"
    }
   ],
   "source": []
  },
  {
   "cell_type": "code",
   "execution_count": 16,
   "metadata": {},
   "outputs": [
    {
     "data": {
      "text/plain": [
       "'Today'"
      ]
     },
     "execution_count": 16,
     "metadata": {},
     "output_type": "execute_result"
    }
   ],
   "source": []
  },
  {
   "cell_type": "code",
   "execution_count": 17,
   "metadata": {},
   "outputs": [
    {
     "name": "stdout",
     "output_type": "stream",
     "text": [
      "got input box\n"
     ]
    }
   ],
   "source": []
  },
  {
   "cell_type": "code",
   "execution_count": 18,
   "metadata": {},
   "outputs": [
    {
     "data": {
      "text/plain": [
       "1"
      ]
     },
     "execution_count": 18,
     "metadata": {},
     "output_type": "execute_result"
    }
   ],
   "source": []
  },
  {
   "cell_type": "code",
   "execution_count": 19,
   "metadata": {},
   "outputs": [],
   "source": []
  },
  {
   "cell_type": "code",
   "execution_count": 20,
   "metadata": {},
   "outputs": [],
   "source": []
  },
  {
   "cell_type": "code",
   "execution_count": 25,
   "metadata": {},
   "outputs": [
    {
     "name": "stdout",
     "output_type": "stream",
     "text": [
      "now\n",
      "now\n",
      "looking for now snapshot\n",
      "at_start\n",
      "looking for at_start snapshot\n",
      "at_12\n",
      "looking for at_12 snapshot\n",
      "at_24\n",
      "looking for at_24 snapshot\n",
      "at_36\n",
      "looking for at_36 snapshot\n"
     ]
    }
   ],
   "source": [
    "hour_code = {'0':'now',\n",
    "            '1':'at_start',\n",
    "            '2':'at_12',\n",
    "            '3':'at_24',\n",
    "            '4':'at_36'\n",
    "}\n",
    "print(hour_code['0'])\n",
    "for i in range(5):\n",
    "    print(hour_code[str(i)])\n",
    "    print(f'looking for {hour_code[str(i)]} snapshot')"
   ]
  },
  {
   "cell_type": "code",
   "execution_count": null,
   "metadata": {},
   "outputs": [],
   "source": [
    "### SEARCH FOR THE TABLE THAT HOLDS THE SEARCH RESULTS ###"
   ]
  }
 ],
 "metadata": {
  "kernelspec": {
   "display_name": "Python 3",
   "language": "python",
   "name": "python3"
  },
  "language_info": {
   "codemirror_mode": {
    "name": "ipython",
    "version": 3
   },
   "file_extension": ".py",
   "mimetype": "text/x-python",
   "name": "python",
   "nbconvert_exporter": "python",
   "pygments_lexer": "ipython3",
   "version": "3.8.0"
  }
 },
 "nbformat": 4,
 "nbformat_minor": 2
}
