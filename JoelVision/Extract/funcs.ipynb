{
 "cells": [
  {
   "cell_type": "markdown",
   "metadata": {},
   "source": [
    "## Dependencies"
   ]
  },
  {
   "cell_type": "code",
   "execution_count": 1,
   "metadata": {},
   "outputs": [],
   "source": [
    "from splinter import Browser\n",
    "from selenium.common.exceptions import InvalidElementStateException\n",
    "from selenium.common.exceptions import ElementNotInteractableException\n",
    "from bs4 import BeautifulSoup\n",
    "from pprint import pprint\n",
    "import pandas as pd\n",
    "import html5lib\n",
    "import lxml\n",
    "import shutil\n",
    "import time\n",
    "import urllib3\n",
    "import requests\n",
    "from pymongo import MongoClient\n",
    "from pymongo.errors import ConnectionFailure\n",
    "import json"
   ]
  },
  {
   "cell_type": "markdown",
   "metadata": {},
   "source": [
    "## Variables"
   ]
  },
  {
   "cell_type": "code",
   "execution_count": 2,
   "metadata": {},
   "outputs": [],
   "source": [
    "# Set the zip codes\n",
    "codes = []\n",
    "codes.append('27606')   # just hard code one in\n",
    "code = codes[0]    # set the variable for zip_and_click\n",
    "global browser   # calling this 'global' because it needs to be type set later\n",
    "forecast_type = str   # so I can add the dict field in the function argument\n",
    "data = {}\n",
    "host = 'localhost'\n",
    "port = 27017"
   ]
  },
  {
   "cell_type": "code",
   "execution_count": 3,
   "metadata": {},
   "outputs": [],
   "source": [
    "# Set the url of the website to be scraped\n",
    "url = 'https://weather.com/'"
   ]
  },
  {
   "cell_type": "markdown",
   "metadata": {},
   "source": [
    "## Functions"
   ]
  },
  {
   "cell_type": "code",
   "execution_count": 4,
   "metadata": {},
   "outputs": [],
   "source": [
    "def chrome():\n",
    "    '''\n",
    "    Finds the chromedriver in the system and creates a Chrome browser\n",
    "    '''\n",
    "    executable_path = {'executable_path': shutil.which('chromedriver')}\n",
    "    browser = Browser('chrome', **executable_path)\n",
    "    return(browser)"
   ]
  },
  {
   "cell_type": "code",
   "execution_count": 5,
   "metadata": {},
   "outputs": [],
   "source": [
    "def zip_and_click(code):\n",
    "    '''\n",
    "    Enter zip codes into the search bar on weather.com and click the first result.\n",
    "    No return, just leaves browser at the first data page.\n",
    "    '''\n",
    "    \n",
    "    filled = False\n",
    "    clicked = False\n",
    "    \n",
    "    inputs = browser.find_by_tag('input') # get the search box reference\n",
    "    search_box = inputs[0]\n",
    "    while not filled:\n",
    "        try:\n",
    "            search_box.fill(code)\n",
    "            filled = True\n",
    "        except InvalidElementStateException:\n",
    "            time.sleep(1)\n",
    "    while not clicked:\n",
    "        try:\n",
    "            browser.click_link_by_partial_href('/weather/today/l')\n",
    "            print('no exception this time')\n",
    "            clicked = True\n",
    "        except ElementNotInteractableException:\n",
    "            print('exception found....waiting...')\n",
    "            time.sleep(1)\n",
    "    return   "
   ]
  },
  {
   "cell_type": "code",
   "execution_count": 6,
   "metadata": {},
   "outputs": [],
   "source": [
    "def scrape_now(browser):\n",
    "    ''' Get observed weather data from the current weather page '''\n",
    "    right_now = {}\n",
    "    divs = browser.find_by_tag('div').first\n",
    "    nowcard = divs.find_by_tag('section.today_nowcard-container').value\n",
    "    now = nowcard.split('\\n')\n",
    "    right_now.update({'as_of': [x.lower() for  x in now[1].split()[3:5]],\n",
    "                 'observations': {'temp F': {'measured': now[2].lower(),\n",
    "                                            'feels_like': [x.lower() for x in now[4][11:]]\n",
    "                                            },\n",
    "                                 'description': now[3].lower(),\n",
    "                                 'uv_index': now[6].split()[3].lower(),\n",
    "                                 'wind': wind_dict(now[10]),\n",
    "                                 'humidity': now[12].lower(),\n",
    "                                 'dew_point': now[14].lower(),\n",
    "                                 'pressure': {'in': now[16].split()[0].lower(),\n",
    "                                             'change': ''\n",
    "                                             },\n",
    "                                  'visibility mi': now[18].lower()\n",
    "                                 }\n",
    "                 })\n",
    "    data['right_now'] = right_now\n",
    "    return"
   ]
  },
  {
   "cell_type": "code",
   "execution_count": 7,
   "metadata": {},
   "outputs": [],
   "source": [
    "def wind_dict(wind_str):\n",
    "    ''' handle the cases where the wind value is simply \"calm\" rather than direction and speed '''\n",
    "    if wind_str == 'Calm':\n",
    "        return {\n",
    "            'speed': 0,\n",
    "            'direction': None\n",
    "        }\n",
    "    else:\n",
    "        return {\n",
    "            'speed': wind_str.split()[1].lower(),\n",
    "            'direction': wind_str.split()[0].lower()\n",
    "        }"
   ]
  },
  {
   "cell_type": "code",
   "execution_count": 8,
   "metadata": {},
   "outputs": [],
   "source": [
    "def scrape_next36(browser):\n",
    "    ''' Get the \"at a glance\" data from the next 36 hours '''\n",
    "\n",
    "    next_36 = {}\n",
    "    \n",
    "    # Pulling data from the \"next 36 hours\" overview displays. There are 5 sections\n",
    "    # that are pulled from. Each section gets a different label.\n",
    "    hour_code = {'0':'now',\n",
    "                '1':'at_start',\n",
    "                '2':'at_12',\n",
    "                '3':'at_24',\n",
    "                '4':'at_36'\n",
    "                }\n",
    "    for i in range(5):\n",
    "        try:\n",
    "            browser.find_by_tag(f'div#daypart-{i}').click()\n",
    "        except ElementNotInteractableException:\n",
    "            print('ElementNotInteractableException occured: breaking loop.')\n",
    "            break\n",
    "        snapshot = browser.find_by_tag(f'div#daypart-{i}')\n",
    "        snap_values = snapshot.value\n",
    "        details = browser.find_by_tag('span.wx-detail-value')\n",
    "        detaillist = [details[j].value for j in range(4)]\n",
    "\n",
    "        # store the data\n",
    "        next_36.update({hour_code[str(i)]: {'hour': 'CALCULATED HOUR OF PREDICTION',\n",
    "                                            'condition': snap_values.split('\\n')[1].lower(),\n",
    "                                            'high/low': snap_values.split('\\n')[2].lower(),\n",
    "                                            'temp_f': snap_values.split('\\n')[3].lower(),\n",
    "                                            'chance_precip': snap_values.split('\\n')[4].lower(),\n",
    "                                            'description': browser.find_by_id(f'dp{i}-details-narrative').first.value.lower(),\n",
    "                                            'wind': wind_dict(detaillist[0]),\n",
    "                                            'humidity': detaillist[1].lower(),\n",
    "                                            'uv_index': detaillist[2].lower(),\n",
    "                                            'sun': {'rise': detaillist[3].lower(),\n",
    "                                                    'set': detaillist[3].lower()\n",
    "                                                   }\n",
    "                                              }\n",
    "                      })\n",
    "    data['next_36'] = next_36\n",
    "    return"
   ]
  },
  {
   "cell_type": "code",
   "execution_count": 9,
   "metadata": {},
   "outputs": [],
   "source": [
    "def goto_hourly(browser):\n",
    "    ''' Take the browser to the hourly numbers '''\n",
    "    browser.find_by_text('Hourly').click()\n",
    "    time.sleep(.5)\n",
    "    n=0\n",
    "    while browser.is_text_present('Next 8 Hours'):\n",
    "        n+=1\n",
    "        browser.find_by_text('Next 8 Hours').click()\n",
    "        time.sleep(.5)\n",
    "    else:\n",
    "        print(f'got {8*n} hours of forcast')\n",
    "    return"
   ]
  },
  {
   "cell_type": "code",
   "execution_count": 10,
   "metadata": {},
   "outputs": [],
   "source": [
    "def get_tables(forecast_type, browser):\n",
    "    ''' Get the tables from the current page and turn to pandas df's '''\n",
    "    url = browser.url\n",
    "    r = requests.get(url)\n",
    "    dfs = pd.read_html(r.text)\n",
    "    df = dfs[0]\n",
    "#     d_table = df.to_dict(orient='index')\n",
    "#     data[forecast_type] = d_table\n",
    "    return(df)"
   ]
  },
  {
   "cell_type": "code",
   "execution_count": null,
   "metadata": {},
   "outputs": [],
   "source": [
    "def goto_tenday(browser):\n",
    "    ''' Get the ten day forcast '''\n",
    "    tenday = browser.find_by_text('10 Day Forecast')\n",
    "    if tenday:\n",
    "        tenday[1].click()\n",
    "    return"
   ]
  },
  {
   "cell_type": "code",
   "execution_count": 11,
   "metadata": {},
   "outputs": [],
   "source": [
    "def check_db_access(str: host, port):\n",
    "    '''A check that there is write access to the database'''\n",
    "   \n",
    "    client = MongoClient(host=host, port=port)\n",
    "    try:\n",
    "        # The ismaster command is cheap and does not require auth.\n",
    "        client.admin.command('ismaster')\n",
    "        print('Connection made')\n",
    "    except ConnectionFailure:\n",
    "        print(\"Server not available\")\n",
    "        return\n",
    "\n",
    "    # check the database connections\n",
    "        # Get a count of the number of databases at the connection (accessible through that port)\n",
    "        # before attempting to add to it\n",
    "    db_count_pre = len(client.list_database_names())\n",
    "        # Add a database and collection\n",
    "    db = client.test_db\n",
    "    col = db.test_col\n",
    "\n",
    "    # Insert something to the db\n",
    "    post = {'name':'Chuck VanHoff',\n",
    "           'age':'38',\n",
    "           'hobby':'gardening'\n",
    "           }\n",
    "    col.insert_one(post)\n",
    "\n",
    "        # Get a count of the databases after adding one\n",
    "    db_count_post = len(client.list_database_names())\n",
    "\n",
    "    if db_count_pre-db_count_post>=0:\n",
    "        print('Your conneciton is flipped up')\n",
    "    else:\n",
    "        print('You have write access')\n",
    "\n",
    "    client.drop_database(db)\n",
    "    client.close()\n",
    "    return(client)"
   ]
  },
  {
   "cell_type": "code",
   "execution_count": null,
   "metadata": {},
   "outputs": [],
   "source": [
    "def load(data):\n",
    "    ''' Load the data to the database '''\n",
    "    db = client.forcast\n",
    "    col = db.code\n",
    "    col.insert_one(data)\n",
    "    return"
   ]
  },
  {
   "cell_type": "markdown",
   "metadata": {},
   "source": [
    "## Run the functions"
   ]
  },
  {
   "cell_type": "code",
   "execution_count": 11,
   "metadata": {},
   "outputs": [],
   "source": [
    "browser = chrome()"
   ]
  },
  {
   "cell_type": "code",
   "execution_count": 12,
   "metadata": {},
   "outputs": [],
   "source": [
    "browser.visit(url)"
   ]
  },
  {
   "cell_type": "code",
   "execution_count": 13,
   "metadata": {},
   "outputs": [
    {
     "data": {
      "text/plain": [
       "<splinter.driver.webdriver.chrome.WebDriver at 0x113673b50>"
      ]
     },
     "execution_count": 13,
     "metadata": {},
     "output_type": "execute_result"
    }
   ],
   "source": [
    "zip_and_click(code)"
   ]
  },
  {
   "cell_type": "code",
   "execution_count": 16,
   "metadata": {},
   "outputs": [
    {
     "data": {
      "text/plain": [
       "{'as_of': ['pm', 'EST'],\n",
       " 'observations': {'temp F': {'measured': '41°', 'feels_like': '37°'},\n",
       "  'description': 'CLEAR',\n",
       "  'uv_index': 'of',\n",
       "  'wind': {'speed mph': '6', 'direction': 'WSW'},\n",
       "  'humidity': '63%',\n",
       "  'dew_point': '29°',\n",
       "  'pressure': {'in': '29.84', 'change': ''},\n",
       "  'visibility mi': '10.0 mi'}}"
      ]
     },
     "execution_count": 16,
     "metadata": {},
     "output_type": "execute_result"
    }
   ],
   "source": [
    "scrape_now(browser)"
   ]
  },
  {
   "cell_type": "code",
   "execution_count": 17,
   "metadata": {},
   "outputs": [
    {
     "name": "stdout",
     "output_type": "stream",
     "text": [
      "looking for now snapshot\n",
      "completed section 0 snapshot\n",
      "looking for at_start snapshot\n",
      "completed section 1 snapshot\n",
      "looking for at_12 snapshot\n",
      "completed section 2 snapshot\n",
      "looking for at_24 snapshot\n",
      "completed section 3 snapshot\n",
      "looking for at_36 snapshot\n",
      "completed section 4 snapshot\n"
     ]
    },
    {
     "data": {
      "text/plain": [
       "{'now': {'hour': 'CALCULATED HOUR OF PREDICTION',\n",
       "  'condition': 'CLEAR',\n",
       "  'high/low': 'LOW',\n",
       "  'temp_f': '35°',\n",
       "  'chance_precip': '0%',\n",
       "  'description': 'Clear skies. Low near 35F. Winds WNW at 5 to 10 mph.',\n",
       "  'wind': {'speed': '6', 'direction': 'WNW'},\n",
       "  'humidity': '67%',\n",
       "  'uv_index': '0 of 10',\n",
       "  'sun': {'rise': '7:07 am5:01 pm', 'set': '7:07 am5:01 pm'}},\n",
       " 'at_start': {'hour': 'CALCULATED HOUR OF PREDICTION',\n",
       "  'condition': 'MOSTLY SUNNY',\n",
       "  'high/low': 'HIGH',\n",
       "  'temp_f': '51°',\n",
       "  'chance_precip': '0%',\n",
       "  'description': 'Generally sunny despite a few afternoon clouds. High 51F. Winds W at 5 to 10 mph.',\n",
       "  'wind': {'speed': '8', 'direction': 'W'},\n",
       "  'humidity': '57%',\n",
       "  'uv_index': '3 of 10',\n",
       "  'sun': {'rise': '7:07 am5:00 pm', 'set': '7:07 am5:00 pm'}},\n",
       " 'at_12': {'hour': 'CALCULATED HOUR OF PREDICTION',\n",
       "  'condition': 'CLOUDY',\n",
       "  'high/low': 'LOW',\n",
       "  'temp_f': '36°',\n",
       "  'chance_precip': '0%',\n",
       "  'description': 'Cloudy skies. Low 36F. Winds light and variable.',\n",
       "  'wind': {'speed': '3', 'direction': 'WSW'},\n",
       "  'humidity': '76%',\n",
       "  'uv_index': '0 of 10',\n",
       "  'sun': {'rise': '7:07 am5:00 pm', 'set': '7:07 am5:00 pm'}},\n",
       " 'at_24': {'hour': 'CALCULATED HOUR OF PREDICTION',\n",
       "  'condition': 'SUNNY',\n",
       "  'high/low': 'HIGH',\n",
       "  'temp_f': '56°',\n",
       "  'chance_precip': '0%',\n",
       "  'description': 'Sunny. High 56F. Winds W at 10 to 15 mph.',\n",
       "  'wind': {'speed': '11', 'direction': 'W'},\n",
       "  'humidity': '54%',\n",
       "  'uv_index': '3 of 10',\n",
       "  'sun': {'rise': '7:08 am5:00 pm', 'set': '7:08 am5:00 pm'}},\n",
       " 'at_36': {'hour': 'CALCULATED HOUR OF PREDICTION',\n",
       "  'condition': 'CLEAR',\n",
       "  'high/low': 'LOW',\n",
       "  'temp_f': '37°',\n",
       "  'chance_precip': '0%',\n",
       "  'description': 'Clear skies. Low 37F. Winds W at 5 to 10 mph.',\n",
       "  'wind': {'speed': '6', 'direction': 'W'},\n",
       "  'humidity': '62%',\n",
       "  'uv_index': '0 of 10',\n",
       "  'sun': {'rise': '7:08 am5:00 pm', 'set': '7:08 am5:00 pm'}}}"
      ]
     },
     "execution_count": 17,
     "metadata": {},
     "output_type": "execute_result"
    }
   ],
   "source": [
    "scrape_next36(browser)"
   ]
  },
  {
   "cell_type": "code",
   "execution_count": 18,
   "metadata": {},
   "outputs": [
    {
     "name": "stdout",
     "output_type": "stream",
     "text": [
      "got 40 hours of forcast\n"
     ]
    }
   ],
   "source": [
    "goto_hourly(browser)"
   ]
  },
  {
   "cell_type": "code",
   "execution_count": 19,
   "metadata": {},
   "outputs": [
    {
     "data": {
      "text/plain": [
       "'{\"columns\":[\"Time\",\"Description\",\"Temp\",\"Feels\",\"Precip\",\"Humidity\",\"Wind\",\"Unnamed: 7\"],\"index\":[0,1,2,3,4,5,6,7,8,9,10,11,12,13,14,15],\"data\":[[null,\"11:00 pmMon\",\"Clear\",\"41\\\\u00b0\",\"37\\\\u00b0\",\"0%\",\"63%\",\"WNW 6 mph\"],[null,\"12:00 amTue\",\"Clear\",\"40\\\\u00b0\",\"36\\\\u00b0\",\"0%\",\"65%\",\"WNW 6 mph\"],[null,\"1:00 amTue\",\"Clear\",\"40\\\\u00b0\",\"37\\\\u00b0\",\"0%\",\"65%\",\"WNW 5 mph\"],[null,\"2:00 amTue\",\"Clear\",\"39\\\\u00b0\",\"36\\\\u00b0\",\"0%\",\"67%\",\"WNW 5 mph\"],[null,\"3:00 amTue\",\"Clear\",\"38\\\\u00b0\",\"34\\\\u00b0\",\"0%\",\"70%\",\"WNW 5 mph\"],[null,\"4:00 amTue\",\"Clear\",\"37\\\\u00b0\",\"34\\\\u00b0\",\"0%\",\"71%\",\"WNW 4 mph\"],[null,\"5:00 amTue\",\"Clear\",\"37\\\\u00b0\",\"33\\\\u00b0\",\"0%\",\"71%\",\"WNW 5 mph\"],[null,\"6:00 amTue\",\"Clear\",\"37\\\\u00b0\",\"32\\\\u00b0\",\"5%\",\"70%\",\"WNW 6 mph\"],[null,\"7:00 amTue\",\"Clear\",\"36\\\\u00b0\",\"32\\\\u00b0\",\"5%\",\"73%\",\"WNW 5 mph\"],[null,\"8:00 amTue\",\"Sunny\",\"37\\\\u00b0\",\"32\\\\u00b0\",\"0%\",\"72%\",\"WNW 6 mph\"],[null,\"9:00 amTue\",\"Sunny\",\"40\\\\u00b0\",\"34\\\\u00b0\",\"0%\",\"66%\",\"WNW 8 mph\"],[null,\"10:00 amTue\",\"Sunny\",\"42\\\\u00b0\",\"37\\\\u00b0\",\"0%\",\"60%\",\"WNW 8 mph\"],[null,\"11:00 amTue\",\"Sunny\",\"44\\\\u00b0\",\"40\\\\u00b0\",\"0%\",\"55%\",\"WNW 8 mph\"],[null,\"12:00 pmTue\",\"Sunny\",\"47\\\\u00b0\",\"43\\\\u00b0\",\"0%\",\"51%\",\"WNW 7 mph\"],[null,\"1:00 pmTue\",\"Sunny\",\"48\\\\u00b0\",\"45\\\\u00b0\",\"0%\",\"49%\",\"W 7 mph\"],[null,\"2:00 pm Tue\",\"Partly Cloudy\",\"49\\\\u00b0\",\"46\\\\u00b0\",\"0%\",\"48%\",\"W 7 mph\"]]}'"
      ]
     },
     "execution_count": 19,
     "metadata": {},
     "output_type": "execute_result"
    }
   ],
   "source": [
    "get_hourly(browser)"
   ]
  },
  {
   "cell_type": "code",
   "execution_count": 12,
   "metadata": {},
   "outputs": [
    {
     "name": "stdout",
     "output_type": "stream",
     "text": [
      "Connection made\n",
      "You have write access\n"
     ]
    },
    {
     "data": {
      "text/plain": [
       "()"
      ]
     },
     "execution_count": 12,
     "metadata": {},
     "output_type": "execute_result"
    }
   ],
   "source": [
    "check_db_access(host, port)"
   ]
  },
  {
   "cell_type": "code",
   "execution_count": null,
   "metadata": {},
   "outputs": [],
   "source": []
  },
  {
   "cell_type": "code",
   "execution_count": null,
   "metadata": {},
   "outputs": [],
   "source": []
  },
  {
   "cell_type": "code",
   "execution_count": null,
   "metadata": {},
   "outputs": [],
   "source": []
  },
  {
   "cell_type": "code",
   "execution_count": 13,
   "metadata": {},
   "outputs": [
    {
     "ename": "NameError",
     "evalue": "name 'browser' is not defined",
     "output_type": "error",
     "traceback": [
      "\u001b[0;31m---------------------------------------------------------------------------\u001b[0m",
      "\u001b[0;31mNameError\u001b[0m                                 Traceback (most recent call last)",
      "\u001b[0;32m<ipython-input-13-710928f8954f>\u001b[0m in \u001b[0;36m<module>\u001b[0;34m\u001b[0m\n\u001b[0;32m----> 1\u001b[0;31m \u001b[0mbrowser\u001b[0m\u001b[0;34m.\u001b[0m\u001b[0mquit\u001b[0m\u001b[0;34m(\u001b[0m\u001b[0;34m)\u001b[0m\u001b[0;34m\u001b[0m\u001b[0;34m\u001b[0m\u001b[0m\n\u001b[0m",
      "\u001b[0;31mNameError\u001b[0m: name 'browser' is not defined"
     ]
    }
   ],
   "source": [
    "browser.quit()"
   ]
  },
  {
   "cell_type": "code",
   "execution_count": null,
   "metadata": {},
   "outputs": [],
   "source": []
  }
 ],
 "metadata": {
  "kernelspec": {
   "display_name": "Python 3",
   "language": "python",
   "name": "python3"
  },
  "language_info": {
   "codemirror_mode": {
    "name": "ipython",
    "version": 3
   },
   "file_extension": ".py",
   "mimetype": "text/x-python",
   "name": "python",
   "nbconvert_exporter": "python",
   "pygments_lexer": "ipython3",
   "version": "3.8.0"
  }
 },
 "nbformat": 4,
 "nbformat_minor": 2
}
